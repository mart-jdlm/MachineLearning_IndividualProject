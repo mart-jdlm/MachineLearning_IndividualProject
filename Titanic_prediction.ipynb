{
 "cells": [
  {
   "cell_type": "markdown",
   "metadata": {},
   "source": [
    "Importing every usefull packages and files :"
   ]
  },
  {
   "cell_type": "code",
   "execution_count": 1,
   "metadata": {},
   "outputs": [],
   "source": [
    "# Import packages\n",
    "import pandas as pd\n",
    "import seaborn as sns\n",
    "import matplotlib.pyplot as plt\n",
    "from sklearn.linear_model import LogisticRegression\n",
    "from sklearn.model_selection import GridSearchCV\n",
    "from sklearn.metrics import accuracy_score\n",
    "from sklearn.metrics import confusion_matrix, ConfusionMatrixDisplay\n",
    "from sklearn.metrics import classification_report\n",
    "import joblib"
   ]
  },
  {
   "cell_type": "code",
   "execution_count": 2,
   "metadata": {},
   "outputs": [],
   "source": [
    "# Load the csv files\n",
    "df = pd.read_csv(\"train.csv\")\n",
    "df_test = pd.read_csv(\"test.csv\")\n",
    "df_test_s = pd.read_csv('gender_submission.csv')"
   ]
  },
  {
   "cell_type": "markdown",
   "metadata": {},
   "source": [
    "Basic vizualisation of the different databases :"
   ]
  },
  {
   "cell_type": "code",
   "execution_count": 3,
   "metadata": {},
   "outputs": [
    {
     "data": {
      "text/html": [
       "<div>\n",
       "<style scoped>\n",
       "    .dataframe tbody tr th:only-of-type {\n",
       "        vertical-align: middle;\n",
       "    }\n",
       "\n",
       "    .dataframe tbody tr th {\n",
       "        vertical-align: top;\n",
       "    }\n",
       "\n",
       "    .dataframe thead th {\n",
       "        text-align: right;\n",
       "    }\n",
       "</style>\n",
       "<table border=\"1\" class=\"dataframe\">\n",
       "  <thead>\n",
       "    <tr style=\"text-align: right;\">\n",
       "      <th></th>\n",
       "      <th>PassengerId</th>\n",
       "      <th>Survived</th>\n",
       "      <th>Pclass</th>\n",
       "      <th>Name</th>\n",
       "      <th>Sex</th>\n",
       "      <th>Age</th>\n",
       "      <th>SibSp</th>\n",
       "      <th>Parch</th>\n",
       "      <th>Ticket</th>\n",
       "      <th>Fare</th>\n",
       "      <th>Cabin</th>\n",
       "      <th>Embarked</th>\n",
       "    </tr>\n",
       "  </thead>\n",
       "  <tbody>\n",
       "    <tr>\n",
       "      <th>0</th>\n",
       "      <td>1</td>\n",
       "      <td>0</td>\n",
       "      <td>3</td>\n",
       "      <td>Braund, Mr. Owen Harris</td>\n",
       "      <td>male</td>\n",
       "      <td>22.0</td>\n",
       "      <td>1</td>\n",
       "      <td>0</td>\n",
       "      <td>A/5 21171</td>\n",
       "      <td>7.2500</td>\n",
       "      <td>NaN</td>\n",
       "      <td>S</td>\n",
       "    </tr>\n",
       "    <tr>\n",
       "      <th>1</th>\n",
       "      <td>2</td>\n",
       "      <td>1</td>\n",
       "      <td>1</td>\n",
       "      <td>Cumings, Mrs. John Bradley (Florence Briggs Th...</td>\n",
       "      <td>female</td>\n",
       "      <td>38.0</td>\n",
       "      <td>1</td>\n",
       "      <td>0</td>\n",
       "      <td>PC 17599</td>\n",
       "      <td>71.2833</td>\n",
       "      <td>C85</td>\n",
       "      <td>C</td>\n",
       "    </tr>\n",
       "  </tbody>\n",
       "</table>\n",
       "</div>"
      ],
      "text/plain": [
       "   PassengerId  Survived  Pclass  \\\n",
       "0            1         0       3   \n",
       "1            2         1       1   \n",
       "\n",
       "                                                Name     Sex   Age  SibSp  \\\n",
       "0                            Braund, Mr. Owen Harris    male  22.0      1   \n",
       "1  Cumings, Mrs. John Bradley (Florence Briggs Th...  female  38.0      1   \n",
       "\n",
       "   Parch     Ticket     Fare Cabin Embarked  \n",
       "0      0  A/5 21171   7.2500   NaN        S  \n",
       "1      0   PC 17599  71.2833   C85        C  "
      ]
     },
     "execution_count": 3,
     "metadata": {},
     "output_type": "execute_result"
    }
   ],
   "source": [
    "df.head(2)"
   ]
  },
  {
   "cell_type": "code",
   "execution_count": 4,
   "metadata": {},
   "outputs": [
    {
     "data": {
      "text/html": [
       "<div>\n",
       "<style scoped>\n",
       "    .dataframe tbody tr th:only-of-type {\n",
       "        vertical-align: middle;\n",
       "    }\n",
       "\n",
       "    .dataframe tbody tr th {\n",
       "        vertical-align: top;\n",
       "    }\n",
       "\n",
       "    .dataframe thead th {\n",
       "        text-align: right;\n",
       "    }\n",
       "</style>\n",
       "<table border=\"1\" class=\"dataframe\">\n",
       "  <thead>\n",
       "    <tr style=\"text-align: right;\">\n",
       "      <th></th>\n",
       "      <th>PassengerId</th>\n",
       "      <th>Pclass</th>\n",
       "      <th>Name</th>\n",
       "      <th>Sex</th>\n",
       "      <th>Age</th>\n",
       "      <th>SibSp</th>\n",
       "      <th>Parch</th>\n",
       "      <th>Ticket</th>\n",
       "      <th>Fare</th>\n",
       "      <th>Cabin</th>\n",
       "      <th>Embarked</th>\n",
       "    </tr>\n",
       "  </thead>\n",
       "  <tbody>\n",
       "    <tr>\n",
       "      <th>0</th>\n",
       "      <td>892</td>\n",
       "      <td>3</td>\n",
       "      <td>Kelly, Mr. James</td>\n",
       "      <td>male</td>\n",
       "      <td>34.5</td>\n",
       "      <td>0</td>\n",
       "      <td>0</td>\n",
       "      <td>330911</td>\n",
       "      <td>7.8292</td>\n",
       "      <td>NaN</td>\n",
       "      <td>Q</td>\n",
       "    </tr>\n",
       "    <tr>\n",
       "      <th>1</th>\n",
       "      <td>893</td>\n",
       "      <td>3</td>\n",
       "      <td>Wilkes, Mrs. James (Ellen Needs)</td>\n",
       "      <td>female</td>\n",
       "      <td>47.0</td>\n",
       "      <td>1</td>\n",
       "      <td>0</td>\n",
       "      <td>363272</td>\n",
       "      <td>7.0000</td>\n",
       "      <td>NaN</td>\n",
       "      <td>S</td>\n",
       "    </tr>\n",
       "  </tbody>\n",
       "</table>\n",
       "</div>"
      ],
      "text/plain": [
       "   PassengerId  Pclass                              Name     Sex   Age  SibSp  \\\n",
       "0          892       3                  Kelly, Mr. James    male  34.5      0   \n",
       "1          893       3  Wilkes, Mrs. James (Ellen Needs)  female  47.0      1   \n",
       "\n",
       "   Parch  Ticket    Fare Cabin Embarked  \n",
       "0      0  330911  7.8292   NaN        Q  \n",
       "1      0  363272  7.0000   NaN        S  "
      ]
     },
     "execution_count": 4,
     "metadata": {},
     "output_type": "execute_result"
    }
   ],
   "source": [
    "df_test.head(2)"
   ]
  },
  {
   "cell_type": "code",
   "execution_count": 5,
   "metadata": {},
   "outputs": [
    {
     "data": {
      "text/plain": [
       "((891, 12), (418, 11), (418, 2))"
      ]
     },
     "execution_count": 5,
     "metadata": {},
     "output_type": "execute_result"
    }
   ],
   "source": [
    "df.shape, df_test.shape, df_test_s.shape"
   ]
  },
  {
   "cell_type": "code",
   "execution_count": 6,
   "metadata": {},
   "outputs": [],
   "source": [
    "# joining of the two test databases based on the passenger id\n",
    "df_test = pd.merge(df_test, df_test_s, on='PassengerId')"
   ]
  },
  {
   "cell_type": "code",
   "execution_count": 7,
   "metadata": {},
   "outputs": [
    {
     "name": "stdout",
     "output_type": "stream",
     "text": [
      "<class 'pandas.core.frame.DataFrame'>\n",
      "RangeIndex: 891 entries, 0 to 890\n",
      "Data columns (total 12 columns):\n",
      " #   Column       Non-Null Count  Dtype  \n",
      "---  ------       --------------  -----  \n",
      " 0   PassengerId  891 non-null    int64  \n",
      " 1   Survived     891 non-null    int64  \n",
      " 2   Pclass       891 non-null    int64  \n",
      " 3   Name         891 non-null    object \n",
      " 4   Sex          891 non-null    object \n",
      " 5   Age          714 non-null    float64\n",
      " 6   SibSp        891 non-null    int64  \n",
      " 7   Parch        891 non-null    int64  \n",
      " 8   Ticket       891 non-null    object \n",
      " 9   Fare         891 non-null    float64\n",
      " 10  Cabin        204 non-null    object \n",
      " 11  Embarked     889 non-null    object \n",
      "dtypes: float64(2), int64(5), object(5)\n",
      "memory usage: 83.7+ KB\n",
      "None\n",
      "<class 'pandas.core.frame.DataFrame'>\n",
      "RangeIndex: 418 entries, 0 to 417\n",
      "Data columns (total 12 columns):\n",
      " #   Column       Non-Null Count  Dtype  \n",
      "---  ------       --------------  -----  \n",
      " 0   PassengerId  418 non-null    int64  \n",
      " 1   Pclass       418 non-null    int64  \n",
      " 2   Name         418 non-null    object \n",
      " 3   Sex          418 non-null    object \n",
      " 4   Age          332 non-null    float64\n",
      " 5   SibSp        418 non-null    int64  \n",
      " 6   Parch        418 non-null    int64  \n",
      " 7   Ticket       418 non-null    object \n",
      " 8   Fare         417 non-null    float64\n",
      " 9   Cabin        91 non-null     object \n",
      " 10  Embarked     418 non-null    object \n",
      " 11  Survived     418 non-null    int64  \n",
      "dtypes: float64(2), int64(5), object(5)\n",
      "memory usage: 39.3+ KB\n",
      "None\n"
     ]
    }
   ],
   "source": [
    "print(df.info())\n",
    "print(df_test.info())"
   ]
  },
  {
   "cell_type": "code",
   "execution_count": 8,
   "metadata": {},
   "outputs": [
    {
     "data": {
      "text/html": [
       "<div>\n",
       "<style scoped>\n",
       "    .dataframe tbody tr th:only-of-type {\n",
       "        vertical-align: middle;\n",
       "    }\n",
       "\n",
       "    .dataframe tbody tr th {\n",
       "        vertical-align: top;\n",
       "    }\n",
       "\n",
       "    .dataframe thead th {\n",
       "        text-align: right;\n",
       "    }\n",
       "</style>\n",
       "<table border=\"1\" class=\"dataframe\">\n",
       "  <thead>\n",
       "    <tr style=\"text-align: right;\">\n",
       "      <th></th>\n",
       "      <th>PassengerId</th>\n",
       "      <th>Survived</th>\n",
       "      <th>Pclass</th>\n",
       "      <th>Age</th>\n",
       "      <th>SibSp</th>\n",
       "      <th>Parch</th>\n",
       "      <th>Fare</th>\n",
       "    </tr>\n",
       "  </thead>\n",
       "  <tbody>\n",
       "    <tr>\n",
       "      <th>count</th>\n",
       "      <td>891.000000</td>\n",
       "      <td>891.000000</td>\n",
       "      <td>891.000000</td>\n",
       "      <td>714.000000</td>\n",
       "      <td>891.000000</td>\n",
       "      <td>891.000000</td>\n",
       "      <td>891.000000</td>\n",
       "    </tr>\n",
       "    <tr>\n",
       "      <th>mean</th>\n",
       "      <td>446.000000</td>\n",
       "      <td>0.383838</td>\n",
       "      <td>2.308642</td>\n",
       "      <td>29.699118</td>\n",
       "      <td>0.523008</td>\n",
       "      <td>0.381594</td>\n",
       "      <td>32.204208</td>\n",
       "    </tr>\n",
       "    <tr>\n",
       "      <th>std</th>\n",
       "      <td>257.353842</td>\n",
       "      <td>0.486592</td>\n",
       "      <td>0.836071</td>\n",
       "      <td>14.526497</td>\n",
       "      <td>1.102743</td>\n",
       "      <td>0.806057</td>\n",
       "      <td>49.693429</td>\n",
       "    </tr>\n",
       "    <tr>\n",
       "      <th>min</th>\n",
       "      <td>1.000000</td>\n",
       "      <td>0.000000</td>\n",
       "      <td>1.000000</td>\n",
       "      <td>0.420000</td>\n",
       "      <td>0.000000</td>\n",
       "      <td>0.000000</td>\n",
       "      <td>0.000000</td>\n",
       "    </tr>\n",
       "    <tr>\n",
       "      <th>25%</th>\n",
       "      <td>223.500000</td>\n",
       "      <td>0.000000</td>\n",
       "      <td>2.000000</td>\n",
       "      <td>20.125000</td>\n",
       "      <td>0.000000</td>\n",
       "      <td>0.000000</td>\n",
       "      <td>7.910400</td>\n",
       "    </tr>\n",
       "    <tr>\n",
       "      <th>50%</th>\n",
       "      <td>446.000000</td>\n",
       "      <td>0.000000</td>\n",
       "      <td>3.000000</td>\n",
       "      <td>28.000000</td>\n",
       "      <td>0.000000</td>\n",
       "      <td>0.000000</td>\n",
       "      <td>14.454200</td>\n",
       "    </tr>\n",
       "    <tr>\n",
       "      <th>75%</th>\n",
       "      <td>668.500000</td>\n",
       "      <td>1.000000</td>\n",
       "      <td>3.000000</td>\n",
       "      <td>38.000000</td>\n",
       "      <td>1.000000</td>\n",
       "      <td>0.000000</td>\n",
       "      <td>31.000000</td>\n",
       "    </tr>\n",
       "    <tr>\n",
       "      <th>max</th>\n",
       "      <td>891.000000</td>\n",
       "      <td>1.000000</td>\n",
       "      <td>3.000000</td>\n",
       "      <td>80.000000</td>\n",
       "      <td>8.000000</td>\n",
       "      <td>6.000000</td>\n",
       "      <td>512.329200</td>\n",
       "    </tr>\n",
       "  </tbody>\n",
       "</table>\n",
       "</div>"
      ],
      "text/plain": [
       "       PassengerId    Survived      Pclass         Age       SibSp  \\\n",
       "count   891.000000  891.000000  891.000000  714.000000  891.000000   \n",
       "mean    446.000000    0.383838    2.308642   29.699118    0.523008   \n",
       "std     257.353842    0.486592    0.836071   14.526497    1.102743   \n",
       "min       1.000000    0.000000    1.000000    0.420000    0.000000   \n",
       "25%     223.500000    0.000000    2.000000   20.125000    0.000000   \n",
       "50%     446.000000    0.000000    3.000000   28.000000    0.000000   \n",
       "75%     668.500000    1.000000    3.000000   38.000000    1.000000   \n",
       "max     891.000000    1.000000    3.000000   80.000000    8.000000   \n",
       "\n",
       "            Parch        Fare  \n",
       "count  891.000000  891.000000  \n",
       "mean     0.381594   32.204208  \n",
       "std      0.806057   49.693429  \n",
       "min      0.000000    0.000000  \n",
       "25%      0.000000    7.910400  \n",
       "50%      0.000000   14.454200  \n",
       "75%      0.000000   31.000000  \n",
       "max      6.000000  512.329200  "
      ]
     },
     "execution_count": 8,
     "metadata": {},
     "output_type": "execute_result"
    }
   ],
   "source": [
    "df.describe()"
   ]
  },
  {
   "cell_type": "markdown",
   "metadata": {},
   "source": [
    "Clearing Data :"
   ]
  },
  {
   "cell_type": "markdown",
   "metadata": {},
   "source": [
    "Duplicata :"
   ]
  },
  {
   "cell_type": "code",
   "execution_count": 9,
   "metadata": {},
   "outputs": [
    {
     "name": "stdout",
     "output_type": "stream",
     "text": [
      "train - Number of duplicate Record: 0\n",
      "test - Number of duplicate Record: 0\n"
     ]
    }
   ],
   "source": [
    "print('train - Number of duplicate Record:', df.duplicated().sum())\n",
    "print('test - Number of duplicate Record:', df_test.duplicated().sum())"
   ]
  },
  {
   "cell_type": "markdown",
   "metadata": {},
   "source": [
    "Null values :"
   ]
  },
  {
   "cell_type": "code",
   "execution_count": 10,
   "metadata": {},
   "outputs": [
    {
     "name": "stdout",
     "output_type": "stream",
     "text": [
      "Columns in train with null values:\n",
      "PassengerId      0\n",
      "Survived         0\n",
      "Pclass           0\n",
      "Name             0\n",
      "Sex              0\n",
      "Age            177\n",
      "SibSp            0\n",
      "Parch            0\n",
      "Ticket           0\n",
      "Fare             0\n",
      "Cabin          687\n",
      "Embarked         2\n",
      "dtype: int64\n",
      "\n",
      "\n",
      "Columns in test with null values:\n",
      "PassengerId      0\n",
      "Pclass           0\n",
      "Name             0\n",
      "Sex              0\n",
      "Age             86\n",
      "SibSp            0\n",
      "Parch            0\n",
      "Ticket           0\n",
      "Fare             1\n",
      "Cabin          327\n",
      "Embarked         0\n",
      "Survived         0\n",
      "dtype: int64\n"
     ]
    }
   ],
   "source": [
    "#Find the number of null per each columns\n",
    "print('Columns in train with null values:')\n",
    "print(df.isnull().sum())\n",
    "\n",
    "print('\\n\\nColumns in test with null values:')\n",
    "print(df_test.isnull().sum())"
   ]
  },
  {
   "cell_type": "code",
   "execution_count": 11,
   "metadata": {},
   "outputs": [],
   "source": [
    "#dropping cabin column\n",
    "df = df.drop(columns='Cabin', axis=1)\n",
    "df_test = df_test.drop(columns='Cabin', axis=1)\n",
    "\n",
    "# replacing null age values with the median\n",
    "df['Age'].fillna(df['Age'].mean(), inplace=True)\n",
    "df_test['Age'].fillna(df_test['Age'].mean(), inplace=True)\n",
    "\n",
    "# replacing null embarked values with mode\n",
    "df['Embarked'].fillna(df['Embarked'].mode()[0], inplace=True)\n",
    "df_test['Embarked'].fillna(df_test['Embarked'].mode()[0], inplace=True)\n",
    "\n",
    "# removing the last null row from test dataset\n",
    "df_test = df_test.dropna()"
   ]
  },
  {
   "cell_type": "markdown",
   "metadata": {},
   "source": [
    "More advanced data vizualisation :"
   ]
  },
  {
   "cell_type": "code",
   "execution_count": 12,
   "metadata": {},
   "outputs": [
    {
     "data": {
      "text/plain": [
       "<Axes: xlabel='Sex', ylabel='count'>"
      ]
     },
     "execution_count": 12,
     "metadata": {},
     "output_type": "execute_result"
    },
    {
     "data": {
      "image/png": "[encoded data removed]",
      "text/plain": [
       "<Figure size 640x480 with 1 Axes>"
      ]
     },
     "metadata": {},
     "output_type": "display_data"
    }
   ],
   "source": [
    "# relation between sex and death\n",
    "sns.countplot(x='Sex', hue='Survived', data=df)"
   ]
  },
  {
   "cell_type": "code",
   "execution_count": 13,
   "metadata": {},
   "outputs": [
    {
     "data": {
      "text/plain": [
       "<Axes: xlabel='Pclass', ylabel='count'>"
      ]
     },
     "execution_count": 13,
     "metadata": {},
     "output_type": "execute_result"
    },
    {
     "data": {
      "image/png": "[encoded data removed]",
      "text/plain": [
       "<Figure size 640x480 with 1 Axes>"
      ]
     },
     "metadata": {},
     "output_type": "display_data"
    }
   ],
   "source": [
    "# relation between class and death\n",
    "sns.countplot(x='Pclass', hue='Survived', data=df)"
   ]
  },
  {
   "cell_type": "code",
   "execution_count": 14,
   "metadata": {},
   "outputs": [],
   "source": [
    "# replacing string values with numerical values\n",
    "df.replace({'Sex':{'male':0,'female':1}, 'Embarked':{'S':0,'C':1,'Q':2}}, inplace=True)\n",
    "df_test.replace({'Sex':{'male':0,'female':1}, 'Embarked':{'S':0,'C':1,'Q':2}}, inplace=True)"
   ]
  },
  {
   "cell_type": "code",
   "execution_count": 15,
   "metadata": {},
   "outputs": [
    {
     "name": "stdout",
     "output_type": "stream",
     "text": [
      "(891, 7) (417, 7)\n",
      "(891,) (417,)\n"
     ]
    }
   ],
   "source": [
    "# spliting target and features\n",
    "X_train = df.drop(columns = ['PassengerId','Name','Ticket','Survived'],axis=1)\n",
    "X_test = df_test.drop(columns = ['PassengerId','Name','Ticket','Survived'],axis=1)\n",
    "Y_train = df['Survived']\n",
    "Y_test = df_test['Survived']\n",
    "print(X_train.shape, X_test.shape)\n",
    "print(Y_train.shape, Y_test.shape)"
   ]
  },
  {
   "cell_type": "code",
   "execution_count": 16,
   "metadata": {},
   "outputs": [
    {
     "name": "stdout",
     "output_type": "stream",
     "text": [
      "Fitting 5 folds for each of 560 candidates, totalling 2800 fits\n",
      "[CV] END C=0.001, fit_intercept=True, max_iter=50, penalty=l1, solver=newton-cg; total time=   0.0s\n",
      "[CV] END C=0.001, fit_intercept=True, max_iter=50, penalty=l1, solver=newton-cg; total time=   0.0s\n",
      "[CV] END C=0.001, fit_intercept=True, max_iter=50, penalty=l1, solver=newton-cg; total time=   0.0s\n",
      "[CV] END C=0.001, fit_intercept=True, max_iter=50, penalty=l1, solver=newton-cg; total time=   0.0s\n",
      "[CV] END C=0.001, fit_intercept=True, max_iter=50, penalty=l1, solver=newton-cg; total time=   0.0s\n",
      "[CV] END C=0.001, fit_intercept=True, max_iter=50, penalty=l1, solver=lbfgs; total time=   0.0s\n",
      "[CV] END C=0.001, fit_intercept=True, max_iter=50, penalty=l1, solver=lbfgs; total time=   0.0s\n",
      "[CV] END C=0.001, fit_intercept=True, max_iter=50, penalty=l1, solver=lbfgs; total time=   0.0s\n",
      "[CV] END C=0.001, fit_intercept=True, max_iter=50, penalty=l1, solver=lbfgs; total time=   0.0s\n",
      "[CV] END C=0.001, fit_intercept=True, max_iter=50, penalty=l1, solver=lbfgs; total time=   0.0s\n",
      "[CV] END C=0.001, fit_intercept=True, max_iter=50, penalty=l1, solver=liblinear; total time=   0.0s\n",
      "[CV] END C=0.001, fit_intercept=True, max_iter=50, penalty=l1, solver=liblinear; total time=   0.0s\n",
      "[CV] END C=0.001, fit_intercept=True, max_iter=50, penalty=l1, solver=liblinear; total time=   0.0s\n",
      "[CV] END C=0.001, fit_intercept=True, max_iter=50, penalty=l1, solver=liblinear; total time=   0.0s\n",
      "[CV] END C=0.001, fit_intercept=True, max_iter=50, penalty=l1, solver=liblinear; total time=   0.0s\n",
      "[CV] END C=0.001, fit_intercept=True, max_iter=50, penalty=l1, solver=sag; total time=   0.0s\n",
      "[CV] END C=0.001, fit_intercept=True, max_iter=50, penalty=l1, solver=sag; total time=   0.0s\n",
      "[CV] END C=0.001, fit_intercept=True, max_iter=50, penalty=l1, solver=sag; total time=   0.0s\n",
      "[CV] END C=0.001, fit_intercept=True, max_iter=50, penalty=l1, solver=sag; total time=   0.0s\n",
      "[CV] END C=0.001, fit_intercept=True, max_iter=50, penalty=l1, solver=sag; total time=   0.0s\n",
      "[CV] END C=0.001, fit_intercept=True, max_iter=50, penalty=l1, solver=saga; total time=   0.0s\n",
      "[CV] END C=0.001, fit_intercept=True, max_iter=50, penalty=l1, solver=saga; total time=   0.0s\n",
      "[CV] END C=0.001, fit_intercept=True, max_iter=50, penalty=l1, solver=saga; total time=   0.0s\n",
      "[CV] END C=0.001, fit_intercept=True, max_iter=50, penalty=l1, solver=saga; total time=   0.0s\n"
     ]
    },
    {
     "name": "stderr",
     "output_type": "stream",
     "text": [
      "c:\\Users\\martj\\miniconda3\\envs\\py38\\lib\\site-packages\\sklearn\\linear_model\\_sag.py:350: ConvergenceWarning: The max_iter was reached which means the coef_ did not converge\n",
      "  warnings.warn(\n",
      "c:\\Users\\martj\\miniconda3\\envs\\py38\\lib\\site-packages\\sklearn\\linear_model\\_sag.py:350: ConvergenceWarning: The max_iter was reached which means the coef_ did not converge\n",
      "  warnings.warn(\n",
      "c:\\Users\\martj\\miniconda3\\envs\\py38\\lib\\site-packages\\sklearn\\linear_model\\_sag.py:350: ConvergenceWarning: The max_iter was reached which means the coef_ did not converge\n",
      "  warnings.warn(\n",
      "c:\\Users\\martj\\miniconda3\\envs\\py38\\lib\\site-packages\\sklearn\\linear_model\\_sag.py:350: ConvergenceWarning: The max_iter was reached which means the coef_ did not converge\n",
      "  warnings.warn(\n",
      "c:\\Users\\martj\\miniconda3\\envs\\py38\\lib\\site-packages\\sklearn\\linear_model\\_sag.py:350: ConvergenceWarning: The max_iter was reached which means the coef_ did not converge\n",
      "  warnings.warn(\n"
     ]
    },
    {
     "name": "stdout",
     "output_type": "stream",
     "text": [
      "[CV] END C=0.001, fit_intercept=True, max_iter=50, penalty=l1, solver=saga; total time=   0.0s\n",
      "[CV] END C=0.001, fit_intercept=True, max_iter=50, penalty=l2, solver=newton-cg; total time=   0.0s\n",
      "[CV] END C=0.001, fit_intercept=True, max_iter=50, penalty=l2, solver=newton-cg; total time=   0.0s\n",
      "[CV] END C=0.001, fit_intercept=True, max_iter=50, penalty=l2, solver=newton-cg; total time=   0.0s\n",
      "[CV] END C=0.001, fit_intercept=True, max_iter=50, penalty=l2, solver=newton-cg; total time=   0.0s\n",
      "[CV] END C=0.001, fit_intercept=True, max_iter=50, penalty=l2, solver=newton-cg; total time=   0.0s\n",
      "[CV] END C=0.001, fit_intercept=True, max_iter=50, penalty=l2, solver=lbfgs; total time=   0.0s\n",
      "[CV] END C=0.001, fit_intercept=True, max_iter=50, penalty=l2, solver=lbfgs; total time=   0.0s\n",
      "[CV] END C=0.001, fit_intercept=True, max_iter=50, penalty=l2, solver=lbfgs; total time=   0.0s\n",
      "[CV] END C=0.001, fit_intercept=True, max_iter=50, penalty=l2, solver=lbfgs; total time=   0.0s\n",
      "[CV] END C=0.001, fit_intercept=True, max_iter=50, penalty=l2, solver=lbfgs; total time=   0.0s\n",
      "[CV] END C=0.001, fit_intercept=True, max_iter=50, penalty=l2, solver=liblinear; total time=   0.0s\n",
      "[CV] END C=0.001, fit_intercept=True, max_iter=50, penalty=l2, solver=liblinear; total time=   0.0s\n",
      "[CV] END C=0.001, fit_intercept=True, max_iter=50, penalty=l2, solver=liblinear; total time=   0.0s\n",
      "[CV] END C=0.001, fit_intercept=True, max_iter=50, penalty=l2, solver=liblinear; total time=   0.0s\n",
      "[CV] END C=0.001, fit_intercept=True, max_iter=50, penalty=l2, solver=liblinear; total time=   0.0s\n",
      "[CV] END C=0.001, fit_intercept=True, max_iter=50, penalty=l2, solver=sag; total time=   0.0s\n",
      "[CV] END C=0.001, fit_intercept=True, max_iter=50, penalty=l2, solver=sag; total time=   0.0s\n",
      "[CV] END C=0.001, fit_intercept=True, max_iter=50, penalty=l2, solver=sag; total time=   0.0s\n",
      "[CV] END C=0.001, fit_intercept=True, max_iter=50, penalty=l2, solver=sag; total time=   0.0s\n",
      "[CV] END C=0.001, fit_intercept=True, max_iter=50, penalty=l2, solver=sag; total time=   0.0s\n",
      "[CV] END C=0.001, fit_intercept=True, max_iter=50, penalty=l2, solver=saga; total time=   0.0s\n",
      "[CV] END C=0.001, fit_intercept=True, max_iter=50, penalty=l2, solver=saga; total time=   0.0s\n",
      "[CV] END C=0.001, fit_intercept=True, max_iter=50, penalty=l2, solver=saga; total time=   0.0s\n",
      "[CV] END C=0.001, fit_intercept=True, max_iter=50, penalty=l2, solver=saga; total time=   0.0s\n",
      "[CV] END C=0.001, fit_intercept=True, max_iter=50, penalty=l2, solver=saga; total time=   0.0s\n",
      "[CV] END C=0.001, fit_intercept=True, max_iter=100, penalty=l1, solver=newton-cg; total time=   0.0s\n",
      "[CV] END C=0.001, fit_intercept=True, max_iter=100, penalty=l1, solver=newton-cg; total time=   0.0s\n",
      "[CV] END C=0.001, fit_intercept=True, max_iter=100, penalty=l1, solver=newton-cg; total time=   0.0s\n",
      "[CV] END C=0.001, fit_intercept=True, max_iter=100, penalty=l1, solver=newton-cg; total time=   0.0s\n",
      "[CV] END C=0.001, fit_intercept=True, max_iter=100, penalty=l1, solver=newton-cg; total time=   0.0s\n",
      "[CV] END C=0.001, fit_intercept=True, max_iter=100, penalty=l1, solver=lbfgs; total time=   0.0s\n",
      "[CV] END C=0.001, fit_intercept=True, max_iter=100, penalty=l1, solver=lbfgs; total time=   0.0s\n",
      "[CV] END C=0.001, fit_intercept=True, max_iter=100, penalty=l1, solver=lbfgs; total time=   0.0s\n",
      "[CV] END C=0.001, fit_intercept=True, max_iter=100, penalty=l1, solver=lbfgs; total time=   0.0s\n",
      "[CV] END C=0.001, fit_intercept=True, max_iter=100, penalty=l1, solver=lbfgs; total time=   0.0s\n"
     ]
    },
    {
     "name": "stderr",
     "output_type": "stream",
     "text": [
      "c:\\Users\\martj\\miniconda3\\envs\\py38\\lib\\site-packages\\sklearn\\linear_model\\_sag.py:350: ConvergenceWarning: The max_iter was reached which means the coef_ did not converge\n",
      "  warnings.warn(\n",
      "c:\\Users\\martj\\miniconda3\\envs\\py38\\lib\\site-packages\\sklearn\\linear_model\\_sag.py:350: ConvergenceWarning: The max_iter was reached which means the coef_ did not converge\n",
      "  warnings.warn(\n",
      "c:\\Users\\martj\\miniconda3\\envs\\py38\\lib\\site-packages\\sklearn\\linear_model\\_sag.py:350: ConvergenceWarning: The max_iter was reached which means the coef_ did not converge\n",
      "  warnings.warn(\n",
      "c:\\Users\\martj\\miniconda3\\envs\\py38\\lib\\site-packages\\sklearn\\linear_model\\_sag.py:350: ConvergenceWarning: The max_iter was reached which means the coef_ did not converge\n",
      "  warnings.warn(\n",
      "c:\\Users\\martj\\miniconda3\\envs\\py38\\lib\\site-packages\\sklearn\\linear_model\\_sag.py:350: ConvergenceWarning: The max_iter was reached which means the coef_ did not converge\n",
      "  warnings.warn(\n",
      "c:\\Users\\martj\\miniconda3\\envs\\py38\\lib\\site-packages\\sklearn\\linear_model\\_sag.py:350: ConvergenceWarning: The max_iter was reached which means the coef_ did not converge\n",
      "  warnings.warn(\n",
      "c:\\Users\\martj\\miniconda3\\envs\\py38\\lib\\site-packages\\sklearn\\linear_model\\_sag.py:350: ConvergenceWarning: The max_iter was reached which means the coef_ did not converge\n",
      "  warnings.warn(\n",
      "c:\\Users\\martj\\miniconda3\\envs\\py38\\lib\\site-packages\\sklearn\\linear_model\\_sag.py:350: ConvergenceWarning: The max_iter was reached which means the coef_ did not converge\n",
      "  warnings.warn(\n",
      "c:\\Users\\martj\\miniconda3\\envs\\py38\\lib\\site-packages\\sklearn\\linear_model\\_sag.py:350: ConvergenceWarning: The max_iter was reached which means the coef_ did not converge\n",
      "  warnings.warn(\n",
      "c:\\Users\\martj\\miniconda3\\envs\\py38\\lib\\site-packages\\sklearn\\linear_model\\_sag.py:350: ConvergenceWarning: The max_iter was reached which means the coef_ did not converge\n",
      "  warnings.warn(\n"
     ]
    },
    {
     "name": "stdout",
     "output_type": "stream",
     "text": [
      "[CV] END C=0.001, fit_intercept=True, max_iter=100, penalty=l1, solver=liblinear; total time=   0.0s\n",
      "[CV] END C=0.001, fit_intercept=True, max_iter=100, penalty=l1, solver=liblinear; total time=   0.0s\n",
      "[CV] END C=0.001, fit_intercept=True, max_iter=100, penalty=l1, solver=liblinear; total time=   0.0s\n",
      "[CV] END C=0.001, fit_intercept=True, max_iter=100, penalty=l1, solver=liblinear; total time=   0.0s\n",
      "[CV] END C=0.001, fit_intercept=True, max_iter=100, penalty=l1, solver=liblinear; total time=   0.0s\n",
      "[CV] END C=0.001, fit_intercept=True, max_iter=100, penalty=l1, solver=sag; total time=   0.0s\n",
      "[CV] END C=0.001, fit_intercept=True, max_iter=100, penalty=l1, solver=sag; total time=   0.0s\n",
      "[CV] END C=0.001, fit_intercept=True, max_iter=100, penalty=l1, solver=sag; total time=   0.0s\n",
      "[CV] END C=0.001, fit_intercept=True, max_iter=100, penalty=l1, solver=sag; total time=   0.0s\n",
      "[CV] END C=0.001, fit_intercept=True, max_iter=100, penalty=l1, solver=sag; total time=   0.0s\n",
      "[CV] END C=0.001, fit_intercept=True, max_iter=100, penalty=l1, solver=saga; total time=   0.0s\n",
      "[CV] END C=0.001, fit_intercept=True, max_iter=100, penalty=l1, solver=saga; total time=   0.0s\n",
      "[CV] END C=0.001, fit_intercept=True, max_iter=100, penalty=l1, solver=saga; total time=   0.0s\n",
      "[CV] END C=0.001, fit_intercept=True, max_iter=100, penalty=l1, solver=saga; total time=   0.0s\n",
      "[CV] END C=0.001, fit_intercept=True, max_iter=100, penalty=l1, solver=saga; total time=   0.0s\n",
      "[CV] END C=0.001, fit_intercept=True, max_iter=100, penalty=l2, solver=newton-cg; total time=   0.0s\n"
     ]
    },
    {
     "name": "stderr",
     "output_type": "stream",
     "text": [
      "c:\\Users\\martj\\miniconda3\\envs\\py38\\lib\\site-packages\\sklearn\\linear_model\\_sag.py:350: ConvergenceWarning: The max_iter was reached which means the coef_ did not converge\n",
      "  warnings.warn(\n",
      "c:\\Users\\martj\\miniconda3\\envs\\py38\\lib\\site-packages\\sklearn\\linear_model\\_sag.py:350: ConvergenceWarning: The max_iter was reached which means the coef_ did not converge\n",
      "  warnings.warn(\n",
      "c:\\Users\\martj\\miniconda3\\envs\\py38\\lib\\site-packages\\sklearn\\linear_model\\_sag.py:350: ConvergenceWarning: The max_iter was reached which means the coef_ did not converge\n",
      "  warnings.warn(\n",
      "c:\\Users\\martj\\miniconda3\\envs\\py38\\lib\\site-packages\\sklearn\\linear_model\\_sag.py:350: ConvergenceWarning: The max_iter was reached which means the coef_ did not converge\n",
      "  warnings.warn(\n",
      "c:\\Users\\martj\\miniconda3\\envs\\py38\\lib\\site-packages\\sklearn\\linear_model\\_sag.py:350: ConvergenceWarning: The max_iter was reached which means the coef_ did not converge\n",
      "  warnings.warn(\n"
     ]
    },
    {
     "name": "stdout",
     "output_type": "stream",
     "text": [
      "[CV] END C=0.001, fit_intercept=True, max_iter=100, penalty=l2, solver=newton-cg; total time=   0.0s\n",
      "[CV] END C=0.001, fit_intercept=True, max_iter=100, penalty=l2, solver=newton-cg; total time=   0.0s\n",
      "[CV] END C=0.001, fit_intercept=True, max_iter=100, penalty=l2, solver=newton-cg; total time=   0.0s\n",
      "[CV] END C=0.001, fit_intercept=True, max_iter=100, penalty=l2, solver=newton-cg; total time=   0.0s\n",
      "[CV] END C=0.001, fit_intercept=True, max_iter=100, penalty=l2, solver=lbfgs; total time=   0.0s\n",
      "[CV] END C=0.001, fit_intercept=True, max_iter=100, penalty=l2, solver=lbfgs; total time=   0.0s\n",
      "[CV] END C=0.001, fit_intercept=True, max_iter=100, penalty=l2, solver=lbfgs; total time=   0.0s\n",
      "[CV] END C=0.001, fit_intercept=True, max_iter=100, penalty=l2, solver=lbfgs; total time=   0.0s\n",
      "[CV] END C=0.001, fit_intercept=True, max_iter=100, penalty=l2, solver=lbfgs; total time=   0.0s\n",
      "[CV] END C=0.001, fit_intercept=True, max_iter=100, penalty=l2, solver=liblinear; total time=   0.0s\n",
      "[CV] END C=0.001, fit_intercept=True, max_iter=100, penalty=l2, solver=liblinear; total time=   0.0s\n",
      "[CV] END C=0.001, fit_intercept=True, max_iter=100, penalty=l2, solver=liblinear; total time=   0.0s\n",
      "[CV] END C=0.001, fit_intercept=True, max_iter=100, penalty=l2, solver=liblinear; total time=   0.0s\n",
      "[CV] END C=0.001, fit_intercept=True, max_iter=100, penalty=l2, solver=liblinear; total time=   0.0s\n",
      "[CV] END C=0.001, fit_intercept=True, max_iter=100, penalty=l2, solver=sag; total time=   0.0s\n",
      "[CV] END C=0.001, fit_intercept=True, max_iter=100, penalty=l2, solver=sag; total time=   0.0s\n",
      "[CV] END C=0.001, fit_intercept=True, max_iter=100, penalty=l2, solver=sag; total time=   0.0s\n",
      "[CV] END C=0.001, fit_intercept=True, max_iter=100, penalty=l2, solver=sag; total time=   0.0s\n",
      "[CV] END C=0.001, fit_intercept=True, max_iter=100, penalty=l2, solver=sag; total time=   0.0s\n",
      "[CV] END C=0.001, fit_intercept=True, max_iter=100, penalty=l2, solver=saga; total time=   0.0s\n",
      "[CV] END C=0.001, fit_intercept=True, max_iter=100, penalty=l2, solver=saga; total time=   0.0s\n",
      "[CV] END C=0.001, fit_intercept=True, max_iter=100, penalty=l2, solver=saga; total time=   0.0s\n"
     ]
    },
    {
     "name": "stderr",
     "output_type": "stream",
     "text": [
      "c:\\Users\\martj\\miniconda3\\envs\\py38\\lib\\site-packages\\sklearn\\linear_model\\_sag.py:350: ConvergenceWarning: The max_iter was reached which means the coef_ did not converge\n",
      "  warnings.warn(\n",
      "c:\\Users\\martj\\miniconda3\\envs\\py38\\lib\\site-packages\\sklearn\\linear_model\\_sag.py:350: ConvergenceWarning: The max_iter was reached which means the coef_ did not converge\n",
      "  warnings.warn(\n",
      "c:\\Users\\martj\\miniconda3\\envs\\py38\\lib\\site-packages\\sklearn\\linear_model\\_sag.py:350: ConvergenceWarning: The max_iter was reached which means the coef_ did not converge\n",
      "  warnings.warn(\n",
      "c:\\Users\\martj\\miniconda3\\envs\\py38\\lib\\site-packages\\sklearn\\linear_model\\_sag.py:350: ConvergenceWarning: The max_iter was reached which means the coef_ did not converge\n",
      "  warnings.warn(\n",
      "c:\\Users\\martj\\miniconda3\\envs\\py38\\lib\\site-packages\\sklearn\\linear_model\\_sag.py:350: ConvergenceWarning: The max_iter was reached which means the coef_ did not converge\n",
      "  warnings.warn(\n",
      "c:\\Users\\martj\\miniconda3\\envs\\py38\\lib\\site-packages\\sklearn\\linear_model\\_sag.py:350: ConvergenceWarning: The max_iter was reached which means the coef_ did not converge\n",
      "  warnings.warn(\n",
      "c:\\Users\\martj\\miniconda3\\envs\\py38\\lib\\site-packages\\sklearn\\linear_model\\_sag.py:350: ConvergenceWarning: The max_iter was reached which means the coef_ did not converge\n",
      "  warnings.warn(\n",
      "c:\\Users\\martj\\miniconda3\\envs\\py38\\lib\\site-packages\\sklearn\\linear_model\\_sag.py:350: ConvergenceWarning: The max_iter was reached which means the coef_ did not converge\n",
      "  warnings.warn(\n",
      "c:\\Users\\martj\\miniconda3\\envs\\py38\\lib\\site-packages\\sklearn\\linear_model\\_sag.py:350: ConvergenceWarning: The max_iter was reached which means the coef_ did not converge\n",
      "  warnings.warn(\n",
      "c:\\Users\\martj\\miniconda3\\envs\\py38\\lib\\site-packages\\sklearn\\linear_model\\_sag.py:350: ConvergenceWarning: The max_iter was reached which means the coef_ did not converge\n",
      "  warnings.warn(\n",
      "c:\\Users\\martj\\miniconda3\\envs\\py38\\lib\\site-packages\\sklearn\\linear_model\\_sag.py:350: ConvergenceWarning: The max_iter was reached which means the coef_ did not converge\n",
      "  warnings.warn(\n",
      "c:\\Users\\martj\\miniconda3\\envs\\py38\\lib\\site-packages\\sklearn\\linear_model\\_sag.py:350: ConvergenceWarning: The max_iter was reached which means the coef_ did not converge\n",
      "  warnings.warn(\n"
     ]
    },
    {
     "name": "stdout",
     "output_type": "stream",
     "text": [
      "[CV] END C=0.001, fit_intercept=True, max_iter=100, penalty=l2, solver=saga; total time=   0.0s\n",
      "[CV] END C=0.001, fit_intercept=True, max_iter=100, penalty=l2, solver=saga; total time=   0.0s\n",
      "[CV] END C=0.001, fit_intercept=True, max_iter=200, penalty=l1, solver=newton-cg; total time=   0.0s\n",
      "[CV] END C=0.001, fit_intercept=True, max_iter=200, penalty=l1, solver=newton-cg; total time=   0.0s\n",
      "[CV] END C=0.001, fit_intercept=True, max_iter=200, penalty=l1, solver=newton-cg; total time=   0.0s\n",
      "[CV] END C=0.001, fit_intercept=True, max_iter=200, penalty=l1, solver=newton-cg; total time=   0.0s\n",
      "[CV] END C=0.001, fit_intercept=True, max_iter=200, penalty=l1, solver=newton-cg; total time=   0.0s\n",
      "[CV] END C=0.001, fit_intercept=True, max_iter=200, penalty=l1, solver=lbfgs; total time=   0.0s\n",
      "[CV] END C=0.001, fit_intercept=True, max_iter=200, penalty=l1, solver=lbfgs; total time=   0.0s\n",
      "[CV] END C=0.001, fit_intercept=True, max_iter=200, penalty=l1, solver=lbfgs; total time=   0.0s\n",
      "[CV] END C=0.001, fit_intercept=True, max_iter=200, penalty=l1, solver=lbfgs; total time=   0.0s\n",
      "[CV] END C=0.001, fit_intercept=True, max_iter=200, penalty=l1, solver=lbfgs; total time=   0.0s\n",
      "[CV] END C=0.001, fit_intercept=True, max_iter=200, penalty=l1, solver=liblinear; total time=   0.0s\n",
      "[CV] END C=0.001, fit_intercept=True, max_iter=200, penalty=l1, solver=liblinear; total time=   0.0s\n",
      "[CV] END C=0.001, fit_intercept=True, max_iter=200, penalty=l1, solver=liblinear; total time=   0.0s\n",
      "[CV] END C=0.001, fit_intercept=True, max_iter=200, penalty=l1, solver=liblinear; total time=   0.0s\n",
      "[CV] END C=0.001, fit_intercept=True, max_iter=200, penalty=l1, solver=liblinear; total time=   0.0s\n",
      "[CV] END C=0.001, fit_intercept=True, max_iter=200, penalty=l1, solver=sag; total time=   0.0s\n",
      "[CV] END C=0.001, fit_intercept=True, max_iter=200, penalty=l1, solver=sag; total time=   0.0s\n",
      "[CV] END C=0.001, fit_intercept=True, max_iter=200, penalty=l1, solver=sag; total time=   0.0s\n",
      "[CV] END C=0.001, fit_intercept=True, max_iter=200, penalty=l1, solver=sag; total time=   0.0s\n",
      "[CV] END C=0.001, fit_intercept=True, max_iter=200, penalty=l1, solver=sag; total time=   0.0s\n",
      "[CV] END C=0.001, fit_intercept=True, max_iter=200, penalty=l1, solver=saga; total time=   0.0s\n",
      "[CV] END C=0.001, fit_intercept=True, max_iter=200, penalty=l1, solver=saga; total time=   0.0s\n"
     ]
    },
    {
     "name": "stderr",
     "output_type": "stream",
     "text": [
      "c:\\Users\\martj\\miniconda3\\envs\\py38\\lib\\site-packages\\sklearn\\linear_model\\_sag.py:350: ConvergenceWarning: The max_iter was reached which means the coef_ did not converge\n",
      "  warnings.warn(\n",
      "c:\\Users\\martj\\miniconda3\\envs\\py38\\lib\\site-packages\\sklearn\\linear_model\\_sag.py:350: ConvergenceWarning: The max_iter was reached which means the coef_ did not converge\n",
      "  warnings.warn(\n",
      "c:\\Users\\martj\\miniconda3\\envs\\py38\\lib\\site-packages\\sklearn\\linear_model\\_sag.py:350: ConvergenceWarning: The max_iter was reached which means the coef_ did not converge\n",
      "  warnings.warn(\n"
     ]
    },
    {
     "name": "stdout",
     "output_type": "stream",
     "text": [
      "[CV] END C=0.001, fit_intercept=True, max_iter=200, penalty=l1, solver=saga; total time=   0.0s\n",
      "[CV] END C=0.001, fit_intercept=True, max_iter=200, penalty=l1, solver=saga; total time=   0.0s\n",
      "[CV] END C=0.001, fit_intercept=True, max_iter=200, penalty=l1, solver=saga; total time=   0.0s\n",
      "[CV] END C=0.001, fit_intercept=True, max_iter=200, penalty=l2, solver=newton-cg; total time=   0.0s\n",
      "[CV] END C=0.001, fit_intercept=True, max_iter=200, penalty=l2, solver=newton-cg; total time=   0.0s\n",
      "[CV] END C=0.001, fit_intercept=True, max_iter=200, penalty=l2, solver=newton-cg; total time=   0.0s\n",
      "[CV] END C=0.001, fit_intercept=True, max_iter=200, penalty=l2, solver=newton-cg; total time=   0.0s\n",
      "[CV] END C=0.001, fit_intercept=True, max_iter=200, penalty=l2, solver=newton-cg; total time=   0.0s\n",
      "[CV] END C=0.001, fit_intercept=True, max_iter=200, penalty=l2, solver=lbfgs; total time=   0.0s\n",
      "[CV] END C=0.001, fit_intercept=True, max_iter=200, penalty=l2, solver=lbfgs; total time=   0.0s\n",
      "[CV] END C=0.001, fit_intercept=True, max_iter=200, penalty=l2, solver=lbfgs; total time=   0.0s\n",
      "[CV] END C=0.001, fit_intercept=True, max_iter=200, penalty=l2, solver=lbfgs; total time=   0.0s\n",
      "[CV] END C=0.001, fit_intercept=True, max_iter=200, penalty=l2, solver=lbfgs; total time=   0.0s\n",
      "[CV] END C=0.001, fit_intercept=True, max_iter=200, penalty=l2, solver=liblinear; total time=   0.0s\n",
      "[CV] END C=0.001, fit_intercept=True, max_iter=200, penalty=l2, solver=liblinear; total time=   0.0s\n",
      "[CV] END C=0.001, fit_intercept=True, max_iter=200, penalty=l2, solver=liblinear; total time=   0.0s\n",
      "[CV] END C=0.001, fit_intercept=True, max_iter=200, penalty=l2, solver=liblinear; total time=   0.0s\n",
      "[CV] END C=0.001, fit_intercept=True, max_iter=200, penalty=l2, solver=liblinear; total time=   0.0s\n",
      "[CV] END C=0.001, fit_intercept=True, max_iter=200, penalty=l2, solver=sag; total time=   0.0s\n"
     ]
    },
    {
     "name": "stderr",
     "output_type": "stream",
     "text": [
      "c:\\Users\\martj\\miniconda3\\envs\\py38\\lib\\site-packages\\sklearn\\linear_model\\_sag.py:350: ConvergenceWarning: The max_iter was reached which means the coef_ did not converge\n",
      "  warnings.warn(\n",
      "c:\\Users\\martj\\miniconda3\\envs\\py38\\lib\\site-packages\\sklearn\\linear_model\\_sag.py:350: ConvergenceWarning: The max_iter was reached which means the coef_ did not converge\n",
      "  warnings.warn(\n",
      "c:\\Users\\martj\\miniconda3\\envs\\py38\\lib\\site-packages\\sklearn\\linear_model\\_sag.py:350: ConvergenceWarning: The max_iter was reached which means the coef_ did not converge\n",
      "  warnings.warn(\n",
      "c:\\Users\\martj\\miniconda3\\envs\\py38\\lib\\site-packages\\sklearn\\linear_model\\_sag.py:350: ConvergenceWarning: The max_iter was reached which means the coef_ did not converge\n",
      "  warnings.warn(\n",
      "c:\\Users\\martj\\miniconda3\\envs\\py38\\lib\\site-packages\\sklearn\\linear_model\\_sag.py:350: ConvergenceWarning: The max_iter was reached which means the coef_ did not converge\n",
      "  warnings.warn(\n"
     ]
    },
    {
     "name": "stdout",
     "output_type": "stream",
     "text": [
      "[CV] END C=0.001, fit_intercept=True, max_iter=200, penalty=l2, solver=sag; total time=   0.0s\n",
      "[CV] END C=0.001, fit_intercept=True, max_iter=200, penalty=l2, solver=sag; total time=   0.0s\n",
      "[CV] END C=0.001, fit_intercept=True, max_iter=200, penalty=l2, solver=sag; total time=   0.0s\n",
      "[CV] END C=0.001, fit_intercept=True, max_iter=200, penalty=l2, solver=sag; total time=   0.0s\n",
      "[CV] END C=0.001, fit_intercept=True, max_iter=200, penalty=l2, solver=saga; total time=   0.0s\n"
     ]
    },
    {
     "name": "stderr",
     "output_type": "stream",
     "text": [
      "c:\\Users\\martj\\miniconda3\\envs\\py38\\lib\\site-packages\\sklearn\\linear_model\\_sag.py:350: ConvergenceWarning: The max_iter was reached which means the coef_ did not converge\n",
      "  warnings.warn(\n",
      "c:\\Users\\martj\\miniconda3\\envs\\py38\\lib\\site-packages\\sklearn\\linear_model\\_sag.py:350: ConvergenceWarning: The max_iter was reached which means the coef_ did not converge\n",
      "  warnings.warn(\n",
      "c:\\Users\\martj\\miniconda3\\envs\\py38\\lib\\site-packages\\sklearn\\linear_model\\_sag.py:350: ConvergenceWarning: The max_iter was reached which means the coef_ did not converge\n",
      "  warnings.warn(\n",
      "c:\\Users\\martj\\miniconda3\\envs\\py38\\lib\\site-packages\\sklearn\\linear_model\\_sag.py:350: ConvergenceWarning: The max_iter was reached which means the coef_ did not converge\n",
      "  warnings.warn(\n",
      "c:\\Users\\martj\\miniconda3\\envs\\py38\\lib\\site-packages\\sklearn\\linear_model\\_sag.py:350: ConvergenceWarning: The max_iter was reached which means the coef_ did not converge\n",
      "  warnings.warn(\n"
     ]
    },
    {
     "name": "stdout",
     "output_type": "stream",
     "text": [
      "[CV] END C=0.001, fit_intercept=True, max_iter=200, penalty=l2, solver=saga; total time=   0.0s\n",
      "[CV] END C=0.001, fit_intercept=True, max_iter=200, penalty=l2, solver=saga; total time=   0.0s\n",
      "[CV] END C=0.001, fit_intercept=True, max_iter=200, penalty=l2, solver=saga; total time=   0.0s\n",
      "[CV] END C=0.001, fit_intercept=True, max_iter=200, penalty=l2, solver=saga; total time=   0.0s\n",
      "[CV] END C=0.001, fit_intercept=True, max_iter=500, penalty=l1, solver=newton-cg; total time=   0.0s\n",
      "[CV] END C=0.001, fit_intercept=True, max_iter=500, penalty=l1, solver=newton-cg; total time=   0.0s\n",
      "[CV] END C=0.001, fit_intercept=True, max_iter=500, penalty=l1, solver=newton-cg; total time=   0.0s\n",
      "[CV] END C=0.001, fit_intercept=True, max_iter=500, penalty=l1, solver=newton-cg; total time=   0.0s\n",
      "[CV] END C=0.001, fit_intercept=True, max_iter=500, penalty=l1, solver=newton-cg; total time=   0.0s\n",
      "[CV] END C=0.001, fit_intercept=True, max_iter=500, penalty=l1, solver=lbfgs; total time=   0.0s\n",
      "[CV] END C=0.001, fit_intercept=True, max_iter=500, penalty=l1, solver=lbfgs; total time=   0.0s\n",
      "[CV] END C=0.001, fit_intercept=True, max_iter=500, penalty=l1, solver=lbfgs; total time=   0.0s\n",
      "[CV] END C=0.001, fit_intercept=True, max_iter=500, penalty=l1, solver=lbfgs; total time=   0.0s\n",
      "[CV] END C=0.001, fit_intercept=True, max_iter=500, penalty=l1, solver=lbfgs; total time=   0.0s\n",
      "[CV] END C=0.001, fit_intercept=True, max_iter=500, penalty=l1, solver=liblinear; total time=   0.0s\n",
      "[CV] END C=0.001, fit_intercept=True, max_iter=500, penalty=l1, solver=liblinear; total time=   0.0s\n",
      "[CV] END C=0.001, fit_intercept=True, max_iter=500, penalty=l1, solver=liblinear; total time=   0.0s\n",
      "[CV] END C=0.001, fit_intercept=True, max_iter=500, penalty=l1, solver=liblinear; total time=   0.0s\n",
      "[CV] END C=0.001, fit_intercept=True, max_iter=500, penalty=l1, solver=liblinear; total time=   0.0s\n",
      "[CV] END C=0.001, fit_intercept=True, max_iter=500, penalty=l1, solver=sag; total time=   0.0s\n",
      "[CV] END C=0.001, fit_intercept=True, max_iter=500, penalty=l1, solver=sag; total time=   0.0s\n",
      "[CV] END C=0.001, fit_intercept=True, max_iter=500, penalty=l1, solver=sag; total time=   0.0s\n",
      "[CV] END C=0.001, fit_intercept=True, max_iter=500, penalty=l1, solver=sag; total time=   0.0s\n",
      "[CV] END C=0.001, fit_intercept=True, max_iter=500, penalty=l1, solver=sag; total time=   0.0s\n",
      "[CV] END C=0.001, fit_intercept=True, max_iter=500, penalty=l1, solver=saga; total time=   0.0s\n"
     ]
    },
    {
     "name": "stderr",
     "output_type": "stream",
     "text": [
      "c:\\Users\\martj\\miniconda3\\envs\\py38\\lib\\site-packages\\sklearn\\linear_model\\_sag.py:350: ConvergenceWarning: The max_iter was reached which means the coef_ did not converge\n",
      "  warnings.warn(\n",
      "c:\\Users\\martj\\miniconda3\\envs\\py38\\lib\\site-packages\\sklearn\\linear_model\\_sag.py:350: ConvergenceWarning: The max_iter was reached which means the coef_ did not converge\n",
      "  warnings.warn(\n"
     ]
    },
    {
     "name": "stdout",
     "output_type": "stream",
     "text": [
      "[CV] END C=0.001, fit_intercept=True, max_iter=500, penalty=l1, solver=saga; total time=   0.0s\n",
      "[CV] END C=0.001, fit_intercept=True, max_iter=500, penalty=l1, solver=saga; total time=   0.0s\n",
      "[CV] END C=0.001, fit_intercept=True, max_iter=500, penalty=l1, solver=saga; total time=   0.0s\n"
     ]
    },
    {
     "name": "stderr",
     "output_type": "stream",
     "text": [
      "c:\\Users\\martj\\miniconda3\\envs\\py38\\lib\\site-packages\\sklearn\\linear_model\\_sag.py:350: ConvergenceWarning: The max_iter was reached which means the coef_ did not converge\n",
      "  warnings.warn(\n",
      "c:\\Users\\martj\\miniconda3\\envs\\py38\\lib\\site-packages\\sklearn\\linear_model\\_sag.py:350: ConvergenceWarning: The max_iter was reached which means the coef_ did not converge\n",
      "  warnings.warn(\n",
      "c:\\Users\\martj\\miniconda3\\envs\\py38\\lib\\site-packages\\sklearn\\linear_model\\_sag.py:350: ConvergenceWarning: The max_iter was reached which means the coef_ did not converge\n",
      "  warnings.warn(\n"
     ]
    },
    {
     "name": "stdout",
     "output_type": "stream",
     "text": [
      "[CV] END C=0.001, fit_intercept=True, max_iter=500, penalty=l1, solver=saga; total time=   0.0s\n",
      "[CV] END C=0.001, fit_intercept=True, max_iter=500, penalty=l2, solver=newton-cg; total time=   0.0s\n",
      "[CV] END C=0.001, fit_intercept=True, max_iter=500, penalty=l2, solver=newton-cg; total time=   0.0s\n",
      "[CV] END C=0.001, fit_intercept=True, max_iter=500, penalty=l2, solver=newton-cg; total time=   0.0s\n",
      "[CV] END C=0.001, fit_intercept=True, max_iter=500, penalty=l2, solver=newton-cg; total time=   0.0s\n",
      "[CV] END C=0.001, fit_intercept=True, max_iter=500, penalty=l2, solver=newton-cg; total time=   0.0s\n",
      "[CV] END C=0.001, fit_intercept=True, max_iter=500, penalty=l2, solver=lbfgs; total time=   0.0s\n",
      "[CV] END C=0.001, fit_intercept=True, max_iter=500, penalty=l2, solver=lbfgs; total time=   0.0s\n",
      "[CV] END C=0.001, fit_intercept=True, max_iter=500, penalty=l2, solver=lbfgs; total time=   0.0s\n",
      "[CV] END C=0.001, fit_intercept=True, max_iter=500, penalty=l2, solver=lbfgs; total time=   0.0s\n",
      "[CV] END C=0.001, fit_intercept=True, max_iter=500, penalty=l2, solver=lbfgs; total time=   0.0s\n",
      "[CV] END C=0.001, fit_intercept=True, max_iter=500, penalty=l2, solver=liblinear; total time=   0.0s\n",
      "[CV] END C=0.001, fit_intercept=True, max_iter=500, penalty=l2, solver=liblinear; total time=   0.0s\n",
      "[CV] END C=0.001, fit_intercept=True, max_iter=500, penalty=l2, solver=liblinear; total time=   0.0s\n",
      "[CV] END C=0.001, fit_intercept=True, max_iter=500, penalty=l2, solver=liblinear; total time=   0.0s\n",
      "[CV] END C=0.001, fit_intercept=True, max_iter=500, penalty=l2, solver=liblinear; total time=   0.0s\n",
      "[CV] END C=0.001, fit_intercept=True, max_iter=500, penalty=l2, solver=sag; total time=   0.0s\n",
      "[CV] END C=0.001, fit_intercept=True, max_iter=500, penalty=l2, solver=sag; total time=   0.0s\n",
      "[CV] END C=0.001, fit_intercept=True, max_iter=500, penalty=l2, solver=sag; total time=   0.0s\n",
      "[CV] END C=0.001, fit_intercept=True, max_iter=500, penalty=l2, solver=sag; total time=   0.0s\n",
      "[CV] END C=0.001, fit_intercept=True, max_iter=500, penalty=l2, solver=sag; total time=   0.0s\n"
     ]
    },
    {
     "name": "stderr",
     "output_type": "stream",
     "text": [
      "c:\\Users\\martj\\miniconda3\\envs\\py38\\lib\\site-packages\\sklearn\\linear_model\\_sag.py:350: ConvergenceWarning: The max_iter was reached which means the coef_ did not converge\n",
      "  warnings.warn(\n",
      "c:\\Users\\martj\\miniconda3\\envs\\py38\\lib\\site-packages\\sklearn\\linear_model\\_sag.py:350: ConvergenceWarning: The max_iter was reached which means the coef_ did not converge\n",
      "  warnings.warn(\n",
      "c:\\Users\\martj\\miniconda3\\envs\\py38\\lib\\site-packages\\sklearn\\linear_model\\_sag.py:350: ConvergenceWarning: The max_iter was reached which means the coef_ did not converge\n",
      "  warnings.warn(\n"
     ]
    },
    {
     "name": "stdout",
     "output_type": "stream",
     "text": [
      "[CV] END C=0.001, fit_intercept=True, max_iter=500, penalty=l2, solver=saga; total time=   0.0s\n",
      "[CV] END C=0.001, fit_intercept=True, max_iter=500, penalty=l2, solver=saga; total time=   0.0s\n",
      "[CV] END C=0.001, fit_intercept=True, max_iter=500, penalty=l2, solver=saga; total time=   0.0s\n"
     ]
    },
    {
     "name": "stderr",
     "output_type": "stream",
     "text": [
      "c:\\Users\\martj\\miniconda3\\envs\\py38\\lib\\site-packages\\sklearn\\linear_model\\_sag.py:350: ConvergenceWarning: The max_iter was reached which means the coef_ did not converge\n",
      "  warnings.warn(\n",
      "c:\\Users\\martj\\miniconda3\\envs\\py38\\lib\\site-packages\\sklearn\\linear_model\\_sag.py:350: ConvergenceWarning: The max_iter was reached which means the coef_ did not converge\n",
      "  warnings.warn(\n"
     ]
    },
    {
     "name": "stdout",
     "output_type": "stream",
     "text": [
      "[CV] END C=0.001, fit_intercept=True, max_iter=500, penalty=l2, solver=saga; total time=   0.0s\n",
      "[CV] END C=0.001, fit_intercept=True, max_iter=500, penalty=l2, solver=saga; total time=   0.0s\n",
      "[CV] END C=0.001, fit_intercept=False, max_iter=50, penalty=l1, solver=newton-cg; total time=   0.0s\n",
      "[CV] END C=0.001, fit_intercept=False, max_iter=50, penalty=l1, solver=newton-cg; total time=   0.0s\n",
      "[CV] END C=0.001, fit_intercept=False, max_iter=50, penalty=l1, solver=newton-cg; total time=   0.0s\n",
      "[CV] END C=0.001, fit_intercept=False, max_iter=50, penalty=l1, solver=newton-cg; total time=   0.0s\n",
      "[CV] END C=0.001, fit_intercept=False, max_iter=50, penalty=l1, solver=newton-cg; total time=   0.0s\n",
      "[CV] END C=0.001, fit_intercept=False, max_iter=50, penalty=l1, solver=lbfgs; total time=   0.0s\n",
      "[CV] END C=0.001, fit_intercept=False, max_iter=50, penalty=l1, solver=lbfgs; total time=   0.0s\n",
      "[CV] END C=0.001, fit_intercept=False, max_iter=50, penalty=l1, solver=lbfgs; total time=   0.0s\n",
      "[CV] END C=0.001, fit_intercept=False, max_iter=50, penalty=l1, solver=lbfgs; total time=   0.0s\n",
      "[CV] END C=0.001, fit_intercept=False, max_iter=50, penalty=l1, solver=lbfgs; total time=   0.0s\n",
      "[CV] END C=0.001, fit_intercept=False, max_iter=50, penalty=l1, solver=liblinear; total time=   0.0s\n",
      "[CV] END C=0.001, fit_intercept=False, max_iter=50, penalty=l1, solver=liblinear; total time=   0.0s\n",
      "[CV] END C=0.001, fit_intercept=False, max_iter=50, penalty=l1, solver=liblinear; total time=   0.0s\n",
      "[CV] END C=0.001, fit_intercept=False, max_iter=50, penalty=l1, solver=liblinear; total time=   0.0s\n",
      "[CV] END C=0.001, fit_intercept=False, max_iter=50, penalty=l1, solver=liblinear; total time=   0.0s\n",
      "[CV] END C=0.001, fit_intercept=False, max_iter=50, penalty=l1, solver=sag; total time=   0.0s\n",
      "[CV] END C=0.001, fit_intercept=False, max_iter=50, penalty=l1, solver=sag; total time=   0.0s\n",
      "[CV] END C=0.001, fit_intercept=False, max_iter=50, penalty=l1, solver=sag; total time=   0.0s\n",
      "[CV] END C=0.001, fit_intercept=False, max_iter=50, penalty=l1, solver=sag; total time=   0.0s\n",
      "[CV] END C=0.001, fit_intercept=False, max_iter=50, penalty=l1, solver=sag; total time=   0.0s\n",
      "[CV] END C=0.001, fit_intercept=False, max_iter=50, penalty=l1, solver=saga; total time=   0.0s\n",
      "[CV] END C=0.001, fit_intercept=False, max_iter=50, penalty=l1, solver=saga; total time=   0.0s\n",
      "[CV] END C=0.001, fit_intercept=False, max_iter=50, penalty=l1, solver=saga; total time=   0.0s\n",
      "[CV] END C=0.001, fit_intercept=False, max_iter=50, penalty=l1, solver=saga; total time=   0.0s\n",
      "[CV] END C=0.001, fit_intercept=False, max_iter=50, penalty=l1, solver=saga; total time=   0.0s\n",
      "[CV] END C=0.001, fit_intercept=False, max_iter=50, penalty=l2, solver=newton-cg; total time=   0.0s\n",
      "[CV] END C=0.001, fit_intercept=False, max_iter=50, penalty=l2, solver=newton-cg; total time=   0.0s\n",
      "[CV] END C=0.001, fit_intercept=False, max_iter=50, penalty=l2, solver=newton-cg; total time=   0.0s\n",
      "[CV] END C=0.001, fit_intercept=False, max_iter=50, penalty=l2, solver=newton-cg; total time=   0.0s\n",
      "[CV] END C=0.001, fit_intercept=False, max_iter=50, penalty=l2, solver=newton-cg; total time=   0.0s\n",
      "[CV] END C=0.001, fit_intercept=False, max_iter=50, penalty=l2, solver=lbfgs; total time=   0.0s\n",
      "[CV] END C=0.001, fit_intercept=False, max_iter=50, penalty=l2, solver=lbfgs; total time=   0.0s\n",
      "[CV] END C=0.001, fit_intercept=False, max_iter=50, penalty=l2, solver=lbfgs; total time=   0.0s\n",
      "[CV] END C=0.001, fit_intercept=False, max_iter=50, penalty=l2, solver=lbfgs; total time=   0.0s\n",
      "[CV] END C=0.001, fit_intercept=False, max_iter=50, penalty=l2, solver=lbfgs; total time=   0.0s\n",
      "[CV] END C=0.001, fit_intercept=False, max_iter=50, penalty=l2, solver=liblinear; total time=   0.0s\n",
      "[CV] END C=0.001, fit_intercept=False, max_iter=50, penalty=l2, solver=liblinear; total time=   0.0s\n",
      "[CV] END C=0.001, fit_intercept=False, max_iter=50, penalty=l2, solver=liblinear; total time=   0.0s\n",
      "[CV] END C=0.001, fit_intercept=False, max_iter=50, penalty=l2, solver=liblinear; total time=   0.0s\n",
      "[CV] END C=0.001, fit_intercept=False, max_iter=50, penalty=l2, solver=liblinear; total time=   0.0s\n",
      "[CV] END C=0.001, fit_intercept=False, max_iter=50, penalty=l2, solver=sag; total time=   0.0s\n",
      "[CV] END C=0.001, fit_intercept=False, max_iter=50, penalty=l2, solver=sag; total time=   0.0s\n",
      "[CV] END C=0.001, fit_intercept=False, max_iter=50, penalty=l2, solver=sag; total time=   0.0s\n",
      "[CV] END C=0.001, fit_intercept=False, max_iter=50, penalty=l2, solver=sag; total time=   0.0s\n",
      "[CV] END C=0.001, fit_intercept=False, max_iter=50, penalty=l2, solver=sag; total time=   0.0s\n",
      "[CV] END C=0.001, fit_intercept=False, max_iter=50, penalty=l2, solver=saga; total time=   0.0s\n",
      "[CV] END C=0.001, fit_intercept=False, max_iter=50, penalty=l2, solver=saga; total time=   0.0s\n",
      "[CV] END C=0.001, fit_intercept=False, max_iter=50, penalty=l2, solver=saga; total time=   0.0s\n",
      "[CV] END C=0.001, fit_intercept=False, max_iter=50, penalty=l2, solver=saga; total time=   0.0s\n",
      "[CV] END C=0.001, fit_intercept=False, max_iter=50, penalty=l2, solver=saga; total time=   0.0s\n",
      "[CV] END C=0.001, fit_intercept=False, max_iter=100, penalty=l1, solver=newton-cg; total time=   0.0s\n",
      "[CV] END C=0.001, fit_intercept=False, max_iter=100, penalty=l1, solver=newton-cg; total time=   0.0s\n",
      "[CV] END C=0.001, fit_intercept=False, max_iter=100, penalty=l1, solver=newton-cg; total time=   0.0s\n",
      "[CV] END C=0.001, fit_intercept=False, max_iter=100, penalty=l1, solver=newton-cg; total time=   0.0s\n",
      "[CV] END C=0.001, fit_intercept=False, max_iter=100, penalty=l1, solver=newton-cg; total time=   0.0s\n",
      "[CV] END C=0.001, fit_intercept=False, max_iter=100, penalty=l1, solver=lbfgs; total time=   0.0s\n",
      "[CV] END C=0.001, fit_intercept=False, max_iter=100, penalty=l1, solver=lbfgs; total time=   0.0s\n",
      "[CV] END C=0.001, fit_intercept=False, max_iter=100, penalty=l1, solver=lbfgs; total time=   0.0s\n",
      "[CV] END C=0.001, fit_intercept=False, max_iter=100, penalty=l1, solver=lbfgs; total time=   0.0s\n",
      "[CV] END C=0.001, fit_intercept=False, max_iter=100, penalty=l1, solver=lbfgs; total time=   0.0s\n"
     ]
    },
    {
     "name": "stderr",
     "output_type": "stream",
     "text": [
      "c:\\Users\\martj\\miniconda3\\envs\\py38\\lib\\site-packages\\sklearn\\linear_model\\_sag.py:350: ConvergenceWarning: The max_iter was reached which means the coef_ did not converge\n",
      "  warnings.warn(\n",
      "c:\\Users\\martj\\miniconda3\\envs\\py38\\lib\\site-packages\\sklearn\\linear_model\\_sag.py:350: ConvergenceWarning: The max_iter was reached which means the coef_ did not converge\n",
      "  warnings.warn(\n",
      "c:\\Users\\martj\\miniconda3\\envs\\py38\\lib\\site-packages\\sklearn\\linear_model\\_sag.py:350: ConvergenceWarning: The max_iter was reached which means the coef_ did not converge\n",
      "  warnings.warn(\n",
      "c:\\Users\\martj\\miniconda3\\envs\\py38\\lib\\site-packages\\sklearn\\linear_model\\_sag.py:350: ConvergenceWarning: The max_iter was reached which means the coef_ did not converge\n",
      "  warnings.warn(\n",
      "c:\\Users\\martj\\miniconda3\\envs\\py38\\lib\\site-packages\\sklearn\\linear_model\\_sag.py:350: ConvergenceWarning: The max_iter was reached which means the coef_ did not converge\n",
      "  warnings.warn(\n",
      "c:\\Users\\martj\\miniconda3\\envs\\py38\\lib\\site-packages\\sklearn\\linear_model\\_sag.py:350: ConvergenceWarning: The max_iter was reached which means the coef_ did not converge\n",
      "  warnings.warn(\n",
      "c:\\Users\\martj\\miniconda3\\envs\\py38\\lib\\site-packages\\sklearn\\linear_model\\_sag.py:350: ConvergenceWarning: The max_iter was reached which means the coef_ did not converge\n",
      "  warnings.warn(\n",
      "c:\\Users\\martj\\miniconda3\\envs\\py38\\lib\\site-packages\\sklearn\\linear_model\\_sag.py:350: ConvergenceWarning: The max_iter was reached which means the coef_ did not converge\n",
      "  warnings.warn(\n",
      "c:\\Users\\martj\\miniconda3\\envs\\py38\\lib\\site-packages\\sklearn\\linear_model\\_sag.py:350: ConvergenceWarning: The max_iter was reached which means the coef_ did not converge\n",
      "  warnings.warn(\n",
      "c:\\Users\\martj\\miniconda3\\envs\\py38\\lib\\site-packages\\sklearn\\linear_model\\_sag.py:350: ConvergenceWarning: The max_iter was reached which means the coef_ did not converge\n",
      "  warnings.warn(\n"
     ]
    },
    {
     "name": "stdout",
     "output_type": "stream",
     "text": [
      "[CV] END C=0.001, fit_intercept=False, max_iter=100, penalty=l1, solver=liblinear; total time=   0.0s\n",
      "[CV] END C=0.001, fit_intercept=False, max_iter=100, penalty=l1, solver=liblinear; total time=   0.0s\n",
      "[CV] END C=0.001, fit_intercept=False, max_iter=100, penalty=l1, solver=liblinear; total time=   0.0s\n",
      "[CV] END C=0.001, fit_intercept=False, max_iter=100, penalty=l1, solver=liblinear; total time=   0.0s\n",
      "[CV] END C=0.001, fit_intercept=False, max_iter=100, penalty=l1, solver=liblinear; total time=   0.0s\n",
      "[CV] END C=0.001, fit_intercept=False, max_iter=100, penalty=l1, solver=sag; total time=   0.0s\n",
      "[CV] END C=0.001, fit_intercept=False, max_iter=100, penalty=l1, solver=sag; total time=   0.0s\n",
      "[CV] END C=0.001, fit_intercept=False, max_iter=100, penalty=l1, solver=sag; total time=   0.0s\n",
      "[CV] END C=0.001, fit_intercept=False, max_iter=100, penalty=l1, solver=sag; total time=   0.0s\n",
      "[CV] END C=0.001, fit_intercept=False, max_iter=100, penalty=l1, solver=sag; total time=   0.0s\n",
      "[CV] END C=0.001, fit_intercept=False, max_iter=100, penalty=l1, solver=saga; total time=   0.0s\n",
      "[CV] END C=0.001, fit_intercept=False, max_iter=100, penalty=l1, solver=saga; total time=   0.0s\n",
      "[CV] END C=0.001, fit_intercept=False, max_iter=100, penalty=l1, solver=saga; total time=   0.0s\n",
      "[CV] END C=0.001, fit_intercept=False, max_iter=100, penalty=l1, solver=saga; total time=   0.0s\n",
      "[CV] END C=0.001, fit_intercept=False, max_iter=100, penalty=l1, solver=saga; total time=   0.0s\n",
      "[CV] END C=0.001, fit_intercept=False, max_iter=100, penalty=l2, solver=newton-cg; total time=   0.0s\n",
      "[CV] END C=0.001, fit_intercept=False, max_iter=100, penalty=l2, solver=newton-cg; total time=   0.0s\n",
      "[CV] END C=0.001, fit_intercept=False, max_iter=100, penalty=l2, solver=newton-cg; total time=   0.0s\n",
      "[CV] END C=0.001, fit_intercept=False, max_iter=100, penalty=l2, solver=newton-cg; total time=   0.0s\n",
      "[CV] END C=0.001, fit_intercept=False, max_iter=100, penalty=l2, solver=newton-cg; total time=   0.0s\n",
      "[CV] END C=0.001, fit_intercept=False, max_iter=100, penalty=l2, solver=lbfgs; total time=   0.0s\n",
      "[CV] END C=0.001, fit_intercept=False, max_iter=100, penalty=l2, solver=lbfgs; total time=   0.0s\n",
      "[CV] END C=0.001, fit_intercept=False, max_iter=100, penalty=l2, solver=lbfgs; total time=   0.0s\n",
      "[CV] END C=0.001, fit_intercept=False, max_iter=100, penalty=l2, solver=lbfgs; total time=   0.0s\n",
      "[CV] END C=0.001, fit_intercept=False, max_iter=100, penalty=l2, solver=lbfgs; total time=   0.0s\n",
      "[CV] END C=0.001, fit_intercept=False, max_iter=100, penalty=l2, solver=liblinear; total time=   0.0s\n",
      "[CV] END C=0.001, fit_intercept=False, max_iter=100, penalty=l2, solver=liblinear; total time=   0.0s\n",
      "[CV] END C=0.001, fit_intercept=False, max_iter=100, penalty=l2, solver=liblinear; total time=   0.0s\n",
      "[CV] END C=0.001, fit_intercept=False, max_iter=100, penalty=l2, solver=liblinear; total time=   0.0s\n",
      "[CV] END C=0.001, fit_intercept=False, max_iter=100, penalty=l2, solver=liblinear; total time=   0.0s\n",
      "[CV] END C=0.001, fit_intercept=False, max_iter=100, penalty=l2, solver=sag; total time=   0.0s\n",
      "[CV] END C=0.001, fit_intercept=False, max_iter=100, penalty=l2, solver=sag; total time=   0.0s\n",
      "[CV] END C=0.001, fit_intercept=False, max_iter=100, penalty=l2, solver=sag; total time=   0.0s\n",
      "[CV] END C=0.001, fit_intercept=False, max_iter=100, penalty=l2, solver=sag; total time=   0.0s\n"
     ]
    },
    {
     "name": "stderr",
     "output_type": "stream",
     "text": [
      "c:\\Users\\martj\\miniconda3\\envs\\py38\\lib\\site-packages\\sklearn\\linear_model\\_sag.py:350: ConvergenceWarning: The max_iter was reached which means the coef_ did not converge\n",
      "  warnings.warn(\n",
      "c:\\Users\\martj\\miniconda3\\envs\\py38\\lib\\site-packages\\sklearn\\linear_model\\_sag.py:350: ConvergenceWarning: The max_iter was reached which means the coef_ did not converge\n",
      "  warnings.warn(\n",
      "c:\\Users\\martj\\miniconda3\\envs\\py38\\lib\\site-packages\\sklearn\\linear_model\\_sag.py:350: ConvergenceWarning: The max_iter was reached which means the coef_ did not converge\n",
      "  warnings.warn(\n",
      "c:\\Users\\martj\\miniconda3\\envs\\py38\\lib\\site-packages\\sklearn\\linear_model\\_sag.py:350: ConvergenceWarning: The max_iter was reached which means the coef_ did not converge\n",
      "  warnings.warn(\n",
      "c:\\Users\\martj\\miniconda3\\envs\\py38\\lib\\site-packages\\sklearn\\linear_model\\_sag.py:350: ConvergenceWarning: The max_iter was reached which means the coef_ did not converge\n",
      "  warnings.warn(\n",
      "c:\\Users\\martj\\miniconda3\\envs\\py38\\lib\\site-packages\\sklearn\\linear_model\\_sag.py:350: ConvergenceWarning: The max_iter was reached which means the coef_ did not converge\n",
      "  warnings.warn(\n",
      "c:\\Users\\martj\\miniconda3\\envs\\py38\\lib\\site-packages\\sklearn\\linear_model\\_sag.py:350: ConvergenceWarning: The max_iter was reached which means the coef_ did not converge\n",
      "  warnings.warn(\n",
      "c:\\Users\\martj\\miniconda3\\envs\\py38\\lib\\site-packages\\sklearn\\linear_model\\_sag.py:350: ConvergenceWarning: The max_iter was reached which means the coef_ did not converge\n",
      "  warnings.warn(\n"
     ]
    },
    {
     "name": "stdout",
     "output_type": "stream",
     "text": [
      "[CV] END C=0.001, fit_intercept=False, max_iter=100, penalty=l2, solver=sag; total time=   0.0s\n",
      "[CV] END C=0.001, fit_intercept=False, max_iter=100, penalty=l2, solver=saga; total time=   0.0s\n",
      "[CV] END C=0.001, fit_intercept=False, max_iter=100, penalty=l2, solver=saga; total time=   0.0s\n",
      "[CV] END C=0.001, fit_intercept=False, max_iter=100, penalty=l2, solver=saga; total time=   0.0s\n",
      "[CV] END C=0.001, fit_intercept=False, max_iter=100, penalty=l2, solver=saga; total time=   0.0s\n",
      "[CV] END C=0.001, fit_intercept=False, max_iter=100, penalty=l2, solver=saga; total time=   0.0s\n",
      "[CV] END C=0.001, fit_intercept=False, max_iter=200, penalty=l1, solver=newton-cg; total time=   0.0s\n",
      "[CV] END C=0.001, fit_intercept=False, max_iter=200, penalty=l1, solver=newton-cg; total time=   0.0s\n",
      "[CV] END C=0.001, fit_intercept=False, max_iter=200, penalty=l1, solver=newton-cg; total time=   0.0s\n",
      "[CV] END C=0.001, fit_intercept=False, max_iter=200, penalty=l1, solver=newton-cg; total time=   0.0s\n",
      "[CV] END C=0.001, fit_intercept=False, max_iter=200, penalty=l1, solver=newton-cg; total time=   0.0s\n",
      "[CV] END C=0.001, fit_intercept=False, max_iter=200, penalty=l1, solver=lbfgs; total time=   0.0s\n",
      "[CV] END C=0.001, fit_intercept=False, max_iter=200, penalty=l1, solver=lbfgs; total time=   0.0s\n",
      "[CV] END C=0.001, fit_intercept=False, max_iter=200, penalty=l1, solver=lbfgs; total time=   0.0s\n",
      "[CV] END C=0.001, fit_intercept=False, max_iter=200, penalty=l1, solver=lbfgs; total time=   0.0s\n",
      "[CV] END C=0.001, fit_intercept=False, max_iter=200, penalty=l1, solver=lbfgs; total time=   0.0s\n",
      "[CV] END C=0.001, fit_intercept=False, max_iter=200, penalty=l1, solver=liblinear; total time=   0.0s\n",
      "[CV] END C=0.001, fit_intercept=False, max_iter=200, penalty=l1, solver=liblinear; total time=   0.0s\n",
      "[CV] END C=0.001, fit_intercept=False, max_iter=200, penalty=l1, solver=liblinear; total time=   0.0s\n",
      "[CV] END C=0.001, fit_intercept=False, max_iter=200, penalty=l1, solver=liblinear; total time=   0.0s\n",
      "[CV] END C=0.001, fit_intercept=False, max_iter=200, penalty=l1, solver=liblinear; total time=   0.0s\n"
     ]
    },
    {
     "name": "stderr",
     "output_type": "stream",
     "text": [
      "c:\\Users\\martj\\miniconda3\\envs\\py38\\lib\\site-packages\\sklearn\\linear_model\\_sag.py:350: ConvergenceWarning: The max_iter was reached which means the coef_ did not converge\n",
      "  warnings.warn(\n",
      "c:\\Users\\martj\\miniconda3\\envs\\py38\\lib\\site-packages\\sklearn\\linear_model\\_sag.py:350: ConvergenceWarning: The max_iter was reached which means the coef_ did not converge\n",
      "  warnings.warn(\n"
     ]
    },
    {
     "name": "stdout",
     "output_type": "stream",
     "text": [
      "[CV] END C=0.001, fit_intercept=False, max_iter=200, penalty=l1, solver=sag; total time=   0.0s\n",
      "[CV] END C=0.001, fit_intercept=False, max_iter=200, penalty=l1, solver=sag; total time=   0.0s\n",
      "[CV] END C=0.001, fit_intercept=False, max_iter=200, penalty=l1, solver=sag; total time=   0.0s\n",
      "[CV] END C=0.001, fit_intercept=False, max_iter=200, penalty=l1, solver=sag; total time=   0.0s\n",
      "[CV] END C=0.001, fit_intercept=False, max_iter=200, penalty=l1, solver=sag; total time=   0.0s\n",
      "[CV] END C=0.001, fit_intercept=False, max_iter=200, penalty=l1, solver=saga; total time=   0.0s\n",
      "[CV] END C=0.001, fit_intercept=False, max_iter=200, penalty=l1, solver=saga; total time=   0.0s\n",
      "[CV] END C=0.001, fit_intercept=False, max_iter=200, penalty=l1, solver=saga; total time=   0.0s\n",
      "[CV] END C=0.001, fit_intercept=False, max_iter=200, penalty=l1, solver=saga; total time=   0.0s\n",
      "[CV] END C=0.001, fit_intercept=False, max_iter=200, penalty=l1, solver=saga; total time=   0.0s\n",
      "[CV] END C=0.001, fit_intercept=False, max_iter=200, penalty=l2, solver=newton-cg; total time=   0.0s\n",
      "[CV] END C=0.001, fit_intercept=False, max_iter=200, penalty=l2, solver=newton-cg; total time=   0.0s\n",
      "[CV] END C=0.001, fit_intercept=False, max_iter=200, penalty=l2, solver=newton-cg; total time=   0.0s\n",
      "[CV] END C=0.001, fit_intercept=False, max_iter=200, penalty=l2, solver=newton-cg; total time=   0.0s\n",
      "[CV] END C=0.001, fit_intercept=False, max_iter=200, penalty=l2, solver=newton-cg; total time=   0.0s\n",
      "[CV] END C=0.001, fit_intercept=False, max_iter=200, penalty=l2, solver=lbfgs; total time=   0.0s\n",
      "[CV] END C=0.001, fit_intercept=False, max_iter=200, penalty=l2, solver=lbfgs; total time=   0.0s\n",
      "[CV] END C=0.001, fit_intercept=False, max_iter=200, penalty=l2, solver=lbfgs; total time=   0.0s\n",
      "[CV] END C=0.001, fit_intercept=False, max_iter=200, penalty=l2, solver=lbfgs; total time=   0.0s\n",
      "[CV] END C=0.001, fit_intercept=False, max_iter=200, penalty=l2, solver=lbfgs; total time=   0.0s\n",
      "[CV] END C=0.001, fit_intercept=False, max_iter=200, penalty=l2, solver=liblinear; total time=   0.0s\n",
      "[CV] END C=0.001, fit_intercept=False, max_iter=200, penalty=l2, solver=liblinear; total time=   0.0s\n",
      "[CV] END C=0.001, fit_intercept=False, max_iter=200, penalty=l2, solver=liblinear; total time=   0.0s\n",
      "[CV] END C=0.001, fit_intercept=False, max_iter=200, penalty=l2, solver=liblinear; total time=   0.0s\n",
      "[CV] END C=0.001, fit_intercept=False, max_iter=200, penalty=l2, solver=liblinear; total time=   0.0s\n",
      "[CV] END C=0.001, fit_intercept=False, max_iter=200, penalty=l2, solver=sag; total time=   0.0s\n",
      "[CV] END C=0.001, fit_intercept=False, max_iter=200, penalty=l2, solver=sag; total time=   0.0s\n",
      "[CV] END C=0.001, fit_intercept=False, max_iter=200, penalty=l2, solver=sag; total time=   0.0s\n"
     ]
    },
    {
     "name": "stderr",
     "output_type": "stream",
     "text": [
      "c:\\Users\\martj\\miniconda3\\envs\\py38\\lib\\site-packages\\sklearn\\linear_model\\_sag.py:350: ConvergenceWarning: The max_iter was reached which means the coef_ did not converge\n",
      "  warnings.warn(\n",
      "c:\\Users\\martj\\miniconda3\\envs\\py38\\lib\\site-packages\\sklearn\\linear_model\\_sag.py:350: ConvergenceWarning: The max_iter was reached which means the coef_ did not converge\n",
      "  warnings.warn(\n",
      "c:\\Users\\martj\\miniconda3\\envs\\py38\\lib\\site-packages\\sklearn\\linear_model\\_sag.py:350: ConvergenceWarning: The max_iter was reached which means the coef_ did not converge\n",
      "  warnings.warn(\n",
      "c:\\Users\\martj\\miniconda3\\envs\\py38\\lib\\site-packages\\sklearn\\linear_model\\_sag.py:350: ConvergenceWarning: The max_iter was reached which means the coef_ did not converge\n",
      "  warnings.warn(\n",
      "c:\\Users\\martj\\miniconda3\\envs\\py38\\lib\\site-packages\\sklearn\\linear_model\\_sag.py:350: ConvergenceWarning: The max_iter was reached which means the coef_ did not converge\n",
      "  warnings.warn(\n"
     ]
    },
    {
     "name": "stdout",
     "output_type": "stream",
     "text": [
      "[CV] END C=0.001, fit_intercept=False, max_iter=200, penalty=l2, solver=sag; total time=   0.0s\n",
      "[CV] END C=0.001, fit_intercept=False, max_iter=200, penalty=l2, solver=sag; total time=   0.0s\n",
      "[CV] END C=0.001, fit_intercept=False, max_iter=200, penalty=l2, solver=saga; total time=   0.0s\n",
      "[CV] END C=0.001, fit_intercept=False, max_iter=200, penalty=l2, solver=saga; total time=   0.0s\n",
      "[CV] END C=0.001, fit_intercept=False, max_iter=200, penalty=l2, solver=saga; total time=   0.0s\n",
      "[CV] END C=0.001, fit_intercept=False, max_iter=200, penalty=l2, solver=saga; total time=   0.0s\n"
     ]
    },
    {
     "name": "stderr",
     "output_type": "stream",
     "text": [
      "c:\\Users\\martj\\miniconda3\\envs\\py38\\lib\\site-packages\\sklearn\\linear_model\\_sag.py:350: ConvergenceWarning: The max_iter was reached which means the coef_ did not converge\n",
      "  warnings.warn(\n",
      "c:\\Users\\martj\\miniconda3\\envs\\py38\\lib\\site-packages\\sklearn\\linear_model\\_sag.py:350: ConvergenceWarning: The max_iter was reached which means the coef_ did not converge\n",
      "  warnings.warn(\n",
      "c:\\Users\\martj\\miniconda3\\envs\\py38\\lib\\site-packages\\sklearn\\linear_model\\_sag.py:350: ConvergenceWarning: The max_iter was reached which means the coef_ did not converge\n",
      "  warnings.warn(\n",
      "c:\\Users\\martj\\miniconda3\\envs\\py38\\lib\\site-packages\\sklearn\\linear_model\\_sag.py:350: ConvergenceWarning: The max_iter was reached which means the coef_ did not converge\n",
      "  warnings.warn(\n",
      "c:\\Users\\martj\\miniconda3\\envs\\py38\\lib\\site-packages\\sklearn\\linear_model\\_sag.py:350: ConvergenceWarning: The max_iter was reached which means the coef_ did not converge\n",
      "  warnings.warn(\n"
     ]
    },
    {
     "name": "stdout",
     "output_type": "stream",
     "text": [
      "[CV] END C=0.001, fit_intercept=False, max_iter=200, penalty=l2, solver=saga; total time=   0.0s\n",
      "[CV] END C=0.001, fit_intercept=False, max_iter=500, penalty=l1, solver=newton-cg; total time=   0.0s\n",
      "[CV] END C=0.001, fit_intercept=False, max_iter=500, penalty=l1, solver=newton-cg; total time=   0.0s\n",
      "[CV] END C=0.001, fit_intercept=False, max_iter=500, penalty=l1, solver=newton-cg; total time=   0.0s\n",
      "[CV] END C=0.001, fit_intercept=False, max_iter=500, penalty=l1, solver=newton-cg; total time=   0.0s\n",
      "[CV] END C=0.001, fit_intercept=False, max_iter=500, penalty=l1, solver=newton-cg; total time=   0.0s\n",
      "[CV] END C=0.001, fit_intercept=False, max_iter=500, penalty=l1, solver=lbfgs; total time=   0.0s\n",
      "[CV] END C=0.001, fit_intercept=False, max_iter=500, penalty=l1, solver=lbfgs; total time=   0.0s\n",
      "[CV] END C=0.001, fit_intercept=False, max_iter=500, penalty=l1, solver=lbfgs; total time=   0.0s\n",
      "[CV] END C=0.001, fit_intercept=False, max_iter=500, penalty=l1, solver=lbfgs; total time=   0.0s\n",
      "[CV] END C=0.001, fit_intercept=False, max_iter=500, penalty=l1, solver=lbfgs; total time=   0.0s\n",
      "[CV] END C=0.001, fit_intercept=False, max_iter=500, penalty=l1, solver=liblinear; total time=   0.0s\n",
      "[CV] END C=0.001, fit_intercept=False, max_iter=500, penalty=l1, solver=liblinear; total time=   0.0s\n",
      "[CV] END C=0.001, fit_intercept=False, max_iter=500, penalty=l1, solver=liblinear; total time=   0.0s\n",
      "[CV] END C=0.001, fit_intercept=False, max_iter=500, penalty=l1, solver=liblinear; total time=   0.0s\n",
      "[CV] END C=0.001, fit_intercept=False, max_iter=500, penalty=l1, solver=liblinear; total time=   0.0s\n",
      "[CV] END C=0.001, fit_intercept=False, max_iter=500, penalty=l1, solver=sag; total time=   0.0s\n",
      "[CV] END C=0.001, fit_intercept=False, max_iter=500, penalty=l1, solver=sag; total time=   0.0s\n",
      "[CV] END C=0.001, fit_intercept=False, max_iter=500, penalty=l1, solver=sag; total time=   0.0s\n",
      "[CV] END C=0.001, fit_intercept=False, max_iter=500, penalty=l1, solver=sag; total time=   0.0s\n",
      "[CV] END C=0.001, fit_intercept=False, max_iter=500, penalty=l1, solver=sag; total time=   0.0s\n",
      "[CV] END C=0.001, fit_intercept=False, max_iter=500, penalty=l1, solver=saga; total time=   0.0s\n",
      "[CV] END C=0.001, fit_intercept=False, max_iter=500, penalty=l1, solver=saga; total time=   0.0s\n",
      "[CV] END C=0.001, fit_intercept=False, max_iter=500, penalty=l1, solver=saga; total time=   0.0s\n",
      "[CV] END C=0.001, fit_intercept=False, max_iter=500, penalty=l1, solver=saga; total time=   0.0s\n",
      "[CV] END C=0.001, fit_intercept=False, max_iter=500, penalty=l1, solver=saga; total time=   0.0s\n",
      "[CV] END C=0.001, fit_intercept=False, max_iter=500, penalty=l2, solver=newton-cg; total time=   0.0s\n",
      "[CV] END C=0.001, fit_intercept=False, max_iter=500, penalty=l2, solver=newton-cg; total time=   0.0s\n",
      "[CV] END C=0.001, fit_intercept=False, max_iter=500, penalty=l2, solver=newton-cg; total time=   0.0s\n",
      "[CV] END C=0.001, fit_intercept=False, max_iter=500, penalty=l2, solver=newton-cg; total time=   0.0s\n",
      "[CV] END C=0.001, fit_intercept=False, max_iter=500, penalty=l2, solver=newton-cg; total time=   0.0s\n",
      "[CV] END C=0.001, fit_intercept=False, max_iter=500, penalty=l2, solver=lbfgs; total time=   0.0s\n",
      "[CV] END C=0.001, fit_intercept=False, max_iter=500, penalty=l2, solver=lbfgs; total time=   0.0s\n",
      "[CV] END C=0.001, fit_intercept=False, max_iter=500, penalty=l2, solver=lbfgs; total time=   0.0s\n",
      "[CV] END C=0.001, fit_intercept=False, max_iter=500, penalty=l2, solver=lbfgs; total time=   0.0s\n",
      "[CV] END C=0.001, fit_intercept=False, max_iter=500, penalty=l2, solver=lbfgs; total time=   0.0s\n",
      "[CV] END C=0.001, fit_intercept=False, max_iter=500, penalty=l2, solver=liblinear; total time=   0.0s\n",
      "[CV] END C=0.001, fit_intercept=False, max_iter=500, penalty=l2, solver=liblinear; total time=   0.0s\n",
      "[CV] END C=0.001, fit_intercept=False, max_iter=500, penalty=l2, solver=liblinear; total time=   0.0s\n",
      "[CV] END C=0.001, fit_intercept=False, max_iter=500, penalty=l2, solver=liblinear; total time=   0.0s\n",
      "[CV] END C=0.001, fit_intercept=False, max_iter=500, penalty=l2, solver=liblinear; total time=   0.0s\n",
      "[CV] END C=0.001, fit_intercept=False, max_iter=500, penalty=l2, solver=sag; total time=   0.0s\n",
      "[CV] END C=0.001, fit_intercept=False, max_iter=500, penalty=l2, solver=sag; total time=   0.0s\n",
      "[CV] END C=0.001, fit_intercept=False, max_iter=500, penalty=l2, solver=sag; total time=   0.0s\n",
      "[CV] END C=0.001, fit_intercept=False, max_iter=500, penalty=l2, solver=sag; total time=   0.0s\n",
      "[CV] END C=0.001, fit_intercept=False, max_iter=500, penalty=l2, solver=sag; total time=   0.0s\n",
      "[CV] END C=0.001, fit_intercept=False, max_iter=500, penalty=l2, solver=saga; total time=   0.0s\n",
      "[CV] END C=0.001, fit_intercept=False, max_iter=500, penalty=l2, solver=saga; total time=   0.0s\n"
     ]
    },
    {
     "name": "stderr",
     "output_type": "stream",
     "text": [
      "c:\\Users\\martj\\miniconda3\\envs\\py38\\lib\\site-packages\\sklearn\\linear_model\\_sag.py:350: ConvergenceWarning: The max_iter was reached which means the coef_ did not converge\n",
      "  warnings.warn(\n",
      "c:\\Users\\martj\\miniconda3\\envs\\py38\\lib\\site-packages\\sklearn\\linear_model\\_sag.py:350: ConvergenceWarning: The max_iter was reached which means the coef_ did not converge\n",
      "  warnings.warn(\n",
      "c:\\Users\\martj\\miniconda3\\envs\\py38\\lib\\site-packages\\sklearn\\linear_model\\_sag.py:350: ConvergenceWarning: The max_iter was reached which means the coef_ did not converge\n",
      "  warnings.warn(\n"
     ]
    },
    {
     "name": "stdout",
     "output_type": "stream",
     "text": [
      "[CV] END C=0.001, fit_intercept=False, max_iter=500, penalty=l2, solver=saga; total time=   0.0s\n",
      "[CV] END C=0.001, fit_intercept=False, max_iter=500, penalty=l2, solver=saga; total time=   0.0s\n",
      "[CV] END C=0.001, fit_intercept=False, max_iter=500, penalty=l2, solver=saga; total time=   0.0s\n",
      "[CV] END C=0.01, fit_intercept=True, max_iter=50, penalty=l1, solver=newton-cg; total time=   0.0s\n",
      "[CV] END C=0.01, fit_intercept=True, max_iter=50, penalty=l1, solver=newton-cg; total time=   0.0s\n",
      "[CV] END C=0.01, fit_intercept=True, max_iter=50, penalty=l1, solver=newton-cg; total time=   0.0s\n",
      "[CV] END C=0.01, fit_intercept=True, max_iter=50, penalty=l1, solver=newton-cg; total time=   0.0s\n",
      "[CV] END C=0.01, fit_intercept=True, max_iter=50, penalty=l1, solver=newton-cg; total time=   0.0s\n",
      "[CV] END C=0.01, fit_intercept=True, max_iter=50, penalty=l1, solver=lbfgs; total time=   0.0s\n",
      "[CV] END C=0.01, fit_intercept=True, max_iter=50, penalty=l1, solver=lbfgs; total time=   0.0s\n",
      "[CV] END C=0.01, fit_intercept=True, max_iter=50, penalty=l1, solver=lbfgs; total time=   0.0s\n",
      "[CV] END C=0.01, fit_intercept=True, max_iter=50, penalty=l1, solver=lbfgs; total time=   0.0s\n",
      "[CV] END C=0.01, fit_intercept=True, max_iter=50, penalty=l1, solver=lbfgs; total time=   0.0s\n"
     ]
    },
    {
     "name": "stderr",
     "output_type": "stream",
     "text": [
      "c:\\Users\\martj\\miniconda3\\envs\\py38\\lib\\site-packages\\sklearn\\linear_model\\_sag.py:350: ConvergenceWarning: The max_iter was reached which means the coef_ did not converge\n",
      "  warnings.warn(\n",
      "c:\\Users\\martj\\miniconda3\\envs\\py38\\lib\\site-packages\\sklearn\\linear_model\\_sag.py:350: ConvergenceWarning: The max_iter was reached which means the coef_ did not converge\n",
      "  warnings.warn(\n"
     ]
    },
    {
     "name": "stdout",
     "output_type": "stream",
     "text": [
      "[CV] END C=0.01, fit_intercept=True, max_iter=50, penalty=l1, solver=liblinear; total time=   0.0s\n",
      "[CV] END C=0.01, fit_intercept=True, max_iter=50, penalty=l1, solver=liblinear; total time=   0.0s\n",
      "[CV] END C=0.01, fit_intercept=True, max_iter=50, penalty=l1, solver=liblinear; total time=   0.0s\n",
      "[CV] END C=0.01, fit_intercept=True, max_iter=50, penalty=l1, solver=liblinear; total time=   0.0s\n",
      "[CV] END C=0.01, fit_intercept=True, max_iter=50, penalty=l1, solver=liblinear; total time=   0.0s\n",
      "[CV] END C=0.01, fit_intercept=True, max_iter=50, penalty=l1, solver=sag; total time=   0.0s\n",
      "[CV] END C=0.01, fit_intercept=True, max_iter=50, penalty=l1, solver=sag; total time=   0.0s\n",
      "[CV] END C=0.01, fit_intercept=True, max_iter=50, penalty=l1, solver=sag; total time=   0.0s\n",
      "[CV] END C=0.01, fit_intercept=True, max_iter=50, penalty=l1, solver=sag; total time=   0.0s\n",
      "[CV] END C=0.01, fit_intercept=True, max_iter=50, penalty=l1, solver=sag; total time=   0.0s\n",
      "[CV] END C=0.01, fit_intercept=True, max_iter=50, penalty=l1, solver=saga; total time=   0.0s\n",
      "[CV] END C=0.01, fit_intercept=True, max_iter=50, penalty=l1, solver=saga; total time=   0.0s\n",
      "[CV] END C=0.01, fit_intercept=True, max_iter=50, penalty=l1, solver=saga; total time=   0.0s\n",
      "[CV] END C=0.01, fit_intercept=True, max_iter=50, penalty=l1, solver=saga; total time=   0.0s\n",
      "[CV] END C=0.01, fit_intercept=True, max_iter=50, penalty=l1, solver=saga; total time=   0.0s\n",
      "[CV] END C=0.01, fit_intercept=True, max_iter=50, penalty=l2, solver=newton-cg; total time=   0.0s\n",
      "[CV] END C=0.01, fit_intercept=True, max_iter=50, penalty=l2, solver=newton-cg; total time=   0.0s\n",
      "[CV] END C=0.01, fit_intercept=True, max_iter=50, penalty=l2, solver=newton-cg; total time=   0.0s\n"
     ]
    },
    {
     "name": "stderr",
     "output_type": "stream",
     "text": [
      "c:\\Users\\martj\\miniconda3\\envs\\py38\\lib\\site-packages\\sklearn\\linear_model\\_sag.py:350: ConvergenceWarning: The max_iter was reached which means the coef_ did not converge\n",
      "  warnings.warn(\n",
      "c:\\Users\\martj\\miniconda3\\envs\\py38\\lib\\site-packages\\sklearn\\linear_model\\_sag.py:350: ConvergenceWarning: The max_iter was reached which means the coef_ did not converge\n",
      "  warnings.warn(\n",
      "c:\\Users\\martj\\miniconda3\\envs\\py38\\lib\\site-packages\\sklearn\\linear_model\\_logistic.py:460: ConvergenceWarning: lbfgs failed to converge (status=1):\n",
      "STOP: TOTAL NO. of ITERATIONS REACHED LIMIT.\n",
      "\n",
      "Increase the number of iterations (max_iter) or scale the data as shown in:\n",
      "    https://scikit-learn.org/stable/modules/preprocessing.html\n",
      "Please also refer to the documentation for alternative solver options:\n",
      "    https://scikit-learn.org/stable/modules/linear_model.html#logistic-regression\n",
      "  n_iter_i = _check_optimize_result(\n"
     ]
    },
    {
     "name": "stdout",
     "output_type": "stream",
     "text": [
      "[CV] END C=0.01, fit_intercept=True, max_iter=50, penalty=l2, solver=newton-cg; total time=   0.0s\n",
      "[CV] END C=0.01, fit_intercept=True, max_iter=50, penalty=l2, solver=newton-cg; total time=   0.0s\n",
      "[CV] END C=0.01, fit_intercept=True, max_iter=50, penalty=l2, solver=lbfgs; total time=   0.0s\n",
      "[CV] END C=0.01, fit_intercept=True, max_iter=50, penalty=l2, solver=lbfgs; total time=   0.0s\n",
      "[CV] END C=0.01, fit_intercept=True, max_iter=50, penalty=l2, solver=lbfgs; total time=   0.0s\n",
      "[CV] END C=0.01, fit_intercept=True, max_iter=50, penalty=l2, solver=lbfgs; total time=   0.0s\n",
      "[CV] END C=0.01, fit_intercept=True, max_iter=50, penalty=l2, solver=lbfgs; total time=   0.0s\n",
      "[CV] END C=0.01, fit_intercept=True, max_iter=50, penalty=l2, solver=liblinear; total time=   0.0s\n",
      "[CV] END C=0.01, fit_intercept=True, max_iter=50, penalty=l2, solver=liblinear; total time=   0.0s\n",
      "[CV] END C=0.01, fit_intercept=True, max_iter=50, penalty=l2, solver=liblinear; total time=   0.0s\n",
      "[CV] END C=0.01, fit_intercept=True, max_iter=50, penalty=l2, solver=liblinear; total time=   0.0s\n",
      "[CV] END C=0.01, fit_intercept=True, max_iter=50, penalty=l2, solver=liblinear; total time=   0.0s\n"
     ]
    },
    {
     "name": "stderr",
     "output_type": "stream",
     "text": [
      "c:\\Users\\martj\\miniconda3\\envs\\py38\\lib\\site-packages\\sklearn\\linear_model\\_logistic.py:460: ConvergenceWarning: lbfgs failed to converge (status=1):\n",
      "STOP: TOTAL NO. of ITERATIONS REACHED LIMIT.\n",
      "\n",
      "Increase the number of iterations (max_iter) or scale the data as shown in:\n",
      "    https://scikit-learn.org/stable/modules/preprocessing.html\n",
      "Please also refer to the documentation for alternative solver options:\n",
      "    https://scikit-learn.org/stable/modules/linear_model.html#logistic-regression\n",
      "  n_iter_i = _check_optimize_result(\n",
      "c:\\Users\\martj\\miniconda3\\envs\\py38\\lib\\site-packages\\sklearn\\linear_model\\_logistic.py:460: ConvergenceWarning: lbfgs failed to converge (status=1):\n",
      "STOP: TOTAL NO. of ITERATIONS REACHED LIMIT.\n",
      "\n",
      "Increase the number of iterations (max_iter) or scale the data as shown in:\n",
      "    https://scikit-learn.org/stable/modules/preprocessing.html\n",
      "Please also refer to the documentation for alternative solver options:\n",
      "    https://scikit-learn.org/stable/modules/linear_model.html#logistic-regression\n",
      "  n_iter_i = _check_optimize_result(\n",
      "c:\\Users\\martj\\miniconda3\\envs\\py38\\lib\\site-packages\\sklearn\\linear_model\\_logistic.py:460: ConvergenceWarning: lbfgs failed to converge (status=1):\n",
      "STOP: TOTAL NO. of ITERATIONS REACHED LIMIT.\n",
      "\n",
      "Increase the number of iterations (max_iter) or scale the data as shown in:\n",
      "    https://scikit-learn.org/stable/modules/preprocessing.html\n",
      "Please also refer to the documentation for alternative solver options:\n",
      "    https://scikit-learn.org/stable/modules/linear_model.html#logistic-regression\n",
      "  n_iter_i = _check_optimize_result(\n",
      "c:\\Users\\martj\\miniconda3\\envs\\py38\\lib\\site-packages\\sklearn\\linear_model\\_logistic.py:460: ConvergenceWarning: lbfgs failed to converge (status=1):\n",
      "STOP: TOTAL NO. of ITERATIONS REACHED LIMIT.\n",
      "\n",
      "Increase the number of iterations (max_iter) or scale the data as shown in:\n",
      "    https://scikit-learn.org/stable/modules/preprocessing.html\n",
      "Please also refer to the documentation for alternative solver options:\n",
      "    https://scikit-learn.org/stable/modules/linear_model.html#logistic-regression\n",
      "  n_iter_i = _check_optimize_result(\n",
      "c:\\Users\\martj\\miniconda3\\envs\\py38\\lib\\site-packages\\sklearn\\linear_model\\_sag.py:350: ConvergenceWarning: The max_iter was reached which means the coef_ did not converge\n",
      "  warnings.warn(\n",
      "c:\\Users\\martj\\miniconda3\\envs\\py38\\lib\\site-packages\\sklearn\\linear_model\\_sag.py:350: ConvergenceWarning: The max_iter was reached which means the coef_ did not converge\n",
      "  warnings.warn(\n",
      "c:\\Users\\martj\\miniconda3\\envs\\py38\\lib\\site-packages\\sklearn\\linear_model\\_sag.py:350: ConvergenceWarning: The max_iter was reached which means the coef_ did not converge\n",
      "  warnings.warn(\n",
      "c:\\Users\\martj\\miniconda3\\envs\\py38\\lib\\site-packages\\sklearn\\linear_model\\_sag.py:350: ConvergenceWarning: The max_iter was reached which means the coef_ did not converge\n",
      "  warnings.warn(\n",
      "c:\\Users\\martj\\miniconda3\\envs\\py38\\lib\\site-packages\\sklearn\\linear_model\\_sag.py:350: ConvergenceWarning: The max_iter was reached which means the coef_ did not converge\n",
      "  warnings.warn(\n"
     ]
    },
    {
     "name": "stdout",
     "output_type": "stream",
     "text": [
      "[CV] END C=0.01, fit_intercept=True, max_iter=50, penalty=l2, solver=sag; total time=   0.0s\n",
      "[CV] END C=0.01, fit_intercept=True, max_iter=50, penalty=l2, solver=sag; total time=   0.0s\n",
      "[CV] END C=0.01, fit_intercept=True, max_iter=50, penalty=l2, solver=sag; total time=   0.0s\n",
      "[CV] END C=0.01, fit_intercept=True, max_iter=50, penalty=l2, solver=sag; total time=   0.0s\n",
      "[CV] END C=0.01, fit_intercept=True, max_iter=50, penalty=l2, solver=sag; total time=   0.0s\n",
      "[CV] END C=0.01, fit_intercept=True, max_iter=50, penalty=l2, solver=saga; total time=   0.0s\n",
      "[CV] END C=0.01, fit_intercept=True, max_iter=50, penalty=l2, solver=saga; total time=   0.0s\n",
      "[CV] END C=0.01, fit_intercept=True, max_iter=50, penalty=l2, solver=saga; total time=   0.0s\n",
      "[CV] END C=0.01, fit_intercept=True, max_iter=50, penalty=l2, solver=saga; total time=   0.0s\n",
      "[CV] END C=0.01, fit_intercept=True, max_iter=50, penalty=l2, solver=saga; total time=   0.0s\n",
      "[CV] END C=0.01, fit_intercept=True, max_iter=100, penalty=l1, solver=newton-cg; total time=   0.0s\n",
      "[CV] END C=0.01, fit_intercept=True, max_iter=100, penalty=l1, solver=newton-cg; total time=   0.0s\n",
      "[CV] END C=0.01, fit_intercept=True, max_iter=100, penalty=l1, solver=newton-cg; total time=   0.0s\n",
      "[CV] END C=0.01, fit_intercept=True, max_iter=100, penalty=l1, solver=newton-cg; total time=   0.0s\n",
      "[CV] END C=0.01, fit_intercept=True, max_iter=100, penalty=l1, solver=newton-cg; total time=   0.0s\n",
      "[CV] END C=0.01, fit_intercept=True, max_iter=100, penalty=l1, solver=lbfgs; total time=   0.0s\n",
      "[CV] END C=0.01, fit_intercept=True, max_iter=100, penalty=l1, solver=lbfgs; total time=   0.0s\n",
      "[CV] END C=0.01, fit_intercept=True, max_iter=100, penalty=l1, solver=lbfgs; total time=   0.0s\n",
      "[CV] END C=0.01, fit_intercept=True, max_iter=100, penalty=l1, solver=lbfgs; total time=   0.0s\n",
      "[CV] END C=0.01, fit_intercept=True, max_iter=100, penalty=l1, solver=lbfgs; total time=   0.0s\n",
      "[CV] END C=0.01, fit_intercept=True, max_iter=100, penalty=l1, solver=liblinear; total time=   0.0s\n"
     ]
    },
    {
     "name": "stderr",
     "output_type": "stream",
     "text": [
      "c:\\Users\\martj\\miniconda3\\envs\\py38\\lib\\site-packages\\sklearn\\linear_model\\_sag.py:350: ConvergenceWarning: The max_iter was reached which means the coef_ did not converge\n",
      "  warnings.warn(\n",
      "c:\\Users\\martj\\miniconda3\\envs\\py38\\lib\\site-packages\\sklearn\\linear_model\\_sag.py:350: ConvergenceWarning: The max_iter was reached which means the coef_ did not converge\n",
      "  warnings.warn(\n",
      "c:\\Users\\martj\\miniconda3\\envs\\py38\\lib\\site-packages\\sklearn\\linear_model\\_sag.py:350: ConvergenceWarning: The max_iter was reached which means the coef_ did not converge\n",
      "  warnings.warn(\n",
      "c:\\Users\\martj\\miniconda3\\envs\\py38\\lib\\site-packages\\sklearn\\linear_model\\_sag.py:350: ConvergenceWarning: The max_iter was reached which means the coef_ did not converge\n",
      "  warnings.warn(\n",
      "c:\\Users\\martj\\miniconda3\\envs\\py38\\lib\\site-packages\\sklearn\\linear_model\\_sag.py:350: ConvergenceWarning: The max_iter was reached which means the coef_ did not converge\n",
      "  warnings.warn(\n",
      "c:\\Users\\martj\\miniconda3\\envs\\py38\\lib\\site-packages\\sklearn\\linear_model\\_sag.py:350: ConvergenceWarning: The max_iter was reached which means the coef_ did not converge\n",
      "  warnings.warn(\n",
      "c:\\Users\\martj\\miniconda3\\envs\\py38\\lib\\site-packages\\sklearn\\linear_model\\_sag.py:350: ConvergenceWarning: The max_iter was reached which means the coef_ did not converge\n",
      "  warnings.warn(\n"
     ]
    },
    {
     "name": "stdout",
     "output_type": "stream",
     "text": [
      "[CV] END C=0.01, fit_intercept=True, max_iter=100, penalty=l1, solver=liblinear; total time=   0.0s\n",
      "[CV] END C=0.01, fit_intercept=True, max_iter=100, penalty=l1, solver=liblinear; total time=   0.0s\n",
      "[CV] END C=0.01, fit_intercept=True, max_iter=100, penalty=l1, solver=liblinear; total time=   0.0s\n",
      "[CV] END C=0.01, fit_intercept=True, max_iter=100, penalty=l1, solver=liblinear; total time=   0.0s\n",
      "[CV] END C=0.01, fit_intercept=True, max_iter=100, penalty=l1, solver=sag; total time=   0.0s\n",
      "[CV] END C=0.01, fit_intercept=True, max_iter=100, penalty=l1, solver=sag; total time=   0.0s\n",
      "[CV] END C=0.01, fit_intercept=True, max_iter=100, penalty=l1, solver=sag; total time=   0.0s\n",
      "[CV] END C=0.01, fit_intercept=True, max_iter=100, penalty=l1, solver=sag; total time=   0.0s\n",
      "[CV] END C=0.01, fit_intercept=True, max_iter=100, penalty=l1, solver=sag; total time=   0.0s\n",
      "[CV] END C=0.01, fit_intercept=True, max_iter=100, penalty=l1, solver=saga; total time=   0.0s\n",
      "[CV] END C=0.01, fit_intercept=True, max_iter=100, penalty=l1, solver=saga; total time=   0.0s\n",
      "[CV] END C=0.01, fit_intercept=True, max_iter=100, penalty=l1, solver=saga; total time=   0.0s\n",
      "[CV] END C=0.01, fit_intercept=True, max_iter=100, penalty=l1, solver=saga; total time=   0.0s\n",
      "[CV] END C=0.01, fit_intercept=True, max_iter=100, penalty=l1, solver=saga; total time=   0.0s\n",
      "[CV] END C=0.01, fit_intercept=True, max_iter=100, penalty=l2, solver=newton-cg; total time=   0.0s\n",
      "[CV] END C=0.01, fit_intercept=True, max_iter=100, penalty=l2, solver=newton-cg; total time=   0.0s\n",
      "[CV] END C=0.01, fit_intercept=True, max_iter=100, penalty=l2, solver=newton-cg; total time=   0.0s\n",
      "[CV] END C=0.01, fit_intercept=True, max_iter=100, penalty=l2, solver=newton-cg; total time=   0.0s\n",
      "[CV] END C=0.01, fit_intercept=True, max_iter=100, penalty=l2, solver=newton-cg; total time=   0.0s\n",
      "[CV] END C=0.01, fit_intercept=True, max_iter=100, penalty=l2, solver=lbfgs; total time=   0.0s\n",
      "[CV] END C=0.01, fit_intercept=True, max_iter=100, penalty=l2, solver=lbfgs; total time=   0.0s\n",
      "[CV] END C=0.01, fit_intercept=True, max_iter=100, penalty=l2, solver=lbfgs; total time=   0.0s\n",
      "[CV] END C=0.01, fit_intercept=True, max_iter=100, penalty=l2, solver=lbfgs; total time=   0.0s\n",
      "[CV] END C=0.01, fit_intercept=True, max_iter=100, penalty=l2, solver=lbfgs; total time=   0.0s\n",
      "[CV] END C=0.01, fit_intercept=True, max_iter=100, penalty=l2, solver=liblinear; total time=   0.0s\n",
      "[CV] END C=0.01, fit_intercept=True, max_iter=100, penalty=l2, solver=liblinear; total time=   0.0s\n",
      "[CV] END C=0.01, fit_intercept=True, max_iter=100, penalty=l2, solver=liblinear; total time=   0.0s\n",
      "[CV] END C=0.01, fit_intercept=True, max_iter=100, penalty=l2, solver=liblinear; total time=   0.0s\n",
      "[CV] END C=0.01, fit_intercept=True, max_iter=100, penalty=l2, solver=liblinear; total time=   0.0s\n",
      "[CV] END C=0.01, fit_intercept=True, max_iter=100, penalty=l2, solver=sag; total time=   0.0s\n",
      "[CV] END C=0.01, fit_intercept=True, max_iter=100, penalty=l2, solver=sag; total time=   0.0s\n",
      "[CV] END C=0.01, fit_intercept=True, max_iter=100, penalty=l2, solver=sag; total time=   0.0s\n",
      "[CV] END C=0.01, fit_intercept=True, max_iter=100, penalty=l2, solver=sag; total time=   0.0s\n",
      "[CV] END C=0.01, fit_intercept=True, max_iter=100, penalty=l2, solver=sag; total time=   0.0s\n",
      "[CV] END C=0.01, fit_intercept=True, max_iter=100, penalty=l2, solver=saga; total time=   0.0s\n",
      "[CV] END C=0.01, fit_intercept=True, max_iter=100, penalty=l2, solver=saga; total time=   0.0s\n"
     ]
    },
    {
     "name": "stderr",
     "output_type": "stream",
     "text": [
      "c:\\Users\\martj\\miniconda3\\envs\\py38\\lib\\site-packages\\sklearn\\linear_model\\_sag.py:350: ConvergenceWarning: The max_iter was reached which means the coef_ did not converge\n",
      "  warnings.warn(\n",
      "c:\\Users\\martj\\miniconda3\\envs\\py38\\lib\\site-packages\\sklearn\\linear_model\\_sag.py:350: ConvergenceWarning: The max_iter was reached which means the coef_ did not converge\n",
      "  warnings.warn(\n",
      "c:\\Users\\martj\\miniconda3\\envs\\py38\\lib\\site-packages\\sklearn\\linear_model\\_sag.py:350: ConvergenceWarning: The max_iter was reached which means the coef_ did not converge\n",
      "  warnings.warn(\n",
      "c:\\Users\\martj\\miniconda3\\envs\\py38\\lib\\site-packages\\sklearn\\linear_model\\_sag.py:350: ConvergenceWarning: The max_iter was reached which means the coef_ did not converge\n",
      "  warnings.warn(\n",
      "c:\\Users\\martj\\miniconda3\\envs\\py38\\lib\\site-packages\\sklearn\\linear_model\\_sag.py:350: ConvergenceWarning: The max_iter was reached which means the coef_ did not converge\n",
      "  warnings.warn(\n",
      "c:\\Users\\martj\\miniconda3\\envs\\py38\\lib\\site-packages\\sklearn\\linear_model\\_sag.py:350: ConvergenceWarning: The max_iter was reached which means the coef_ did not converge\n",
      "  warnings.warn(\n",
      "c:\\Users\\martj\\miniconda3\\envs\\py38\\lib\\site-packages\\sklearn\\linear_model\\_sag.py:350: ConvergenceWarning: The max_iter was reached which means the coef_ did not converge\n",
      "  warnings.warn(\n",
      "c:\\Users\\martj\\miniconda3\\envs\\py38\\lib\\site-packages\\sklearn\\linear_model\\_sag.py:350: ConvergenceWarning: The max_iter was reached which means the coef_ did not converge\n",
      "  warnings.warn(\n",
      "c:\\Users\\martj\\miniconda3\\envs\\py38\\lib\\site-packages\\sklearn\\linear_model\\_sag.py:350: ConvergenceWarning: The max_iter was reached which means the coef_ did not converge\n",
      "  warnings.warn(\n"
     ]
    },
    {
     "name": "stdout",
     "output_type": "stream",
     "text": [
      "[CV] END C=0.01, fit_intercept=True, max_iter=100, penalty=l2, solver=saga; total time=   0.0s\n",
      "[CV] END C=0.01, fit_intercept=True, max_iter=100, penalty=l2, solver=saga; total time=   0.0s\n",
      "[CV] END C=0.01, fit_intercept=True, max_iter=100, penalty=l2, solver=saga; total time=   0.0s\n",
      "[CV] END C=0.01, fit_intercept=True, max_iter=200, penalty=l1, solver=newton-cg; total time=   0.0s\n",
      "[CV] END C=0.01, fit_intercept=True, max_iter=200, penalty=l1, solver=newton-cg; total time=   0.0s\n",
      "[CV] END C=0.01, fit_intercept=True, max_iter=200, penalty=l1, solver=newton-cg; total time=   0.0s\n",
      "[CV] END C=0.01, fit_intercept=True, max_iter=200, penalty=l1, solver=newton-cg; total time=   0.0s\n",
      "[CV] END C=0.01, fit_intercept=True, max_iter=200, penalty=l1, solver=newton-cg; total time=   0.0s\n",
      "[CV] END C=0.01, fit_intercept=True, max_iter=200, penalty=l1, solver=lbfgs; total time=   0.0s\n",
      "[CV] END C=0.01, fit_intercept=True, max_iter=200, penalty=l1, solver=lbfgs; total time=   0.0s\n",
      "[CV] END C=0.01, fit_intercept=True, max_iter=200, penalty=l1, solver=lbfgs; total time=   0.0s\n",
      "[CV] END C=0.01, fit_intercept=True, max_iter=200, penalty=l1, solver=lbfgs; total time=   0.0s\n",
      "[CV] END C=0.01, fit_intercept=True, max_iter=200, penalty=l1, solver=lbfgs; total time=   0.0s\n",
      "[CV] END C=0.01, fit_intercept=True, max_iter=200, penalty=l1, solver=liblinear; total time=   0.0s\n",
      "[CV] END C=0.01, fit_intercept=True, max_iter=200, penalty=l1, solver=liblinear; total time=   0.0s\n",
      "[CV] END C=0.01, fit_intercept=True, max_iter=200, penalty=l1, solver=liblinear; total time=   0.0s\n",
      "[CV] END C=0.01, fit_intercept=True, max_iter=200, penalty=l1, solver=liblinear; total time=   0.0s\n",
      "[CV] END C=0.01, fit_intercept=True, max_iter=200, penalty=l1, solver=liblinear; total time=   0.0s\n",
      "[CV] END C=0.01, fit_intercept=True, max_iter=200, penalty=l1, solver=sag; total time=   0.0s\n",
      "[CV] END C=0.01, fit_intercept=True, max_iter=200, penalty=l1, solver=sag; total time=   0.0s\n",
      "[CV] END C=0.01, fit_intercept=True, max_iter=200, penalty=l1, solver=sag; total time=   0.0s\n",
      "[CV] END C=0.01, fit_intercept=True, max_iter=200, penalty=l1, solver=sag; total time=   0.0s\n",
      "[CV] END C=0.01, fit_intercept=True, max_iter=200, penalty=l1, solver=sag; total time=   0.0s\n",
      "[CV] END C=0.01, fit_intercept=True, max_iter=200, penalty=l1, solver=saga; total time=   0.0s\n"
     ]
    },
    {
     "name": "stderr",
     "output_type": "stream",
     "text": [
      "c:\\Users\\martj\\miniconda3\\envs\\py38\\lib\\site-packages\\sklearn\\linear_model\\_sag.py:350: ConvergenceWarning: The max_iter was reached which means the coef_ did not converge\n",
      "  warnings.warn(\n",
      "c:\\Users\\martj\\miniconda3\\envs\\py38\\lib\\site-packages\\sklearn\\linear_model\\_sag.py:350: ConvergenceWarning: The max_iter was reached which means the coef_ did not converge\n",
      "  warnings.warn(\n",
      "c:\\Users\\martj\\miniconda3\\envs\\py38\\lib\\site-packages\\sklearn\\linear_model\\_sag.py:350: ConvergenceWarning: The max_iter was reached which means the coef_ did not converge\n",
      "  warnings.warn(\n"
     ]
    },
    {
     "name": "stdout",
     "output_type": "stream",
     "text": [
      "[CV] END C=0.01, fit_intercept=True, max_iter=200, penalty=l1, solver=saga; total time=   0.0s\n",
      "[CV] END C=0.01, fit_intercept=True, max_iter=200, penalty=l1, solver=saga; total time=   0.0s\n",
      "[CV] END C=0.01, fit_intercept=True, max_iter=200, penalty=l1, solver=saga; total time=   0.0s\n",
      "[CV] END C=0.01, fit_intercept=True, max_iter=200, penalty=l1, solver=saga; total time=   0.0s\n",
      "[CV] END C=0.01, fit_intercept=True, max_iter=200, penalty=l2, solver=newton-cg; total time=   0.0s\n",
      "[CV] END C=0.01, fit_intercept=True, max_iter=200, penalty=l2, solver=newton-cg; total time=   0.0s\n",
      "[CV] END C=0.01, fit_intercept=True, max_iter=200, penalty=l2, solver=newton-cg; total time=   0.0s\n",
      "[CV] END C=0.01, fit_intercept=True, max_iter=200, penalty=l2, solver=newton-cg; total time=   0.0s\n",
      "[CV] END C=0.01, fit_intercept=True, max_iter=200, penalty=l2, solver=newton-cg; total time=   0.0s\n",
      "[CV] END C=0.01, fit_intercept=True, max_iter=200, penalty=l2, solver=lbfgs; total time=   0.0s\n",
      "[CV] END C=0.01, fit_intercept=True, max_iter=200, penalty=l2, solver=lbfgs; total time=   0.0s\n",
      "[CV] END C=0.01, fit_intercept=True, max_iter=200, penalty=l2, solver=lbfgs; total time=   0.0s\n",
      "[CV] END C=0.01, fit_intercept=True, max_iter=200, penalty=l2, solver=lbfgs; total time=   0.0s\n",
      "[CV] END C=0.01, fit_intercept=True, max_iter=200, penalty=l2, solver=lbfgs; total time=   0.0s\n",
      "[CV] END C=0.01, fit_intercept=True, max_iter=200, penalty=l2, solver=liblinear; total time=   0.0s\n",
      "[CV] END C=0.01, fit_intercept=True, max_iter=200, penalty=l2, solver=liblinear; total time=   0.0s\n",
      "[CV] END C=0.01, fit_intercept=True, max_iter=200, penalty=l2, solver=liblinear; total time=   0.0s\n",
      "[CV] END C=0.01, fit_intercept=True, max_iter=200, penalty=l2, solver=liblinear; total time=   0.0s\n",
      "[CV] END C=0.01, fit_intercept=True, max_iter=200, penalty=l2, solver=liblinear; total time=   0.0s\n",
      "[CV] END C=0.01, fit_intercept=True, max_iter=200, penalty=l2, solver=sag; total time=   0.0s\n"
     ]
    },
    {
     "name": "stderr",
     "output_type": "stream",
     "text": [
      "c:\\Users\\martj\\miniconda3\\envs\\py38\\lib\\site-packages\\sklearn\\linear_model\\_sag.py:350: ConvergenceWarning: The max_iter was reached which means the coef_ did not converge\n",
      "  warnings.warn(\n",
      "c:\\Users\\martj\\miniconda3\\envs\\py38\\lib\\site-packages\\sklearn\\linear_model\\_sag.py:350: ConvergenceWarning: The max_iter was reached which means the coef_ did not converge\n",
      "  warnings.warn(\n",
      "c:\\Users\\martj\\miniconda3\\envs\\py38\\lib\\site-packages\\sklearn\\linear_model\\_sag.py:350: ConvergenceWarning: The max_iter was reached which means the coef_ did not converge\n",
      "  warnings.warn(\n",
      "c:\\Users\\martj\\miniconda3\\envs\\py38\\lib\\site-packages\\sklearn\\linear_model\\_sag.py:350: ConvergenceWarning: The max_iter was reached which means the coef_ did not converge\n",
      "  warnings.warn(\n",
      "c:\\Users\\martj\\miniconda3\\envs\\py38\\lib\\site-packages\\sklearn\\linear_model\\_sag.py:350: ConvergenceWarning: The max_iter was reached which means the coef_ did not converge\n",
      "  warnings.warn(\n",
      "c:\\Users\\martj\\miniconda3\\envs\\py38\\lib\\site-packages\\sklearn\\linear_model\\_sag.py:350: ConvergenceWarning: The max_iter was reached which means the coef_ did not converge\n",
      "  warnings.warn(\n"
     ]
    },
    {
     "name": "stdout",
     "output_type": "stream",
     "text": [
      "[CV] END C=0.01, fit_intercept=True, max_iter=200, penalty=l2, solver=sag; total time=   0.0s\n",
      "[CV] END C=0.01, fit_intercept=True, max_iter=200, penalty=l2, solver=sag; total time=   0.0s\n",
      "[CV] END C=0.01, fit_intercept=True, max_iter=200, penalty=l2, solver=sag; total time=   0.0s\n",
      "[CV] END C=0.01, fit_intercept=True, max_iter=200, penalty=l2, solver=sag; total time=   0.0s\n",
      "[CV] END C=0.01, fit_intercept=True, max_iter=200, penalty=l2, solver=saga; total time=   0.0s\n"
     ]
    },
    {
     "name": "stderr",
     "output_type": "stream",
     "text": [
      "c:\\Users\\martj\\miniconda3\\envs\\py38\\lib\\site-packages\\sklearn\\linear_model\\_sag.py:350: ConvergenceWarning: The max_iter was reached which means the coef_ did not converge\n",
      "  warnings.warn(\n",
      "c:\\Users\\martj\\miniconda3\\envs\\py38\\lib\\site-packages\\sklearn\\linear_model\\_sag.py:350: ConvergenceWarning: The max_iter was reached which means the coef_ did not converge\n",
      "  warnings.warn(\n",
      "c:\\Users\\martj\\miniconda3\\envs\\py38\\lib\\site-packages\\sklearn\\linear_model\\_sag.py:350: ConvergenceWarning: The max_iter was reached which means the coef_ did not converge\n",
      "  warnings.warn(\n",
      "c:\\Users\\martj\\miniconda3\\envs\\py38\\lib\\site-packages\\sklearn\\linear_model\\_sag.py:350: ConvergenceWarning: The max_iter was reached which means the coef_ did not converge\n",
      "  warnings.warn(\n"
     ]
    },
    {
     "name": "stdout",
     "output_type": "stream",
     "text": [
      "[CV] END C=0.01, fit_intercept=True, max_iter=200, penalty=l2, solver=saga; total time=   0.0s\n",
      "[CV] END C=0.01, fit_intercept=True, max_iter=200, penalty=l2, solver=saga; total time=   0.0s\n",
      "[CV] END C=0.01, fit_intercept=True, max_iter=200, penalty=l2, solver=saga; total time=   0.0s\n",
      "[CV] END C=0.01, fit_intercept=True, max_iter=200, penalty=l2, solver=saga; total time=   0.0s\n",
      "[CV] END C=0.01, fit_intercept=True, max_iter=500, penalty=l1, solver=newton-cg; total time=   0.0s\n",
      "[CV] END C=0.01, fit_intercept=True, max_iter=500, penalty=l1, solver=newton-cg; total time=   0.0s\n",
      "[CV] END C=0.01, fit_intercept=True, max_iter=500, penalty=l1, solver=newton-cg; total time=   0.0s\n",
      "[CV] END C=0.01, fit_intercept=True, max_iter=500, penalty=l1, solver=newton-cg; total time=   0.0s\n",
      "[CV] END C=0.01, fit_intercept=True, max_iter=500, penalty=l1, solver=newton-cg; total time=   0.0s\n",
      "[CV] END C=0.01, fit_intercept=True, max_iter=500, penalty=l1, solver=lbfgs; total time=   0.0s\n",
      "[CV] END C=0.01, fit_intercept=True, max_iter=500, penalty=l1, solver=lbfgs; total time=   0.0s\n",
      "[CV] END C=0.01, fit_intercept=True, max_iter=500, penalty=l1, solver=lbfgs; total time=   0.0s\n",
      "[CV] END C=0.01, fit_intercept=True, max_iter=500, penalty=l1, solver=lbfgs; total time=   0.0s\n",
      "[CV] END C=0.01, fit_intercept=True, max_iter=500, penalty=l1, solver=lbfgs; total time=   0.0s\n",
      "[CV] END C=0.01, fit_intercept=True, max_iter=500, penalty=l1, solver=liblinear; total time=   0.0s\n",
      "[CV] END C=0.01, fit_intercept=True, max_iter=500, penalty=l1, solver=liblinear; total time=   0.0s\n",
      "[CV] END C=0.01, fit_intercept=True, max_iter=500, penalty=l1, solver=liblinear; total time=   0.0s\n",
      "[CV] END C=0.01, fit_intercept=True, max_iter=500, penalty=l1, solver=liblinear; total time=   0.0s\n",
      "[CV] END C=0.01, fit_intercept=True, max_iter=500, penalty=l1, solver=liblinear; total time=   0.0s\n",
      "[CV] END C=0.01, fit_intercept=True, max_iter=500, penalty=l1, solver=sag; total time=   0.0s\n",
      "[CV] END C=0.01, fit_intercept=True, max_iter=500, penalty=l1, solver=sag; total time=   0.0s\n",
      "[CV] END C=0.01, fit_intercept=True, max_iter=500, penalty=l1, solver=sag; total time=   0.0s\n",
      "[CV] END C=0.01, fit_intercept=True, max_iter=500, penalty=l1, solver=sag; total time=   0.0s\n",
      "[CV] END C=0.01, fit_intercept=True, max_iter=500, penalty=l1, solver=sag; total time=   0.0s\n",
      "[CV] END C=0.01, fit_intercept=True, max_iter=500, penalty=l1, solver=saga; total time=   0.0s\n"
     ]
    },
    {
     "name": "stderr",
     "output_type": "stream",
     "text": [
      "c:\\Users\\martj\\miniconda3\\envs\\py38\\lib\\site-packages\\sklearn\\linear_model\\_sag.py:350: ConvergenceWarning: The max_iter was reached which means the coef_ did not converge\n",
      "  warnings.warn(\n"
     ]
    },
    {
     "name": "stdout",
     "output_type": "stream",
     "text": [
      "[CV] END C=0.01, fit_intercept=True, max_iter=500, penalty=l1, solver=saga; total time=   0.0s\n",
      "[CV] END C=0.01, fit_intercept=True, max_iter=500, penalty=l1, solver=saga; total time=   0.0s\n",
      "[CV] END C=0.01, fit_intercept=True, max_iter=500, penalty=l1, solver=saga; total time=   0.0s\n",
      "[CV] END C=0.01, fit_intercept=True, max_iter=500, penalty=l1, solver=saga; total time=   0.0s\n",
      "[CV] END C=0.01, fit_intercept=True, max_iter=500, penalty=l2, solver=newton-cg; total time=   0.0s\n",
      "[CV] END C=0.01, fit_intercept=True, max_iter=500, penalty=l2, solver=newton-cg; total time=   0.0s\n",
      "[CV] END C=0.01, fit_intercept=True, max_iter=500, penalty=l2, solver=newton-cg; total time=   0.0s\n",
      "[CV] END C=0.01, fit_intercept=True, max_iter=500, penalty=l2, solver=newton-cg; total time=   0.0s\n",
      "[CV] END C=0.01, fit_intercept=True, max_iter=500, penalty=l2, solver=newton-cg; total time=   0.0s\n",
      "[CV] END C=0.01, fit_intercept=True, max_iter=500, penalty=l2, solver=lbfgs; total time=   0.0s\n",
      "[CV] END C=0.01, fit_intercept=True, max_iter=500, penalty=l2, solver=lbfgs; total time=   0.0s\n",
      "[CV] END C=0.01, fit_intercept=True, max_iter=500, penalty=l2, solver=lbfgs; total time=   0.0s\n",
      "[CV] END C=0.01, fit_intercept=True, max_iter=500, penalty=l2, solver=lbfgs; total time=   0.0s\n",
      "[CV] END C=0.01, fit_intercept=True, max_iter=500, penalty=l2, solver=lbfgs; total time=   0.0s\n",
      "[CV] END C=0.01, fit_intercept=True, max_iter=500, penalty=l2, solver=liblinear; total time=   0.0s\n",
      "[CV] END C=0.01, fit_intercept=True, max_iter=500, penalty=l2, solver=liblinear; total time=   0.0s\n",
      "[CV] END C=0.01, fit_intercept=True, max_iter=500, penalty=l2, solver=liblinear; total time=   0.0s\n",
      "[CV] END C=0.01, fit_intercept=True, max_iter=500, penalty=l2, solver=liblinear; total time=   0.0s\n",
      "[CV] END C=0.01, fit_intercept=True, max_iter=500, penalty=l2, solver=liblinear; total time=   0.0s\n"
     ]
    },
    {
     "name": "stderr",
     "output_type": "stream",
     "text": [
      "c:\\Users\\martj\\miniconda3\\envs\\py38\\lib\\site-packages\\sklearn\\linear_model\\_sag.py:350: ConvergenceWarning: The max_iter was reached which means the coef_ did not converge\n",
      "  warnings.warn(\n",
      "c:\\Users\\martj\\miniconda3\\envs\\py38\\lib\\site-packages\\sklearn\\linear_model\\_sag.py:350: ConvergenceWarning: The max_iter was reached which means the coef_ did not converge\n",
      "  warnings.warn(\n",
      "c:\\Users\\martj\\miniconda3\\envs\\py38\\lib\\site-packages\\sklearn\\linear_model\\_sag.py:350: ConvergenceWarning: The max_iter was reached which means the coef_ did not converge\n",
      "  warnings.warn(\n"
     ]
    },
    {
     "name": "stdout",
     "output_type": "stream",
     "text": [
      "[CV] END C=0.01, fit_intercept=True, max_iter=500, penalty=l2, solver=sag; total time=   0.0s\n",
      "[CV] END C=0.01, fit_intercept=True, max_iter=500, penalty=l2, solver=sag; total time=   0.0s\n",
      "[CV] END C=0.01, fit_intercept=True, max_iter=500, penalty=l2, solver=sag; total time=   0.0s\n"
     ]
    },
    {
     "name": "stderr",
     "output_type": "stream",
     "text": [
      "c:\\Users\\martj\\miniconda3\\envs\\py38\\lib\\site-packages\\sklearn\\linear_model\\_sag.py:350: ConvergenceWarning: The max_iter was reached which means the coef_ did not converge\n",
      "  warnings.warn(\n",
      "c:\\Users\\martj\\miniconda3\\envs\\py38\\lib\\site-packages\\sklearn\\linear_model\\_sag.py:350: ConvergenceWarning: The max_iter was reached which means the coef_ did not converge\n",
      "  warnings.warn(\n",
      "c:\\Users\\martj\\miniconda3\\envs\\py38\\lib\\site-packages\\sklearn\\linear_model\\_sag.py:350: ConvergenceWarning: The max_iter was reached which means the coef_ did not converge\n",
      "  warnings.warn(\n"
     ]
    },
    {
     "name": "stdout",
     "output_type": "stream",
     "text": [
      "[CV] END C=0.01, fit_intercept=True, max_iter=500, penalty=l2, solver=sag; total time=   0.0s\n",
      "[CV] END C=0.01, fit_intercept=True, max_iter=500, penalty=l2, solver=sag; total time=   0.0s\n",
      "[CV] END C=0.01, fit_intercept=True, max_iter=500, penalty=l2, solver=saga; total time=   0.0s\n"
     ]
    },
    {
     "name": "stderr",
     "output_type": "stream",
     "text": [
      "c:\\Users\\martj\\miniconda3\\envs\\py38\\lib\\site-packages\\sklearn\\linear_model\\_sag.py:350: ConvergenceWarning: The max_iter was reached which means the coef_ did not converge\n",
      "  warnings.warn(\n",
      "c:\\Users\\martj\\miniconda3\\envs\\py38\\lib\\site-packages\\sklearn\\linear_model\\_sag.py:350: ConvergenceWarning: The max_iter was reached which means the coef_ did not converge\n",
      "  warnings.warn(\n",
      "c:\\Users\\martj\\miniconda3\\envs\\py38\\lib\\site-packages\\sklearn\\linear_model\\_sag.py:350: ConvergenceWarning: The max_iter was reached which means the coef_ did not converge\n",
      "  warnings.warn(\n"
     ]
    },
    {
     "name": "stdout",
     "output_type": "stream",
     "text": [
      "[CV] END C=0.01, fit_intercept=True, max_iter=500, penalty=l2, solver=saga; total time=   0.0s\n",
      "[CV] END C=0.01, fit_intercept=True, max_iter=500, penalty=l2, solver=saga; total time=   0.0s\n",
      "[CV] END C=0.01, fit_intercept=True, max_iter=500, penalty=l2, solver=saga; total time=   0.0s\n"
     ]
    },
    {
     "name": "stderr",
     "output_type": "stream",
     "text": [
      "c:\\Users\\martj\\miniconda3\\envs\\py38\\lib\\site-packages\\sklearn\\linear_model\\_sag.py:350: ConvergenceWarning: The max_iter was reached which means the coef_ did not converge\n",
      "  warnings.warn(\n",
      "c:\\Users\\martj\\miniconda3\\envs\\py38\\lib\\site-packages\\sklearn\\linear_model\\_sag.py:350: ConvergenceWarning: The max_iter was reached which means the coef_ did not converge\n",
      "  warnings.warn(\n",
      "c:\\Users\\martj\\miniconda3\\envs\\py38\\lib\\site-packages\\sklearn\\linear_model\\_sag.py:350: ConvergenceWarning: The max_iter was reached which means the coef_ did not converge\n",
      "  warnings.warn(\n",
      "c:\\Users\\martj\\miniconda3\\envs\\py38\\lib\\site-packages\\sklearn\\linear_model\\_sag.py:350: ConvergenceWarning: The max_iter was reached which means the coef_ did not converge\n",
      "  warnings.warn(\n"
     ]
    },
    {
     "name": "stdout",
     "output_type": "stream",
     "text": [
      "[CV] END C=0.01, fit_intercept=True, max_iter=500, penalty=l2, solver=saga; total time=   0.0s\n",
      "[CV] END C=0.01, fit_intercept=False, max_iter=50, penalty=l1, solver=newton-cg; total time=   0.0s\n",
      "[CV] END C=0.01, fit_intercept=False, max_iter=50, penalty=l1, solver=newton-cg; total time=   0.0s\n",
      "[CV] END C=0.01, fit_intercept=False, max_iter=50, penalty=l1, solver=newton-cg; total time=   0.0s\n",
      "[CV] END C=0.01, fit_intercept=False, max_iter=50, penalty=l1, solver=newton-cg; total time=   0.0s\n",
      "[CV] END C=0.01, fit_intercept=False, max_iter=50, penalty=l1, solver=newton-cg; total time=   0.0s\n",
      "[CV] END C=0.01, fit_intercept=False, max_iter=50, penalty=l1, solver=lbfgs; total time=   0.0s\n",
      "[CV] END C=0.01, fit_intercept=False, max_iter=50, penalty=l1, solver=lbfgs; total time=   0.0s\n",
      "[CV] END C=0.01, fit_intercept=False, max_iter=50, penalty=l1, solver=lbfgs; total time=   0.0s\n",
      "[CV] END C=0.01, fit_intercept=False, max_iter=50, penalty=l1, solver=lbfgs; total time=   0.0s\n",
      "[CV] END C=0.01, fit_intercept=False, max_iter=50, penalty=l1, solver=lbfgs; total time=   0.0s\n",
      "[CV] END C=0.01, fit_intercept=False, max_iter=50, penalty=l1, solver=liblinear; total time=   0.0s\n",
      "[CV] END C=0.01, fit_intercept=False, max_iter=50, penalty=l1, solver=liblinear; total time=   0.0s\n",
      "[CV] END C=0.01, fit_intercept=False, max_iter=50, penalty=l1, solver=liblinear; total time=   0.0s\n",
      "[CV] END C=0.01, fit_intercept=False, max_iter=50, penalty=l1, solver=liblinear; total time=   0.0s\n",
      "[CV] END C=0.01, fit_intercept=False, max_iter=50, penalty=l1, solver=liblinear; total time=   0.0s\n",
      "[CV] END C=0.01, fit_intercept=False, max_iter=50, penalty=l1, solver=sag; total time=   0.0s\n",
      "[CV] END C=0.01, fit_intercept=False, max_iter=50, penalty=l1, solver=sag; total time=   0.0s\n",
      "[CV] END C=0.01, fit_intercept=False, max_iter=50, penalty=l1, solver=sag; total time=   0.0s\n",
      "[CV] END C=0.01, fit_intercept=False, max_iter=50, penalty=l1, solver=sag; total time=   0.0s\n",
      "[CV] END C=0.01, fit_intercept=False, max_iter=50, penalty=l1, solver=sag; total time=   0.0s\n",
      "[CV] END C=0.01, fit_intercept=False, max_iter=50, penalty=l1, solver=saga; total time=   0.0s\n",
      "[CV] END C=0.01, fit_intercept=False, max_iter=50, penalty=l1, solver=saga; total time=   0.0s\n",
      "[CV] END C=0.01, fit_intercept=False, max_iter=50, penalty=l1, solver=saga; total time=   0.0s\n",
      "[CV] END C=0.01, fit_intercept=False, max_iter=50, penalty=l1, solver=saga; total time=   0.0s\n",
      "[CV] END C=0.01, fit_intercept=False, max_iter=50, penalty=l1, solver=saga; total time=   0.0s\n",
      "[CV] END C=0.01, fit_intercept=False, max_iter=50, penalty=l2, solver=newton-cg; total time=   0.0s\n",
      "[CV] END C=0.01, fit_intercept=False, max_iter=50, penalty=l2, solver=newton-cg; total time=   0.0s\n",
      "[CV] END C=0.01, fit_intercept=False, max_iter=50, penalty=l2, solver=newton-cg; total time=   0.0s\n",
      "[CV] END C=0.01, fit_intercept=False, max_iter=50, penalty=l2, solver=newton-cg; total time=   0.0s\n",
      "[CV] END C=0.01, fit_intercept=False, max_iter=50, penalty=l2, solver=newton-cg; total time=   0.0s\n",
      "[CV] END C=0.01, fit_intercept=False, max_iter=50, penalty=l2, solver=lbfgs; total time=   0.0s\n",
      "[CV] END C=0.01, fit_intercept=False, max_iter=50, penalty=l2, solver=lbfgs; total time=   0.0s\n",
      "[CV] END C=0.01, fit_intercept=False, max_iter=50, penalty=l2, solver=lbfgs; total time=   0.0s\n",
      "[CV] END C=0.01, fit_intercept=False, max_iter=50, penalty=l2, solver=lbfgs; total time=   0.0s\n",
      "[CV] END C=0.01, fit_intercept=False, max_iter=50, penalty=l2, solver=lbfgs; total time=   0.0s\n",
      "[CV] END C=0.01, fit_intercept=False, max_iter=50, penalty=l2, solver=liblinear; total time=   0.0s\n",
      "[CV] END C=0.01, fit_intercept=False, max_iter=50, penalty=l2, solver=liblinear; total time=   0.0s\n",
      "[CV] END C=0.01, fit_intercept=False, max_iter=50, penalty=l2, solver=liblinear; total time=   0.0s\n",
      "[CV] END C=0.01, fit_intercept=False, max_iter=50, penalty=l2, solver=liblinear; total time=   0.0s\n",
      "[CV] END C=0.01, fit_intercept=False, max_iter=50, penalty=l2, solver=liblinear; total time=   0.0s\n",
      "[CV] END C=0.01, fit_intercept=False, max_iter=50, penalty=l2, solver=sag; total time=   0.0s\n",
      "[CV] END C=0.01, fit_intercept=False, max_iter=50, penalty=l2, solver=sag; total time=   0.0s\n",
      "[CV] END C=0.01, fit_intercept=False, max_iter=50, penalty=l2, solver=sag; total time=   0.0s\n",
      "[CV] END C=0.01, fit_intercept=False, max_iter=50, penalty=l2, solver=sag; total time=   0.0s\n",
      "[CV] END C=0.01, fit_intercept=False, max_iter=50, penalty=l2, solver=sag; total time=   0.0s\n",
      "[CV] END C=0.01, fit_intercept=False, max_iter=50, penalty=l2, solver=saga; total time=   0.0s\n",
      "[CV] END C=0.01, fit_intercept=False, max_iter=50, penalty=l2, solver=saga; total time=   0.0s\n",
      "[CV] END C=0.01, fit_intercept=False, max_iter=50, penalty=l2, solver=saga; total time=   0.0s\n",
      "[CV] END C=0.01, fit_intercept=False, max_iter=50, penalty=l2, solver=saga; total time=   0.0s\n",
      "[CV] END C=0.01, fit_intercept=False, max_iter=50, penalty=l2, solver=saga; total time=   0.0s\n",
      "[CV] END C=0.01, fit_intercept=False, max_iter=100, penalty=l1, solver=newton-cg; total time=   0.0s\n",
      "[CV] END C=0.01, fit_intercept=False, max_iter=100, penalty=l1, solver=newton-cg; total time=   0.0s\n",
      "[CV] END C=0.01, fit_intercept=False, max_iter=100, penalty=l1, solver=newton-cg; total time=   0.0s\n",
      "[CV] END C=0.01, fit_intercept=False, max_iter=100, penalty=l1, solver=newton-cg; total time=   0.0s\n",
      "[CV] END C=0.01, fit_intercept=False, max_iter=100, penalty=l1, solver=newton-cg; total time=   0.0s\n",
      "[CV] END C=0.01, fit_intercept=False, max_iter=100, penalty=l1, solver=lbfgs; total time=   0.0s\n",
      "[CV] END C=0.01, fit_intercept=False, max_iter=100, penalty=l1, solver=lbfgs; total time=   0.0s\n"
     ]
    },
    {
     "name": "stderr",
     "output_type": "stream",
     "text": [
      "c:\\Users\\martj\\miniconda3\\envs\\py38\\lib\\site-packages\\sklearn\\linear_model\\_sag.py:350: ConvergenceWarning: The max_iter was reached which means the coef_ did not converge\n",
      "  warnings.warn(\n",
      "c:\\Users\\martj\\miniconda3\\envs\\py38\\lib\\site-packages\\sklearn\\linear_model\\_sag.py:350: ConvergenceWarning: The max_iter was reached which means the coef_ did not converge\n",
      "  warnings.warn(\n",
      "c:\\Users\\martj\\miniconda3\\envs\\py38\\lib\\site-packages\\sklearn\\linear_model\\_sag.py:350: ConvergenceWarning: The max_iter was reached which means the coef_ did not converge\n",
      "  warnings.warn(\n",
      "c:\\Users\\martj\\miniconda3\\envs\\py38\\lib\\site-packages\\sklearn\\linear_model\\_sag.py:350: ConvergenceWarning: The max_iter was reached which means the coef_ did not converge\n",
      "  warnings.warn(\n",
      "c:\\Users\\martj\\miniconda3\\envs\\py38\\lib\\site-packages\\sklearn\\linear_model\\_sag.py:350: ConvergenceWarning: The max_iter was reached which means the coef_ did not converge\n",
      "  warnings.warn(\n",
      "c:\\Users\\martj\\miniconda3\\envs\\py38\\lib\\site-packages\\sklearn\\linear_model\\_sag.py:350: ConvergenceWarning: The max_iter was reached which means the coef_ did not converge\n",
      "  warnings.warn(\n",
      "c:\\Users\\martj\\miniconda3\\envs\\py38\\lib\\site-packages\\sklearn\\linear_model\\_sag.py:350: ConvergenceWarning: The max_iter was reached which means the coef_ did not converge\n",
      "  warnings.warn(\n",
      "c:\\Users\\martj\\miniconda3\\envs\\py38\\lib\\site-packages\\sklearn\\linear_model\\_sag.py:350: ConvergenceWarning: The max_iter was reached which means the coef_ did not converge\n",
      "  warnings.warn(\n",
      "c:\\Users\\martj\\miniconda3\\envs\\py38\\lib\\site-packages\\sklearn\\linear_model\\_sag.py:350: ConvergenceWarning: The max_iter was reached which means the coef_ did not converge\n",
      "  warnings.warn(\n",
      "c:\\Users\\martj\\miniconda3\\envs\\py38\\lib\\site-packages\\sklearn\\linear_model\\_sag.py:350: ConvergenceWarning: The max_iter was reached which means the coef_ did not converge\n",
      "  warnings.warn(\n"
     ]
    },
    {
     "name": "stdout",
     "output_type": "stream",
     "text": [
      "[CV] END C=0.01, fit_intercept=False, max_iter=100, penalty=l1, solver=lbfgs; total time=   0.0s\n",
      "[CV] END C=0.01, fit_intercept=False, max_iter=100, penalty=l1, solver=lbfgs; total time=   0.0s\n",
      "[CV] END C=0.01, fit_intercept=False, max_iter=100, penalty=l1, solver=lbfgs; total time=   0.0s\n",
      "[CV] END C=0.01, fit_intercept=False, max_iter=100, penalty=l1, solver=liblinear; total time=   0.0s\n",
      "[CV] END C=0.01, fit_intercept=False, max_iter=100, penalty=l1, solver=liblinear; total time=   0.0s\n",
      "[CV] END C=0.01, fit_intercept=False, max_iter=100, penalty=l1, solver=liblinear; total time=   0.0s\n",
      "[CV] END C=0.01, fit_intercept=False, max_iter=100, penalty=l1, solver=liblinear; total time=   0.0s\n",
      "[CV] END C=0.01, fit_intercept=False, max_iter=100, penalty=l1, solver=liblinear; total time=   0.0s\n",
      "[CV] END C=0.01, fit_intercept=False, max_iter=100, penalty=l1, solver=sag; total time=   0.0s\n",
      "[CV] END C=0.01, fit_intercept=False, max_iter=100, penalty=l1, solver=sag; total time=   0.0s\n",
      "[CV] END C=0.01, fit_intercept=False, max_iter=100, penalty=l1, solver=sag; total time=   0.0s\n",
      "[CV] END C=0.01, fit_intercept=False, max_iter=100, penalty=l1, solver=sag; total time=   0.0s\n",
      "[CV] END C=0.01, fit_intercept=False, max_iter=100, penalty=l1, solver=sag; total time=   0.0s\n",
      "[CV] END C=0.01, fit_intercept=False, max_iter=100, penalty=l1, solver=saga; total time=   0.0s\n",
      "[CV] END C=0.01, fit_intercept=False, max_iter=100, penalty=l1, solver=saga; total time=   0.0s\n",
      "[CV] END C=0.01, fit_intercept=False, max_iter=100, penalty=l1, solver=saga; total time=   0.0s\n",
      "[CV] END C=0.01, fit_intercept=False, max_iter=100, penalty=l1, solver=saga; total time=   0.0s\n",
      "[CV] END C=0.01, fit_intercept=False, max_iter=100, penalty=l1, solver=saga; total time=   0.0s\n",
      "[CV] END C=0.01, fit_intercept=False, max_iter=100, penalty=l2, solver=newton-cg; total time=   0.0s\n"
     ]
    },
    {
     "name": "stderr",
     "output_type": "stream",
     "text": [
      "c:\\Users\\martj\\miniconda3\\envs\\py38\\lib\\site-packages\\sklearn\\linear_model\\_sag.py:350: ConvergenceWarning: The max_iter was reached which means the coef_ did not converge\n",
      "  warnings.warn(\n",
      "c:\\Users\\martj\\miniconda3\\envs\\py38\\lib\\site-packages\\sklearn\\linear_model\\_sag.py:350: ConvergenceWarning: The max_iter was reached which means the coef_ did not converge\n",
      "  warnings.warn(\n"
     ]
    },
    {
     "name": "stdout",
     "output_type": "stream",
     "text": [
      "[CV] END C=0.01, fit_intercept=False, max_iter=100, penalty=l2, solver=newton-cg; total time=   0.0s\n",
      "[CV] END C=0.01, fit_intercept=False, max_iter=100, penalty=l2, solver=newton-cg; total time=   0.0s\n",
      "[CV] END C=0.01, fit_intercept=False, max_iter=100, penalty=l2, solver=newton-cg; total time=   0.0s\n",
      "[CV] END C=0.01, fit_intercept=False, max_iter=100, penalty=l2, solver=newton-cg; total time=   0.0s\n",
      "[CV] END C=0.01, fit_intercept=False, max_iter=100, penalty=l2, solver=lbfgs; total time=   0.0s\n",
      "[CV] END C=0.01, fit_intercept=False, max_iter=100, penalty=l2, solver=lbfgs; total time=   0.0s\n",
      "[CV] END C=0.01, fit_intercept=False, max_iter=100, penalty=l2, solver=lbfgs; total time=   0.0s\n",
      "[CV] END C=0.01, fit_intercept=False, max_iter=100, penalty=l2, solver=lbfgs; total time=   0.0s\n",
      "[CV] END C=0.01, fit_intercept=False, max_iter=100, penalty=l2, solver=lbfgs; total time=   0.0s\n",
      "[CV] END C=0.01, fit_intercept=False, max_iter=100, penalty=l2, solver=liblinear; total time=   0.0s\n",
      "[CV] END C=0.01, fit_intercept=False, max_iter=100, penalty=l2, solver=liblinear; total time=   0.0s\n",
      "[CV] END C=0.01, fit_intercept=False, max_iter=100, penalty=l2, solver=liblinear; total time=   0.0s\n",
      "[CV] END C=0.01, fit_intercept=False, max_iter=100, penalty=l2, solver=liblinear; total time=   0.0s\n",
      "[CV] END C=0.01, fit_intercept=False, max_iter=100, penalty=l2, solver=liblinear; total time=   0.0s\n"
     ]
    },
    {
     "name": "stderr",
     "output_type": "stream",
     "text": [
      "c:\\Users\\martj\\miniconda3\\envs\\py38\\lib\\site-packages\\sklearn\\linear_model\\_sag.py:350: ConvergenceWarning: The max_iter was reached which means the coef_ did not converge\n",
      "  warnings.warn(\n",
      "c:\\Users\\martj\\miniconda3\\envs\\py38\\lib\\site-packages\\sklearn\\linear_model\\_sag.py:350: ConvergenceWarning: The max_iter was reached which means the coef_ did not converge\n",
      "  warnings.warn(\n",
      "c:\\Users\\martj\\miniconda3\\envs\\py38\\lib\\site-packages\\sklearn\\linear_model\\_sag.py:350: ConvergenceWarning: The max_iter was reached which means the coef_ did not converge\n",
      "  warnings.warn(\n",
      "c:\\Users\\martj\\miniconda3\\envs\\py38\\lib\\site-packages\\sklearn\\linear_model\\_sag.py:350: ConvergenceWarning: The max_iter was reached which means the coef_ did not converge\n",
      "  warnings.warn(\n",
      "c:\\Users\\martj\\miniconda3\\envs\\py38\\lib\\site-packages\\sklearn\\linear_model\\_sag.py:350: ConvergenceWarning: The max_iter was reached which means the coef_ did not converge\n",
      "  warnings.warn(\n",
      "c:\\Users\\martj\\miniconda3\\envs\\py38\\lib\\site-packages\\sklearn\\linear_model\\_sag.py:350: ConvergenceWarning: The max_iter was reached which means the coef_ did not converge\n",
      "  warnings.warn(\n",
      "c:\\Users\\martj\\miniconda3\\envs\\py38\\lib\\site-packages\\sklearn\\linear_model\\_sag.py:350: ConvergenceWarning: The max_iter was reached which means the coef_ did not converge\n",
      "  warnings.warn(\n",
      "c:\\Users\\martj\\miniconda3\\envs\\py38\\lib\\site-packages\\sklearn\\linear_model\\_sag.py:350: ConvergenceWarning: The max_iter was reached which means the coef_ did not converge\n",
      "  warnings.warn(\n",
      "c:\\Users\\martj\\miniconda3\\envs\\py38\\lib\\site-packages\\sklearn\\linear_model\\_sag.py:350: ConvergenceWarning: The max_iter was reached which means the coef_ did not converge\n",
      "  warnings.warn(\n",
      "c:\\Users\\martj\\miniconda3\\envs\\py38\\lib\\site-packages\\sklearn\\linear_model\\_sag.py:350: ConvergenceWarning: The max_iter was reached which means the coef_ did not converge\n",
      "  warnings.warn(\n"
     ]
    },
    {
     "name": "stdout",
     "output_type": "stream",
     "text": [
      "[CV] END C=0.01, fit_intercept=False, max_iter=100, penalty=l2, solver=sag; total time=   0.0s\n",
      "[CV] END C=0.01, fit_intercept=False, max_iter=100, penalty=l2, solver=sag; total time=   0.0s\n",
      "[CV] END C=0.01, fit_intercept=False, max_iter=100, penalty=l2, solver=sag; total time=   0.0s\n",
      "[CV] END C=0.01, fit_intercept=False, max_iter=100, penalty=l2, solver=sag; total time=   0.0s\n",
      "[CV] END C=0.01, fit_intercept=False, max_iter=100, penalty=l2, solver=sag; total time=   0.0s\n",
      "[CV] END C=0.01, fit_intercept=False, max_iter=100, penalty=l2, solver=saga; total time=   0.0s\n",
      "[CV] END C=0.01, fit_intercept=False, max_iter=100, penalty=l2, solver=saga; total time=   0.0s\n",
      "[CV] END C=0.01, fit_intercept=False, max_iter=100, penalty=l2, solver=saga; total time=   0.0s\n",
      "[CV] END C=0.01, fit_intercept=False, max_iter=100, penalty=l2, solver=saga; total time=   0.0s\n",
      "[CV] END C=0.01, fit_intercept=False, max_iter=100, penalty=l2, solver=saga; total time=   0.0s\n",
      "[CV] END C=0.01, fit_intercept=False, max_iter=200, penalty=l1, solver=newton-cg; total time=   0.0s\n",
      "[CV] END C=0.01, fit_intercept=False, max_iter=200, penalty=l1, solver=newton-cg; total time=   0.0s\n",
      "[CV] END C=0.01, fit_intercept=False, max_iter=200, penalty=l1, solver=newton-cg; total time=   0.0s\n",
      "[CV] END C=0.01, fit_intercept=False, max_iter=200, penalty=l1, solver=newton-cg; total time=   0.0s\n",
      "[CV] END C=0.01, fit_intercept=False, max_iter=200, penalty=l1, solver=newton-cg; total time=   0.0s\n",
      "[CV] END C=0.01, fit_intercept=False, max_iter=200, penalty=l1, solver=lbfgs; total time=   0.0s\n",
      "[CV] END C=0.01, fit_intercept=False, max_iter=200, penalty=l1, solver=lbfgs; total time=   0.0s\n",
      "[CV] END C=0.01, fit_intercept=False, max_iter=200, penalty=l1, solver=lbfgs; total time=   0.0s\n",
      "[CV] END C=0.01, fit_intercept=False, max_iter=200, penalty=l1, solver=lbfgs; total time=   0.0s\n",
      "[CV] END C=0.01, fit_intercept=False, max_iter=200, penalty=l1, solver=lbfgs; total time=   0.0s\n",
      "[CV] END C=0.01, fit_intercept=False, max_iter=200, penalty=l1, solver=liblinear; total time=   0.0s\n",
      "[CV] END C=0.01, fit_intercept=False, max_iter=200, penalty=l1, solver=liblinear; total time=   0.0s\n",
      "[CV] END C=0.01, fit_intercept=False, max_iter=200, penalty=l1, solver=liblinear; total time=   0.0s\n",
      "[CV] END C=0.01, fit_intercept=False, max_iter=200, penalty=l1, solver=liblinear; total time=   0.0s\n",
      "[CV] END C=0.01, fit_intercept=False, max_iter=200, penalty=l1, solver=liblinear; total time=   0.0s\n",
      "[CV] END C=0.01, fit_intercept=False, max_iter=200, penalty=l1, solver=sag; total time=   0.0s\n",
      "[CV] END C=0.01, fit_intercept=False, max_iter=200, penalty=l1, solver=sag; total time=   0.0s\n",
      "[CV] END C=0.01, fit_intercept=False, max_iter=200, penalty=l1, solver=sag; total time=   0.0s\n",
      "[CV] END C=0.01, fit_intercept=False, max_iter=200, penalty=l1, solver=sag; total time=   0.0s\n",
      "[CV] END C=0.01, fit_intercept=False, max_iter=200, penalty=l1, solver=sag; total time=   0.0s\n",
      "[CV] END C=0.01, fit_intercept=False, max_iter=200, penalty=l1, solver=saga; total time=   0.0s\n",
      "[CV] END C=0.01, fit_intercept=False, max_iter=200, penalty=l1, solver=saga; total time=   0.0s\n",
      "[CV] END C=0.01, fit_intercept=False, max_iter=200, penalty=l1, solver=saga; total time=   0.0s\n",
      "[CV] END C=0.01, fit_intercept=False, max_iter=200, penalty=l1, solver=saga; total time=   0.0s\n"
     ]
    },
    {
     "name": "stderr",
     "output_type": "stream",
     "text": [
      "c:\\Users\\martj\\miniconda3\\envs\\py38\\lib\\site-packages\\sklearn\\linear_model\\_sag.py:350: ConvergenceWarning: The max_iter was reached which means the coef_ did not converge\n",
      "  warnings.warn(\n",
      "c:\\Users\\martj\\miniconda3\\envs\\py38\\lib\\site-packages\\sklearn\\linear_model\\_sag.py:350: ConvergenceWarning: The max_iter was reached which means the coef_ did not converge\n",
      "  warnings.warn(\n"
     ]
    },
    {
     "name": "stdout",
     "output_type": "stream",
     "text": [
      "[CV] END C=0.01, fit_intercept=False, max_iter=200, penalty=l1, solver=saga; total time=   0.0s\n",
      "[CV] END C=0.01, fit_intercept=False, max_iter=200, penalty=l2, solver=newton-cg; total time=   0.0s\n",
      "[CV] END C=0.01, fit_intercept=False, max_iter=200, penalty=l2, solver=newton-cg; total time=   0.0s\n",
      "[CV] END C=0.01, fit_intercept=False, max_iter=200, penalty=l2, solver=newton-cg; total time=   0.0s\n",
      "[CV] END C=0.01, fit_intercept=False, max_iter=200, penalty=l2, solver=newton-cg; total time=   0.0s\n",
      "[CV] END C=0.01, fit_intercept=False, max_iter=200, penalty=l2, solver=newton-cg; total time=   0.0s\n",
      "[CV] END C=0.01, fit_intercept=False, max_iter=200, penalty=l2, solver=lbfgs; total time=   0.0s\n",
      "[CV] END C=0.01, fit_intercept=False, max_iter=200, penalty=l2, solver=lbfgs; total time=   0.0s\n",
      "[CV] END C=0.01, fit_intercept=False, max_iter=200, penalty=l2, solver=lbfgs; total time=   0.0s\n",
      "[CV] END C=0.01, fit_intercept=False, max_iter=200, penalty=l2, solver=lbfgs; total time=   0.0s\n",
      "[CV] END C=0.01, fit_intercept=False, max_iter=200, penalty=l2, solver=lbfgs; total time=   0.0s\n",
      "[CV] END C=0.01, fit_intercept=False, max_iter=200, penalty=l2, solver=liblinear; total time=   0.0s\n",
      "[CV] END C=0.01, fit_intercept=False, max_iter=200, penalty=l2, solver=liblinear; total time=   0.0s\n",
      "[CV] END C=0.01, fit_intercept=False, max_iter=200, penalty=l2, solver=liblinear; total time=   0.0s\n",
      "[CV] END C=0.01, fit_intercept=False, max_iter=200, penalty=l2, solver=liblinear; total time=   0.0s\n",
      "[CV] END C=0.01, fit_intercept=False, max_iter=200, penalty=l2, solver=liblinear; total time=   0.0s\n",
      "[CV] END C=0.01, fit_intercept=False, max_iter=200, penalty=l2, solver=sag; total time=   0.0s\n",
      "[CV] END C=0.01, fit_intercept=False, max_iter=200, penalty=l2, solver=sag; total time=   0.0s\n",
      "[CV] END C=0.01, fit_intercept=False, max_iter=200, penalty=l2, solver=sag; total time=   0.0s\n",
      "[CV] END C=0.01, fit_intercept=False, max_iter=200, penalty=l2, solver=sag; total time=   0.0s\n"
     ]
    },
    {
     "name": "stderr",
     "output_type": "stream",
     "text": [
      "c:\\Users\\martj\\miniconda3\\envs\\py38\\lib\\site-packages\\sklearn\\linear_model\\_sag.py:350: ConvergenceWarning: The max_iter was reached which means the coef_ did not converge\n",
      "  warnings.warn(\n",
      "c:\\Users\\martj\\miniconda3\\envs\\py38\\lib\\site-packages\\sklearn\\linear_model\\_sag.py:350: ConvergenceWarning: The max_iter was reached which means the coef_ did not converge\n",
      "  warnings.warn(\n",
      "c:\\Users\\martj\\miniconda3\\envs\\py38\\lib\\site-packages\\sklearn\\linear_model\\_sag.py:350: ConvergenceWarning: The max_iter was reached which means the coef_ did not converge\n",
      "  warnings.warn(\n",
      "c:\\Users\\martj\\miniconda3\\envs\\py38\\lib\\site-packages\\sklearn\\linear_model\\_sag.py:350: ConvergenceWarning: The max_iter was reached which means the coef_ did not converge\n",
      "  warnings.warn(\n",
      "c:\\Users\\martj\\miniconda3\\envs\\py38\\lib\\site-packages\\sklearn\\linear_model\\_sag.py:350: ConvergenceWarning: The max_iter was reached which means the coef_ did not converge\n",
      "  warnings.warn(\n",
      "c:\\Users\\martj\\miniconda3\\envs\\py38\\lib\\site-packages\\sklearn\\linear_model\\_sag.py:350: ConvergenceWarning: The max_iter was reached which means the coef_ did not converge\n",
      "  warnings.warn(\n"
     ]
    },
    {
     "name": "stdout",
     "output_type": "stream",
     "text": [
      "[CV] END C=0.01, fit_intercept=False, max_iter=200, penalty=l2, solver=sag; total time=   0.0s\n",
      "[CV] END C=0.01, fit_intercept=False, max_iter=200, penalty=l2, solver=saga; total time=   0.0s\n",
      "[CV] END C=0.01, fit_intercept=False, max_iter=200, penalty=l2, solver=saga; total time=   0.0s\n",
      "[CV] END C=0.01, fit_intercept=False, max_iter=200, penalty=l2, solver=saga; total time=   0.0s\n",
      "[CV] END C=0.01, fit_intercept=False, max_iter=200, penalty=l2, solver=saga; total time=   0.0s\n",
      "[CV] END C=0.01, fit_intercept=False, max_iter=200, penalty=l2, solver=saga; total time=   0.0s\n"
     ]
    },
    {
     "name": "stderr",
     "output_type": "stream",
     "text": [
      "c:\\Users\\martj\\miniconda3\\envs\\py38\\lib\\site-packages\\sklearn\\linear_model\\_sag.py:350: ConvergenceWarning: The max_iter was reached which means the coef_ did not converge\n",
      "  warnings.warn(\n",
      "c:\\Users\\martj\\miniconda3\\envs\\py38\\lib\\site-packages\\sklearn\\linear_model\\_sag.py:350: ConvergenceWarning: The max_iter was reached which means the coef_ did not converge\n",
      "  warnings.warn(\n",
      "c:\\Users\\martj\\miniconda3\\envs\\py38\\lib\\site-packages\\sklearn\\linear_model\\_sag.py:350: ConvergenceWarning: The max_iter was reached which means the coef_ did not converge\n",
      "  warnings.warn(\n",
      "c:\\Users\\martj\\miniconda3\\envs\\py38\\lib\\site-packages\\sklearn\\linear_model\\_sag.py:350: ConvergenceWarning: The max_iter was reached which means the coef_ did not converge\n",
      "  warnings.warn(\n"
     ]
    },
    {
     "name": "stdout",
     "output_type": "stream",
     "text": [
      "[CV] END C=0.01, fit_intercept=False, max_iter=500, penalty=l1, solver=newton-cg; total time=   0.0s\n",
      "[CV] END C=0.01, fit_intercept=False, max_iter=500, penalty=l1, solver=newton-cg; total time=   0.0s\n",
      "[CV] END C=0.01, fit_intercept=False, max_iter=500, penalty=l1, solver=newton-cg; total time=   0.0s\n",
      "[CV] END C=0.01, fit_intercept=False, max_iter=500, penalty=l1, solver=newton-cg; total time=   0.0s\n",
      "[CV] END C=0.01, fit_intercept=False, max_iter=500, penalty=l1, solver=newton-cg; total time=   0.0s\n",
      "[CV] END C=0.01, fit_intercept=False, max_iter=500, penalty=l1, solver=lbfgs; total time=   0.0s\n",
      "[CV] END C=0.01, fit_intercept=False, max_iter=500, penalty=l1, solver=lbfgs; total time=   0.0s\n",
      "[CV] END C=0.01, fit_intercept=False, max_iter=500, penalty=l1, solver=lbfgs; total time=   0.0s\n",
      "[CV] END C=0.01, fit_intercept=False, max_iter=500, penalty=l1, solver=lbfgs; total time=   0.0s\n",
      "[CV] END C=0.01, fit_intercept=False, max_iter=500, penalty=l1, solver=lbfgs; total time=   0.0s\n",
      "[CV] END C=0.01, fit_intercept=False, max_iter=500, penalty=l1, solver=liblinear; total time=   0.0s\n",
      "[CV] END C=0.01, fit_intercept=False, max_iter=500, penalty=l1, solver=liblinear; total time=   0.0s\n",
      "[CV] END C=0.01, fit_intercept=False, max_iter=500, penalty=l1, solver=liblinear; total time=   0.0s\n",
      "[CV] END C=0.01, fit_intercept=False, max_iter=500, penalty=l1, solver=liblinear; total time=   0.0s\n",
      "[CV] END C=0.01, fit_intercept=False, max_iter=500, penalty=l1, solver=liblinear; total time=   0.0s\n",
      "[CV] END C=0.01, fit_intercept=False, max_iter=500, penalty=l1, solver=sag; total time=   0.0s\n",
      "[CV] END C=0.01, fit_intercept=False, max_iter=500, penalty=l1, solver=sag; total time=   0.0s\n",
      "[CV] END C=0.01, fit_intercept=False, max_iter=500, penalty=l1, solver=sag; total time=   0.0s\n",
      "[CV] END C=0.01, fit_intercept=False, max_iter=500, penalty=l1, solver=sag; total time=   0.0s\n",
      "[CV] END C=0.01, fit_intercept=False, max_iter=500, penalty=l1, solver=sag; total time=   0.0s\n",
      "[CV] END C=0.01, fit_intercept=False, max_iter=500, penalty=l1, solver=saga; total time=   0.0s\n"
     ]
    },
    {
     "name": "stderr",
     "output_type": "stream",
     "text": [
      "c:\\Users\\martj\\miniconda3\\envs\\py38\\lib\\site-packages\\sklearn\\linear_model\\_sag.py:350: ConvergenceWarning: The max_iter was reached which means the coef_ did not converge\n",
      "  warnings.warn(\n",
      "c:\\Users\\martj\\miniconda3\\envs\\py38\\lib\\site-packages\\sklearn\\linear_model\\_sag.py:350: ConvergenceWarning: The max_iter was reached which means the coef_ did not converge\n",
      "  warnings.warn(\n"
     ]
    },
    {
     "name": "stdout",
     "output_type": "stream",
     "text": [
      "[CV] END C=0.01, fit_intercept=False, max_iter=500, penalty=l1, solver=saga; total time=   0.0s\n",
      "[CV] END C=0.01, fit_intercept=False, max_iter=500, penalty=l1, solver=saga; total time=   0.0s\n",
      "[CV] END C=0.01, fit_intercept=False, max_iter=500, penalty=l1, solver=saga; total time=   0.0s\n",
      "[CV] END C=0.01, fit_intercept=False, max_iter=500, penalty=l1, solver=saga; total time=   0.0s\n",
      "[CV] END C=0.01, fit_intercept=False, max_iter=500, penalty=l2, solver=newton-cg; total time=   0.0s\n",
      "[CV] END C=0.01, fit_intercept=False, max_iter=500, penalty=l2, solver=newton-cg; total time=   0.0s\n",
      "[CV] END C=0.01, fit_intercept=False, max_iter=500, penalty=l2, solver=newton-cg; total time=   0.0s\n",
      "[CV] END C=0.01, fit_intercept=False, max_iter=500, penalty=l2, solver=newton-cg; total time=   0.0s\n",
      "[CV] END C=0.01, fit_intercept=False, max_iter=500, penalty=l2, solver=newton-cg; total time=   0.0s\n",
      "[CV] END C=0.01, fit_intercept=False, max_iter=500, penalty=l2, solver=lbfgs; total time=   0.0s\n",
      "[CV] END C=0.01, fit_intercept=False, max_iter=500, penalty=l2, solver=lbfgs; total time=   0.0s\n",
      "[CV] END C=0.01, fit_intercept=False, max_iter=500, penalty=l2, solver=lbfgs; total time=   0.0s\n",
      "[CV] END C=0.01, fit_intercept=False, max_iter=500, penalty=l2, solver=lbfgs; total time=   0.0s\n",
      "[CV] END C=0.01, fit_intercept=False, max_iter=500, penalty=l2, solver=lbfgs; total time=   0.0s\n",
      "[CV] END C=0.01, fit_intercept=False, max_iter=500, penalty=l2, solver=liblinear; total time=   0.0s\n",
      "[CV] END C=0.01, fit_intercept=False, max_iter=500, penalty=l2, solver=liblinear; total time=   0.0s\n",
      "[CV] END C=0.01, fit_intercept=False, max_iter=500, penalty=l2, solver=liblinear; total time=   0.0s\n",
      "[CV] END C=0.01, fit_intercept=False, max_iter=500, penalty=l2, solver=liblinear; total time=   0.0s\n",
      "[CV] END C=0.01, fit_intercept=False, max_iter=500, penalty=l2, solver=liblinear; total time=   0.0s\n",
      "[CV] END C=0.01, fit_intercept=False, max_iter=500, penalty=l2, solver=sag; total time=   0.0s\n"
     ]
    },
    {
     "name": "stderr",
     "output_type": "stream",
     "text": [
      "c:\\Users\\martj\\miniconda3\\envs\\py38\\lib\\site-packages\\sklearn\\linear_model\\_sag.py:350: ConvergenceWarning: The max_iter was reached which means the coef_ did not converge\n",
      "  warnings.warn(\n",
      "c:\\Users\\martj\\miniconda3\\envs\\py38\\lib\\site-packages\\sklearn\\linear_model\\_sag.py:350: ConvergenceWarning: The max_iter was reached which means the coef_ did not converge\n",
      "  warnings.warn(\n",
      "c:\\Users\\martj\\miniconda3\\envs\\py38\\lib\\site-packages\\sklearn\\linear_model\\_sag.py:350: ConvergenceWarning: The max_iter was reached which means the coef_ did not converge\n",
      "  warnings.warn(\n"
     ]
    },
    {
     "name": "stdout",
     "output_type": "stream",
     "text": [
      "[CV] END C=0.01, fit_intercept=False, max_iter=500, penalty=l2, solver=sag; total time=   0.0s\n",
      "[CV] END C=0.01, fit_intercept=False, max_iter=500, penalty=l2, solver=sag; total time=   0.0s\n",
      "[CV] END C=0.01, fit_intercept=False, max_iter=500, penalty=l2, solver=sag; total time=   0.0s\n"
     ]
    },
    {
     "name": "stderr",
     "output_type": "stream",
     "text": [
      "c:\\Users\\martj\\miniconda3\\envs\\py38\\lib\\site-packages\\sklearn\\linear_model\\_sag.py:350: ConvergenceWarning: The max_iter was reached which means the coef_ did not converge\n",
      "  warnings.warn(\n",
      "c:\\Users\\martj\\miniconda3\\envs\\py38\\lib\\site-packages\\sklearn\\linear_model\\_sag.py:350: ConvergenceWarning: The max_iter was reached which means the coef_ did not converge\n",
      "  warnings.warn(\n",
      "c:\\Users\\martj\\miniconda3\\envs\\py38\\lib\\site-packages\\sklearn\\linear_model\\_sag.py:350: ConvergenceWarning: The max_iter was reached which means the coef_ did not converge\n",
      "  warnings.warn(\n"
     ]
    },
    {
     "name": "stdout",
     "output_type": "stream",
     "text": [
      "[CV] END C=0.01, fit_intercept=False, max_iter=500, penalty=l2, solver=sag; total time=   0.0s\n",
      "[CV] END C=0.01, fit_intercept=False, max_iter=500, penalty=l2, solver=saga; total time=   0.0s\n",
      "[CV] END C=0.01, fit_intercept=False, max_iter=500, penalty=l2, solver=saga; total time=   0.0s\n"
     ]
    },
    {
     "name": "stderr",
     "output_type": "stream",
     "text": [
      "c:\\Users\\martj\\miniconda3\\envs\\py38\\lib\\site-packages\\sklearn\\linear_model\\_sag.py:350: ConvergenceWarning: The max_iter was reached which means the coef_ did not converge\n",
      "  warnings.warn(\n",
      "c:\\Users\\martj\\miniconda3\\envs\\py38\\lib\\site-packages\\sklearn\\linear_model\\_sag.py:350: ConvergenceWarning: The max_iter was reached which means the coef_ did not converge\n",
      "  warnings.warn(\n",
      "c:\\Users\\martj\\miniconda3\\envs\\py38\\lib\\site-packages\\sklearn\\linear_model\\_sag.py:350: ConvergenceWarning: The max_iter was reached which means the coef_ did not converge\n",
      "  warnings.warn(\n"
     ]
    },
    {
     "name": "stdout",
     "output_type": "stream",
     "text": [
      "[CV] END C=0.01, fit_intercept=False, max_iter=500, penalty=l2, solver=saga; total time=   0.0s\n",
      "[CV] END C=0.01, fit_intercept=False, max_iter=500, penalty=l2, solver=saga; total time=   0.0s\n",
      "[CV] END C=0.01, fit_intercept=False, max_iter=500, penalty=l2, solver=saga; total time=   0.0s\n",
      "[CV] END C=0.1, fit_intercept=True, max_iter=50, penalty=l1, solver=newton-cg; total time=   0.0s\n",
      "[CV] END C=0.1, fit_intercept=True, max_iter=50, penalty=l1, solver=newton-cg; total time=   0.0s\n",
      "[CV] END C=0.1, fit_intercept=True, max_iter=50, penalty=l1, solver=newton-cg; total time=   0.0s\n",
      "[CV] END C=0.1, fit_intercept=True, max_iter=50, penalty=l1, solver=newton-cg; total time=   0.0s\n",
      "[CV] END C=0.1, fit_intercept=True, max_iter=50, penalty=l1, solver=newton-cg; total time=   0.0s\n",
      "[CV] END C=0.1, fit_intercept=True, max_iter=50, penalty=l1, solver=lbfgs; total time=   0.0s\n",
      "[CV] END C=0.1, fit_intercept=True, max_iter=50, penalty=l1, solver=lbfgs; total time=   0.0s\n",
      "[CV] END C=0.1, fit_intercept=True, max_iter=50, penalty=l1, solver=lbfgs; total time=   0.0s\n",
      "[CV] END C=0.1, fit_intercept=True, max_iter=50, penalty=l1, solver=lbfgs; total time=   0.0s\n",
      "[CV] END C=0.1, fit_intercept=True, max_iter=50, penalty=l1, solver=lbfgs; total time=   0.0s\n"
     ]
    },
    {
     "name": "stderr",
     "output_type": "stream",
     "text": [
      "c:\\Users\\martj\\miniconda3\\envs\\py38\\lib\\site-packages\\sklearn\\linear_model\\_sag.py:350: ConvergenceWarning: The max_iter was reached which means the coef_ did not converge\n",
      "  warnings.warn(\n",
      "c:\\Users\\martj\\miniconda3\\envs\\py38\\lib\\site-packages\\sklearn\\linear_model\\_sag.py:350: ConvergenceWarning: The max_iter was reached which means the coef_ did not converge\n",
      "  warnings.warn(\n",
      "c:\\Users\\martj\\miniconda3\\envs\\py38\\lib\\site-packages\\sklearn\\linear_model\\_sag.py:350: ConvergenceWarning: The max_iter was reached which means the coef_ did not converge\n",
      "  warnings.warn(\n",
      "c:\\Users\\martj\\miniconda3\\envs\\py38\\lib\\site-packages\\sklearn\\linear_model\\_sag.py:350: ConvergenceWarning: The max_iter was reached which means the coef_ did not converge\n",
      "  warnings.warn(\n",
      "c:\\Users\\martj\\miniconda3\\envs\\py38\\lib\\site-packages\\sklearn\\linear_model\\_sag.py:350: ConvergenceWarning: The max_iter was reached which means the coef_ did not converge\n",
      "  warnings.warn(\n",
      "c:\\Users\\martj\\miniconda3\\envs\\py38\\lib\\site-packages\\sklearn\\linear_model\\_sag.py:350: ConvergenceWarning: The max_iter was reached which means the coef_ did not converge\n",
      "  warnings.warn(\n"
     ]
    },
    {
     "name": "stdout",
     "output_type": "stream",
     "text": [
      "[CV] END C=0.1, fit_intercept=True, max_iter=50, penalty=l1, solver=liblinear; total time=   0.0s\n",
      "[CV] END C=0.1, fit_intercept=True, max_iter=50, penalty=l1, solver=liblinear; total time=   0.0s\n",
      "[CV] END C=0.1, fit_intercept=True, max_iter=50, penalty=l1, solver=liblinear; total time=   0.0s\n",
      "[CV] END C=0.1, fit_intercept=True, max_iter=50, penalty=l1, solver=liblinear; total time=   0.0s\n",
      "[CV] END C=0.1, fit_intercept=True, max_iter=50, penalty=l1, solver=liblinear; total time=   0.0s\n",
      "[CV] END C=0.1, fit_intercept=True, max_iter=50, penalty=l1, solver=sag; total time=   0.0s\n",
      "[CV] END C=0.1, fit_intercept=True, max_iter=50, penalty=l1, solver=sag; total time=   0.0s\n",
      "[CV] END C=0.1, fit_intercept=True, max_iter=50, penalty=l1, solver=sag; total time=   0.0s\n",
      "[CV] END C=0.1, fit_intercept=True, max_iter=50, penalty=l1, solver=sag; total time=   0.0s\n",
      "[CV] END C=0.1, fit_intercept=True, max_iter=50, penalty=l1, solver=sag; total time=   0.0s\n",
      "[CV] END C=0.1, fit_intercept=True, max_iter=50, penalty=l1, solver=saga; total time=   0.0s\n",
      "[CV] END C=0.1, fit_intercept=True, max_iter=50, penalty=l1, solver=saga; total time=   0.0s\n",
      "[CV] END C=0.1, fit_intercept=True, max_iter=50, penalty=l1, solver=saga; total time=   0.0s\n",
      "[CV] END C=0.1, fit_intercept=True, max_iter=50, penalty=l1, solver=saga; total time=   0.0s\n",
      "[CV] END C=0.1, fit_intercept=True, max_iter=50, penalty=l1, solver=saga; total time=   0.0s\n",
      "[CV] END C=0.1, fit_intercept=True, max_iter=50, penalty=l2, solver=newton-cg; total time=   0.0s\n",
      "[CV] END C=0.1, fit_intercept=True, max_iter=50, penalty=l2, solver=newton-cg; total time=   0.0s\n",
      "[CV] END C=0.1, fit_intercept=True, max_iter=50, penalty=l2, solver=newton-cg; total time=   0.0s\n",
      "[CV] END C=0.1, fit_intercept=True, max_iter=50, penalty=l2, solver=newton-cg; total time=   0.0s\n",
      "[CV] END C=0.1, fit_intercept=True, max_iter=50, penalty=l2, solver=newton-cg; total time=   0.0s\n",
      "[CV] END C=0.1, fit_intercept=True, max_iter=50, penalty=l2, solver=lbfgs; total time=   0.0s\n",
      "[CV] END C=0.1, fit_intercept=True, max_iter=50, penalty=l2, solver=lbfgs; total time=   0.0s\n",
      "[CV] END C=0.1, fit_intercept=True, max_iter=50, penalty=l2, solver=lbfgs; total time=   0.0s\n",
      "[CV] END C=0.1, fit_intercept=True, max_iter=50, penalty=l2, solver=lbfgs; total time=   0.0s\n",
      "[CV] END C=0.1, fit_intercept=True, max_iter=50, penalty=l2, solver=lbfgs; total time=   0.0s\n"
     ]
    },
    {
     "name": "stderr",
     "output_type": "stream",
     "text": [
      "c:\\Users\\martj\\miniconda3\\envs\\py38\\lib\\site-packages\\sklearn\\linear_model\\_logistic.py:460: ConvergenceWarning: lbfgs failed to converge (status=1):\n",
      "STOP: TOTAL NO. of ITERATIONS REACHED LIMIT.\n",
      "\n",
      "Increase the number of iterations (max_iter) or scale the data as shown in:\n",
      "    https://scikit-learn.org/stable/modules/preprocessing.html\n",
      "Please also refer to the documentation for alternative solver options:\n",
      "    https://scikit-learn.org/stable/modules/linear_model.html#logistic-regression\n",
      "  n_iter_i = _check_optimize_result(\n",
      "c:\\Users\\martj\\miniconda3\\envs\\py38\\lib\\site-packages\\sklearn\\linear_model\\_logistic.py:460: ConvergenceWarning: lbfgs failed to converge (status=1):\n",
      "STOP: TOTAL NO. of ITERATIONS REACHED LIMIT.\n",
      "\n",
      "Increase the number of iterations (max_iter) or scale the data as shown in:\n",
      "    https://scikit-learn.org/stable/modules/preprocessing.html\n",
      "Please also refer to the documentation for alternative solver options:\n",
      "    https://scikit-learn.org/stable/modules/linear_model.html#logistic-regression\n",
      "  n_iter_i = _check_optimize_result(\n",
      "c:\\Users\\martj\\miniconda3\\envs\\py38\\lib\\site-packages\\sklearn\\linear_model\\_logistic.py:460: ConvergenceWarning: lbfgs failed to converge (status=1):\n",
      "STOP: TOTAL NO. of ITERATIONS REACHED LIMIT.\n",
      "\n",
      "Increase the number of iterations (max_iter) or scale the data as shown in:\n",
      "    https://scikit-learn.org/stable/modules/preprocessing.html\n",
      "Please also refer to the documentation for alternative solver options:\n",
      "    https://scikit-learn.org/stable/modules/linear_model.html#logistic-regression\n",
      "  n_iter_i = _check_optimize_result(\n",
      "c:\\Users\\martj\\miniconda3\\envs\\py38\\lib\\site-packages\\sklearn\\linear_model\\_logistic.py:460: ConvergenceWarning: lbfgs failed to converge (status=1):\n",
      "STOP: TOTAL NO. of ITERATIONS REACHED LIMIT.\n",
      "\n",
      "Increase the number of iterations (max_iter) or scale the data as shown in:\n",
      "    https://scikit-learn.org/stable/modules/preprocessing.html\n",
      "Please also refer to the documentation for alternative solver options:\n",
      "    https://scikit-learn.org/stable/modules/linear_model.html#logistic-regression\n",
      "  n_iter_i = _check_optimize_result(\n",
      "c:\\Users\\martj\\miniconda3\\envs\\py38\\lib\\site-packages\\sklearn\\linear_model\\_logistic.py:460: ConvergenceWarning: lbfgs failed to converge (status=1):\n",
      "STOP: TOTAL NO. of ITERATIONS REACHED LIMIT.\n",
      "\n",
      "Increase the number of iterations (max_iter) or scale the data as shown in:\n",
      "    https://scikit-learn.org/stable/modules/preprocessing.html\n",
      "Please also refer to the documentation for alternative solver options:\n",
      "    https://scikit-learn.org/stable/modules/linear_model.html#logistic-regression\n",
      "  n_iter_i = _check_optimize_result(\n",
      "c:\\Users\\martj\\miniconda3\\envs\\py38\\lib\\site-packages\\sklearn\\linear_model\\_sag.py:350: ConvergenceWarning: The max_iter was reached which means the coef_ did not converge\n",
      "  warnings.warn(\n",
      "c:\\Users\\martj\\miniconda3\\envs\\py38\\lib\\site-packages\\sklearn\\linear_model\\_sag.py:350: ConvergenceWarning: The max_iter was reached which means the coef_ did not converge\n",
      "  warnings.warn(\n",
      "c:\\Users\\martj\\miniconda3\\envs\\py38\\lib\\site-packages\\sklearn\\linear_model\\_sag.py:350: ConvergenceWarning: The max_iter was reached which means the coef_ did not converge\n",
      "  warnings.warn(\n"
     ]
    },
    {
     "name": "stdout",
     "output_type": "stream",
     "text": [
      "[CV] END C=0.1, fit_intercept=True, max_iter=50, penalty=l2, solver=liblinear; total time=   0.0s\n",
      "[CV] END C=0.1, fit_intercept=True, max_iter=50, penalty=l2, solver=liblinear; total time=   0.0s\n",
      "[CV] END C=0.1, fit_intercept=True, max_iter=50, penalty=l2, solver=liblinear; total time=   0.0s\n",
      "[CV] END C=0.1, fit_intercept=True, max_iter=50, penalty=l2, solver=liblinear; total time=   0.0s\n",
      "[CV] END C=0.1, fit_intercept=True, max_iter=50, penalty=l2, solver=liblinear; total time=   0.0s\n",
      "[CV] END C=0.1, fit_intercept=True, max_iter=50, penalty=l2, solver=sag; total time=   0.0s\n",
      "[CV] END C=0.1, fit_intercept=True, max_iter=50, penalty=l2, solver=sag; total time=   0.0s\n",
      "[CV] END C=0.1, fit_intercept=True, max_iter=50, penalty=l2, solver=sag; total time=   0.0s\n",
      "[CV] END C=0.1, fit_intercept=True, max_iter=50, penalty=l2, solver=sag; total time=   0.0s\n",
      "[CV] END C=0.1, fit_intercept=True, max_iter=50, penalty=l2, solver=sag; total time=   0.0s\n",
      "[CV] END C=0.1, fit_intercept=True, max_iter=50, penalty=l2, solver=saga; total time=   0.0s\n",
      "[CV] END C=0.1, fit_intercept=True, max_iter=50, penalty=l2, solver=saga; total time=   0.0s\n",
      "[CV] END C=0.1, fit_intercept=True, max_iter=50, penalty=l2, solver=saga; total time=   0.0s\n",
      "[CV] END C=0.1, fit_intercept=True, max_iter=50, penalty=l2, solver=saga; total time=   0.0s\n"
     ]
    },
    {
     "name": "stderr",
     "output_type": "stream",
     "text": [
      "c:\\Users\\martj\\miniconda3\\envs\\py38\\lib\\site-packages\\sklearn\\linear_model\\_sag.py:350: ConvergenceWarning: The max_iter was reached which means the coef_ did not converge\n",
      "  warnings.warn(\n",
      "c:\\Users\\martj\\miniconda3\\envs\\py38\\lib\\site-packages\\sklearn\\linear_model\\_sag.py:350: ConvergenceWarning: The max_iter was reached which means the coef_ did not converge\n",
      "  warnings.warn(\n",
      "c:\\Users\\martj\\miniconda3\\envs\\py38\\lib\\site-packages\\sklearn\\linear_model\\_sag.py:350: ConvergenceWarning: The max_iter was reached which means the coef_ did not converge\n",
      "  warnings.warn(\n",
      "c:\\Users\\martj\\miniconda3\\envs\\py38\\lib\\site-packages\\sklearn\\linear_model\\_sag.py:350: ConvergenceWarning: The max_iter was reached which means the coef_ did not converge\n",
      "  warnings.warn(\n",
      "c:\\Users\\martj\\miniconda3\\envs\\py38\\lib\\site-packages\\sklearn\\linear_model\\_sag.py:350: ConvergenceWarning: The max_iter was reached which means the coef_ did not converge\n",
      "  warnings.warn(\n",
      "c:\\Users\\martj\\miniconda3\\envs\\py38\\lib\\site-packages\\sklearn\\linear_model\\_sag.py:350: ConvergenceWarning: The max_iter was reached which means the coef_ did not converge\n",
      "  warnings.warn(\n",
      "c:\\Users\\martj\\miniconda3\\envs\\py38\\lib\\site-packages\\sklearn\\linear_model\\_sag.py:350: ConvergenceWarning: The max_iter was reached which means the coef_ did not converge\n",
      "  warnings.warn(\n",
      "c:\\Users\\martj\\miniconda3\\envs\\py38\\lib\\site-packages\\sklearn\\linear_model\\_sag.py:350: ConvergenceWarning: The max_iter was reached which means the coef_ did not converge\n",
      "  warnings.warn(\n"
     ]
    },
    {
     "name": "stdout",
     "output_type": "stream",
     "text": [
      "[CV] END C=0.1, fit_intercept=True, max_iter=50, penalty=l2, solver=saga; total time=   0.0s\n",
      "[CV] END C=0.1, fit_intercept=True, max_iter=100, penalty=l1, solver=newton-cg; total time=   0.0s\n",
      "[CV] END C=0.1, fit_intercept=True, max_iter=100, penalty=l1, solver=newton-cg; total time=   0.0s\n",
      "[CV] END C=0.1, fit_intercept=True, max_iter=100, penalty=l1, solver=newton-cg; total time=   0.0s\n",
      "[CV] END C=0.1, fit_intercept=True, max_iter=100, penalty=l1, solver=newton-cg; total time=   0.0s\n",
      "[CV] END C=0.1, fit_intercept=True, max_iter=100, penalty=l1, solver=newton-cg; total time=   0.0s\n",
      "[CV] END C=0.1, fit_intercept=True, max_iter=100, penalty=l1, solver=lbfgs; total time=   0.0s\n",
      "[CV] END C=0.1, fit_intercept=True, max_iter=100, penalty=l1, solver=lbfgs; total time=   0.0s\n",
      "[CV] END C=0.1, fit_intercept=True, max_iter=100, penalty=l1, solver=lbfgs; total time=   0.0s\n",
      "[CV] END C=0.1, fit_intercept=True, max_iter=100, penalty=l1, solver=lbfgs; total time=   0.0s\n",
      "[CV] END C=0.1, fit_intercept=True, max_iter=100, penalty=l1, solver=lbfgs; total time=   0.0s\n",
      "[CV] END C=0.1, fit_intercept=True, max_iter=100, penalty=l1, solver=liblinear; total time=   0.0s\n",
      "[CV] END C=0.1, fit_intercept=True, max_iter=100, penalty=l1, solver=liblinear; total time=   0.0s\n",
      "[CV] END C=0.1, fit_intercept=True, max_iter=100, penalty=l1, solver=liblinear; total time=   0.0s\n",
      "[CV] END C=0.1, fit_intercept=True, max_iter=100, penalty=l1, solver=liblinear; total time=   0.0s\n",
      "[CV] END C=0.1, fit_intercept=True, max_iter=100, penalty=l1, solver=liblinear; total time=   0.0s\n",
      "[CV] END C=0.1, fit_intercept=True, max_iter=100, penalty=l1, solver=sag; total time=   0.0s\n",
      "[CV] END C=0.1, fit_intercept=True, max_iter=100, penalty=l1, solver=sag; total time=   0.0s\n",
      "[CV] END C=0.1, fit_intercept=True, max_iter=100, penalty=l1, solver=sag; total time=   0.0s\n",
      "[CV] END C=0.1, fit_intercept=True, max_iter=100, penalty=l1, solver=sag; total time=   0.0s\n",
      "[CV] END C=0.1, fit_intercept=True, max_iter=100, penalty=l1, solver=sag; total time=   0.0s\n",
      "[CV] END C=0.1, fit_intercept=True, max_iter=100, penalty=l1, solver=saga; total time=   0.0s\n",
      "[CV] END C=0.1, fit_intercept=True, max_iter=100, penalty=l1, solver=saga; total time=   0.0s\n",
      "[CV] END C=0.1, fit_intercept=True, max_iter=100, penalty=l1, solver=saga; total time=   0.0s\n",
      "[CV] END C=0.1, fit_intercept=True, max_iter=100, penalty=l1, solver=saga; total time=   0.0s\n"
     ]
    },
    {
     "name": "stderr",
     "output_type": "stream",
     "text": [
      "c:\\Users\\martj\\miniconda3\\envs\\py38\\lib\\site-packages\\sklearn\\linear_model\\_sag.py:350: ConvergenceWarning: The max_iter was reached which means the coef_ did not converge\n",
      "  warnings.warn(\n",
      "c:\\Users\\martj\\miniconda3\\envs\\py38\\lib\\site-packages\\sklearn\\linear_model\\_sag.py:350: ConvergenceWarning: The max_iter was reached which means the coef_ did not converge\n",
      "  warnings.warn(\n",
      "c:\\Users\\martj\\miniconda3\\envs\\py38\\lib\\site-packages\\sklearn\\linear_model\\_sag.py:350: ConvergenceWarning: The max_iter was reached which means the coef_ did not converge\n",
      "  warnings.warn(\n",
      "c:\\Users\\martj\\miniconda3\\envs\\py38\\lib\\site-packages\\sklearn\\linear_model\\_sag.py:350: ConvergenceWarning: The max_iter was reached which means the coef_ did not converge\n",
      "  warnings.warn(\n"
     ]
    },
    {
     "name": "stdout",
     "output_type": "stream",
     "text": [
      "[CV] END C=0.1, fit_intercept=True, max_iter=100, penalty=l1, solver=saga; total time=   0.0s\n",
      "[CV] END C=0.1, fit_intercept=True, max_iter=100, penalty=l2, solver=newton-cg; total time=   0.0s\n",
      "[CV] END C=0.1, fit_intercept=True, max_iter=100, penalty=l2, solver=newton-cg; total time=   0.0s\n",
      "[CV] END C=0.1, fit_intercept=True, max_iter=100, penalty=l2, solver=newton-cg; total time=   0.0s\n",
      "[CV] END C=0.1, fit_intercept=True, max_iter=100, penalty=l2, solver=newton-cg; total time=   0.0s\n",
      "[CV] END C=0.1, fit_intercept=True, max_iter=100, penalty=l2, solver=newton-cg; total time=   0.0s\n",
      "[CV] END C=0.1, fit_intercept=True, max_iter=100, penalty=l2, solver=lbfgs; total time=   0.0s\n",
      "[CV] END C=0.1, fit_intercept=True, max_iter=100, penalty=l2, solver=lbfgs; total time=   0.0s\n"
     ]
    },
    {
     "name": "stderr",
     "output_type": "stream",
     "text": [
      "c:\\Users\\martj\\miniconda3\\envs\\py38\\lib\\site-packages\\sklearn\\linear_model\\_logistic.py:460: ConvergenceWarning: lbfgs failed to converge (status=1):\n",
      "STOP: TOTAL NO. of ITERATIONS REACHED LIMIT.\n",
      "\n",
      "Increase the number of iterations (max_iter) or scale the data as shown in:\n",
      "    https://scikit-learn.org/stable/modules/preprocessing.html\n",
      "Please also refer to the documentation for alternative solver options:\n",
      "    https://scikit-learn.org/stable/modules/linear_model.html#logistic-regression\n",
      "  n_iter_i = _check_optimize_result(\n",
      "c:\\Users\\martj\\miniconda3\\envs\\py38\\lib\\site-packages\\sklearn\\linear_model\\_logistic.py:460: ConvergenceWarning: lbfgs failed to converge (status=1):\n",
      "STOP: TOTAL NO. of ITERATIONS REACHED LIMIT.\n",
      "\n",
      "Increase the number of iterations (max_iter) or scale the data as shown in:\n",
      "    https://scikit-learn.org/stable/modules/preprocessing.html\n",
      "Please also refer to the documentation for alternative solver options:\n",
      "    https://scikit-learn.org/stable/modules/linear_model.html#logistic-regression\n",
      "  n_iter_i = _check_optimize_result(\n",
      "c:\\Users\\martj\\miniconda3\\envs\\py38\\lib\\site-packages\\sklearn\\linear_model\\_sag.py:350: ConvergenceWarning: The max_iter was reached which means the coef_ did not converge\n",
      "  warnings.warn(\n",
      "c:\\Users\\martj\\miniconda3\\envs\\py38\\lib\\site-packages\\sklearn\\linear_model\\_sag.py:350: ConvergenceWarning: The max_iter was reached which means the coef_ did not converge\n",
      "  warnings.warn(\n"
     ]
    },
    {
     "name": "stdout",
     "output_type": "stream",
     "text": [
      "[CV] END C=0.1, fit_intercept=True, max_iter=100, penalty=l2, solver=lbfgs; total time=   0.0s\n",
      "[CV] END C=0.1, fit_intercept=True, max_iter=100, penalty=l2, solver=lbfgs; total time=   0.0s\n",
      "[CV] END C=0.1, fit_intercept=True, max_iter=100, penalty=l2, solver=lbfgs; total time=   0.0s\n",
      "[CV] END C=0.1, fit_intercept=True, max_iter=100, penalty=l2, solver=liblinear; total time=   0.0s\n",
      "[CV] END C=0.1, fit_intercept=True, max_iter=100, penalty=l2, solver=liblinear; total time=   0.0s\n",
      "[CV] END C=0.1, fit_intercept=True, max_iter=100, penalty=l2, solver=liblinear; total time=   0.0s\n",
      "[CV] END C=0.1, fit_intercept=True, max_iter=100, penalty=l2, solver=liblinear; total time=   0.0s\n",
      "[CV] END C=0.1, fit_intercept=True, max_iter=100, penalty=l2, solver=liblinear; total time=   0.0s\n",
      "[CV] END C=0.1, fit_intercept=True, max_iter=100, penalty=l2, solver=sag; total time=   0.0s\n",
      "[CV] END C=0.1, fit_intercept=True, max_iter=100, penalty=l2, solver=sag; total time=   0.0s\n"
     ]
    },
    {
     "name": "stderr",
     "output_type": "stream",
     "text": [
      "c:\\Users\\martj\\miniconda3\\envs\\py38\\lib\\site-packages\\sklearn\\linear_model\\_sag.py:350: ConvergenceWarning: The max_iter was reached which means the coef_ did not converge\n",
      "  warnings.warn(\n",
      "c:\\Users\\martj\\miniconda3\\envs\\py38\\lib\\site-packages\\sklearn\\linear_model\\_sag.py:350: ConvergenceWarning: The max_iter was reached which means the coef_ did not converge\n",
      "  warnings.warn(\n",
      "c:\\Users\\martj\\miniconda3\\envs\\py38\\lib\\site-packages\\sklearn\\linear_model\\_sag.py:350: ConvergenceWarning: The max_iter was reached which means the coef_ did not converge\n",
      "  warnings.warn(\n",
      "c:\\Users\\martj\\miniconda3\\envs\\py38\\lib\\site-packages\\sklearn\\linear_model\\_sag.py:350: ConvergenceWarning: The max_iter was reached which means the coef_ did not converge\n",
      "  warnings.warn(\n",
      "c:\\Users\\martj\\miniconda3\\envs\\py38\\lib\\site-packages\\sklearn\\linear_model\\_sag.py:350: ConvergenceWarning: The max_iter was reached which means the coef_ did not converge\n",
      "  warnings.warn(\n",
      "c:\\Users\\martj\\miniconda3\\envs\\py38\\lib\\site-packages\\sklearn\\linear_model\\_sag.py:350: ConvergenceWarning: The max_iter was reached which means the coef_ did not converge\n",
      "  warnings.warn(\n",
      "c:\\Users\\martj\\miniconda3\\envs\\py38\\lib\\site-packages\\sklearn\\linear_model\\_sag.py:350: ConvergenceWarning: The max_iter was reached which means the coef_ did not converge\n",
      "  warnings.warn(\n",
      "c:\\Users\\martj\\miniconda3\\envs\\py38\\lib\\site-packages\\sklearn\\linear_model\\_sag.py:350: ConvergenceWarning: The max_iter was reached which means the coef_ did not converge\n",
      "  warnings.warn(\n"
     ]
    },
    {
     "name": "stdout",
     "output_type": "stream",
     "text": [
      "[CV] END C=0.1, fit_intercept=True, max_iter=100, penalty=l2, solver=sag; total time=   0.0s\n",
      "[CV] END C=0.1, fit_intercept=True, max_iter=100, penalty=l2, solver=sag; total time=   0.0s\n",
      "[CV] END C=0.1, fit_intercept=True, max_iter=100, penalty=l2, solver=sag; total time=   0.0s\n",
      "[CV] END C=0.1, fit_intercept=True, max_iter=100, penalty=l2, solver=saga; total time=   0.0s\n",
      "[CV] END C=0.1, fit_intercept=True, max_iter=100, penalty=l2, solver=saga; total time=   0.0s\n",
      "[CV] END C=0.1, fit_intercept=True, max_iter=100, penalty=l2, solver=saga; total time=   0.0s\n",
      "[CV] END C=0.1, fit_intercept=True, max_iter=100, penalty=l2, solver=saga; total time=   0.0s\n",
      "[CV] END C=0.1, fit_intercept=True, max_iter=100, penalty=l2, solver=saga; total time=   0.0s\n",
      "[CV] END C=0.1, fit_intercept=True, max_iter=200, penalty=l1, solver=newton-cg; total time=   0.0s\n",
      "[CV] END C=0.1, fit_intercept=True, max_iter=200, penalty=l1, solver=newton-cg; total time=   0.0s\n",
      "[CV] END C=0.1, fit_intercept=True, max_iter=200, penalty=l1, solver=newton-cg; total time=   0.0s\n",
      "[CV] END C=0.1, fit_intercept=True, max_iter=200, penalty=l1, solver=newton-cg; total time=   0.0s\n",
      "[CV] END C=0.1, fit_intercept=True, max_iter=200, penalty=l1, solver=newton-cg; total time=   0.0s\n",
      "[CV] END C=0.1, fit_intercept=True, max_iter=200, penalty=l1, solver=lbfgs; total time=   0.0s\n",
      "[CV] END C=0.1, fit_intercept=True, max_iter=200, penalty=l1, solver=lbfgs; total time=   0.0s\n",
      "[CV] END C=0.1, fit_intercept=True, max_iter=200, penalty=l1, solver=lbfgs; total time=   0.0s\n",
      "[CV] END C=0.1, fit_intercept=True, max_iter=200, penalty=l1, solver=lbfgs; total time=   0.0s\n",
      "[CV] END C=0.1, fit_intercept=True, max_iter=200, penalty=l1, solver=lbfgs; total time=   0.0s\n",
      "[CV] END C=0.1, fit_intercept=True, max_iter=200, penalty=l1, solver=liblinear; total time=   0.0s\n",
      "[CV] END C=0.1, fit_intercept=True, max_iter=200, penalty=l1, solver=liblinear; total time=   0.0s\n",
      "[CV] END C=0.1, fit_intercept=True, max_iter=200, penalty=l1, solver=liblinear; total time=   0.0s\n",
      "[CV] END C=0.1, fit_intercept=True, max_iter=200, penalty=l1, solver=liblinear; total time=   0.0s\n",
      "[CV] END C=0.1, fit_intercept=True, max_iter=200, penalty=l1, solver=liblinear; total time=   0.0s\n",
      "[CV] END C=0.1, fit_intercept=True, max_iter=200, penalty=l1, solver=sag; total time=   0.0s\n",
      "[CV] END C=0.1, fit_intercept=True, max_iter=200, penalty=l1, solver=sag; total time=   0.0s\n",
      "[CV] END C=0.1, fit_intercept=True, max_iter=200, penalty=l1, solver=sag; total time=   0.0s\n",
      "[CV] END C=0.1, fit_intercept=True, max_iter=200, penalty=l1, solver=sag; total time=   0.0s\n",
      "[CV] END C=0.1, fit_intercept=True, max_iter=200, penalty=l1, solver=sag; total time=   0.0s\n",
      "[CV] END C=0.1, fit_intercept=True, max_iter=200, penalty=l1, solver=saga; total time=   0.0s\n",
      "[CV] END C=0.1, fit_intercept=True, max_iter=200, penalty=l1, solver=saga; total time=   0.0s\n",
      "[CV] END C=0.1, fit_intercept=True, max_iter=200, penalty=l1, solver=saga; total time=   0.0s\n"
     ]
    },
    {
     "name": "stderr",
     "output_type": "stream",
     "text": [
      "c:\\Users\\martj\\miniconda3\\envs\\py38\\lib\\site-packages\\sklearn\\linear_model\\_sag.py:350: ConvergenceWarning: The max_iter was reached which means the coef_ did not converge\n",
      "  warnings.warn(\n",
      "c:\\Users\\martj\\miniconda3\\envs\\py38\\lib\\site-packages\\sklearn\\linear_model\\_sag.py:350: ConvergenceWarning: The max_iter was reached which means the coef_ did not converge\n",
      "  warnings.warn(\n",
      "c:\\Users\\martj\\miniconda3\\envs\\py38\\lib\\site-packages\\sklearn\\linear_model\\_sag.py:350: ConvergenceWarning: The max_iter was reached which means the coef_ did not converge\n",
      "  warnings.warn(\n",
      "c:\\Users\\martj\\miniconda3\\envs\\py38\\lib\\site-packages\\sklearn\\linear_model\\_sag.py:350: ConvergenceWarning: The max_iter was reached which means the coef_ did not converge\n",
      "  warnings.warn(\n",
      "c:\\Users\\martj\\miniconda3\\envs\\py38\\lib\\site-packages\\sklearn\\linear_model\\_sag.py:350: ConvergenceWarning: The max_iter was reached which means the coef_ did not converge\n",
      "  warnings.warn(\n"
     ]
    },
    {
     "name": "stdout",
     "output_type": "stream",
     "text": [
      "[CV] END C=0.1, fit_intercept=True, max_iter=200, penalty=l1, solver=saga; total time=   0.0s\n",
      "[CV] END C=0.1, fit_intercept=True, max_iter=200, penalty=l1, solver=saga; total time=   0.0s\n",
      "[CV] END C=0.1, fit_intercept=True, max_iter=200, penalty=l2, solver=newton-cg; total time=   0.0s\n",
      "[CV] END C=0.1, fit_intercept=True, max_iter=200, penalty=l2, solver=newton-cg; total time=   0.0s\n",
      "[CV] END C=0.1, fit_intercept=True, max_iter=200, penalty=l2, solver=newton-cg; total time=   0.0s\n",
      "[CV] END C=0.1, fit_intercept=True, max_iter=200, penalty=l2, solver=newton-cg; total time=   0.0s\n",
      "[CV] END C=0.1, fit_intercept=True, max_iter=200, penalty=l2, solver=newton-cg; total time=   0.0s\n",
      "[CV] END C=0.1, fit_intercept=True, max_iter=200, penalty=l2, solver=lbfgs; total time=   0.0s\n",
      "[CV] END C=0.1, fit_intercept=True, max_iter=200, penalty=l2, solver=lbfgs; total time=   0.0s\n",
      "[CV] END C=0.1, fit_intercept=True, max_iter=200, penalty=l2, solver=lbfgs; total time=   0.0s\n",
      "[CV] END C=0.1, fit_intercept=True, max_iter=200, penalty=l2, solver=lbfgs; total time=   0.0s\n",
      "[CV] END C=0.1, fit_intercept=True, max_iter=200, penalty=l2, solver=lbfgs; total time=   0.0s\n",
      "[CV] END C=0.1, fit_intercept=True, max_iter=200, penalty=l2, solver=liblinear; total time=   0.0s\n",
      "[CV] END C=0.1, fit_intercept=True, max_iter=200, penalty=l2, solver=liblinear; total time=   0.0s\n",
      "[CV] END C=0.1, fit_intercept=True, max_iter=200, penalty=l2, solver=liblinear; total time=   0.0s\n",
      "[CV] END C=0.1, fit_intercept=True, max_iter=200, penalty=l2, solver=liblinear; total time=   0.0s\n",
      "[CV] END C=0.1, fit_intercept=True, max_iter=200, penalty=l2, solver=liblinear; total time=   0.0s\n"
     ]
    },
    {
     "name": "stderr",
     "output_type": "stream",
     "text": [
      "c:\\Users\\martj\\miniconda3\\envs\\py38\\lib\\site-packages\\sklearn\\linear_model\\_sag.py:350: ConvergenceWarning: The max_iter was reached which means the coef_ did not converge\n",
      "  warnings.warn(\n",
      "c:\\Users\\martj\\miniconda3\\envs\\py38\\lib\\site-packages\\sklearn\\linear_model\\_sag.py:350: ConvergenceWarning: The max_iter was reached which means the coef_ did not converge\n",
      "  warnings.warn(\n",
      "c:\\Users\\martj\\miniconda3\\envs\\py38\\lib\\site-packages\\sklearn\\linear_model\\_sag.py:350: ConvergenceWarning: The max_iter was reached which means the coef_ did not converge\n",
      "  warnings.warn(\n",
      "c:\\Users\\martj\\miniconda3\\envs\\py38\\lib\\site-packages\\sklearn\\linear_model\\_sag.py:350: ConvergenceWarning: The max_iter was reached which means the coef_ did not converge\n",
      "  warnings.warn(\n",
      "c:\\Users\\martj\\miniconda3\\envs\\py38\\lib\\site-packages\\sklearn\\linear_model\\_sag.py:350: ConvergenceWarning: The max_iter was reached which means the coef_ did not converge\n",
      "  warnings.warn(\n",
      "c:\\Users\\martj\\miniconda3\\envs\\py38\\lib\\site-packages\\sklearn\\linear_model\\_sag.py:350: ConvergenceWarning: The max_iter was reached which means the coef_ did not converge\n",
      "  warnings.warn(\n"
     ]
    },
    {
     "name": "stdout",
     "output_type": "stream",
     "text": [
      "[CV] END C=0.1, fit_intercept=True, max_iter=200, penalty=l2, solver=sag; total time=   0.0s\n",
      "[CV] END C=0.1, fit_intercept=True, max_iter=200, penalty=l2, solver=sag; total time=   0.0s\n",
      "[CV] END C=0.1, fit_intercept=True, max_iter=200, penalty=l2, solver=sag; total time=   0.0s\n",
      "[CV] END C=0.1, fit_intercept=True, max_iter=200, penalty=l2, solver=sag; total time=   0.0s\n",
      "[CV] END C=0.1, fit_intercept=True, max_iter=200, penalty=l2, solver=sag; total time=   0.0s\n",
      "[CV] END C=0.1, fit_intercept=True, max_iter=200, penalty=l2, solver=saga; total time=   0.0s\n"
     ]
    },
    {
     "name": "stderr",
     "output_type": "stream",
     "text": [
      "c:\\Users\\martj\\miniconda3\\envs\\py38\\lib\\site-packages\\sklearn\\linear_model\\_sag.py:350: ConvergenceWarning: The max_iter was reached which means the coef_ did not converge\n",
      "  warnings.warn(\n",
      "c:\\Users\\martj\\miniconda3\\envs\\py38\\lib\\site-packages\\sklearn\\linear_model\\_sag.py:350: ConvergenceWarning: The max_iter was reached which means the coef_ did not converge\n",
      "  warnings.warn(\n",
      "c:\\Users\\martj\\miniconda3\\envs\\py38\\lib\\site-packages\\sklearn\\linear_model\\_sag.py:350: ConvergenceWarning: The max_iter was reached which means the coef_ did not converge\n",
      "  warnings.warn(\n",
      "c:\\Users\\martj\\miniconda3\\envs\\py38\\lib\\site-packages\\sklearn\\linear_model\\_sag.py:350: ConvergenceWarning: The max_iter was reached which means the coef_ did not converge\n",
      "  warnings.warn(\n"
     ]
    },
    {
     "name": "stdout",
     "output_type": "stream",
     "text": [
      "[CV] END C=0.1, fit_intercept=True, max_iter=200, penalty=l2, solver=saga; total time=   0.0s\n",
      "[CV] END C=0.1, fit_intercept=True, max_iter=200, penalty=l2, solver=saga; total time=   0.0s\n",
      "[CV] END C=0.1, fit_intercept=True, max_iter=200, penalty=l2, solver=saga; total time=   0.0s\n",
      "[CV] END C=0.1, fit_intercept=True, max_iter=200, penalty=l2, solver=saga; total time=   0.0s\n",
      "[CV] END C=0.1, fit_intercept=True, max_iter=500, penalty=l1, solver=newton-cg; total time=   0.0s\n",
      "[CV] END C=0.1, fit_intercept=True, max_iter=500, penalty=l1, solver=newton-cg; total time=   0.0s\n",
      "[CV] END C=0.1, fit_intercept=True, max_iter=500, penalty=l1, solver=newton-cg; total time=   0.0s\n",
      "[CV] END C=0.1, fit_intercept=True, max_iter=500, penalty=l1, solver=newton-cg; total time=   0.0s\n",
      "[CV] END C=0.1, fit_intercept=True, max_iter=500, penalty=l1, solver=newton-cg; total time=   0.0s\n",
      "[CV] END C=0.1, fit_intercept=True, max_iter=500, penalty=l1, solver=lbfgs; total time=   0.0s\n",
      "[CV] END C=0.1, fit_intercept=True, max_iter=500, penalty=l1, solver=lbfgs; total time=   0.0s\n",
      "[CV] END C=0.1, fit_intercept=True, max_iter=500, penalty=l1, solver=lbfgs; total time=   0.0s\n",
      "[CV] END C=0.1, fit_intercept=True, max_iter=500, penalty=l1, solver=lbfgs; total time=   0.0s\n",
      "[CV] END C=0.1, fit_intercept=True, max_iter=500, penalty=l1, solver=lbfgs; total time=   0.0s\n",
      "[CV] END C=0.1, fit_intercept=True, max_iter=500, penalty=l1, solver=liblinear; total time=   0.0s\n",
      "[CV] END C=0.1, fit_intercept=True, max_iter=500, penalty=l1, solver=liblinear; total time=   0.0s\n",
      "[CV] END C=0.1, fit_intercept=True, max_iter=500, penalty=l1, solver=liblinear; total time=   0.0s\n",
      "[CV] END C=0.1, fit_intercept=True, max_iter=500, penalty=l1, solver=liblinear; total time=   0.0s\n",
      "[CV] END C=0.1, fit_intercept=True, max_iter=500, penalty=l1, solver=liblinear; total time=   0.0s\n",
      "[CV] END C=0.1, fit_intercept=True, max_iter=500, penalty=l1, solver=sag; total time=   0.0s\n",
      "[CV] END C=0.1, fit_intercept=True, max_iter=500, penalty=l1, solver=sag; total time=   0.0s\n",
      "[CV] END C=0.1, fit_intercept=True, max_iter=500, penalty=l1, solver=sag; total time=   0.0s\n",
      "[CV] END C=0.1, fit_intercept=True, max_iter=500, penalty=l1, solver=sag; total time=   0.0s\n",
      "[CV] END C=0.1, fit_intercept=True, max_iter=500, penalty=l1, solver=sag; total time=   0.0s\n",
      "[CV] END C=0.1, fit_intercept=True, max_iter=500, penalty=l1, solver=saga; total time=   0.0s\n"
     ]
    },
    {
     "name": "stderr",
     "output_type": "stream",
     "text": [
      "c:\\Users\\martj\\miniconda3\\envs\\py38\\lib\\site-packages\\sklearn\\linear_model\\_sag.py:350: ConvergenceWarning: The max_iter was reached which means the coef_ did not converge\n",
      "  warnings.warn(\n",
      "c:\\Users\\martj\\miniconda3\\envs\\py38\\lib\\site-packages\\sklearn\\linear_model\\_sag.py:350: ConvergenceWarning: The max_iter was reached which means the coef_ did not converge\n",
      "  warnings.warn(\n"
     ]
    },
    {
     "name": "stdout",
     "output_type": "stream",
     "text": [
      "[CV] END C=0.1, fit_intercept=True, max_iter=500, penalty=l1, solver=saga; total time=   0.0s\n",
      "[CV] END C=0.1, fit_intercept=True, max_iter=500, penalty=l1, solver=saga; total time=   0.1s\n"
     ]
    },
    {
     "name": "stderr",
     "output_type": "stream",
     "text": [
      "c:\\Users\\martj\\miniconda3\\envs\\py38\\lib\\site-packages\\sklearn\\linear_model\\_sag.py:350: ConvergenceWarning: The max_iter was reached which means the coef_ did not converge\n",
      "  warnings.warn(\n",
      "c:\\Users\\martj\\miniconda3\\envs\\py38\\lib\\site-packages\\sklearn\\linear_model\\_sag.py:350: ConvergenceWarning: The max_iter was reached which means the coef_ did not converge\n",
      "  warnings.warn(\n",
      "c:\\Users\\martj\\miniconda3\\envs\\py38\\lib\\site-packages\\sklearn\\linear_model\\_sag.py:350: ConvergenceWarning: The max_iter was reached which means the coef_ did not converge\n",
      "  warnings.warn(\n"
     ]
    },
    {
     "name": "stdout",
     "output_type": "stream",
     "text": [
      "[CV] END C=0.1, fit_intercept=True, max_iter=500, penalty=l1, solver=saga; total time=   0.0s\n",
      "[CV] END C=0.1, fit_intercept=True, max_iter=500, penalty=l1, solver=saga; total time=   0.0s\n",
      "[CV] END C=0.1, fit_intercept=True, max_iter=500, penalty=l2, solver=newton-cg; total time=   0.0s\n",
      "[CV] END C=0.1, fit_intercept=True, max_iter=500, penalty=l2, solver=newton-cg; total time=   0.0s\n",
      "[CV] END C=0.1, fit_intercept=True, max_iter=500, penalty=l2, solver=newton-cg; total time=   0.0s\n",
      "[CV] END C=0.1, fit_intercept=True, max_iter=500, penalty=l2, solver=newton-cg; total time=   0.0s\n",
      "[CV] END C=0.1, fit_intercept=True, max_iter=500, penalty=l2, solver=newton-cg; total time=   0.0s\n",
      "[CV] END C=0.1, fit_intercept=True, max_iter=500, penalty=l2, solver=lbfgs; total time=   0.0s\n",
      "[CV] END C=0.1, fit_intercept=True, max_iter=500, penalty=l2, solver=lbfgs; total time=   0.0s\n",
      "[CV] END C=0.1, fit_intercept=True, max_iter=500, penalty=l2, solver=lbfgs; total time=   0.0s\n",
      "[CV] END C=0.1, fit_intercept=True, max_iter=500, penalty=l2, solver=lbfgs; total time=   0.0s\n",
      "[CV] END C=0.1, fit_intercept=True, max_iter=500, penalty=l2, solver=lbfgs; total time=   0.0s\n",
      "[CV] END C=0.1, fit_intercept=True, max_iter=500, penalty=l2, solver=liblinear; total time=   0.0s\n",
      "[CV] END C=0.1, fit_intercept=True, max_iter=500, penalty=l2, solver=liblinear; total time=   0.0s\n",
      "[CV] END C=0.1, fit_intercept=True, max_iter=500, penalty=l2, solver=liblinear; total time=   0.0s\n",
      "[CV] END C=0.1, fit_intercept=True, max_iter=500, penalty=l2, solver=liblinear; total time=   0.0s\n",
      "[CV] END C=0.1, fit_intercept=True, max_iter=500, penalty=l2, solver=liblinear; total time=   0.0s\n",
      "[CV] END C=0.1, fit_intercept=True, max_iter=500, penalty=l2, solver=sag; total time=   0.0s\n",
      "[CV] END C=0.1, fit_intercept=True, max_iter=500, penalty=l2, solver=sag; total time=   0.0s\n"
     ]
    },
    {
     "name": "stderr",
     "output_type": "stream",
     "text": [
      "c:\\Users\\martj\\miniconda3\\envs\\py38\\lib\\site-packages\\sklearn\\linear_model\\_sag.py:350: ConvergenceWarning: The max_iter was reached which means the coef_ did not converge\n",
      "  warnings.warn(\n",
      "c:\\Users\\martj\\miniconda3\\envs\\py38\\lib\\site-packages\\sklearn\\linear_model\\_sag.py:350: ConvergenceWarning: The max_iter was reached which means the coef_ did not converge\n",
      "  warnings.warn(\n",
      "c:\\Users\\martj\\miniconda3\\envs\\py38\\lib\\site-packages\\sklearn\\linear_model\\_sag.py:350: ConvergenceWarning: The max_iter was reached which means the coef_ did not converge\n",
      "  warnings.warn(\n"
     ]
    },
    {
     "name": "stdout",
     "output_type": "stream",
     "text": [
      "[CV] END C=0.1, fit_intercept=True, max_iter=500, penalty=l2, solver=sag; total time=   0.0s\n",
      "[CV] END C=0.1, fit_intercept=True, max_iter=500, penalty=l2, solver=sag; total time=   0.0s\n",
      "[CV] END C=0.1, fit_intercept=True, max_iter=500, penalty=l2, solver=sag; total time=   0.0s\n"
     ]
    },
    {
     "name": "stderr",
     "output_type": "stream",
     "text": [
      "c:\\Users\\martj\\miniconda3\\envs\\py38\\lib\\site-packages\\sklearn\\linear_model\\_sag.py:350: ConvergenceWarning: The max_iter was reached which means the coef_ did not converge\n",
      "  warnings.warn(\n",
      "c:\\Users\\martj\\miniconda3\\envs\\py38\\lib\\site-packages\\sklearn\\linear_model\\_sag.py:350: ConvergenceWarning: The max_iter was reached which means the coef_ did not converge\n",
      "  warnings.warn(\n",
      "c:\\Users\\martj\\miniconda3\\envs\\py38\\lib\\site-packages\\sklearn\\linear_model\\_sag.py:350: ConvergenceWarning: The max_iter was reached which means the coef_ did not converge\n",
      "  warnings.warn(\n"
     ]
    },
    {
     "name": "stdout",
     "output_type": "stream",
     "text": [
      "[CV] END C=0.1, fit_intercept=True, max_iter=500, penalty=l2, solver=saga; total time=   0.0s\n",
      "[CV] END C=0.1, fit_intercept=True, max_iter=500, penalty=l2, solver=saga; total time=   0.0s\n",
      "[CV] END C=0.1, fit_intercept=True, max_iter=500, penalty=l2, solver=saga; total time=   0.0s\n"
     ]
    },
    {
     "name": "stderr",
     "output_type": "stream",
     "text": [
      "c:\\Users\\martj\\miniconda3\\envs\\py38\\lib\\site-packages\\sklearn\\linear_model\\_sag.py:350: ConvergenceWarning: The max_iter was reached which means the coef_ did not converge\n",
      "  warnings.warn(\n",
      "c:\\Users\\martj\\miniconda3\\envs\\py38\\lib\\site-packages\\sklearn\\linear_model\\_sag.py:350: ConvergenceWarning: The max_iter was reached which means the coef_ did not converge\n",
      "  warnings.warn(\n",
      "c:\\Users\\martj\\miniconda3\\envs\\py38\\lib\\site-packages\\sklearn\\linear_model\\_sag.py:350: ConvergenceWarning: The max_iter was reached which means the coef_ did not converge\n",
      "  warnings.warn(\n"
     ]
    },
    {
     "name": "stdout",
     "output_type": "stream",
     "text": [
      "[CV] END C=0.1, fit_intercept=True, max_iter=500, penalty=l2, solver=saga; total time=   0.0s\n",
      "[CV] END C=0.1, fit_intercept=True, max_iter=500, penalty=l2, solver=saga; total time=   0.0s\n",
      "[CV] END C=0.1, fit_intercept=False, max_iter=50, penalty=l1, solver=newton-cg; total time=   0.0s\n",
      "[CV] END C=0.1, fit_intercept=False, max_iter=50, penalty=l1, solver=newton-cg; total time=   0.0s\n",
      "[CV] END C=0.1, fit_intercept=False, max_iter=50, penalty=l1, solver=newton-cg; total time=   0.0s\n",
      "[CV] END C=0.1, fit_intercept=False, max_iter=50, penalty=l1, solver=newton-cg; total time=   0.0s\n",
      "[CV] END C=0.1, fit_intercept=False, max_iter=50, penalty=l1, solver=newton-cg; total time=   0.0s\n",
      "[CV] END C=0.1, fit_intercept=False, max_iter=50, penalty=l1, solver=lbfgs; total time=   0.0s\n",
      "[CV] END C=0.1, fit_intercept=False, max_iter=50, penalty=l1, solver=lbfgs; total time=   0.0s\n",
      "[CV] END C=0.1, fit_intercept=False, max_iter=50, penalty=l1, solver=lbfgs; total time=   0.0s\n",
      "[CV] END C=0.1, fit_intercept=False, max_iter=50, penalty=l1, solver=lbfgs; total time=   0.0s\n",
      "[CV] END C=0.1, fit_intercept=False, max_iter=50, penalty=l1, solver=lbfgs; total time=   0.0s\n",
      "[CV] END C=0.1, fit_intercept=False, max_iter=50, penalty=l1, solver=liblinear; total time=   0.0s\n",
      "[CV] END C=0.1, fit_intercept=False, max_iter=50, penalty=l1, solver=liblinear; total time=   0.0s\n",
      "[CV] END C=0.1, fit_intercept=False, max_iter=50, penalty=l1, solver=liblinear; total time=   0.0s\n",
      "[CV] END C=0.1, fit_intercept=False, max_iter=50, penalty=l1, solver=liblinear; total time=   0.0s\n",
      "[CV] END C=0.1, fit_intercept=False, max_iter=50, penalty=l1, solver=liblinear; total time=   0.0s\n",
      "[CV] END C=0.1, fit_intercept=False, max_iter=50, penalty=l1, solver=sag; total time=   0.0s\n",
      "[CV] END C=0.1, fit_intercept=False, max_iter=50, penalty=l1, solver=sag; total time=   0.0s\n",
      "[CV] END C=0.1, fit_intercept=False, max_iter=50, penalty=l1, solver=sag; total time=   0.0s\n",
      "[CV] END C=0.1, fit_intercept=False, max_iter=50, penalty=l1, solver=sag; total time=   0.0s\n",
      "[CV] END C=0.1, fit_intercept=False, max_iter=50, penalty=l1, solver=sag; total time=   0.0s\n",
      "[CV] END C=0.1, fit_intercept=False, max_iter=50, penalty=l1, solver=saga; total time=   0.0s\n"
     ]
    },
    {
     "name": "stderr",
     "output_type": "stream",
     "text": [
      "c:\\Users\\martj\\miniconda3\\envs\\py38\\lib\\site-packages\\sklearn\\linear_model\\_sag.py:350: ConvergenceWarning: The max_iter was reached which means the coef_ did not converge\n",
      "  warnings.warn(\n",
      "c:\\Users\\martj\\miniconda3\\envs\\py38\\lib\\site-packages\\sklearn\\linear_model\\_sag.py:350: ConvergenceWarning: The max_iter was reached which means the coef_ did not converge\n",
      "  warnings.warn(\n",
      "c:\\Users\\martj\\miniconda3\\envs\\py38\\lib\\site-packages\\sklearn\\linear_model\\_sag.py:350: ConvergenceWarning: The max_iter was reached which means the coef_ did not converge\n",
      "  warnings.warn(\n",
      "c:\\Users\\martj\\miniconda3\\envs\\py38\\lib\\site-packages\\sklearn\\linear_model\\_sag.py:350: ConvergenceWarning: The max_iter was reached which means the coef_ did not converge\n",
      "  warnings.warn(\n",
      "c:\\Users\\martj\\miniconda3\\envs\\py38\\lib\\site-packages\\sklearn\\linear_model\\_sag.py:350: ConvergenceWarning: The max_iter was reached which means the coef_ did not converge\n",
      "  warnings.warn(\n",
      "c:\\Users\\martj\\miniconda3\\envs\\py38\\lib\\site-packages\\sklearn\\linear_model\\_sag.py:350: ConvergenceWarning: The max_iter was reached which means the coef_ did not converge\n",
      "  warnings.warn(\n"
     ]
    },
    {
     "name": "stdout",
     "output_type": "stream",
     "text": [
      "[CV] END C=0.1, fit_intercept=False, max_iter=50, penalty=l1, solver=saga; total time=   0.0s\n",
      "[CV] END C=0.1, fit_intercept=False, max_iter=50, penalty=l1, solver=saga; total time=   0.0s\n",
      "[CV] END C=0.1, fit_intercept=False, max_iter=50, penalty=l1, solver=saga; total time=   0.0s\n",
      "[CV] END C=0.1, fit_intercept=False, max_iter=50, penalty=l1, solver=saga; total time=   0.0s\n",
      "[CV] END C=0.1, fit_intercept=False, max_iter=50, penalty=l2, solver=newton-cg; total time=   0.0s\n",
      "[CV] END C=0.1, fit_intercept=False, max_iter=50, penalty=l2, solver=newton-cg; total time=   0.0s\n",
      "[CV] END C=0.1, fit_intercept=False, max_iter=50, penalty=l2, solver=newton-cg; total time=   0.0s\n",
      "[CV] END C=0.1, fit_intercept=False, max_iter=50, penalty=l2, solver=newton-cg; total time=   0.0s\n",
      "[CV] END C=0.1, fit_intercept=False, max_iter=50, penalty=l2, solver=newton-cg; total time=   0.0s\n",
      "[CV] END C=0.1, fit_intercept=False, max_iter=50, penalty=l2, solver=lbfgs; total time=   0.0s\n",
      "[CV] END C=0.1, fit_intercept=False, max_iter=50, penalty=l2, solver=lbfgs; total time=   0.0s\n"
     ]
    },
    {
     "name": "stderr",
     "output_type": "stream",
     "text": [
      "c:\\Users\\martj\\miniconda3\\envs\\py38\\lib\\site-packages\\sklearn\\linear_model\\_logistic.py:460: ConvergenceWarning: lbfgs failed to converge (status=1):\n",
      "STOP: TOTAL NO. of ITERATIONS REACHED LIMIT.\n",
      "\n",
      "Increase the number of iterations (max_iter) or scale the data as shown in:\n",
      "    https://scikit-learn.org/stable/modules/preprocessing.html\n",
      "Please also refer to the documentation for alternative solver options:\n",
      "    https://scikit-learn.org/stable/modules/linear_model.html#logistic-regression\n",
      "  n_iter_i = _check_optimize_result(\n",
      "c:\\Users\\martj\\miniconda3\\envs\\py38\\lib\\site-packages\\sklearn\\linear_model\\_logistic.py:460: ConvergenceWarning: lbfgs failed to converge (status=1):\n",
      "STOP: TOTAL NO. of ITERATIONS REACHED LIMIT.\n",
      "\n",
      "Increase the number of iterations (max_iter) or scale the data as shown in:\n",
      "    https://scikit-learn.org/stable/modules/preprocessing.html\n",
      "Please also refer to the documentation for alternative solver options:\n",
      "    https://scikit-learn.org/stable/modules/linear_model.html#logistic-regression\n",
      "  n_iter_i = _check_optimize_result(\n",
      "c:\\Users\\martj\\miniconda3\\envs\\py38\\lib\\site-packages\\sklearn\\linear_model\\_logistic.py:460: ConvergenceWarning: lbfgs failed to converge (status=1):\n",
      "STOP: TOTAL NO. of ITERATIONS REACHED LIMIT.\n",
      "\n",
      "Increase the number of iterations (max_iter) or scale the data as shown in:\n",
      "    https://scikit-learn.org/stable/modules/preprocessing.html\n",
      "Please also refer to the documentation for alternative solver options:\n",
      "    https://scikit-learn.org/stable/modules/linear_model.html#logistic-regression\n",
      "  n_iter_i = _check_optimize_result(\n",
      "c:\\Users\\martj\\miniconda3\\envs\\py38\\lib\\site-packages\\sklearn\\linear_model\\_logistic.py:460: ConvergenceWarning: lbfgs failed to converge (status=1):\n",
      "STOP: TOTAL NO. of ITERATIONS REACHED LIMIT.\n",
      "\n",
      "Increase the number of iterations (max_iter) or scale the data as shown in:\n",
      "    https://scikit-learn.org/stable/modules/preprocessing.html\n",
      "Please also refer to the documentation for alternative solver options:\n",
      "    https://scikit-learn.org/stable/modules/linear_model.html#logistic-regression\n",
      "  n_iter_i = _check_optimize_result(\n",
      "c:\\Users\\martj\\miniconda3\\envs\\py38\\lib\\site-packages\\sklearn\\linear_model\\_sag.py:350: ConvergenceWarning: The max_iter was reached which means the coef_ did not converge\n",
      "  warnings.warn(\n",
      "c:\\Users\\martj\\miniconda3\\envs\\py38\\lib\\site-packages\\sklearn\\linear_model\\_sag.py:350: ConvergenceWarning: The max_iter was reached which means the coef_ did not converge\n",
      "  warnings.warn(\n",
      "c:\\Users\\martj\\miniconda3\\envs\\py38\\lib\\site-packages\\sklearn\\linear_model\\_sag.py:350: ConvergenceWarning: The max_iter was reached which means the coef_ did not converge\n",
      "  warnings.warn(\n",
      "c:\\Users\\martj\\miniconda3\\envs\\py38\\lib\\site-packages\\sklearn\\linear_model\\_sag.py:350: ConvergenceWarning: The max_iter was reached which means the coef_ did not converge\n",
      "  warnings.warn(\n",
      "c:\\Users\\martj\\miniconda3\\envs\\py38\\lib\\site-packages\\sklearn\\linear_model\\_sag.py:350: ConvergenceWarning: The max_iter was reached which means the coef_ did not converge\n",
      "  warnings.warn(\n"
     ]
    },
    {
     "name": "stdout",
     "output_type": "stream",
     "text": [
      "[CV] END C=0.1, fit_intercept=False, max_iter=50, penalty=l2, solver=lbfgs; total time=   0.0s\n",
      "[CV] END C=0.1, fit_intercept=False, max_iter=50, penalty=l2, solver=lbfgs; total time=   0.0s\n",
      "[CV] END C=0.1, fit_intercept=False, max_iter=50, penalty=l2, solver=lbfgs; total time=   0.0s\n",
      "[CV] END C=0.1, fit_intercept=False, max_iter=50, penalty=l2, solver=liblinear; total time=   0.0s\n",
      "[CV] END C=0.1, fit_intercept=False, max_iter=50, penalty=l2, solver=liblinear; total time=   0.0s\n",
      "[CV] END C=0.1, fit_intercept=False, max_iter=50, penalty=l2, solver=liblinear; total time=   0.0s\n",
      "[CV] END C=0.1, fit_intercept=False, max_iter=50, penalty=l2, solver=liblinear; total time=   0.0s\n",
      "[CV] END C=0.1, fit_intercept=False, max_iter=50, penalty=l2, solver=liblinear; total time=   0.0s\n",
      "[CV] END C=0.1, fit_intercept=False, max_iter=50, penalty=l2, solver=sag; total time=   0.0s\n",
      "[CV] END C=0.1, fit_intercept=False, max_iter=50, penalty=l2, solver=sag; total time=   0.0s\n",
      "[CV] END C=0.1, fit_intercept=False, max_iter=50, penalty=l2, solver=sag; total time=   0.0s\n",
      "[CV] END C=0.1, fit_intercept=False, max_iter=50, penalty=l2, solver=sag; total time=   0.0s\n",
      "[CV] END C=0.1, fit_intercept=False, max_iter=50, penalty=l2, solver=sag; total time=   0.0s\n"
     ]
    },
    {
     "name": "stderr",
     "output_type": "stream",
     "text": [
      "c:\\Users\\martj\\miniconda3\\envs\\py38\\lib\\site-packages\\sklearn\\linear_model\\_sag.py:350: ConvergenceWarning: The max_iter was reached which means the coef_ did not converge\n",
      "  warnings.warn(\n",
      "c:\\Users\\martj\\miniconda3\\envs\\py38\\lib\\site-packages\\sklearn\\linear_model\\_sag.py:350: ConvergenceWarning: The max_iter was reached which means the coef_ did not converge\n",
      "  warnings.warn(\n",
      "c:\\Users\\martj\\miniconda3\\envs\\py38\\lib\\site-packages\\sklearn\\linear_model\\_sag.py:350: ConvergenceWarning: The max_iter was reached which means the coef_ did not converge\n",
      "  warnings.warn(\n",
      "c:\\Users\\martj\\miniconda3\\envs\\py38\\lib\\site-packages\\sklearn\\linear_model\\_sag.py:350: ConvergenceWarning: The max_iter was reached which means the coef_ did not converge\n",
      "  warnings.warn(\n",
      "c:\\Users\\martj\\miniconda3\\envs\\py38\\lib\\site-packages\\sklearn\\linear_model\\_sag.py:350: ConvergenceWarning: The max_iter was reached which means the coef_ did not converge\n",
      "  warnings.warn(\n",
      "c:\\Users\\martj\\miniconda3\\envs\\py38\\lib\\site-packages\\sklearn\\linear_model\\_sag.py:350: ConvergenceWarning: The max_iter was reached which means the coef_ did not converge\n",
      "  warnings.warn(\n",
      "c:\\Users\\martj\\miniconda3\\envs\\py38\\lib\\site-packages\\sklearn\\linear_model\\_sag.py:350: ConvergenceWarning: The max_iter was reached which means the coef_ did not converge\n",
      "  warnings.warn(\n"
     ]
    },
    {
     "name": "stdout",
     "output_type": "stream",
     "text": [
      "[CV] END C=0.1, fit_intercept=False, max_iter=50, penalty=l2, solver=saga; total time=   0.0s\n",
      "[CV] END C=0.1, fit_intercept=False, max_iter=50, penalty=l2, solver=saga; total time=   0.0s\n",
      "[CV] END C=0.1, fit_intercept=False, max_iter=50, penalty=l2, solver=saga; total time=   0.0s\n",
      "[CV] END C=0.1, fit_intercept=False, max_iter=50, penalty=l2, solver=saga; total time=   0.0s\n",
      "[CV] END C=0.1, fit_intercept=False, max_iter=50, penalty=l2, solver=saga; total time=   0.0s\n",
      "[CV] END C=0.1, fit_intercept=False, max_iter=100, penalty=l1, solver=newton-cg; total time=   0.0s\n",
      "[CV] END C=0.1, fit_intercept=False, max_iter=100, penalty=l1, solver=newton-cg; total time=   0.0s\n",
      "[CV] END C=0.1, fit_intercept=False, max_iter=100, penalty=l1, solver=newton-cg; total time=   0.0s\n",
      "[CV] END C=0.1, fit_intercept=False, max_iter=100, penalty=l1, solver=newton-cg; total time=   0.0s\n",
      "[CV] END C=0.1, fit_intercept=False, max_iter=100, penalty=l1, solver=newton-cg; total time=   0.0s\n",
      "[CV] END C=0.1, fit_intercept=False, max_iter=100, penalty=l1, solver=lbfgs; total time=   0.0s\n",
      "[CV] END C=0.1, fit_intercept=False, max_iter=100, penalty=l1, solver=lbfgs; total time=   0.0s\n",
      "[CV] END C=0.1, fit_intercept=False, max_iter=100, penalty=l1, solver=lbfgs; total time=   0.0s\n",
      "[CV] END C=0.1, fit_intercept=False, max_iter=100, penalty=l1, solver=lbfgs; total time=   0.0s\n",
      "[CV] END C=0.1, fit_intercept=False, max_iter=100, penalty=l1, solver=lbfgs; total time=   0.0s\n",
      "[CV] END C=0.1, fit_intercept=False, max_iter=100, penalty=l1, solver=liblinear; total time=   0.0s\n",
      "[CV] END C=0.1, fit_intercept=False, max_iter=100, penalty=l1, solver=liblinear; total time=   0.0s\n",
      "[CV] END C=0.1, fit_intercept=False, max_iter=100, penalty=l1, solver=liblinear; total time=   0.0s\n",
      "[CV] END C=0.1, fit_intercept=False, max_iter=100, penalty=l1, solver=liblinear; total time=   0.0s\n",
      "[CV] END C=0.1, fit_intercept=False, max_iter=100, penalty=l1, solver=liblinear; total time=   0.0s\n",
      "[CV] END C=0.1, fit_intercept=False, max_iter=100, penalty=l1, solver=sag; total time=   0.0s\n",
      "[CV] END C=0.1, fit_intercept=False, max_iter=100, penalty=l1, solver=sag; total time=   0.0s\n",
      "[CV] END C=0.1, fit_intercept=False, max_iter=100, penalty=l1, solver=sag; total time=   0.0s\n",
      "[CV] END C=0.1, fit_intercept=False, max_iter=100, penalty=l1, solver=sag; total time=   0.0s\n",
      "[CV] END C=0.1, fit_intercept=False, max_iter=100, penalty=l1, solver=sag; total time=   0.0s\n",
      "[CV] END C=0.1, fit_intercept=False, max_iter=100, penalty=l1, solver=saga; total time=   0.0s\n",
      "[CV] END C=0.1, fit_intercept=False, max_iter=100, penalty=l1, solver=saga; total time=   0.0s\n"
     ]
    },
    {
     "name": "stderr",
     "output_type": "stream",
     "text": [
      "c:\\Users\\martj\\miniconda3\\envs\\py38\\lib\\site-packages\\sklearn\\linear_model\\_sag.py:350: ConvergenceWarning: The max_iter was reached which means the coef_ did not converge\n",
      "  warnings.warn(\n",
      "c:\\Users\\martj\\miniconda3\\envs\\py38\\lib\\site-packages\\sklearn\\linear_model\\_sag.py:350: ConvergenceWarning: The max_iter was reached which means the coef_ did not converge\n",
      "  warnings.warn(\n",
      "c:\\Users\\martj\\miniconda3\\envs\\py38\\lib\\site-packages\\sklearn\\linear_model\\_sag.py:350: ConvergenceWarning: The max_iter was reached which means the coef_ did not converge\n",
      "  warnings.warn(\n"
     ]
    },
    {
     "name": "stdout",
     "output_type": "stream",
     "text": [
      "[CV] END C=0.1, fit_intercept=False, max_iter=100, penalty=l1, solver=saga; total time=   0.0s\n",
      "[CV] END C=0.1, fit_intercept=False, max_iter=100, penalty=l1, solver=saga; total time=   0.0s\n",
      "[CV] END C=0.1, fit_intercept=False, max_iter=100, penalty=l1, solver=saga; total time=   0.0s\n",
      "[CV] END C=0.1, fit_intercept=False, max_iter=100, penalty=l2, solver=newton-cg; total time=   0.0s\n",
      "[CV] END C=0.1, fit_intercept=False, max_iter=100, penalty=l2, solver=newton-cg; total time=   0.0s\n",
      "[CV] END C=0.1, fit_intercept=False, max_iter=100, penalty=l2, solver=newton-cg; total time=   0.0s\n",
      "[CV] END C=0.1, fit_intercept=False, max_iter=100, penalty=l2, solver=newton-cg; total time=   0.0s\n",
      "[CV] END C=0.1, fit_intercept=False, max_iter=100, penalty=l2, solver=newton-cg; total time=   0.0s\n",
      "[CV] END C=0.1, fit_intercept=False, max_iter=100, penalty=l2, solver=lbfgs; total time=   0.0s\n",
      "[CV] END C=0.1, fit_intercept=False, max_iter=100, penalty=l2, solver=lbfgs; total time=   0.0s\n",
      "[CV] END C=0.1, fit_intercept=False, max_iter=100, penalty=l2, solver=lbfgs; total time=   0.0s\n",
      "[CV] END C=0.1, fit_intercept=False, max_iter=100, penalty=l2, solver=lbfgs; total time=   0.0s\n",
      "[CV] END C=0.1, fit_intercept=False, max_iter=100, penalty=l2, solver=lbfgs; total time=   0.0s\n",
      "[CV] END C=0.1, fit_intercept=False, max_iter=100, penalty=l2, solver=liblinear; total time=   0.0s\n",
      "[CV] END C=0.1, fit_intercept=False, max_iter=100, penalty=l2, solver=liblinear; total time=   0.0s\n",
      "[CV] END C=0.1, fit_intercept=False, max_iter=100, penalty=l2, solver=liblinear; total time=   0.0s\n",
      "[CV] END C=0.1, fit_intercept=False, max_iter=100, penalty=l2, solver=liblinear; total time=   0.0s\n",
      "[CV] END C=0.1, fit_intercept=False, max_iter=100, penalty=l2, solver=liblinear; total time=   0.0s\n",
      "[CV] END C=0.1, fit_intercept=False, max_iter=100, penalty=l2, solver=sag; total time=   0.0s\n",
      "[CV] END C=0.1, fit_intercept=False, max_iter=100, penalty=l2, solver=sag; total time=   0.0s\n",
      "[CV] END C=0.1, fit_intercept=False, max_iter=100, penalty=l2, solver=sag; total time=   0.0s\n",
      "[CV] END C=0.1, fit_intercept=False, max_iter=100, penalty=l2, solver=sag; total time=   0.0s\n"
     ]
    },
    {
     "name": "stderr",
     "output_type": "stream",
     "text": [
      "c:\\Users\\martj\\miniconda3\\envs\\py38\\lib\\site-packages\\sklearn\\linear_model\\_sag.py:350: ConvergenceWarning: The max_iter was reached which means the coef_ did not converge\n",
      "  warnings.warn(\n",
      "c:\\Users\\martj\\miniconda3\\envs\\py38\\lib\\site-packages\\sklearn\\linear_model\\_sag.py:350: ConvergenceWarning: The max_iter was reached which means the coef_ did not converge\n",
      "  warnings.warn(\n",
      "c:\\Users\\martj\\miniconda3\\envs\\py38\\lib\\site-packages\\sklearn\\linear_model\\_sag.py:350: ConvergenceWarning: The max_iter was reached which means the coef_ did not converge\n",
      "  warnings.warn(\n",
      "c:\\Users\\martj\\miniconda3\\envs\\py38\\lib\\site-packages\\sklearn\\linear_model\\_sag.py:350: ConvergenceWarning: The max_iter was reached which means the coef_ did not converge\n",
      "  warnings.warn(\n",
      "c:\\Users\\martj\\miniconda3\\envs\\py38\\lib\\site-packages\\sklearn\\linear_model\\_sag.py:350: ConvergenceWarning: The max_iter was reached which means the coef_ did not converge\n",
      "  warnings.warn(\n",
      "c:\\Users\\martj\\miniconda3\\envs\\py38\\lib\\site-packages\\sklearn\\linear_model\\_sag.py:350: ConvergenceWarning: The max_iter was reached which means the coef_ did not converge\n",
      "  warnings.warn(\n",
      "c:\\Users\\martj\\miniconda3\\envs\\py38\\lib\\site-packages\\sklearn\\linear_model\\_sag.py:350: ConvergenceWarning: The max_iter was reached which means the coef_ did not converge\n",
      "  warnings.warn(\n",
      "c:\\Users\\martj\\miniconda3\\envs\\py38\\lib\\site-packages\\sklearn\\linear_model\\_sag.py:350: ConvergenceWarning: The max_iter was reached which means the coef_ did not converge\n",
      "  warnings.warn(\n",
      "c:\\Users\\martj\\miniconda3\\envs\\py38\\lib\\site-packages\\sklearn\\linear_model\\_sag.py:350: ConvergenceWarning: The max_iter was reached which means the coef_ did not converge\n",
      "  warnings.warn(\n",
      "c:\\Users\\martj\\miniconda3\\envs\\py38\\lib\\site-packages\\sklearn\\linear_model\\_sag.py:350: ConvergenceWarning: The max_iter was reached which means the coef_ did not converge\n",
      "  warnings.warn(\n"
     ]
    },
    {
     "name": "stdout",
     "output_type": "stream",
     "text": [
      "[CV] END C=0.1, fit_intercept=False, max_iter=100, penalty=l2, solver=sag; total time=   0.0s\n",
      "[CV] END C=0.1, fit_intercept=False, max_iter=100, penalty=l2, solver=saga; total time=   0.0s\n",
      "[CV] END C=0.1, fit_intercept=False, max_iter=100, penalty=l2, solver=saga; total time=   0.0s\n",
      "[CV] END C=0.1, fit_intercept=False, max_iter=100, penalty=l2, solver=saga; total time=   0.0s\n",
      "[CV] END C=0.1, fit_intercept=False, max_iter=100, penalty=l2, solver=saga; total time=   0.0s\n",
      "[CV] END C=0.1, fit_intercept=False, max_iter=100, penalty=l2, solver=saga; total time=   0.0s\n",
      "[CV] END C=0.1, fit_intercept=False, max_iter=200, penalty=l1, solver=newton-cg; total time=   0.0s\n",
      "[CV] END C=0.1, fit_intercept=False, max_iter=200, penalty=l1, solver=newton-cg; total time=   0.0s\n",
      "[CV] END C=0.1, fit_intercept=False, max_iter=200, penalty=l1, solver=newton-cg; total time=   0.0s\n",
      "[CV] END C=0.1, fit_intercept=False, max_iter=200, penalty=l1, solver=newton-cg; total time=   0.0s\n",
      "[CV] END C=0.1, fit_intercept=False, max_iter=200, penalty=l1, solver=newton-cg; total time=   0.0s\n",
      "[CV] END C=0.1, fit_intercept=False, max_iter=200, penalty=l1, solver=lbfgs; total time=   0.0s\n",
      "[CV] END C=0.1, fit_intercept=False, max_iter=200, penalty=l1, solver=lbfgs; total time=   0.0s\n",
      "[CV] END C=0.1, fit_intercept=False, max_iter=200, penalty=l1, solver=lbfgs; total time=   0.0s\n",
      "[CV] END C=0.1, fit_intercept=False, max_iter=200, penalty=l1, solver=lbfgs; total time=   0.0s\n",
      "[CV] END C=0.1, fit_intercept=False, max_iter=200, penalty=l1, solver=lbfgs; total time=   0.0s\n",
      "[CV] END C=0.1, fit_intercept=False, max_iter=200, penalty=l1, solver=liblinear; total time=   0.0s\n",
      "[CV] END C=0.1, fit_intercept=False, max_iter=200, penalty=l1, solver=liblinear; total time=   0.0s\n",
      "[CV] END C=0.1, fit_intercept=False, max_iter=200, penalty=l1, solver=liblinear; total time=   0.0s\n",
      "[CV] END C=0.1, fit_intercept=False, max_iter=200, penalty=l1, solver=liblinear; total time=   0.0s\n",
      "[CV] END C=0.1, fit_intercept=False, max_iter=200, penalty=l1, solver=liblinear; total time=   0.0s\n",
      "[CV] END C=0.1, fit_intercept=False, max_iter=200, penalty=l1, solver=sag; total time=   0.0s\n",
      "[CV] END C=0.1, fit_intercept=False, max_iter=200, penalty=l1, solver=sag; total time=   0.0s\n",
      "[CV] END C=0.1, fit_intercept=False, max_iter=200, penalty=l1, solver=sag; total time=   0.0s\n",
      "[CV] END C=0.1, fit_intercept=False, max_iter=200, penalty=l1, solver=sag; total time=   0.0s\n",
      "[CV] END C=0.1, fit_intercept=False, max_iter=200, penalty=l1, solver=sag; total time=   0.0s\n",
      "[CV] END C=0.1, fit_intercept=False, max_iter=200, penalty=l1, solver=saga; total time=   0.0s\n",
      "[CV] END C=0.1, fit_intercept=False, max_iter=200, penalty=l1, solver=saga; total time=   0.0s\n",
      "[CV] END C=0.1, fit_intercept=False, max_iter=200, penalty=l1, solver=saga; total time=   0.0s\n",
      "[CV] END C=0.1, fit_intercept=False, max_iter=200, penalty=l1, solver=saga; total time=   0.0s\n"
     ]
    },
    {
     "name": "stderr",
     "output_type": "stream",
     "text": [
      "c:\\Users\\martj\\miniconda3\\envs\\py38\\lib\\site-packages\\sklearn\\linear_model\\_sag.py:350: ConvergenceWarning: The max_iter was reached which means the coef_ did not converge\n",
      "  warnings.warn(\n",
      "c:\\Users\\martj\\miniconda3\\envs\\py38\\lib\\site-packages\\sklearn\\linear_model\\_sag.py:350: ConvergenceWarning: The max_iter was reached which means the coef_ did not converge\n",
      "  warnings.warn(\n",
      "c:\\Users\\martj\\miniconda3\\envs\\py38\\lib\\site-packages\\sklearn\\linear_model\\_sag.py:350: ConvergenceWarning: The max_iter was reached which means the coef_ did not converge\n",
      "  warnings.warn(\n",
      "c:\\Users\\martj\\miniconda3\\envs\\py38\\lib\\site-packages\\sklearn\\linear_model\\_sag.py:350: ConvergenceWarning: The max_iter was reached which means the coef_ did not converge\n",
      "  warnings.warn(\n",
      "c:\\Users\\martj\\miniconda3\\envs\\py38\\lib\\site-packages\\sklearn\\linear_model\\_sag.py:350: ConvergenceWarning: The max_iter was reached which means the coef_ did not converge\n",
      "  warnings.warn(\n"
     ]
    },
    {
     "name": "stdout",
     "output_type": "stream",
     "text": [
      "[CV] END C=0.1, fit_intercept=False, max_iter=200, penalty=l1, solver=saga; total time=   0.0s\n",
      "[CV] END C=0.1, fit_intercept=False, max_iter=200, penalty=l2, solver=newton-cg; total time=   0.0s\n",
      "[CV] END C=0.1, fit_intercept=False, max_iter=200, penalty=l2, solver=newton-cg; total time=   0.0s\n",
      "[CV] END C=0.1, fit_intercept=False, max_iter=200, penalty=l2, solver=newton-cg; total time=   0.0s\n",
      "[CV] END C=0.1, fit_intercept=False, max_iter=200, penalty=l2, solver=newton-cg; total time=   0.0s\n",
      "[CV] END C=0.1, fit_intercept=False, max_iter=200, penalty=l2, solver=newton-cg; total time=   0.0s\n",
      "[CV] END C=0.1, fit_intercept=False, max_iter=200, penalty=l2, solver=lbfgs; total time=   0.0s\n",
      "[CV] END C=0.1, fit_intercept=False, max_iter=200, penalty=l2, solver=lbfgs; total time=   0.0s\n",
      "[CV] END C=0.1, fit_intercept=False, max_iter=200, penalty=l2, solver=lbfgs; total time=   0.0s\n",
      "[CV] END C=0.1, fit_intercept=False, max_iter=200, penalty=l2, solver=lbfgs; total time=   0.0s\n",
      "[CV] END C=0.1, fit_intercept=False, max_iter=200, penalty=l2, solver=lbfgs; total time=   0.0s\n",
      "[CV] END C=0.1, fit_intercept=False, max_iter=200, penalty=l2, solver=liblinear; total time=   0.0s\n",
      "[CV] END C=0.1, fit_intercept=False, max_iter=200, penalty=l2, solver=liblinear; total time=   0.0s\n",
      "[CV] END C=0.1, fit_intercept=False, max_iter=200, penalty=l2, solver=liblinear; total time=   0.0s\n",
      "[CV] END C=0.1, fit_intercept=False, max_iter=200, penalty=l2, solver=liblinear; total time=   0.0s\n",
      "[CV] END C=0.1, fit_intercept=False, max_iter=200, penalty=l2, solver=liblinear; total time=   0.0s\n",
      "[CV] END C=0.1, fit_intercept=False, max_iter=200, penalty=l2, solver=sag; total time=   0.0s\n",
      "[CV] END C=0.1, fit_intercept=False, max_iter=200, penalty=l2, solver=sag; total time=   0.0s\n",
      "[CV] END C=0.1, fit_intercept=False, max_iter=200, penalty=l2, solver=sag; total time=   0.0s\n"
     ]
    },
    {
     "name": "stderr",
     "output_type": "stream",
     "text": [
      "c:\\Users\\martj\\miniconda3\\envs\\py38\\lib\\site-packages\\sklearn\\linear_model\\_sag.py:350: ConvergenceWarning: The max_iter was reached which means the coef_ did not converge\n",
      "  warnings.warn(\n",
      "c:\\Users\\martj\\miniconda3\\envs\\py38\\lib\\site-packages\\sklearn\\linear_model\\_sag.py:350: ConvergenceWarning: The max_iter was reached which means the coef_ did not converge\n",
      "  warnings.warn(\n",
      "c:\\Users\\martj\\miniconda3\\envs\\py38\\lib\\site-packages\\sklearn\\linear_model\\_sag.py:350: ConvergenceWarning: The max_iter was reached which means the coef_ did not converge\n",
      "  warnings.warn(\n",
      "c:\\Users\\martj\\miniconda3\\envs\\py38\\lib\\site-packages\\sklearn\\linear_model\\_sag.py:350: ConvergenceWarning: The max_iter was reached which means the coef_ did not converge\n",
      "  warnings.warn(\n",
      "c:\\Users\\martj\\miniconda3\\envs\\py38\\lib\\site-packages\\sklearn\\linear_model\\_sag.py:350: ConvergenceWarning: The max_iter was reached which means the coef_ did not converge\n",
      "  warnings.warn(\n",
      "c:\\Users\\martj\\miniconda3\\envs\\py38\\lib\\site-packages\\sklearn\\linear_model\\_sag.py:350: ConvergenceWarning: The max_iter was reached which means the coef_ did not converge\n",
      "  warnings.warn(\n"
     ]
    },
    {
     "name": "stdout",
     "output_type": "stream",
     "text": [
      "[CV] END C=0.1, fit_intercept=False, max_iter=200, penalty=l2, solver=sag; total time=   0.0s\n",
      "[CV] END C=0.1, fit_intercept=False, max_iter=200, penalty=l2, solver=sag; total time=   0.0s\n",
      "[CV] END C=0.1, fit_intercept=False, max_iter=200, penalty=l2, solver=saga; total time=   0.0s\n",
      "[CV] END C=0.1, fit_intercept=False, max_iter=200, penalty=l2, solver=saga; total time=   0.0s\n",
      "[CV] END C=0.1, fit_intercept=False, max_iter=200, penalty=l2, solver=saga; total time=   0.0s\n",
      "[CV] END C=0.1, fit_intercept=False, max_iter=200, penalty=l2, solver=saga; total time=   0.0s\n"
     ]
    },
    {
     "name": "stderr",
     "output_type": "stream",
     "text": [
      "c:\\Users\\martj\\miniconda3\\envs\\py38\\lib\\site-packages\\sklearn\\linear_model\\_sag.py:350: ConvergenceWarning: The max_iter was reached which means the coef_ did not converge\n",
      "  warnings.warn(\n",
      "c:\\Users\\martj\\miniconda3\\envs\\py38\\lib\\site-packages\\sklearn\\linear_model\\_sag.py:350: ConvergenceWarning: The max_iter was reached which means the coef_ did not converge\n",
      "  warnings.warn(\n",
      "c:\\Users\\martj\\miniconda3\\envs\\py38\\lib\\site-packages\\sklearn\\linear_model\\_sag.py:350: ConvergenceWarning: The max_iter was reached which means the coef_ did not converge\n",
      "  warnings.warn(\n",
      "c:\\Users\\martj\\miniconda3\\envs\\py38\\lib\\site-packages\\sklearn\\linear_model\\_sag.py:350: ConvergenceWarning: The max_iter was reached which means the coef_ did not converge\n",
      "  warnings.warn(\n"
     ]
    },
    {
     "name": "stdout",
     "output_type": "stream",
     "text": [
      "[CV] END C=0.1, fit_intercept=False, max_iter=200, penalty=l2, solver=saga; total time=   0.0s\n",
      "[CV] END C=0.1, fit_intercept=False, max_iter=500, penalty=l1, solver=newton-cg; total time=   0.0s\n",
      "[CV] END C=0.1, fit_intercept=False, max_iter=500, penalty=l1, solver=newton-cg; total time=   0.0s\n",
      "[CV] END C=0.1, fit_intercept=False, max_iter=500, penalty=l1, solver=newton-cg; total time=   0.0s\n",
      "[CV] END C=0.1, fit_intercept=False, max_iter=500, penalty=l1, solver=newton-cg; total time=   0.0s\n",
      "[CV] END C=0.1, fit_intercept=False, max_iter=500, penalty=l1, solver=newton-cg; total time=   0.0s\n",
      "[CV] END C=0.1, fit_intercept=False, max_iter=500, penalty=l1, solver=lbfgs; total time=   0.0s\n",
      "[CV] END C=0.1, fit_intercept=False, max_iter=500, penalty=l1, solver=lbfgs; total time=   0.0s\n",
      "[CV] END C=0.1, fit_intercept=False, max_iter=500, penalty=l1, solver=lbfgs; total time=   0.0s\n",
      "[CV] END C=0.1, fit_intercept=False, max_iter=500, penalty=l1, solver=lbfgs; total time=   0.0s\n",
      "[CV] END C=0.1, fit_intercept=False, max_iter=500, penalty=l1, solver=lbfgs; total time=   0.0s\n",
      "[CV] END C=0.1, fit_intercept=False, max_iter=500, penalty=l1, solver=liblinear; total time=   0.0s\n",
      "[CV] END C=0.1, fit_intercept=False, max_iter=500, penalty=l1, solver=liblinear; total time=   0.0s\n",
      "[CV] END C=0.1, fit_intercept=False, max_iter=500, penalty=l1, solver=liblinear; total time=   0.0s\n",
      "[CV] END C=0.1, fit_intercept=False, max_iter=500, penalty=l1, solver=liblinear; total time=   0.0s\n",
      "[CV] END C=0.1, fit_intercept=False, max_iter=500, penalty=l1, solver=liblinear; total time=   0.0s\n",
      "[CV] END C=0.1, fit_intercept=False, max_iter=500, penalty=l1, solver=sag; total time=   0.0s\n",
      "[CV] END C=0.1, fit_intercept=False, max_iter=500, penalty=l1, solver=sag; total time=   0.0s\n",
      "[CV] END C=0.1, fit_intercept=False, max_iter=500, penalty=l1, solver=sag; total time=   0.0s\n",
      "[CV] END C=0.1, fit_intercept=False, max_iter=500, penalty=l1, solver=sag; total time=   0.0s\n",
      "[CV] END C=0.1, fit_intercept=False, max_iter=500, penalty=l1, solver=sag; total time=   0.0s\n",
      "[CV] END C=0.1, fit_intercept=False, max_iter=500, penalty=l1, solver=saga; total time=   0.0s\n"
     ]
    },
    {
     "name": "stderr",
     "output_type": "stream",
     "text": [
      "c:\\Users\\martj\\miniconda3\\envs\\py38\\lib\\site-packages\\sklearn\\linear_model\\_sag.py:350: ConvergenceWarning: The max_iter was reached which means the coef_ did not converge\n",
      "  warnings.warn(\n",
      "c:\\Users\\martj\\miniconda3\\envs\\py38\\lib\\site-packages\\sklearn\\linear_model\\_sag.py:350: ConvergenceWarning: The max_iter was reached which means the coef_ did not converge\n",
      "  warnings.warn(\n"
     ]
    },
    {
     "name": "stdout",
     "output_type": "stream",
     "text": [
      "[CV] END C=0.1, fit_intercept=False, max_iter=500, penalty=l1, solver=saga; total time=   0.0s\n",
      "[CV] END C=0.1, fit_intercept=False, max_iter=500, penalty=l1, solver=saga; total time=   0.0s\n",
      "[CV] END C=0.1, fit_intercept=False, max_iter=500, penalty=l1, solver=saga; total time=   0.0s\n"
     ]
    },
    {
     "name": "stderr",
     "output_type": "stream",
     "text": [
      "c:\\Users\\martj\\miniconda3\\envs\\py38\\lib\\site-packages\\sklearn\\linear_model\\_sag.py:350: ConvergenceWarning: The max_iter was reached which means the coef_ did not converge\n",
      "  warnings.warn(\n",
      "c:\\Users\\martj\\miniconda3\\envs\\py38\\lib\\site-packages\\sklearn\\linear_model\\_sag.py:350: ConvergenceWarning: The max_iter was reached which means the coef_ did not converge\n",
      "  warnings.warn(\n",
      "c:\\Users\\martj\\miniconda3\\envs\\py38\\lib\\site-packages\\sklearn\\linear_model\\_sag.py:350: ConvergenceWarning: The max_iter was reached which means the coef_ did not converge\n",
      "  warnings.warn(\n"
     ]
    },
    {
     "name": "stdout",
     "output_type": "stream",
     "text": [
      "[CV] END C=0.1, fit_intercept=False, max_iter=500, penalty=l1, solver=saga; total time=   0.0s\n",
      "[CV] END C=0.1, fit_intercept=False, max_iter=500, penalty=l2, solver=newton-cg; total time=   0.0s\n",
      "[CV] END C=0.1, fit_intercept=False, max_iter=500, penalty=l2, solver=newton-cg; total time=   0.0s\n",
      "[CV] END C=0.1, fit_intercept=False, max_iter=500, penalty=l2, solver=newton-cg; total time=   0.0s\n",
      "[CV] END C=0.1, fit_intercept=False, max_iter=500, penalty=l2, solver=newton-cg; total time=   0.0s\n",
      "[CV] END C=0.1, fit_intercept=False, max_iter=500, penalty=l2, solver=newton-cg; total time=   0.0s\n",
      "[CV] END C=0.1, fit_intercept=False, max_iter=500, penalty=l2, solver=lbfgs; total time=   0.0s\n",
      "[CV] END C=0.1, fit_intercept=False, max_iter=500, penalty=l2, solver=lbfgs; total time=   0.0s\n",
      "[CV] END C=0.1, fit_intercept=False, max_iter=500, penalty=l2, solver=lbfgs; total time=   0.0s\n",
      "[CV] END C=0.1, fit_intercept=False, max_iter=500, penalty=l2, solver=lbfgs; total time=   0.0s\n",
      "[CV] END C=0.1, fit_intercept=False, max_iter=500, penalty=l2, solver=lbfgs; total time=   0.0s\n",
      "[CV] END C=0.1, fit_intercept=False, max_iter=500, penalty=l2, solver=liblinear; total time=   0.0s\n",
      "[CV] END C=0.1, fit_intercept=False, max_iter=500, penalty=l2, solver=liblinear; total time=   0.0s\n",
      "[CV] END C=0.1, fit_intercept=False, max_iter=500, penalty=l2, solver=liblinear; total time=   0.0s\n",
      "[CV] END C=0.1, fit_intercept=False, max_iter=500, penalty=l2, solver=liblinear; total time=   0.0s\n",
      "[CV] END C=0.1, fit_intercept=False, max_iter=500, penalty=l2, solver=liblinear; total time=   0.0s\n",
      "[CV] END C=0.1, fit_intercept=False, max_iter=500, penalty=l2, solver=sag; total time=   0.0s\n"
     ]
    },
    {
     "name": "stderr",
     "output_type": "stream",
     "text": [
      "c:\\Users\\martj\\miniconda3\\envs\\py38\\lib\\site-packages\\sklearn\\linear_model\\_sag.py:350: ConvergenceWarning: The max_iter was reached which means the coef_ did not converge\n",
      "  warnings.warn(\n",
      "c:\\Users\\martj\\miniconda3\\envs\\py38\\lib\\site-packages\\sklearn\\linear_model\\_sag.py:350: ConvergenceWarning: The max_iter was reached which means the coef_ did not converge\n",
      "  warnings.warn(\n",
      "c:\\Users\\martj\\miniconda3\\envs\\py38\\lib\\site-packages\\sklearn\\linear_model\\_sag.py:350: ConvergenceWarning: The max_iter was reached which means the coef_ did not converge\n",
      "  warnings.warn(\n"
     ]
    },
    {
     "name": "stdout",
     "output_type": "stream",
     "text": [
      "[CV] END C=0.1, fit_intercept=False, max_iter=500, penalty=l2, solver=sag; total time=   0.0s\n",
      "[CV] END C=0.1, fit_intercept=False, max_iter=500, penalty=l2, solver=sag; total time=   0.0s\n",
      "[CV] END C=0.1, fit_intercept=False, max_iter=500, penalty=l2, solver=sag; total time=   0.0s\n"
     ]
    },
    {
     "name": "stderr",
     "output_type": "stream",
     "text": [
      "c:\\Users\\martj\\miniconda3\\envs\\py38\\lib\\site-packages\\sklearn\\linear_model\\_sag.py:350: ConvergenceWarning: The max_iter was reached which means the coef_ did not converge\n",
      "  warnings.warn(\n",
      "c:\\Users\\martj\\miniconda3\\envs\\py38\\lib\\site-packages\\sklearn\\linear_model\\_sag.py:350: ConvergenceWarning: The max_iter was reached which means the coef_ did not converge\n",
      "  warnings.warn(\n",
      "c:\\Users\\martj\\miniconda3\\envs\\py38\\lib\\site-packages\\sklearn\\linear_model\\_sag.py:350: ConvergenceWarning: The max_iter was reached which means the coef_ did not converge\n",
      "  warnings.warn(\n"
     ]
    },
    {
     "name": "stdout",
     "output_type": "stream",
     "text": [
      "[CV] END C=0.1, fit_intercept=False, max_iter=500, penalty=l2, solver=sag; total time=   0.0s\n",
      "[CV] END C=0.1, fit_intercept=False, max_iter=500, penalty=l2, solver=saga; total time=   0.0s\n",
      "[CV] END C=0.1, fit_intercept=False, max_iter=500, penalty=l2, solver=saga; total time=   0.0s\n"
     ]
    },
    {
     "name": "stderr",
     "output_type": "stream",
     "text": [
      "c:\\Users\\martj\\miniconda3\\envs\\py38\\lib\\site-packages\\sklearn\\linear_model\\_sag.py:350: ConvergenceWarning: The max_iter was reached which means the coef_ did not converge\n",
      "  warnings.warn(\n",
      "c:\\Users\\martj\\miniconda3\\envs\\py38\\lib\\site-packages\\sklearn\\linear_model\\_sag.py:350: ConvergenceWarning: The max_iter was reached which means the coef_ did not converge\n",
      "  warnings.warn(\n",
      "c:\\Users\\martj\\miniconda3\\envs\\py38\\lib\\site-packages\\sklearn\\linear_model\\_sag.py:350: ConvergenceWarning: The max_iter was reached which means the coef_ did not converge\n",
      "  warnings.warn(\n"
     ]
    },
    {
     "name": "stdout",
     "output_type": "stream",
     "text": [
      "[CV] END C=0.1, fit_intercept=False, max_iter=500, penalty=l2, solver=saga; total time=   0.0s\n",
      "[CV] END C=0.1, fit_intercept=False, max_iter=500, penalty=l2, solver=saga; total time=   0.0s\n",
      "[CV] END C=0.1, fit_intercept=False, max_iter=500, penalty=l2, solver=saga; total time=   0.0s\n",
      "[CV] END C=1, fit_intercept=True, max_iter=50, penalty=l1, solver=newton-cg; total time=   0.0s\n",
      "[CV] END C=1, fit_intercept=True, max_iter=50, penalty=l1, solver=newton-cg; total time=   0.0s\n",
      "[CV] END C=1, fit_intercept=True, max_iter=50, penalty=l1, solver=newton-cg; total time=   0.0s\n",
      "[CV] END C=1, fit_intercept=True, max_iter=50, penalty=l1, solver=newton-cg; total time=   0.0s\n",
      "[CV] END C=1, fit_intercept=True, max_iter=50, penalty=l1, solver=newton-cg; total time=   0.0s\n",
      "[CV] END C=1, fit_intercept=True, max_iter=50, penalty=l1, solver=lbfgs; total time=   0.0s\n",
      "[CV] END C=1, fit_intercept=True, max_iter=50, penalty=l1, solver=lbfgs; total time=   0.0s\n",
      "[CV] END C=1, fit_intercept=True, max_iter=50, penalty=l1, solver=lbfgs; total time=   0.0s\n",
      "[CV] END C=1, fit_intercept=True, max_iter=50, penalty=l1, solver=lbfgs; total time=   0.0s\n",
      "[CV] END C=1, fit_intercept=True, max_iter=50, penalty=l1, solver=lbfgs; total time=   0.0s\n"
     ]
    },
    {
     "name": "stderr",
     "output_type": "stream",
     "text": [
      "c:\\Users\\martj\\miniconda3\\envs\\py38\\lib\\site-packages\\sklearn\\linear_model\\_sag.py:350: ConvergenceWarning: The max_iter was reached which means the coef_ did not converge\n",
      "  warnings.warn(\n",
      "c:\\Users\\martj\\miniconda3\\envs\\py38\\lib\\site-packages\\sklearn\\linear_model\\_sag.py:350: ConvergenceWarning: The max_iter was reached which means the coef_ did not converge\n",
      "  warnings.warn(\n",
      "c:\\Users\\martj\\miniconda3\\envs\\py38\\lib\\site-packages\\sklearn\\linear_model\\_sag.py:350: ConvergenceWarning: The max_iter was reached which means the coef_ did not converge\n",
      "  warnings.warn(\n"
     ]
    },
    {
     "name": "stdout",
     "output_type": "stream",
     "text": [
      "[CV] END C=1, fit_intercept=True, max_iter=50, penalty=l1, solver=liblinear; total time=   0.0s\n",
      "[CV] END C=1, fit_intercept=True, max_iter=50, penalty=l1, solver=liblinear; total time=   0.0s\n",
      "[CV] END C=1, fit_intercept=True, max_iter=50, penalty=l1, solver=liblinear; total time=   0.0s\n",
      "[CV] END C=1, fit_intercept=True, max_iter=50, penalty=l1, solver=liblinear; total time=   0.0s\n",
      "[CV] END C=1, fit_intercept=True, max_iter=50, penalty=l1, solver=liblinear; total time=   0.0s\n",
      "[CV] END C=1, fit_intercept=True, max_iter=50, penalty=l1, solver=sag; total time=   0.0s\n",
      "[CV] END C=1, fit_intercept=True, max_iter=50, penalty=l1, solver=sag; total time=   0.0s\n",
      "[CV] END C=1, fit_intercept=True, max_iter=50, penalty=l1, solver=sag; total time=   0.0s\n",
      "[CV] END C=1, fit_intercept=True, max_iter=50, penalty=l1, solver=sag; total time=   0.0s\n",
      "[CV] END C=1, fit_intercept=True, max_iter=50, penalty=l1, solver=sag; total time=   0.0s\n",
      "[CV] END C=1, fit_intercept=True, max_iter=50, penalty=l1, solver=saga; total time=   0.0s\n",
      "[CV] END C=1, fit_intercept=True, max_iter=50, penalty=l1, solver=saga; total time=   0.0s\n",
      "[CV] END C=1, fit_intercept=True, max_iter=50, penalty=l1, solver=saga; total time=   0.0s\n",
      "[CV] END C=1, fit_intercept=True, max_iter=50, penalty=l1, solver=saga; total time=   0.0s\n"
     ]
    },
    {
     "name": "stderr",
     "output_type": "stream",
     "text": [
      "c:\\Users\\martj\\miniconda3\\envs\\py38\\lib\\site-packages\\sklearn\\linear_model\\_sag.py:350: ConvergenceWarning: The max_iter was reached which means the coef_ did not converge\n",
      "  warnings.warn(\n",
      "c:\\Users\\martj\\miniconda3\\envs\\py38\\lib\\site-packages\\sklearn\\linear_model\\_sag.py:350: ConvergenceWarning: The max_iter was reached which means the coef_ did not converge\n",
      "  warnings.warn(\n",
      "c:\\Users\\martj\\miniconda3\\envs\\py38\\lib\\site-packages\\sklearn\\linear_model\\_sag.py:350: ConvergenceWarning: The max_iter was reached which means the coef_ did not converge\n",
      "  warnings.warn(\n"
     ]
    },
    {
     "name": "stdout",
     "output_type": "stream",
     "text": [
      "[CV] END C=1, fit_intercept=True, max_iter=50, penalty=l1, solver=saga; total time=   0.0s\n",
      "[CV] END C=1, fit_intercept=True, max_iter=50, penalty=l2, solver=newton-cg; total time=   0.0s\n",
      "[CV] END C=1, fit_intercept=True, max_iter=50, penalty=l2, solver=newton-cg; total time=   0.0s\n",
      "[CV] END C=1, fit_intercept=True, max_iter=50, penalty=l2, solver=newton-cg; total time=   0.0s\n",
      "[CV] END C=1, fit_intercept=True, max_iter=50, penalty=l2, solver=newton-cg; total time=   0.0s\n",
      "[CV] END C=1, fit_intercept=True, max_iter=50, penalty=l2, solver=newton-cg; total time=   0.0s\n",
      "[CV] END C=1, fit_intercept=True, max_iter=50, penalty=l2, solver=lbfgs; total time=   0.0s\n",
      "[CV] END C=1, fit_intercept=True, max_iter=50, penalty=l2, solver=lbfgs; total time=   0.0s\n"
     ]
    },
    {
     "name": "stderr",
     "output_type": "stream",
     "text": [
      "c:\\Users\\martj\\miniconda3\\envs\\py38\\lib\\site-packages\\sklearn\\linear_model\\_logistic.py:460: ConvergenceWarning: lbfgs failed to converge (status=1):\n",
      "STOP: TOTAL NO. of ITERATIONS REACHED LIMIT.\n",
      "\n",
      "Increase the number of iterations (max_iter) or scale the data as shown in:\n",
      "    https://scikit-learn.org/stable/modules/preprocessing.html\n",
      "Please also refer to the documentation for alternative solver options:\n",
      "    https://scikit-learn.org/stable/modules/linear_model.html#logistic-regression\n",
      "  n_iter_i = _check_optimize_result(\n",
      "c:\\Users\\martj\\miniconda3\\envs\\py38\\lib\\site-packages\\sklearn\\linear_model\\_logistic.py:460: ConvergenceWarning: lbfgs failed to converge (status=1):\n",
      "STOP: TOTAL NO. of ITERATIONS REACHED LIMIT.\n",
      "\n",
      "Increase the number of iterations (max_iter) or scale the data as shown in:\n",
      "    https://scikit-learn.org/stable/modules/preprocessing.html\n",
      "Please also refer to the documentation for alternative solver options:\n",
      "    https://scikit-learn.org/stable/modules/linear_model.html#logistic-regression\n",
      "  n_iter_i = _check_optimize_result(\n",
      "c:\\Users\\martj\\miniconda3\\envs\\py38\\lib\\site-packages\\sklearn\\linear_model\\_logistic.py:460: ConvergenceWarning: lbfgs failed to converge (status=1):\n",
      "STOP: TOTAL NO. of ITERATIONS REACHED LIMIT.\n",
      "\n",
      "Increase the number of iterations (max_iter) or scale the data as shown in:\n",
      "    https://scikit-learn.org/stable/modules/preprocessing.html\n",
      "Please also refer to the documentation for alternative solver options:\n",
      "    https://scikit-learn.org/stable/modules/linear_model.html#logistic-regression\n",
      "  n_iter_i = _check_optimize_result(\n",
      "c:\\Users\\martj\\miniconda3\\envs\\py38\\lib\\site-packages\\sklearn\\linear_model\\_logistic.py:460: ConvergenceWarning: lbfgs failed to converge (status=1):\n",
      "STOP: TOTAL NO. of ITERATIONS REACHED LIMIT.\n",
      "\n",
      "Increase the number of iterations (max_iter) or scale the data as shown in:\n",
      "    https://scikit-learn.org/stable/modules/preprocessing.html\n",
      "Please also refer to the documentation for alternative solver options:\n",
      "    https://scikit-learn.org/stable/modules/linear_model.html#logistic-regression\n",
      "  n_iter_i = _check_optimize_result(\n",
      "c:\\Users\\martj\\miniconda3\\envs\\py38\\lib\\site-packages\\sklearn\\linear_model\\_logistic.py:460: ConvergenceWarning: lbfgs failed to converge (status=1):\n",
      "STOP: TOTAL NO. of ITERATIONS REACHED LIMIT.\n",
      "\n",
      "Increase the number of iterations (max_iter) or scale the data as shown in:\n",
      "    https://scikit-learn.org/stable/modules/preprocessing.html\n",
      "Please also refer to the documentation for alternative solver options:\n",
      "    https://scikit-learn.org/stable/modules/linear_model.html#logistic-regression\n",
      "  n_iter_i = _check_optimize_result(\n",
      "c:\\Users\\martj\\miniconda3\\envs\\py38\\lib\\site-packages\\sklearn\\linear_model\\_sag.py:350: ConvergenceWarning: The max_iter was reached which means the coef_ did not converge\n",
      "  warnings.warn(\n",
      "c:\\Users\\martj\\miniconda3\\envs\\py38\\lib\\site-packages\\sklearn\\linear_model\\_sag.py:350: ConvergenceWarning: The max_iter was reached which means the coef_ did not converge\n",
      "  warnings.warn(\n",
      "c:\\Users\\martj\\miniconda3\\envs\\py38\\lib\\site-packages\\sklearn\\linear_model\\_sag.py:350: ConvergenceWarning: The max_iter was reached which means the coef_ did not converge\n",
      "  warnings.warn(\n"
     ]
    },
    {
     "name": "stdout",
     "output_type": "stream",
     "text": [
      "[CV] END C=1, fit_intercept=True, max_iter=50, penalty=l2, solver=lbfgs; total time=   0.0s\n",
      "[CV] END C=1, fit_intercept=True, max_iter=50, penalty=l2, solver=lbfgs; total time=   0.0s\n",
      "[CV] END C=1, fit_intercept=True, max_iter=50, penalty=l2, solver=lbfgs; total time=   0.0s\n",
      "[CV] END C=1, fit_intercept=True, max_iter=50, penalty=l2, solver=liblinear; total time=   0.0s\n",
      "[CV] END C=1, fit_intercept=True, max_iter=50, penalty=l2, solver=liblinear; total time=   0.0s\n",
      "[CV] END C=1, fit_intercept=True, max_iter=50, penalty=l2, solver=liblinear; total time=   0.0s\n",
      "[CV] END C=1, fit_intercept=True, max_iter=50, penalty=l2, solver=liblinear; total time=   0.0s\n",
      "[CV] END C=1, fit_intercept=True, max_iter=50, penalty=l2, solver=liblinear; total time=   0.0s\n",
      "[CV] END C=1, fit_intercept=True, max_iter=50, penalty=l2, solver=sag; total time=   0.0s\n",
      "[CV] END C=1, fit_intercept=True, max_iter=50, penalty=l2, solver=sag; total time=   0.0s\n",
      "[CV] END C=1, fit_intercept=True, max_iter=50, penalty=l2, solver=sag; total time=   0.0s\n",
      "[CV] END C=1, fit_intercept=True, max_iter=50, penalty=l2, solver=sag; total time=   0.0s\n",
      "[CV] END C=1, fit_intercept=True, max_iter=50, penalty=l2, solver=sag; total time=   0.0s\n",
      "[CV] END C=1, fit_intercept=True, max_iter=50, penalty=l2, solver=saga; total time=   0.0s\n",
      "[CV] END C=1, fit_intercept=True, max_iter=50, penalty=l2, solver=saga; total time=   0.0s\n"
     ]
    },
    {
     "name": "stderr",
     "output_type": "stream",
     "text": [
      "c:\\Users\\martj\\miniconda3\\envs\\py38\\lib\\site-packages\\sklearn\\linear_model\\_sag.py:350: ConvergenceWarning: The max_iter was reached which means the coef_ did not converge\n",
      "  warnings.warn(\n",
      "c:\\Users\\martj\\miniconda3\\envs\\py38\\lib\\site-packages\\sklearn\\linear_model\\_sag.py:350: ConvergenceWarning: The max_iter was reached which means the coef_ did not converge\n",
      "  warnings.warn(\n",
      "c:\\Users\\martj\\miniconda3\\envs\\py38\\lib\\site-packages\\sklearn\\linear_model\\_sag.py:350: ConvergenceWarning: The max_iter was reached which means the coef_ did not converge\n",
      "  warnings.warn(\n",
      "c:\\Users\\martj\\miniconda3\\envs\\py38\\lib\\site-packages\\sklearn\\linear_model\\_sag.py:350: ConvergenceWarning: The max_iter was reached which means the coef_ did not converge\n",
      "  warnings.warn(\n",
      "c:\\Users\\martj\\miniconda3\\envs\\py38\\lib\\site-packages\\sklearn\\linear_model\\_sag.py:350: ConvergenceWarning: The max_iter was reached which means the coef_ did not converge\n",
      "  warnings.warn(\n",
      "c:\\Users\\martj\\miniconda3\\envs\\py38\\lib\\site-packages\\sklearn\\linear_model\\_sag.py:350: ConvergenceWarning: The max_iter was reached which means the coef_ did not converge\n",
      "  warnings.warn(\n",
      "c:\\Users\\martj\\miniconda3\\envs\\py38\\lib\\site-packages\\sklearn\\linear_model\\_sag.py:350: ConvergenceWarning: The max_iter was reached which means the coef_ did not converge\n",
      "  warnings.warn(\n"
     ]
    },
    {
     "name": "stdout",
     "output_type": "stream",
     "text": [
      "[CV] END C=1, fit_intercept=True, max_iter=50, penalty=l2, solver=saga; total time=   0.0s\n",
      "[CV] END C=1, fit_intercept=True, max_iter=50, penalty=l2, solver=saga; total time=   0.0s\n",
      "[CV] END C=1, fit_intercept=True, max_iter=50, penalty=l2, solver=saga; total time=   0.0s\n",
      "[CV] END C=1, fit_intercept=True, max_iter=100, penalty=l1, solver=newton-cg; total time=   0.0s\n",
      "[CV] END C=1, fit_intercept=True, max_iter=100, penalty=l1, solver=newton-cg; total time=   0.0s\n",
      "[CV] END C=1, fit_intercept=True, max_iter=100, penalty=l1, solver=newton-cg; total time=   0.0s\n",
      "[CV] END C=1, fit_intercept=True, max_iter=100, penalty=l1, solver=newton-cg; total time=   0.0s\n",
      "[CV] END C=1, fit_intercept=True, max_iter=100, penalty=l1, solver=newton-cg; total time=   0.0s\n",
      "[CV] END C=1, fit_intercept=True, max_iter=100, penalty=l1, solver=lbfgs; total time=   0.0s\n",
      "[CV] END C=1, fit_intercept=True, max_iter=100, penalty=l1, solver=lbfgs; total time=   0.0s\n",
      "[CV] END C=1, fit_intercept=True, max_iter=100, penalty=l1, solver=lbfgs; total time=   0.0s\n",
      "[CV] END C=1, fit_intercept=True, max_iter=100, penalty=l1, solver=lbfgs; total time=   0.0s\n",
      "[CV] END C=1, fit_intercept=True, max_iter=100, penalty=l1, solver=lbfgs; total time=   0.0s\n",
      "[CV] END C=1, fit_intercept=True, max_iter=100, penalty=l1, solver=liblinear; total time=   0.0s\n",
      "[CV] END C=1, fit_intercept=True, max_iter=100, penalty=l1, solver=liblinear; total time=   0.0s\n",
      "[CV] END C=1, fit_intercept=True, max_iter=100, penalty=l1, solver=liblinear; total time=   0.0s\n",
      "[CV] END C=1, fit_intercept=True, max_iter=100, penalty=l1, solver=liblinear; total time=   0.0s\n",
      "[CV] END C=1, fit_intercept=True, max_iter=100, penalty=l1, solver=liblinear; total time=   0.0s\n",
      "[CV] END C=1, fit_intercept=True, max_iter=100, penalty=l1, solver=sag; total time=   0.0s\n",
      "[CV] END C=1, fit_intercept=True, max_iter=100, penalty=l1, solver=sag; total time=   0.0s\n",
      "[CV] END C=1, fit_intercept=True, max_iter=100, penalty=l1, solver=sag; total time=   0.0s\n",
      "[CV] END C=1, fit_intercept=True, max_iter=100, penalty=l1, solver=sag; total time=   0.0s\n",
      "[CV] END C=1, fit_intercept=True, max_iter=100, penalty=l1, solver=sag; total time=   0.0s\n",
      "[CV] END C=1, fit_intercept=True, max_iter=100, penalty=l1, solver=saga; total time=   0.0s\n",
      "[CV] END C=1, fit_intercept=True, max_iter=100, penalty=l1, solver=saga; total time=   0.0s\n"
     ]
    },
    {
     "name": "stderr",
     "output_type": "stream",
     "text": [
      "c:\\Users\\martj\\miniconda3\\envs\\py38\\lib\\site-packages\\sklearn\\linear_model\\_sag.py:350: ConvergenceWarning: The max_iter was reached which means the coef_ did not converge\n",
      "  warnings.warn(\n",
      "c:\\Users\\martj\\miniconda3\\envs\\py38\\lib\\site-packages\\sklearn\\linear_model\\_sag.py:350: ConvergenceWarning: The max_iter was reached which means the coef_ did not converge\n",
      "  warnings.warn(\n",
      "c:\\Users\\martj\\miniconda3\\envs\\py38\\lib\\site-packages\\sklearn\\linear_model\\_sag.py:350: ConvergenceWarning: The max_iter was reached which means the coef_ did not converge\n",
      "  warnings.warn(\n",
      "c:\\Users\\martj\\miniconda3\\envs\\py38\\lib\\site-packages\\sklearn\\linear_model\\_sag.py:350: ConvergenceWarning: The max_iter was reached which means the coef_ did not converge\n",
      "  warnings.warn(\n",
      "c:\\Users\\martj\\miniconda3\\envs\\py38\\lib\\site-packages\\sklearn\\linear_model\\_sag.py:350: ConvergenceWarning: The max_iter was reached which means the coef_ did not converge\n",
      "  warnings.warn(\n"
     ]
    },
    {
     "name": "stdout",
     "output_type": "stream",
     "text": [
      "[CV] END C=1, fit_intercept=True, max_iter=100, penalty=l1, solver=saga; total time=   0.0s\n",
      "[CV] END C=1, fit_intercept=True, max_iter=100, penalty=l1, solver=saga; total time=   0.0s\n",
      "[CV] END C=1, fit_intercept=True, max_iter=100, penalty=l1, solver=saga; total time=   0.0s\n",
      "[CV] END C=1, fit_intercept=True, max_iter=100, penalty=l2, solver=newton-cg; total time=   0.0s\n",
      "[CV] END C=1, fit_intercept=True, max_iter=100, penalty=l2, solver=newton-cg; total time=   0.0s\n",
      "[CV] END C=1, fit_intercept=True, max_iter=100, penalty=l2, solver=newton-cg; total time=   0.0s\n",
      "[CV] END C=1, fit_intercept=True, max_iter=100, penalty=l2, solver=newton-cg; total time=   0.0s\n",
      "[CV] END C=1, fit_intercept=True, max_iter=100, penalty=l2, solver=newton-cg; total time=   0.0s\n",
      "[CV] END C=1, fit_intercept=True, max_iter=100, penalty=l2, solver=lbfgs; total time=   0.0s\n",
      "[CV] END C=1, fit_intercept=True, max_iter=100, penalty=l2, solver=lbfgs; total time=   0.0s\n",
      "[CV] END C=1, fit_intercept=True, max_iter=100, penalty=l2, solver=lbfgs; total time=   0.0s\n",
      "[CV] END C=1, fit_intercept=True, max_iter=100, penalty=l2, solver=lbfgs; total time=   0.0s\n",
      "[CV] END C=1, fit_intercept=True, max_iter=100, penalty=l2, solver=lbfgs; total time=   0.0s\n",
      "[CV] END C=1, fit_intercept=True, max_iter=100, penalty=l2, solver=liblinear; total time=   0.0s\n",
      "[CV] END C=1, fit_intercept=True, max_iter=100, penalty=l2, solver=liblinear; total time=   0.0s\n",
      "[CV] END C=1, fit_intercept=True, max_iter=100, penalty=l2, solver=liblinear; total time=   0.0s\n",
      "[CV] END C=1, fit_intercept=True, max_iter=100, penalty=l2, solver=liblinear; total time=   0.0s\n",
      "[CV] END C=1, fit_intercept=True, max_iter=100, penalty=l2, solver=liblinear; total time=   0.0s\n"
     ]
    },
    {
     "name": "stderr",
     "output_type": "stream",
     "text": [
      "c:\\Users\\martj\\miniconda3\\envs\\py38\\lib\\site-packages\\sklearn\\linear_model\\_logistic.py:460: ConvergenceWarning: lbfgs failed to converge (status=1):\n",
      "STOP: TOTAL NO. of ITERATIONS REACHED LIMIT.\n",
      "\n",
      "Increase the number of iterations (max_iter) or scale the data as shown in:\n",
      "    https://scikit-learn.org/stable/modules/preprocessing.html\n",
      "Please also refer to the documentation for alternative solver options:\n",
      "    https://scikit-learn.org/stable/modules/linear_model.html#logistic-regression\n",
      "  n_iter_i = _check_optimize_result(\n",
      "c:\\Users\\martj\\miniconda3\\envs\\py38\\lib\\site-packages\\sklearn\\linear_model\\_logistic.py:460: ConvergenceWarning: lbfgs failed to converge (status=1):\n",
      "STOP: TOTAL NO. of ITERATIONS REACHED LIMIT.\n",
      "\n",
      "Increase the number of iterations (max_iter) or scale the data as shown in:\n",
      "    https://scikit-learn.org/stable/modules/preprocessing.html\n",
      "Please also refer to the documentation for alternative solver options:\n",
      "    https://scikit-learn.org/stable/modules/linear_model.html#logistic-regression\n",
      "  n_iter_i = _check_optimize_result(\n",
      "c:\\Users\\martj\\miniconda3\\envs\\py38\\lib\\site-packages\\sklearn\\linear_model\\_sag.py:350: ConvergenceWarning: The max_iter was reached which means the coef_ did not converge\n",
      "  warnings.warn(\n",
      "c:\\Users\\martj\\miniconda3\\envs\\py38\\lib\\site-packages\\sklearn\\linear_model\\_sag.py:350: ConvergenceWarning: The max_iter was reached which means the coef_ did not converge\n",
      "  warnings.warn(\n"
     ]
    },
    {
     "name": "stdout",
     "output_type": "stream",
     "text": [
      "[CV] END C=1, fit_intercept=True, max_iter=100, penalty=l2, solver=sag; total time=   0.0s\n",
      "[CV] END C=1, fit_intercept=True, max_iter=100, penalty=l2, solver=sag; total time=   0.0s\n",
      "[CV] END C=1, fit_intercept=True, max_iter=100, penalty=l2, solver=sag; total time=   0.0s\n",
      "[CV] END C=1, fit_intercept=True, max_iter=100, penalty=l2, solver=sag; total time=   0.0s\n",
      "[CV] END C=1, fit_intercept=True, max_iter=100, penalty=l2, solver=sag; total time=   0.0s\n",
      "[CV] END C=1, fit_intercept=True, max_iter=100, penalty=l2, solver=saga; total time=   0.0s\n",
      "[CV] END C=1, fit_intercept=True, max_iter=100, penalty=l2, solver=saga; total time=   0.0s\n",
      "[CV] END C=1, fit_intercept=True, max_iter=100, penalty=l2, solver=saga; total time=   0.0s\n",
      "[CV] END C=1, fit_intercept=True, max_iter=100, penalty=l2, solver=saga; total time=   0.0s\n"
     ]
    },
    {
     "name": "stderr",
     "output_type": "stream",
     "text": [
      "c:\\Users\\martj\\miniconda3\\envs\\py38\\lib\\site-packages\\sklearn\\linear_model\\_sag.py:350: ConvergenceWarning: The max_iter was reached which means the coef_ did not converge\n",
      "  warnings.warn(\n",
      "c:\\Users\\martj\\miniconda3\\envs\\py38\\lib\\site-packages\\sklearn\\linear_model\\_sag.py:350: ConvergenceWarning: The max_iter was reached which means the coef_ did not converge\n",
      "  warnings.warn(\n",
      "c:\\Users\\martj\\miniconda3\\envs\\py38\\lib\\site-packages\\sklearn\\linear_model\\_sag.py:350: ConvergenceWarning: The max_iter was reached which means the coef_ did not converge\n",
      "  warnings.warn(\n",
      "c:\\Users\\martj\\miniconda3\\envs\\py38\\lib\\site-packages\\sklearn\\linear_model\\_sag.py:350: ConvergenceWarning: The max_iter was reached which means the coef_ did not converge\n",
      "  warnings.warn(\n",
      "c:\\Users\\martj\\miniconda3\\envs\\py38\\lib\\site-packages\\sklearn\\linear_model\\_sag.py:350: ConvergenceWarning: The max_iter was reached which means the coef_ did not converge\n",
      "  warnings.warn(\n",
      "c:\\Users\\martj\\miniconda3\\envs\\py38\\lib\\site-packages\\sklearn\\linear_model\\_sag.py:350: ConvergenceWarning: The max_iter was reached which means the coef_ did not converge\n",
      "  warnings.warn(\n",
      "c:\\Users\\martj\\miniconda3\\envs\\py38\\lib\\site-packages\\sklearn\\linear_model\\_sag.py:350: ConvergenceWarning: The max_iter was reached which means the coef_ did not converge\n",
      "  warnings.warn(\n",
      "c:\\Users\\martj\\miniconda3\\envs\\py38\\lib\\site-packages\\sklearn\\linear_model\\_sag.py:350: ConvergenceWarning: The max_iter was reached which means the coef_ did not converge\n",
      "  warnings.warn(\n"
     ]
    },
    {
     "name": "stdout",
     "output_type": "stream",
     "text": [
      "[CV] END C=1, fit_intercept=True, max_iter=100, penalty=l2, solver=saga; total time=   0.0s\n",
      "[CV] END C=1, fit_intercept=True, max_iter=200, penalty=l1, solver=newton-cg; total time=   0.0s\n",
      "[CV] END C=1, fit_intercept=True, max_iter=200, penalty=l1, solver=newton-cg; total time=   0.0s\n",
      "[CV] END C=1, fit_intercept=True, max_iter=200, penalty=l1, solver=newton-cg; total time=   0.0s\n",
      "[CV] END C=1, fit_intercept=True, max_iter=200, penalty=l1, solver=newton-cg; total time=   0.0s\n",
      "[CV] END C=1, fit_intercept=True, max_iter=200, penalty=l1, solver=newton-cg; total time=   0.0s\n",
      "[CV] END C=1, fit_intercept=True, max_iter=200, penalty=l1, solver=lbfgs; total time=   0.0s\n",
      "[CV] END C=1, fit_intercept=True, max_iter=200, penalty=l1, solver=lbfgs; total time=   0.0s\n",
      "[CV] END C=1, fit_intercept=True, max_iter=200, penalty=l1, solver=lbfgs; total time=   0.0s\n",
      "[CV] END C=1, fit_intercept=True, max_iter=200, penalty=l1, solver=lbfgs; total time=   0.0s\n",
      "[CV] END C=1, fit_intercept=True, max_iter=200, penalty=l1, solver=lbfgs; total time=   0.0s\n",
      "[CV] END C=1, fit_intercept=True, max_iter=200, penalty=l1, solver=liblinear; total time=   0.0s\n",
      "[CV] END C=1, fit_intercept=True, max_iter=200, penalty=l1, solver=liblinear; total time=   0.0s\n",
      "[CV] END C=1, fit_intercept=True, max_iter=200, penalty=l1, solver=liblinear; total time=   0.0s\n",
      "[CV] END C=1, fit_intercept=True, max_iter=200, penalty=l1, solver=liblinear; total time=   0.0s\n",
      "[CV] END C=1, fit_intercept=True, max_iter=200, penalty=l1, solver=liblinear; total time=   0.0s\n",
      "[CV] END C=1, fit_intercept=True, max_iter=200, penalty=l1, solver=sag; total time=   0.0s\n",
      "[CV] END C=1, fit_intercept=True, max_iter=200, penalty=l1, solver=sag; total time=   0.0s\n",
      "[CV] END C=1, fit_intercept=True, max_iter=200, penalty=l1, solver=sag; total time=   0.0s\n",
      "[CV] END C=1, fit_intercept=True, max_iter=200, penalty=l1, solver=sag; total time=   0.0s\n",
      "[CV] END C=1, fit_intercept=True, max_iter=200, penalty=l1, solver=sag; total time=   0.0s\n",
      "[CV] END C=1, fit_intercept=True, max_iter=200, penalty=l1, solver=saga; total time=   0.0s\n"
     ]
    },
    {
     "name": "stderr",
     "output_type": "stream",
     "text": [
      "c:\\Users\\martj\\miniconda3\\envs\\py38\\lib\\site-packages\\sklearn\\linear_model\\_sag.py:350: ConvergenceWarning: The max_iter was reached which means the coef_ did not converge\n",
      "  warnings.warn(\n",
      "c:\\Users\\martj\\miniconda3\\envs\\py38\\lib\\site-packages\\sklearn\\linear_model\\_sag.py:350: ConvergenceWarning: The max_iter was reached which means the coef_ did not converge\n",
      "  warnings.warn(\n",
      "c:\\Users\\martj\\miniconda3\\envs\\py38\\lib\\site-packages\\sklearn\\linear_model\\_sag.py:350: ConvergenceWarning: The max_iter was reached which means the coef_ did not converge\n",
      "  warnings.warn(\n",
      "c:\\Users\\martj\\miniconda3\\envs\\py38\\lib\\site-packages\\sklearn\\linear_model\\_sag.py:350: ConvergenceWarning: The max_iter was reached which means the coef_ did not converge\n",
      "  warnings.warn(\n",
      "c:\\Users\\martj\\miniconda3\\envs\\py38\\lib\\site-packages\\sklearn\\linear_model\\_sag.py:350: ConvergenceWarning: The max_iter was reached which means the coef_ did not converge\n",
      "  warnings.warn(\n"
     ]
    },
    {
     "name": "stdout",
     "output_type": "stream",
     "text": [
      "[CV] END C=1, fit_intercept=True, max_iter=200, penalty=l1, solver=saga; total time=   0.0s\n",
      "[CV] END C=1, fit_intercept=True, max_iter=200, penalty=l1, solver=saga; total time=   0.0s\n",
      "[CV] END C=1, fit_intercept=True, max_iter=200, penalty=l1, solver=saga; total time=   0.0s\n",
      "[CV] END C=1, fit_intercept=True, max_iter=200, penalty=l1, solver=saga; total time=   0.0s\n",
      "[CV] END C=1, fit_intercept=True, max_iter=200, penalty=l2, solver=newton-cg; total time=   0.0s\n",
      "[CV] END C=1, fit_intercept=True, max_iter=200, penalty=l2, solver=newton-cg; total time=   0.0s\n",
      "[CV] END C=1, fit_intercept=True, max_iter=200, penalty=l2, solver=newton-cg; total time=   0.0s\n",
      "[CV] END C=1, fit_intercept=True, max_iter=200, penalty=l2, solver=newton-cg; total time=   0.0s\n",
      "[CV] END C=1, fit_intercept=True, max_iter=200, penalty=l2, solver=newton-cg; total time=   0.0s\n",
      "[CV] END C=1, fit_intercept=True, max_iter=200, penalty=l2, solver=lbfgs; total time=   0.0s\n",
      "[CV] END C=1, fit_intercept=True, max_iter=200, penalty=l2, solver=lbfgs; total time=   0.0s\n",
      "[CV] END C=1, fit_intercept=True, max_iter=200, penalty=l2, solver=lbfgs; total time=   0.0s\n",
      "[CV] END C=1, fit_intercept=True, max_iter=200, penalty=l2, solver=lbfgs; total time=   0.0s\n",
      "[CV] END C=1, fit_intercept=True, max_iter=200, penalty=l2, solver=lbfgs; total time=   0.0s\n",
      "[CV] END C=1, fit_intercept=True, max_iter=200, penalty=l2, solver=liblinear; total time=   0.0s\n",
      "[CV] END C=1, fit_intercept=True, max_iter=200, penalty=l2, solver=liblinear; total time=   0.0s\n",
      "[CV] END C=1, fit_intercept=True, max_iter=200, penalty=l2, solver=liblinear; total time=   0.0s\n",
      "[CV] END C=1, fit_intercept=True, max_iter=200, penalty=l2, solver=liblinear; total time=   0.0s\n",
      "[CV] END C=1, fit_intercept=True, max_iter=200, penalty=l2, solver=liblinear; total time=   0.0s\n",
      "[CV] END C=1, fit_intercept=True, max_iter=200, penalty=l2, solver=sag; total time=   0.0s\n",
      "[CV] END C=1, fit_intercept=True, max_iter=200, penalty=l2, solver=sag; total time=   0.0s\n"
     ]
    },
    {
     "name": "stderr",
     "output_type": "stream",
     "text": [
      "c:\\Users\\martj\\miniconda3\\envs\\py38\\lib\\site-packages\\sklearn\\linear_model\\_sag.py:350: ConvergenceWarning: The max_iter was reached which means the coef_ did not converge\n",
      "  warnings.warn(\n",
      "c:\\Users\\martj\\miniconda3\\envs\\py38\\lib\\site-packages\\sklearn\\linear_model\\_sag.py:350: ConvergenceWarning: The max_iter was reached which means the coef_ did not converge\n",
      "  warnings.warn(\n",
      "c:\\Users\\martj\\miniconda3\\envs\\py38\\lib\\site-packages\\sklearn\\linear_model\\_sag.py:350: ConvergenceWarning: The max_iter was reached which means the coef_ did not converge\n",
      "  warnings.warn(\n",
      "c:\\Users\\martj\\miniconda3\\envs\\py38\\lib\\site-packages\\sklearn\\linear_model\\_sag.py:350: ConvergenceWarning: The max_iter was reached which means the coef_ did not converge\n",
      "  warnings.warn(\n",
      "c:\\Users\\martj\\miniconda3\\envs\\py38\\lib\\site-packages\\sklearn\\linear_model\\_sag.py:350: ConvergenceWarning: The max_iter was reached which means the coef_ did not converge\n",
      "  warnings.warn(\n",
      "c:\\Users\\martj\\miniconda3\\envs\\py38\\lib\\site-packages\\sklearn\\linear_model\\_sag.py:350: ConvergenceWarning: The max_iter was reached which means the coef_ did not converge\n",
      "  warnings.warn(\n"
     ]
    },
    {
     "name": "stdout",
     "output_type": "stream",
     "text": [
      "[CV] END C=1, fit_intercept=True, max_iter=200, penalty=l2, solver=sag; total time=   0.0s\n",
      "[CV] END C=1, fit_intercept=True, max_iter=200, penalty=l2, solver=sag; total time=   0.0s\n",
      "[CV] END C=1, fit_intercept=True, max_iter=200, penalty=l2, solver=sag; total time=   0.0s\n",
      "[CV] END C=1, fit_intercept=True, max_iter=200, penalty=l2, solver=saga; total time=   0.0s\n",
      "[CV] END C=1, fit_intercept=True, max_iter=200, penalty=l2, solver=saga; total time=   0.0s\n"
     ]
    },
    {
     "name": "stderr",
     "output_type": "stream",
     "text": [
      "c:\\Users\\martj\\miniconda3\\envs\\py38\\lib\\site-packages\\sklearn\\linear_model\\_sag.py:350: ConvergenceWarning: The max_iter was reached which means the coef_ did not converge\n",
      "  warnings.warn(\n",
      "c:\\Users\\martj\\miniconda3\\envs\\py38\\lib\\site-packages\\sklearn\\linear_model\\_sag.py:350: ConvergenceWarning: The max_iter was reached which means the coef_ did not converge\n",
      "  warnings.warn(\n",
      "c:\\Users\\martj\\miniconda3\\envs\\py38\\lib\\site-packages\\sklearn\\linear_model\\_sag.py:350: ConvergenceWarning: The max_iter was reached which means the coef_ did not converge\n",
      "  warnings.warn(\n",
      "c:\\Users\\martj\\miniconda3\\envs\\py38\\lib\\site-packages\\sklearn\\linear_model\\_sag.py:350: ConvergenceWarning: The max_iter was reached which means the coef_ did not converge\n",
      "  warnings.warn(\n"
     ]
    },
    {
     "name": "stdout",
     "output_type": "stream",
     "text": [
      "[CV] END C=1, fit_intercept=True, max_iter=200, penalty=l2, solver=saga; total time=   0.0s\n",
      "[CV] END C=1, fit_intercept=True, max_iter=200, penalty=l2, solver=saga; total time=   0.0s\n",
      "[CV] END C=1, fit_intercept=True, max_iter=200, penalty=l2, solver=saga; total time=   0.0s\n",
      "[CV] END C=1, fit_intercept=True, max_iter=500, penalty=l1, solver=newton-cg; total time=   0.0s\n",
      "[CV] END C=1, fit_intercept=True, max_iter=500, penalty=l1, solver=newton-cg; total time=   0.0s\n",
      "[CV] END C=1, fit_intercept=True, max_iter=500, penalty=l1, solver=newton-cg; total time=   0.0s\n",
      "[CV] END C=1, fit_intercept=True, max_iter=500, penalty=l1, solver=newton-cg; total time=   0.0s\n",
      "[CV] END C=1, fit_intercept=True, max_iter=500, penalty=l1, solver=newton-cg; total time=   0.0s\n",
      "[CV] END C=1, fit_intercept=True, max_iter=500, penalty=l1, solver=lbfgs; total time=   0.0s\n",
      "[CV] END C=1, fit_intercept=True, max_iter=500, penalty=l1, solver=lbfgs; total time=   0.0s\n",
      "[CV] END C=1, fit_intercept=True, max_iter=500, penalty=l1, solver=lbfgs; total time=   0.0s\n",
      "[CV] END C=1, fit_intercept=True, max_iter=500, penalty=l1, solver=lbfgs; total time=   0.0s\n",
      "[CV] END C=1, fit_intercept=True, max_iter=500, penalty=l1, solver=lbfgs; total time=   0.0s\n",
      "[CV] END C=1, fit_intercept=True, max_iter=500, penalty=l1, solver=liblinear; total time=   0.0s\n",
      "[CV] END C=1, fit_intercept=True, max_iter=500, penalty=l1, solver=liblinear; total time=   0.0s\n",
      "[CV] END C=1, fit_intercept=True, max_iter=500, penalty=l1, solver=liblinear; total time=   0.0s\n",
      "[CV] END C=1, fit_intercept=True, max_iter=500, penalty=l1, solver=liblinear; total time=   0.0s\n",
      "[CV] END C=1, fit_intercept=True, max_iter=500, penalty=l1, solver=liblinear; total time=   0.0s\n",
      "[CV] END C=1, fit_intercept=True, max_iter=500, penalty=l1, solver=sag; total time=   0.0s\n",
      "[CV] END C=1, fit_intercept=True, max_iter=500, penalty=l1, solver=sag; total time=   0.0s\n",
      "[CV] END C=1, fit_intercept=True, max_iter=500, penalty=l1, solver=sag; total time=   0.0s\n",
      "[CV] END C=1, fit_intercept=True, max_iter=500, penalty=l1, solver=sag; total time=   0.0s\n",
      "[CV] END C=1, fit_intercept=True, max_iter=500, penalty=l1, solver=sag; total time=   0.0s\n"
     ]
    },
    {
     "name": "stderr",
     "output_type": "stream",
     "text": [
      "c:\\Users\\martj\\miniconda3\\envs\\py38\\lib\\site-packages\\sklearn\\linear_model\\_sag.py:350: ConvergenceWarning: The max_iter was reached which means the coef_ did not converge\n",
      "  warnings.warn(\n",
      "c:\\Users\\martj\\miniconda3\\envs\\py38\\lib\\site-packages\\sklearn\\linear_model\\_sag.py:350: ConvergenceWarning: The max_iter was reached which means the coef_ did not converge\n",
      "  warnings.warn(\n",
      "c:\\Users\\martj\\miniconda3\\envs\\py38\\lib\\site-packages\\sklearn\\linear_model\\_sag.py:350: ConvergenceWarning: The max_iter was reached which means the coef_ did not converge\n",
      "  warnings.warn(\n"
     ]
    },
    {
     "name": "stdout",
     "output_type": "stream",
     "text": [
      "[CV] END C=1, fit_intercept=True, max_iter=500, penalty=l1, solver=saga; total time=   0.0s\n",
      "[CV] END C=1, fit_intercept=True, max_iter=500, penalty=l1, solver=saga; total time=   0.0s\n",
      "[CV] END C=1, fit_intercept=True, max_iter=500, penalty=l1, solver=saga; total time=   0.0s\n"
     ]
    },
    {
     "name": "stderr",
     "output_type": "stream",
     "text": [
      "c:\\Users\\martj\\miniconda3\\envs\\py38\\lib\\site-packages\\sklearn\\linear_model\\_sag.py:350: ConvergenceWarning: The max_iter was reached which means the coef_ did not converge\n",
      "  warnings.warn(\n",
      "c:\\Users\\martj\\miniconda3\\envs\\py38\\lib\\site-packages\\sklearn\\linear_model\\_sag.py:350: ConvergenceWarning: The max_iter was reached which means the coef_ did not converge\n",
      "  warnings.warn(\n"
     ]
    },
    {
     "name": "stdout",
     "output_type": "stream",
     "text": [
      "[CV] END C=1, fit_intercept=True, max_iter=500, penalty=l1, solver=saga; total time=   0.0s\n",
      "[CV] END C=1, fit_intercept=True, max_iter=500, penalty=l1, solver=saga; total time=   0.0s\n",
      "[CV] END C=1, fit_intercept=True, max_iter=500, penalty=l2, solver=newton-cg; total time=   0.0s\n",
      "[CV] END C=1, fit_intercept=True, max_iter=500, penalty=l2, solver=newton-cg; total time=   0.0s\n",
      "[CV] END C=1, fit_intercept=True, max_iter=500, penalty=l2, solver=newton-cg; total time=   0.0s\n",
      "[CV] END C=1, fit_intercept=True, max_iter=500, penalty=l2, solver=newton-cg; total time=   0.0s\n",
      "[CV] END C=1, fit_intercept=True, max_iter=500, penalty=l2, solver=newton-cg; total time=   0.0s\n",
      "[CV] END C=1, fit_intercept=True, max_iter=500, penalty=l2, solver=lbfgs; total time=   0.0s\n",
      "[CV] END C=1, fit_intercept=True, max_iter=500, penalty=l2, solver=lbfgs; total time=   0.0s\n",
      "[CV] END C=1, fit_intercept=True, max_iter=500, penalty=l2, solver=lbfgs; total time=   0.0s\n",
      "[CV] END C=1, fit_intercept=True, max_iter=500, penalty=l2, solver=lbfgs; total time=   0.0s\n",
      "[CV] END C=1, fit_intercept=True, max_iter=500, penalty=l2, solver=lbfgs; total time=   0.0s\n",
      "[CV] END C=1, fit_intercept=True, max_iter=500, penalty=l2, solver=liblinear; total time=   0.0s\n",
      "[CV] END C=1, fit_intercept=True, max_iter=500, penalty=l2, solver=liblinear; total time=   0.0s\n",
      "[CV] END C=1, fit_intercept=True, max_iter=500, penalty=l2, solver=liblinear; total time=   0.0s\n",
      "[CV] END C=1, fit_intercept=True, max_iter=500, penalty=l2, solver=liblinear; total time=   0.0s\n",
      "[CV] END C=1, fit_intercept=True, max_iter=500, penalty=l2, solver=liblinear; total time=   0.0s\n",
      "[CV] END C=1, fit_intercept=True, max_iter=500, penalty=l2, solver=sag; total time=   0.0s\n"
     ]
    },
    {
     "name": "stderr",
     "output_type": "stream",
     "text": [
      "c:\\Users\\martj\\miniconda3\\envs\\py38\\lib\\site-packages\\sklearn\\linear_model\\_sag.py:350: ConvergenceWarning: The max_iter was reached which means the coef_ did not converge\n",
      "  warnings.warn(\n",
      "c:\\Users\\martj\\miniconda3\\envs\\py38\\lib\\site-packages\\sklearn\\linear_model\\_sag.py:350: ConvergenceWarning: The max_iter was reached which means the coef_ did not converge\n",
      "  warnings.warn(\n",
      "c:\\Users\\martj\\miniconda3\\envs\\py38\\lib\\site-packages\\sklearn\\linear_model\\_sag.py:350: ConvergenceWarning: The max_iter was reached which means the coef_ did not converge\n",
      "  warnings.warn(\n"
     ]
    },
    {
     "name": "stdout",
     "output_type": "stream",
     "text": [
      "[CV] END C=1, fit_intercept=True, max_iter=500, penalty=l2, solver=sag; total time=   0.0s\n",
      "[CV] END C=1, fit_intercept=True, max_iter=500, penalty=l2, solver=sag; total time=   0.0s\n",
      "[CV] END C=1, fit_intercept=True, max_iter=500, penalty=l2, solver=sag; total time=   0.0s\n"
     ]
    },
    {
     "name": "stderr",
     "output_type": "stream",
     "text": [
      "c:\\Users\\martj\\miniconda3\\envs\\py38\\lib\\site-packages\\sklearn\\linear_model\\_sag.py:350: ConvergenceWarning: The max_iter was reached which means the coef_ did not converge\n",
      "  warnings.warn(\n",
      "c:\\Users\\martj\\miniconda3\\envs\\py38\\lib\\site-packages\\sklearn\\linear_model\\_sag.py:350: ConvergenceWarning: The max_iter was reached which means the coef_ did not converge\n",
      "  warnings.warn(\n",
      "c:\\Users\\martj\\miniconda3\\envs\\py38\\lib\\site-packages\\sklearn\\linear_model\\_sag.py:350: ConvergenceWarning: The max_iter was reached which means the coef_ did not converge\n",
      "  warnings.warn(\n"
     ]
    },
    {
     "name": "stdout",
     "output_type": "stream",
     "text": [
      "[CV] END C=1, fit_intercept=True, max_iter=500, penalty=l2, solver=sag; total time=   0.0s\n",
      "[CV] END C=1, fit_intercept=True, max_iter=500, penalty=l2, solver=saga; total time=   0.0s\n",
      "[CV] END C=1, fit_intercept=True, max_iter=500, penalty=l2, solver=saga; total time=   0.0s\n"
     ]
    },
    {
     "name": "stderr",
     "output_type": "stream",
     "text": [
      "c:\\Users\\martj\\miniconda3\\envs\\py38\\lib\\site-packages\\sklearn\\linear_model\\_sag.py:350: ConvergenceWarning: The max_iter was reached which means the coef_ did not converge\n",
      "  warnings.warn(\n",
      "c:\\Users\\martj\\miniconda3\\envs\\py38\\lib\\site-packages\\sklearn\\linear_model\\_sag.py:350: ConvergenceWarning: The max_iter was reached which means the coef_ did not converge\n",
      "  warnings.warn(\n",
      "c:\\Users\\martj\\miniconda3\\envs\\py38\\lib\\site-packages\\sklearn\\linear_model\\_sag.py:350: ConvergenceWarning: The max_iter was reached which means the coef_ did not converge\n",
      "  warnings.warn(\n"
     ]
    },
    {
     "name": "stdout",
     "output_type": "stream",
     "text": [
      "[CV] END C=1, fit_intercept=True, max_iter=500, penalty=l2, solver=saga; total time=   0.0s\n",
      "[CV] END C=1, fit_intercept=True, max_iter=500, penalty=l2, solver=saga; total time=   0.0s\n"
     ]
    },
    {
     "name": "stderr",
     "output_type": "stream",
     "text": [
      "c:\\Users\\martj\\miniconda3\\envs\\py38\\lib\\site-packages\\sklearn\\linear_model\\_sag.py:350: ConvergenceWarning: The max_iter was reached which means the coef_ did not converge\n",
      "  warnings.warn(\n",
      "c:\\Users\\martj\\miniconda3\\envs\\py38\\lib\\site-packages\\sklearn\\linear_model\\_sag.py:350: ConvergenceWarning: The max_iter was reached which means the coef_ did not converge\n",
      "  warnings.warn(\n",
      "c:\\Users\\martj\\miniconda3\\envs\\py38\\lib\\site-packages\\sklearn\\linear_model\\_sag.py:350: ConvergenceWarning: The max_iter was reached which means the coef_ did not converge\n",
      "  warnings.warn(\n",
      "c:\\Users\\martj\\miniconda3\\envs\\py38\\lib\\site-packages\\sklearn\\linear_model\\_sag.py:350: ConvergenceWarning: The max_iter was reached which means the coef_ did not converge\n",
      "  warnings.warn(\n"
     ]
    },
    {
     "name": "stdout",
     "output_type": "stream",
     "text": [
      "[CV] END C=1, fit_intercept=True, max_iter=500, penalty=l2, solver=saga; total time=   0.0s\n",
      "[CV] END C=1, fit_intercept=False, max_iter=50, penalty=l1, solver=newton-cg; total time=   0.0s\n",
      "[CV] END C=1, fit_intercept=False, max_iter=50, penalty=l1, solver=newton-cg; total time=   0.0s\n",
      "[CV] END C=1, fit_intercept=False, max_iter=50, penalty=l1, solver=newton-cg; total time=   0.0s\n",
      "[CV] END C=1, fit_intercept=False, max_iter=50, penalty=l1, solver=newton-cg; total time=   0.0s\n",
      "[CV] END C=1, fit_intercept=False, max_iter=50, penalty=l1, solver=newton-cg; total time=   0.0s\n",
      "[CV] END C=1, fit_intercept=False, max_iter=50, penalty=l1, solver=lbfgs; total time=   0.0s\n",
      "[CV] END C=1, fit_intercept=False, max_iter=50, penalty=l1, solver=lbfgs; total time=   0.0s\n",
      "[CV] END C=1, fit_intercept=False, max_iter=50, penalty=l1, solver=lbfgs; total time=   0.0s\n",
      "[CV] END C=1, fit_intercept=False, max_iter=50, penalty=l1, solver=lbfgs; total time=   0.0s\n",
      "[CV] END C=1, fit_intercept=False, max_iter=50, penalty=l1, solver=lbfgs; total time=   0.0s\n",
      "[CV] END C=1, fit_intercept=False, max_iter=50, penalty=l1, solver=liblinear; total time=   0.0s\n",
      "[CV] END C=1, fit_intercept=False, max_iter=50, penalty=l1, solver=liblinear; total time=   0.0s\n",
      "[CV] END C=1, fit_intercept=False, max_iter=50, penalty=l1, solver=liblinear; total time=   0.0s\n",
      "[CV] END C=1, fit_intercept=False, max_iter=50, penalty=l1, solver=liblinear; total time=   0.0s\n",
      "[CV] END C=1, fit_intercept=False, max_iter=50, penalty=l1, solver=liblinear; total time=   0.0s\n",
      "[CV] END C=1, fit_intercept=False, max_iter=50, penalty=l1, solver=sag; total time=   0.0s\n",
      "[CV] END C=1, fit_intercept=False, max_iter=50, penalty=l1, solver=sag; total time=   0.0s\n",
      "[CV] END C=1, fit_intercept=False, max_iter=50, penalty=l1, solver=sag; total time=   0.0s\n",
      "[CV] END C=1, fit_intercept=False, max_iter=50, penalty=l1, solver=sag; total time=   0.0s\n",
      "[CV] END C=1, fit_intercept=False, max_iter=50, penalty=l1, solver=sag; total time=   0.0s\n",
      "[CV] END C=1, fit_intercept=False, max_iter=50, penalty=l1, solver=saga; total time=   0.0s\n",
      "[CV] END C=1, fit_intercept=False, max_iter=50, penalty=l1, solver=saga; total time=   0.0s\n",
      "[CV] END C=1, fit_intercept=False, max_iter=50, penalty=l1, solver=saga; total time=   0.0s\n"
     ]
    },
    {
     "name": "stderr",
     "output_type": "stream",
     "text": [
      "c:\\Users\\martj\\miniconda3\\envs\\py38\\lib\\site-packages\\sklearn\\linear_model\\_sag.py:350: ConvergenceWarning: The max_iter was reached which means the coef_ did not converge\n",
      "  warnings.warn(\n",
      "c:\\Users\\martj\\miniconda3\\envs\\py38\\lib\\site-packages\\sklearn\\linear_model\\_sag.py:350: ConvergenceWarning: The max_iter was reached which means the coef_ did not converge\n",
      "  warnings.warn(\n",
      "c:\\Users\\martj\\miniconda3\\envs\\py38\\lib\\site-packages\\sklearn\\linear_model\\_logistic.py:460: ConvergenceWarning: lbfgs failed to converge (status=1):\n",
      "STOP: TOTAL NO. of ITERATIONS REACHED LIMIT.\n",
      "\n",
      "Increase the number of iterations (max_iter) or scale the data as shown in:\n",
      "    https://scikit-learn.org/stable/modules/preprocessing.html\n",
      "Please also refer to the documentation for alternative solver options:\n",
      "    https://scikit-learn.org/stable/modules/linear_model.html#logistic-regression\n",
      "  n_iter_i = _check_optimize_result(\n"
     ]
    },
    {
     "name": "stdout",
     "output_type": "stream",
     "text": [
      "[CV] END C=1, fit_intercept=False, max_iter=50, penalty=l1, solver=saga; total time=   0.0s\n",
      "[CV] END C=1, fit_intercept=False, max_iter=50, penalty=l1, solver=saga; total time=   0.0s\n",
      "[CV] END C=1, fit_intercept=False, max_iter=50, penalty=l2, solver=newton-cg; total time=   0.0s\n",
      "[CV] END C=1, fit_intercept=False, max_iter=50, penalty=l2, solver=newton-cg; total time=   0.0s\n",
      "[CV] END C=1, fit_intercept=False, max_iter=50, penalty=l2, solver=newton-cg; total time=   0.0s\n",
      "[CV] END C=1, fit_intercept=False, max_iter=50, penalty=l2, solver=newton-cg; total time=   0.0s\n",
      "[CV] END C=1, fit_intercept=False, max_iter=50, penalty=l2, solver=newton-cg; total time=   0.0s\n",
      "[CV] END C=1, fit_intercept=False, max_iter=50, penalty=l2, solver=lbfgs; total time=   0.0s\n"
     ]
    },
    {
     "name": "stderr",
     "output_type": "stream",
     "text": [
      "c:\\Users\\martj\\miniconda3\\envs\\py38\\lib\\site-packages\\sklearn\\linear_model\\_logistic.py:460: ConvergenceWarning: lbfgs failed to converge (status=1):\n",
      "STOP: TOTAL NO. of ITERATIONS REACHED LIMIT.\n",
      "\n",
      "Increase the number of iterations (max_iter) or scale the data as shown in:\n",
      "    https://scikit-learn.org/stable/modules/preprocessing.html\n",
      "Please also refer to the documentation for alternative solver options:\n",
      "    https://scikit-learn.org/stable/modules/linear_model.html#logistic-regression\n",
      "  n_iter_i = _check_optimize_result(\n",
      "c:\\Users\\martj\\miniconda3\\envs\\py38\\lib\\site-packages\\sklearn\\linear_model\\_logistic.py:460: ConvergenceWarning: lbfgs failed to converge (status=1):\n",
      "STOP: TOTAL NO. of ITERATIONS REACHED LIMIT.\n",
      "\n",
      "Increase the number of iterations (max_iter) or scale the data as shown in:\n",
      "    https://scikit-learn.org/stable/modules/preprocessing.html\n",
      "Please also refer to the documentation for alternative solver options:\n",
      "    https://scikit-learn.org/stable/modules/linear_model.html#logistic-regression\n",
      "  n_iter_i = _check_optimize_result(\n",
      "c:\\Users\\martj\\miniconda3\\envs\\py38\\lib\\site-packages\\sklearn\\linear_model\\_logistic.py:460: ConvergenceWarning: lbfgs failed to converge (status=1):\n",
      "STOP: TOTAL NO. of ITERATIONS REACHED LIMIT.\n",
      "\n",
      "Increase the number of iterations (max_iter) or scale the data as shown in:\n",
      "    https://scikit-learn.org/stable/modules/preprocessing.html\n",
      "Please also refer to the documentation for alternative solver options:\n",
      "    https://scikit-learn.org/stable/modules/linear_model.html#logistic-regression\n",
      "  n_iter_i = _check_optimize_result(\n",
      "c:\\Users\\martj\\miniconda3\\envs\\py38\\lib\\site-packages\\sklearn\\linear_model\\_logistic.py:460: ConvergenceWarning: lbfgs failed to converge (status=1):\n",
      "STOP: TOTAL NO. of ITERATIONS REACHED LIMIT.\n",
      "\n",
      "Increase the number of iterations (max_iter) or scale the data as shown in:\n",
      "    https://scikit-learn.org/stable/modules/preprocessing.html\n",
      "Please also refer to the documentation for alternative solver options:\n",
      "    https://scikit-learn.org/stable/modules/linear_model.html#logistic-regression\n",
      "  n_iter_i = _check_optimize_result(\n",
      "c:\\Users\\martj\\miniconda3\\envs\\py38\\lib\\site-packages\\sklearn\\linear_model\\_sag.py:350: ConvergenceWarning: The max_iter was reached which means the coef_ did not converge\n",
      "  warnings.warn(\n"
     ]
    },
    {
     "name": "stdout",
     "output_type": "stream",
     "text": [
      "[CV] END C=1, fit_intercept=False, max_iter=50, penalty=l2, solver=lbfgs; total time=   0.0s\n",
      "[CV] END C=1, fit_intercept=False, max_iter=50, penalty=l2, solver=lbfgs; total time=   0.0s\n",
      "[CV] END C=1, fit_intercept=False, max_iter=50, penalty=l2, solver=lbfgs; total time=   0.0s\n",
      "[CV] END C=1, fit_intercept=False, max_iter=50, penalty=l2, solver=lbfgs; total time=   0.0s\n",
      "[CV] END C=1, fit_intercept=False, max_iter=50, penalty=l2, solver=liblinear; total time=   0.0s\n",
      "[CV] END C=1, fit_intercept=False, max_iter=50, penalty=l2, solver=liblinear; total time=   0.0s\n",
      "[CV] END C=1, fit_intercept=False, max_iter=50, penalty=l2, solver=liblinear; total time=   0.0s\n",
      "[CV] END C=1, fit_intercept=False, max_iter=50, penalty=l2, solver=liblinear; total time=   0.0s\n",
      "[CV] END C=1, fit_intercept=False, max_iter=50, penalty=l2, solver=liblinear; total time=   0.0s\n",
      "[CV] END C=1, fit_intercept=False, max_iter=50, penalty=l2, solver=sag; total time=   0.0s\n"
     ]
    },
    {
     "name": "stderr",
     "output_type": "stream",
     "text": [
      "c:\\Users\\martj\\miniconda3\\envs\\py38\\lib\\site-packages\\sklearn\\linear_model\\_sag.py:350: ConvergenceWarning: The max_iter was reached which means the coef_ did not converge\n",
      "  warnings.warn(\n",
      "c:\\Users\\martj\\miniconda3\\envs\\py38\\lib\\site-packages\\sklearn\\linear_model\\_sag.py:350: ConvergenceWarning: The max_iter was reached which means the coef_ did not converge\n",
      "  warnings.warn(\n",
      "c:\\Users\\martj\\miniconda3\\envs\\py38\\lib\\site-packages\\sklearn\\linear_model\\_sag.py:350: ConvergenceWarning: The max_iter was reached which means the coef_ did not converge\n",
      "  warnings.warn(\n",
      "c:\\Users\\martj\\miniconda3\\envs\\py38\\lib\\site-packages\\sklearn\\linear_model\\_sag.py:350: ConvergenceWarning: The max_iter was reached which means the coef_ did not converge\n",
      "  warnings.warn(\n",
      "c:\\Users\\martj\\miniconda3\\envs\\py38\\lib\\site-packages\\sklearn\\linear_model\\_sag.py:350: ConvergenceWarning: The max_iter was reached which means the coef_ did not converge\n",
      "  warnings.warn(\n",
      "c:\\Users\\martj\\miniconda3\\envs\\py38\\lib\\site-packages\\sklearn\\linear_model\\_sag.py:350: ConvergenceWarning: The max_iter was reached which means the coef_ did not converge\n",
      "  warnings.warn(\n",
      "c:\\Users\\martj\\miniconda3\\envs\\py38\\lib\\site-packages\\sklearn\\linear_model\\_sag.py:350: ConvergenceWarning: The max_iter was reached which means the coef_ did not converge\n",
      "  warnings.warn(\n",
      "c:\\Users\\martj\\miniconda3\\envs\\py38\\lib\\site-packages\\sklearn\\linear_model\\_sag.py:350: ConvergenceWarning: The max_iter was reached which means the coef_ did not converge\n",
      "  warnings.warn(\n",
      "c:\\Users\\martj\\miniconda3\\envs\\py38\\lib\\site-packages\\sklearn\\linear_model\\_sag.py:350: ConvergenceWarning: The max_iter was reached which means the coef_ did not converge\n",
      "  warnings.warn(\n"
     ]
    },
    {
     "name": "stdout",
     "output_type": "stream",
     "text": [
      "[CV] END C=1, fit_intercept=False, max_iter=50, penalty=l2, solver=sag; total time=   0.0s\n",
      "[CV] END C=1, fit_intercept=False, max_iter=50, penalty=l2, solver=sag; total time=   0.0s\n",
      "[CV] END C=1, fit_intercept=False, max_iter=50, penalty=l2, solver=sag; total time=   0.0s\n",
      "[CV] END C=1, fit_intercept=False, max_iter=50, penalty=l2, solver=sag; total time=   0.0s\n",
      "[CV] END C=1, fit_intercept=False, max_iter=50, penalty=l2, solver=saga; total time=   0.0s\n",
      "[CV] END C=1, fit_intercept=False, max_iter=50, penalty=l2, solver=saga; total time=   0.0s\n",
      "[CV] END C=1, fit_intercept=False, max_iter=50, penalty=l2, solver=saga; total time=   0.0s\n",
      "[CV] END C=1, fit_intercept=False, max_iter=50, penalty=l2, solver=saga; total time=   0.0s\n",
      "[CV] END C=1, fit_intercept=False, max_iter=50, penalty=l2, solver=saga; total time=   0.0s\n",
      "[CV] END C=1, fit_intercept=False, max_iter=100, penalty=l1, solver=newton-cg; total time=   0.0s\n",
      "[CV] END C=1, fit_intercept=False, max_iter=100, penalty=l1, solver=newton-cg; total time=   0.0s\n",
      "[CV] END C=1, fit_intercept=False, max_iter=100, penalty=l1, solver=newton-cg; total time=   0.0s\n",
      "[CV] END C=1, fit_intercept=False, max_iter=100, penalty=l1, solver=newton-cg; total time=   0.0s\n",
      "[CV] END C=1, fit_intercept=False, max_iter=100, penalty=l1, solver=newton-cg; total time=   0.0s\n",
      "[CV] END C=1, fit_intercept=False, max_iter=100, penalty=l1, solver=lbfgs; total time=   0.0s\n",
      "[CV] END C=1, fit_intercept=False, max_iter=100, penalty=l1, solver=lbfgs; total time=   0.0s\n",
      "[CV] END C=1, fit_intercept=False, max_iter=100, penalty=l1, solver=lbfgs; total time=   0.0s\n",
      "[CV] END C=1, fit_intercept=False, max_iter=100, penalty=l1, solver=lbfgs; total time=   0.0s\n",
      "[CV] END C=1, fit_intercept=False, max_iter=100, penalty=l1, solver=lbfgs; total time=   0.0s\n",
      "[CV] END C=1, fit_intercept=False, max_iter=100, penalty=l1, solver=liblinear; total time=   0.0s\n",
      "[CV] END C=1, fit_intercept=False, max_iter=100, penalty=l1, solver=liblinear; total time=   0.0s\n",
      "[CV] END C=1, fit_intercept=False, max_iter=100, penalty=l1, solver=liblinear; total time=   0.0s\n",
      "[CV] END C=1, fit_intercept=False, max_iter=100, penalty=l1, solver=liblinear; total time=   0.0s\n",
      "[CV] END C=1, fit_intercept=False, max_iter=100, penalty=l1, solver=liblinear; total time=   0.0s\n",
      "[CV] END C=1, fit_intercept=False, max_iter=100, penalty=l1, solver=sag; total time=   0.0s\n",
      "[CV] END C=1, fit_intercept=False, max_iter=100, penalty=l1, solver=sag; total time=   0.0s\n",
      "[CV] END C=1, fit_intercept=False, max_iter=100, penalty=l1, solver=sag; total time=   0.0s\n",
      "[CV] END C=1, fit_intercept=False, max_iter=100, penalty=l1, solver=sag; total time=   0.0s\n",
      "[CV] END C=1, fit_intercept=False, max_iter=100, penalty=l1, solver=sag; total time=   0.0s\n",
      "[CV] END C=1, fit_intercept=False, max_iter=100, penalty=l1, solver=saga; total time=   0.0s\n",
      "[CV] END C=1, fit_intercept=False, max_iter=100, penalty=l1, solver=saga; total time=   0.0s\n",
      "[CV] END C=1, fit_intercept=False, max_iter=100, penalty=l1, solver=saga; total time=   0.0s\n",
      "[CV] END C=1, fit_intercept=False, max_iter=100, penalty=l1, solver=saga; total time=   0.0s\n",
      "[CV] END C=1, fit_intercept=False, max_iter=100, penalty=l1, solver=saga; total time=   0.0s\n",
      "[CV] END C=1, fit_intercept=False, max_iter=100, penalty=l2, solver=newton-cg; total time=   0.0s\n",
      "[CV] END C=1, fit_intercept=False, max_iter=100, penalty=l2, solver=newton-cg; total time=   0.0s\n"
     ]
    },
    {
     "name": "stderr",
     "output_type": "stream",
     "text": [
      "c:\\Users\\martj\\miniconda3\\envs\\py38\\lib\\site-packages\\sklearn\\linear_model\\_sag.py:350: ConvergenceWarning: The max_iter was reached which means the coef_ did not converge\n",
      "  warnings.warn(\n",
      "c:\\Users\\martj\\miniconda3\\envs\\py38\\lib\\site-packages\\sklearn\\linear_model\\_sag.py:350: ConvergenceWarning: The max_iter was reached which means the coef_ did not converge\n",
      "  warnings.warn(\n",
      "c:\\Users\\martj\\miniconda3\\envs\\py38\\lib\\site-packages\\sklearn\\linear_model\\_sag.py:350: ConvergenceWarning: The max_iter was reached which means the coef_ did not converge\n",
      "  warnings.warn(\n",
      "c:\\Users\\martj\\miniconda3\\envs\\py38\\lib\\site-packages\\sklearn\\linear_model\\_sag.py:350: ConvergenceWarning: The max_iter was reached which means the coef_ did not converge\n",
      "  warnings.warn(\n",
      "c:\\Users\\martj\\miniconda3\\envs\\py38\\lib\\site-packages\\sklearn\\linear_model\\_sag.py:350: ConvergenceWarning: The max_iter was reached which means the coef_ did not converge\n",
      "  warnings.warn(\n"
     ]
    },
    {
     "name": "stdout",
     "output_type": "stream",
     "text": [
      "[CV] END C=1, fit_intercept=False, max_iter=100, penalty=l2, solver=newton-cg; total time=   0.0s\n",
      "[CV] END C=1, fit_intercept=False, max_iter=100, penalty=l2, solver=newton-cg; total time=   0.0s\n",
      "[CV] END C=1, fit_intercept=False, max_iter=100, penalty=l2, solver=newton-cg; total time=   0.0s\n",
      "[CV] END C=1, fit_intercept=False, max_iter=100, penalty=l2, solver=lbfgs; total time=   0.0s\n",
      "[CV] END C=1, fit_intercept=False, max_iter=100, penalty=l2, solver=lbfgs; total time=   0.0s\n",
      "[CV] END C=1, fit_intercept=False, max_iter=100, penalty=l2, solver=lbfgs; total time=   0.0s\n",
      "[CV] END C=1, fit_intercept=False, max_iter=100, penalty=l2, solver=lbfgs; total time=   0.0s\n",
      "[CV] END C=1, fit_intercept=False, max_iter=100, penalty=l2, solver=lbfgs; total time=   0.0s\n",
      "[CV] END C=1, fit_intercept=False, max_iter=100, penalty=l2, solver=liblinear; total time=   0.0s\n",
      "[CV] END C=1, fit_intercept=False, max_iter=100, penalty=l2, solver=liblinear; total time=   0.0s\n",
      "[CV] END C=1, fit_intercept=False, max_iter=100, penalty=l2, solver=liblinear; total time=   0.0s\n",
      "[CV] END C=1, fit_intercept=False, max_iter=100, penalty=l2, solver=liblinear; total time=   0.0s\n",
      "[CV] END C=1, fit_intercept=False, max_iter=100, penalty=l2, solver=liblinear; total time=   0.0s\n",
      "[CV] END C=1, fit_intercept=False, max_iter=100, penalty=l2, solver=sag; total time=   0.0s\n",
      "[CV] END C=1, fit_intercept=False, max_iter=100, penalty=l2, solver=sag; total time=   0.0s\n",
      "[CV] END C=1, fit_intercept=False, max_iter=100, penalty=l2, solver=sag; total time=   0.0s\n",
      "[CV] END C=1, fit_intercept=False, max_iter=100, penalty=l2, solver=sag; total time=   0.0s\n",
      "[CV] END C=1, fit_intercept=False, max_iter=100, penalty=l2, solver=sag; total time=   0.0s\n",
      "[CV] END C=1, fit_intercept=False, max_iter=100, penalty=l2, solver=saga; total time=   0.0s\n"
     ]
    },
    {
     "name": "stderr",
     "output_type": "stream",
     "text": [
      "c:\\Users\\martj\\miniconda3\\envs\\py38\\lib\\site-packages\\sklearn\\linear_model\\_sag.py:350: ConvergenceWarning: The max_iter was reached which means the coef_ did not converge\n",
      "  warnings.warn(\n",
      "c:\\Users\\martj\\miniconda3\\envs\\py38\\lib\\site-packages\\sklearn\\linear_model\\_sag.py:350: ConvergenceWarning: The max_iter was reached which means the coef_ did not converge\n",
      "  warnings.warn(\n",
      "c:\\Users\\martj\\miniconda3\\envs\\py38\\lib\\site-packages\\sklearn\\linear_model\\_sag.py:350: ConvergenceWarning: The max_iter was reached which means the coef_ did not converge\n",
      "  warnings.warn(\n",
      "c:\\Users\\martj\\miniconda3\\envs\\py38\\lib\\site-packages\\sklearn\\linear_model\\_sag.py:350: ConvergenceWarning: The max_iter was reached which means the coef_ did not converge\n",
      "  warnings.warn(\n",
      "c:\\Users\\martj\\miniconda3\\envs\\py38\\lib\\site-packages\\sklearn\\linear_model\\_sag.py:350: ConvergenceWarning: The max_iter was reached which means the coef_ did not converge\n",
      "  warnings.warn(\n",
      "c:\\Users\\martj\\miniconda3\\envs\\py38\\lib\\site-packages\\sklearn\\linear_model\\_sag.py:350: ConvergenceWarning: The max_iter was reached which means the coef_ did not converge\n",
      "  warnings.warn(\n",
      "c:\\Users\\martj\\miniconda3\\envs\\py38\\lib\\site-packages\\sklearn\\linear_model\\_sag.py:350: ConvergenceWarning: The max_iter was reached which means the coef_ did not converge\n",
      "  warnings.warn(\n",
      "c:\\Users\\martj\\miniconda3\\envs\\py38\\lib\\site-packages\\sklearn\\linear_model\\_sag.py:350: ConvergenceWarning: The max_iter was reached which means the coef_ did not converge\n",
      "  warnings.warn(\n",
      "c:\\Users\\martj\\miniconda3\\envs\\py38\\lib\\site-packages\\sklearn\\linear_model\\_sag.py:350: ConvergenceWarning: The max_iter was reached which means the coef_ did not converge\n",
      "  warnings.warn(\n"
     ]
    },
    {
     "name": "stdout",
     "output_type": "stream",
     "text": [
      "[CV] END C=1, fit_intercept=False, max_iter=100, penalty=l2, solver=saga; total time=   0.0s\n",
      "[CV] END C=1, fit_intercept=False, max_iter=100, penalty=l2, solver=saga; total time=   0.0s\n",
      "[CV] END C=1, fit_intercept=False, max_iter=100, penalty=l2, solver=saga; total time=   0.0s\n",
      "[CV] END C=1, fit_intercept=False, max_iter=100, penalty=l2, solver=saga; total time=   0.0s\n",
      "[CV] END C=1, fit_intercept=False, max_iter=200, penalty=l1, solver=newton-cg; total time=   0.0s\n",
      "[CV] END C=1, fit_intercept=False, max_iter=200, penalty=l1, solver=newton-cg; total time=   0.0s\n",
      "[CV] END C=1, fit_intercept=False, max_iter=200, penalty=l1, solver=newton-cg; total time=   0.0s\n",
      "[CV] END C=1, fit_intercept=False, max_iter=200, penalty=l1, solver=newton-cg; total time=   0.0s\n",
      "[CV] END C=1, fit_intercept=False, max_iter=200, penalty=l1, solver=newton-cg; total time=   0.0s\n",
      "[CV] END C=1, fit_intercept=False, max_iter=200, penalty=l1, solver=lbfgs; total time=   0.0s\n",
      "[CV] END C=1, fit_intercept=False, max_iter=200, penalty=l1, solver=lbfgs; total time=   0.0s\n",
      "[CV] END C=1, fit_intercept=False, max_iter=200, penalty=l1, solver=lbfgs; total time=   0.0s\n",
      "[CV] END C=1, fit_intercept=False, max_iter=200, penalty=l1, solver=lbfgs; total time=   0.0s\n",
      "[CV] END C=1, fit_intercept=False, max_iter=200, penalty=l1, solver=lbfgs; total time=   0.0s\n",
      "[CV] END C=1, fit_intercept=False, max_iter=200, penalty=l1, solver=liblinear; total time=   0.0s\n",
      "[CV] END C=1, fit_intercept=False, max_iter=200, penalty=l1, solver=liblinear; total time=   0.0s\n",
      "[CV] END C=1, fit_intercept=False, max_iter=200, penalty=l1, solver=liblinear; total time=   0.0s\n",
      "[CV] END C=1, fit_intercept=False, max_iter=200, penalty=l1, solver=liblinear; total time=   0.0s\n",
      "[CV] END C=1, fit_intercept=False, max_iter=200, penalty=l1, solver=liblinear; total time=   0.0s\n",
      "[CV] END C=1, fit_intercept=False, max_iter=200, penalty=l1, solver=sag; total time=   0.0s\n",
      "[CV] END C=1, fit_intercept=False, max_iter=200, penalty=l1, solver=sag; total time=   0.0s\n",
      "[CV] END C=1, fit_intercept=False, max_iter=200, penalty=l1, solver=sag; total time=   0.0s\n",
      "[CV] END C=1, fit_intercept=False, max_iter=200, penalty=l1, solver=sag; total time=   0.0s\n",
      "[CV] END C=1, fit_intercept=False, max_iter=200, penalty=l1, solver=sag; total time=   0.0s\n"
     ]
    },
    {
     "name": "stderr",
     "output_type": "stream",
     "text": [
      "c:\\Users\\martj\\miniconda3\\envs\\py38\\lib\\site-packages\\sklearn\\linear_model\\_sag.py:350: ConvergenceWarning: The max_iter was reached which means the coef_ did not converge\n",
      "  warnings.warn(\n",
      "c:\\Users\\martj\\miniconda3\\envs\\py38\\lib\\site-packages\\sklearn\\linear_model\\_sag.py:350: ConvergenceWarning: The max_iter was reached which means the coef_ did not converge\n",
      "  warnings.warn(\n",
      "c:\\Users\\martj\\miniconda3\\envs\\py38\\lib\\site-packages\\sklearn\\linear_model\\_sag.py:350: ConvergenceWarning: The max_iter was reached which means the coef_ did not converge\n",
      "  warnings.warn(\n"
     ]
    },
    {
     "name": "stdout",
     "output_type": "stream",
     "text": [
      "[CV] END C=1, fit_intercept=False, max_iter=200, penalty=l1, solver=saga; total time=   0.0s\n",
      "[CV] END C=1, fit_intercept=False, max_iter=200, penalty=l1, solver=saga; total time=   0.0s\n",
      "[CV] END C=1, fit_intercept=False, max_iter=200, penalty=l1, solver=saga; total time=   0.0s\n",
      "[CV] END C=1, fit_intercept=False, max_iter=200, penalty=l1, solver=saga; total time=   0.0s\n",
      "[CV] END C=1, fit_intercept=False, max_iter=200, penalty=l1, solver=saga; total time=   0.0s\n",
      "[CV] END C=1, fit_intercept=False, max_iter=200, penalty=l2, solver=newton-cg; total time=   0.0s\n"
     ]
    },
    {
     "name": "stderr",
     "output_type": "stream",
     "text": [
      "c:\\Users\\martj\\miniconda3\\envs\\py38\\lib\\site-packages\\sklearn\\linear_model\\_sag.py:350: ConvergenceWarning: The max_iter was reached which means the coef_ did not converge\n",
      "  warnings.warn(\n",
      "c:\\Users\\martj\\miniconda3\\envs\\py38\\lib\\site-packages\\sklearn\\linear_model\\_sag.py:350: ConvergenceWarning: The max_iter was reached which means the coef_ did not converge\n",
      "  warnings.warn(\n",
      "c:\\Users\\martj\\miniconda3\\envs\\py38\\lib\\site-packages\\sklearn\\linear_model\\_sag.py:350: ConvergenceWarning: The max_iter was reached which means the coef_ did not converge\n",
      "  warnings.warn(\n"
     ]
    },
    {
     "name": "stdout",
     "output_type": "stream",
     "text": [
      "[CV] END C=1, fit_intercept=False, max_iter=200, penalty=l2, solver=newton-cg; total time=   0.0s\n",
      "[CV] END C=1, fit_intercept=False, max_iter=200, penalty=l2, solver=newton-cg; total time=   0.0s\n",
      "[CV] END C=1, fit_intercept=False, max_iter=200, penalty=l2, solver=newton-cg; total time=   0.0s\n",
      "[CV] END C=1, fit_intercept=False, max_iter=200, penalty=l2, solver=newton-cg; total time=   0.0s\n",
      "[CV] END C=1, fit_intercept=False, max_iter=200, penalty=l2, solver=lbfgs; total time=   0.0s\n",
      "[CV] END C=1, fit_intercept=False, max_iter=200, penalty=l2, solver=lbfgs; total time=   0.0s\n",
      "[CV] END C=1, fit_intercept=False, max_iter=200, penalty=l2, solver=lbfgs; total time=   0.0s\n",
      "[CV] END C=1, fit_intercept=False, max_iter=200, penalty=l2, solver=lbfgs; total time=   0.0s\n",
      "[CV] END C=1, fit_intercept=False, max_iter=200, penalty=l2, solver=lbfgs; total time=   0.0s\n",
      "[CV] END C=1, fit_intercept=False, max_iter=200, penalty=l2, solver=liblinear; total time=   0.0s\n",
      "[CV] END C=1, fit_intercept=False, max_iter=200, penalty=l2, solver=liblinear; total time=   0.0s\n",
      "[CV] END C=1, fit_intercept=False, max_iter=200, penalty=l2, solver=liblinear; total time=   0.0s\n",
      "[CV] END C=1, fit_intercept=False, max_iter=200, penalty=l2, solver=liblinear; total time=   0.0s\n",
      "[CV] END C=1, fit_intercept=False, max_iter=200, penalty=l2, solver=liblinear; total time=   0.0s\n",
      "[CV] END C=1, fit_intercept=False, max_iter=200, penalty=l2, solver=sag; total time=   0.0s\n",
      "[CV] END C=1, fit_intercept=False, max_iter=200, penalty=l2, solver=sag; total time=   0.0s\n",
      "[CV] END C=1, fit_intercept=False, max_iter=200, penalty=l2, solver=sag; total time=   0.0s\n",
      "[CV] END C=1, fit_intercept=False, max_iter=200, penalty=l2, solver=sag; total time=   0.0s\n"
     ]
    },
    {
     "name": "stderr",
     "output_type": "stream",
     "text": [
      "c:\\Users\\martj\\miniconda3\\envs\\py38\\lib\\site-packages\\sklearn\\linear_model\\_sag.py:350: ConvergenceWarning: The max_iter was reached which means the coef_ did not converge\n",
      "  warnings.warn(\n",
      "c:\\Users\\martj\\miniconda3\\envs\\py38\\lib\\site-packages\\sklearn\\linear_model\\_sag.py:350: ConvergenceWarning: The max_iter was reached which means the coef_ did not converge\n",
      "  warnings.warn(\n",
      "c:\\Users\\martj\\miniconda3\\envs\\py38\\lib\\site-packages\\sklearn\\linear_model\\_sag.py:350: ConvergenceWarning: The max_iter was reached which means the coef_ did not converge\n",
      "  warnings.warn(\n",
      "c:\\Users\\martj\\miniconda3\\envs\\py38\\lib\\site-packages\\sklearn\\linear_model\\_sag.py:350: ConvergenceWarning: The max_iter was reached which means the coef_ did not converge\n",
      "  warnings.warn(\n",
      "c:\\Users\\martj\\miniconda3\\envs\\py38\\lib\\site-packages\\sklearn\\linear_model\\_sag.py:350: ConvergenceWarning: The max_iter was reached which means the coef_ did not converge\n",
      "  warnings.warn(\n",
      "c:\\Users\\martj\\miniconda3\\envs\\py38\\lib\\site-packages\\sklearn\\linear_model\\_sag.py:350: ConvergenceWarning: The max_iter was reached which means the coef_ did not converge\n",
      "  warnings.warn(\n"
     ]
    },
    {
     "name": "stdout",
     "output_type": "stream",
     "text": [
      "[CV] END C=1, fit_intercept=False, max_iter=200, penalty=l2, solver=sag; total time=   0.0s\n",
      "[CV] END C=1, fit_intercept=False, max_iter=200, penalty=l2, solver=saga; total time=   0.0s\n",
      "[CV] END C=1, fit_intercept=False, max_iter=200, penalty=l2, solver=saga; total time=   0.0s\n",
      "[CV] END C=1, fit_intercept=False, max_iter=200, penalty=l2, solver=saga; total time=   0.0s\n",
      "[CV] END C=1, fit_intercept=False, max_iter=200, penalty=l2, solver=saga; total time=   0.0s\n"
     ]
    },
    {
     "name": "stderr",
     "output_type": "stream",
     "text": [
      "c:\\Users\\martj\\miniconda3\\envs\\py38\\lib\\site-packages\\sklearn\\linear_model\\_sag.py:350: ConvergenceWarning: The max_iter was reached which means the coef_ did not converge\n",
      "  warnings.warn(\n",
      "c:\\Users\\martj\\miniconda3\\envs\\py38\\lib\\site-packages\\sklearn\\linear_model\\_sag.py:350: ConvergenceWarning: The max_iter was reached which means the coef_ did not converge\n",
      "  warnings.warn(\n",
      "c:\\Users\\martj\\miniconda3\\envs\\py38\\lib\\site-packages\\sklearn\\linear_model\\_sag.py:350: ConvergenceWarning: The max_iter was reached which means the coef_ did not converge\n",
      "  warnings.warn(\n",
      "c:\\Users\\martj\\miniconda3\\envs\\py38\\lib\\site-packages\\sklearn\\linear_model\\_sag.py:350: ConvergenceWarning: The max_iter was reached which means the coef_ did not converge\n",
      "  warnings.warn(\n"
     ]
    },
    {
     "name": "stdout",
     "output_type": "stream",
     "text": [
      "[CV] END C=1, fit_intercept=False, max_iter=200, penalty=l2, solver=saga; total time=   0.0s\n",
      "[CV] END C=1, fit_intercept=False, max_iter=500, penalty=l1, solver=newton-cg; total time=   0.0s\n",
      "[CV] END C=1, fit_intercept=False, max_iter=500, penalty=l1, solver=newton-cg; total time=   0.0s\n",
      "[CV] END C=1, fit_intercept=False, max_iter=500, penalty=l1, solver=newton-cg; total time=   0.0s\n",
      "[CV] END C=1, fit_intercept=False, max_iter=500, penalty=l1, solver=newton-cg; total time=   0.0s\n",
      "[CV] END C=1, fit_intercept=False, max_iter=500, penalty=l1, solver=newton-cg; total time=   0.0s\n",
      "[CV] END C=1, fit_intercept=False, max_iter=500, penalty=l1, solver=lbfgs; total time=   0.0s\n",
      "[CV] END C=1, fit_intercept=False, max_iter=500, penalty=l1, solver=lbfgs; total time=   0.0s\n",
      "[CV] END C=1, fit_intercept=False, max_iter=500, penalty=l1, solver=lbfgs; total time=   0.0s\n",
      "[CV] END C=1, fit_intercept=False, max_iter=500, penalty=l1, solver=lbfgs; total time=   0.0s\n",
      "[CV] END C=1, fit_intercept=False, max_iter=500, penalty=l1, solver=lbfgs; total time=   0.0s\n",
      "[CV] END C=1, fit_intercept=False, max_iter=500, penalty=l1, solver=liblinear; total time=   0.0s\n",
      "[CV] END C=1, fit_intercept=False, max_iter=500, penalty=l1, solver=liblinear; total time=   0.0s\n",
      "[CV] END C=1, fit_intercept=False, max_iter=500, penalty=l1, solver=liblinear; total time=   0.0s\n",
      "[CV] END C=1, fit_intercept=False, max_iter=500, penalty=l1, solver=liblinear; total time=   0.0s\n",
      "[CV] END C=1, fit_intercept=False, max_iter=500, penalty=l1, solver=liblinear; total time=   0.0s\n",
      "[CV] END C=1, fit_intercept=False, max_iter=500, penalty=l1, solver=sag; total time=   0.0s\n",
      "[CV] END C=1, fit_intercept=False, max_iter=500, penalty=l1, solver=sag; total time=   0.0s\n",
      "[CV] END C=1, fit_intercept=False, max_iter=500, penalty=l1, solver=sag; total time=   0.0s\n",
      "[CV] END C=1, fit_intercept=False, max_iter=500, penalty=l1, solver=sag; total time=   0.0s\n",
      "[CV] END C=1, fit_intercept=False, max_iter=500, penalty=l1, solver=sag; total time=   0.0s\n",
      "[CV] END C=1, fit_intercept=False, max_iter=500, penalty=l1, solver=saga; total time=   0.0s\n"
     ]
    },
    {
     "name": "stderr",
     "output_type": "stream",
     "text": [
      "c:\\Users\\martj\\miniconda3\\envs\\py38\\lib\\site-packages\\sklearn\\linear_model\\_sag.py:350: ConvergenceWarning: The max_iter was reached which means the coef_ did not converge\n",
      "  warnings.warn(\n",
      "c:\\Users\\martj\\miniconda3\\envs\\py38\\lib\\site-packages\\sklearn\\linear_model\\_sag.py:350: ConvergenceWarning: The max_iter was reached which means the coef_ did not converge\n",
      "  warnings.warn(\n",
      "c:\\Users\\martj\\miniconda3\\envs\\py38\\lib\\site-packages\\sklearn\\linear_model\\_sag.py:350: ConvergenceWarning: The max_iter was reached which means the coef_ did not converge\n",
      "  warnings.warn(\n"
     ]
    },
    {
     "name": "stdout",
     "output_type": "stream",
     "text": [
      "[CV] END C=1, fit_intercept=False, max_iter=500, penalty=l1, solver=saga; total time=   0.0s\n",
      "[CV] END C=1, fit_intercept=False, max_iter=500, penalty=l1, solver=saga; total time=   0.0s\n",
      "[CV] END C=1, fit_intercept=False, max_iter=500, penalty=l1, solver=saga; total time=   0.0s\n"
     ]
    },
    {
     "name": "stderr",
     "output_type": "stream",
     "text": [
      "c:\\Users\\martj\\miniconda3\\envs\\py38\\lib\\site-packages\\sklearn\\linear_model\\_sag.py:350: ConvergenceWarning: The max_iter was reached which means the coef_ did not converge\n",
      "  warnings.warn(\n",
      "c:\\Users\\martj\\miniconda3\\envs\\py38\\lib\\site-packages\\sklearn\\linear_model\\_sag.py:350: ConvergenceWarning: The max_iter was reached which means the coef_ did not converge\n",
      "  warnings.warn(\n"
     ]
    },
    {
     "name": "stdout",
     "output_type": "stream",
     "text": [
      "[CV] END C=1, fit_intercept=False, max_iter=500, penalty=l1, solver=saga; total time=   0.0s\n",
      "[CV] END C=1, fit_intercept=False, max_iter=500, penalty=l2, solver=newton-cg; total time=   0.0s\n",
      "[CV] END C=1, fit_intercept=False, max_iter=500, penalty=l2, solver=newton-cg; total time=   0.0s\n",
      "[CV] END C=1, fit_intercept=False, max_iter=500, penalty=l2, solver=newton-cg; total time=   0.0s\n",
      "[CV] END C=1, fit_intercept=False, max_iter=500, penalty=l2, solver=newton-cg; total time=   0.0s\n",
      "[CV] END C=1, fit_intercept=False, max_iter=500, penalty=l2, solver=newton-cg; total time=   0.0s\n",
      "[CV] END C=1, fit_intercept=False, max_iter=500, penalty=l2, solver=lbfgs; total time=   0.0s\n",
      "[CV] END C=1, fit_intercept=False, max_iter=500, penalty=l2, solver=lbfgs; total time=   0.0s\n",
      "[CV] END C=1, fit_intercept=False, max_iter=500, penalty=l2, solver=lbfgs; total time=   0.0s\n",
      "[CV] END C=1, fit_intercept=False, max_iter=500, penalty=l2, solver=lbfgs; total time=   0.0s\n",
      "[CV] END C=1, fit_intercept=False, max_iter=500, penalty=l2, solver=lbfgs; total time=   0.0s\n",
      "[CV] END C=1, fit_intercept=False, max_iter=500, penalty=l2, solver=liblinear; total time=   0.0s\n",
      "[CV] END C=1, fit_intercept=False, max_iter=500, penalty=l2, solver=liblinear; total time=   0.0s\n",
      "[CV] END C=1, fit_intercept=False, max_iter=500, penalty=l2, solver=liblinear; total time=   0.0s\n",
      "[CV] END C=1, fit_intercept=False, max_iter=500, penalty=l2, solver=liblinear; total time=   0.0s\n",
      "[CV] END C=1, fit_intercept=False, max_iter=500, penalty=l2, solver=liblinear; total time=   0.0s\n",
      "[CV] END C=1, fit_intercept=False, max_iter=500, penalty=l2, solver=sag; total time=   0.0s\n"
     ]
    },
    {
     "name": "stderr",
     "output_type": "stream",
     "text": [
      "c:\\Users\\martj\\miniconda3\\envs\\py38\\lib\\site-packages\\sklearn\\linear_model\\_sag.py:350: ConvergenceWarning: The max_iter was reached which means the coef_ did not converge\n",
      "  warnings.warn(\n",
      "c:\\Users\\martj\\miniconda3\\envs\\py38\\lib\\site-packages\\sklearn\\linear_model\\_sag.py:350: ConvergenceWarning: The max_iter was reached which means the coef_ did not converge\n",
      "  warnings.warn(\n",
      "c:\\Users\\martj\\miniconda3\\envs\\py38\\lib\\site-packages\\sklearn\\linear_model\\_sag.py:350: ConvergenceWarning: The max_iter was reached which means the coef_ did not converge\n",
      "  warnings.warn(\n"
     ]
    },
    {
     "name": "stdout",
     "output_type": "stream",
     "text": [
      "[CV] END C=1, fit_intercept=False, max_iter=500, penalty=l2, solver=sag; total time=   0.0s\n",
      "[CV] END C=1, fit_intercept=False, max_iter=500, penalty=l2, solver=sag; total time=   0.0s\n"
     ]
    },
    {
     "name": "stderr",
     "output_type": "stream",
     "text": [
      "c:\\Users\\martj\\miniconda3\\envs\\py38\\lib\\site-packages\\sklearn\\linear_model\\_sag.py:350: ConvergenceWarning: The max_iter was reached which means the coef_ did not converge\n",
      "  warnings.warn(\n",
      "c:\\Users\\martj\\miniconda3\\envs\\py38\\lib\\site-packages\\sklearn\\linear_model\\_sag.py:350: ConvergenceWarning: The max_iter was reached which means the coef_ did not converge\n",
      "  warnings.warn(\n",
      "c:\\Users\\martj\\miniconda3\\envs\\py38\\lib\\site-packages\\sklearn\\linear_model\\_sag.py:350: ConvergenceWarning: The max_iter was reached which means the coef_ did not converge\n",
      "  warnings.warn(\n"
     ]
    },
    {
     "name": "stdout",
     "output_type": "stream",
     "text": [
      "[CV] END C=1, fit_intercept=False, max_iter=500, penalty=l2, solver=sag; total time=   0.0s\n",
      "[CV] END C=1, fit_intercept=False, max_iter=500, penalty=l2, solver=sag; total time=   0.0s\n",
      "[CV] END C=1, fit_intercept=False, max_iter=500, penalty=l2, solver=saga; total time=   0.0s\n"
     ]
    },
    {
     "name": "stderr",
     "output_type": "stream",
     "text": [
      "c:\\Users\\martj\\miniconda3\\envs\\py38\\lib\\site-packages\\sklearn\\linear_model\\_sag.py:350: ConvergenceWarning: The max_iter was reached which means the coef_ did not converge\n",
      "  warnings.warn(\n",
      "c:\\Users\\martj\\miniconda3\\envs\\py38\\lib\\site-packages\\sklearn\\linear_model\\_sag.py:350: ConvergenceWarning: The max_iter was reached which means the coef_ did not converge\n",
      "  warnings.warn(\n",
      "c:\\Users\\martj\\miniconda3\\envs\\py38\\lib\\site-packages\\sklearn\\linear_model\\_sag.py:350: ConvergenceWarning: The max_iter was reached which means the coef_ did not converge\n",
      "  warnings.warn(\n"
     ]
    },
    {
     "name": "stdout",
     "output_type": "stream",
     "text": [
      "[CV] END C=1, fit_intercept=False, max_iter=500, penalty=l2, solver=saga; total time=   0.0s\n",
      "[CV] END C=1, fit_intercept=False, max_iter=500, penalty=l2, solver=saga; total time=   0.0s\n",
      "[CV] END C=1, fit_intercept=False, max_iter=500, penalty=l2, solver=saga; total time=   0.0s\n"
     ]
    },
    {
     "name": "stderr",
     "output_type": "stream",
     "text": [
      "c:\\Users\\martj\\miniconda3\\envs\\py38\\lib\\site-packages\\sklearn\\linear_model\\_sag.py:350: ConvergenceWarning: The max_iter was reached which means the coef_ did not converge\n",
      "  warnings.warn(\n",
      "c:\\Users\\martj\\miniconda3\\envs\\py38\\lib\\site-packages\\sklearn\\linear_model\\_sag.py:350: ConvergenceWarning: The max_iter was reached which means the coef_ did not converge\n",
      "  warnings.warn(\n",
      "c:\\Users\\martj\\miniconda3\\envs\\py38\\lib\\site-packages\\sklearn\\linear_model\\_sag.py:350: ConvergenceWarning: The max_iter was reached which means the coef_ did not converge\n",
      "  warnings.warn(\n",
      "c:\\Users\\martj\\miniconda3\\envs\\py38\\lib\\site-packages\\sklearn\\linear_model\\_sag.py:350: ConvergenceWarning: The max_iter was reached which means the coef_ did not converge\n",
      "  warnings.warn(\n",
      "c:\\Users\\martj\\miniconda3\\envs\\py38\\lib\\site-packages\\sklearn\\linear_model\\_sag.py:350: ConvergenceWarning: The max_iter was reached which means the coef_ did not converge\n",
      "  warnings.warn(\n"
     ]
    },
    {
     "name": "stdout",
     "output_type": "stream",
     "text": [
      "[CV] END C=1, fit_intercept=False, max_iter=500, penalty=l2, solver=saga; total time=   0.0s\n",
      "[CV] END C=10, fit_intercept=True, max_iter=50, penalty=l1, solver=newton-cg; total time=   0.0s\n",
      "[CV] END C=10, fit_intercept=True, max_iter=50, penalty=l1, solver=newton-cg; total time=   0.0s\n",
      "[CV] END C=10, fit_intercept=True, max_iter=50, penalty=l1, solver=newton-cg; total time=   0.0s\n",
      "[CV] END C=10, fit_intercept=True, max_iter=50, penalty=l1, solver=newton-cg; total time=   0.0s\n",
      "[CV] END C=10, fit_intercept=True, max_iter=50, penalty=l1, solver=newton-cg; total time=   0.0s\n",
      "[CV] END C=10, fit_intercept=True, max_iter=50, penalty=l1, solver=lbfgs; total time=   0.0s\n",
      "[CV] END C=10, fit_intercept=True, max_iter=50, penalty=l1, solver=lbfgs; total time=   0.0s\n",
      "[CV] END C=10, fit_intercept=True, max_iter=50, penalty=l1, solver=lbfgs; total time=   0.0s\n",
      "[CV] END C=10, fit_intercept=True, max_iter=50, penalty=l1, solver=lbfgs; total time=   0.0s\n",
      "[CV] END C=10, fit_intercept=True, max_iter=50, penalty=l1, solver=lbfgs; total time=   0.0s\n",
      "[CV] END C=10, fit_intercept=True, max_iter=50, penalty=l1, solver=liblinear; total time=   0.0s\n",
      "[CV] END C=10, fit_intercept=True, max_iter=50, penalty=l1, solver=liblinear; total time=   0.0s\n",
      "[CV] END C=10, fit_intercept=True, max_iter=50, penalty=l1, solver=liblinear; total time=   0.0s\n",
      "[CV] END C=10, fit_intercept=True, max_iter=50, penalty=l1, solver=liblinear; total time=   0.0s\n",
      "[CV] END C=10, fit_intercept=True, max_iter=50, penalty=l1, solver=liblinear; total time=   0.0s\n",
      "[CV] END C=10, fit_intercept=True, max_iter=50, penalty=l1, solver=sag; total time=   0.0s\n",
      "[CV] END C=10, fit_intercept=True, max_iter=50, penalty=l1, solver=sag; total time=   0.0s\n",
      "[CV] END C=10, fit_intercept=True, max_iter=50, penalty=l1, solver=sag; total time=   0.0s\n",
      "[CV] END C=10, fit_intercept=True, max_iter=50, penalty=l1, solver=sag; total time=   0.0s\n",
      "[CV] END C=10, fit_intercept=True, max_iter=50, penalty=l1, solver=sag; total time=   0.0s\n",
      "[CV] END C=10, fit_intercept=True, max_iter=50, penalty=l1, solver=saga; total time=   0.0s\n",
      "[CV] END C=10, fit_intercept=True, max_iter=50, penalty=l1, solver=saga; total time=   0.0s\n",
      "[CV] END C=10, fit_intercept=True, max_iter=50, penalty=l1, solver=saga; total time=   0.0s\n",
      "[CV] END C=10, fit_intercept=True, max_iter=50, penalty=l1, solver=saga; total time=   0.0s\n"
     ]
    },
    {
     "name": "stderr",
     "output_type": "stream",
     "text": [
      "c:\\Users\\martj\\miniconda3\\envs\\py38\\lib\\site-packages\\sklearn\\linear_model\\_sag.py:350: ConvergenceWarning: The max_iter was reached which means the coef_ did not converge\n",
      "  warnings.warn(\n"
     ]
    },
    {
     "name": "stdout",
     "output_type": "stream",
     "text": [
      "[CV] END C=10, fit_intercept=True, max_iter=50, penalty=l1, solver=saga; total time=   0.0s\n",
      "[CV] END C=10, fit_intercept=True, max_iter=50, penalty=l2, solver=newton-cg; total time=   0.0s\n",
      "[CV] END C=10, fit_intercept=True, max_iter=50, penalty=l2, solver=newton-cg; total time=   0.0s\n",
      "[CV] END C=10, fit_intercept=True, max_iter=50, penalty=l2, solver=newton-cg; total time=   0.0s\n",
      "[CV] END C=10, fit_intercept=True, max_iter=50, penalty=l2, solver=newton-cg; total time=   0.0s\n",
      "[CV] END C=10, fit_intercept=True, max_iter=50, penalty=l2, solver=newton-cg; total time=   0.0s\n"
     ]
    },
    {
     "name": "stderr",
     "output_type": "stream",
     "text": [
      "c:\\Users\\martj\\miniconda3\\envs\\py38\\lib\\site-packages\\sklearn\\linear_model\\_logistic.py:460: ConvergenceWarning: lbfgs failed to converge (status=1):\n",
      "STOP: TOTAL NO. of ITERATIONS REACHED LIMIT.\n",
      "\n",
      "Increase the number of iterations (max_iter) or scale the data as shown in:\n",
      "    https://scikit-learn.org/stable/modules/preprocessing.html\n",
      "Please also refer to the documentation for alternative solver options:\n",
      "    https://scikit-learn.org/stable/modules/linear_model.html#logistic-regression\n",
      "  n_iter_i = _check_optimize_result(\n",
      "c:\\Users\\martj\\miniconda3\\envs\\py38\\lib\\site-packages\\sklearn\\linear_model\\_logistic.py:460: ConvergenceWarning: lbfgs failed to converge (status=1):\n",
      "STOP: TOTAL NO. of ITERATIONS REACHED LIMIT.\n",
      "\n",
      "Increase the number of iterations (max_iter) or scale the data as shown in:\n",
      "    https://scikit-learn.org/stable/modules/preprocessing.html\n",
      "Please also refer to the documentation for alternative solver options:\n",
      "    https://scikit-learn.org/stable/modules/linear_model.html#logistic-regression\n",
      "  n_iter_i = _check_optimize_result(\n",
      "c:\\Users\\martj\\miniconda3\\envs\\py38\\lib\\site-packages\\sklearn\\linear_model\\_logistic.py:460: ConvergenceWarning: lbfgs failed to converge (status=1):\n",
      "STOP: TOTAL NO. of ITERATIONS REACHED LIMIT.\n",
      "\n",
      "Increase the number of iterations (max_iter) or scale the data as shown in:\n",
      "    https://scikit-learn.org/stable/modules/preprocessing.html\n",
      "Please also refer to the documentation for alternative solver options:\n",
      "    https://scikit-learn.org/stable/modules/linear_model.html#logistic-regression\n",
      "  n_iter_i = _check_optimize_result(\n",
      "c:\\Users\\martj\\miniconda3\\envs\\py38\\lib\\site-packages\\sklearn\\linear_model\\_logistic.py:460: ConvergenceWarning: lbfgs failed to converge (status=1):\n",
      "STOP: TOTAL NO. of ITERATIONS REACHED LIMIT.\n",
      "\n",
      "Increase the number of iterations (max_iter) or scale the data as shown in:\n",
      "    https://scikit-learn.org/stable/modules/preprocessing.html\n",
      "Please also refer to the documentation for alternative solver options:\n",
      "    https://scikit-learn.org/stable/modules/linear_model.html#logistic-regression\n",
      "  n_iter_i = _check_optimize_result(\n",
      "c:\\Users\\martj\\miniconda3\\envs\\py38\\lib\\site-packages\\sklearn\\linear_model\\_logistic.py:460: ConvergenceWarning: lbfgs failed to converge (status=1):\n",
      "STOP: TOTAL NO. of ITERATIONS REACHED LIMIT.\n",
      "\n",
      "Increase the number of iterations (max_iter) or scale the data as shown in:\n",
      "    https://scikit-learn.org/stable/modules/preprocessing.html\n",
      "Please also refer to the documentation for alternative solver options:\n",
      "    https://scikit-learn.org/stable/modules/linear_model.html#logistic-regression\n",
      "  n_iter_i = _check_optimize_result(\n",
      "c:\\Users\\martj\\miniconda3\\envs\\py38\\lib\\site-packages\\sklearn\\linear_model\\_sag.py:350: ConvergenceWarning: The max_iter was reached which means the coef_ did not converge\n",
      "  warnings.warn(\n",
      "c:\\Users\\martj\\miniconda3\\envs\\py38\\lib\\site-packages\\sklearn\\linear_model\\_sag.py:350: ConvergenceWarning: The max_iter was reached which means the coef_ did not converge\n",
      "  warnings.warn(\n"
     ]
    },
    {
     "name": "stdout",
     "output_type": "stream",
     "text": [
      "[CV] END C=10, fit_intercept=True, max_iter=50, penalty=l2, solver=lbfgs; total time=   0.0s\n",
      "[CV] END C=10, fit_intercept=True, max_iter=50, penalty=l2, solver=lbfgs; total time=   0.0s\n",
      "[CV] END C=10, fit_intercept=True, max_iter=50, penalty=l2, solver=lbfgs; total time=   0.0s\n",
      "[CV] END C=10, fit_intercept=True, max_iter=50, penalty=l2, solver=lbfgs; total time=   0.0s\n",
      "[CV] END C=10, fit_intercept=True, max_iter=50, penalty=l2, solver=lbfgs; total time=   0.0s\n",
      "[CV] END C=10, fit_intercept=True, max_iter=50, penalty=l2, solver=liblinear; total time=   0.0s\n",
      "[CV] END C=10, fit_intercept=True, max_iter=50, penalty=l2, solver=liblinear; total time=   0.0s\n",
      "[CV] END C=10, fit_intercept=True, max_iter=50, penalty=l2, solver=liblinear; total time=   0.0s\n",
      "[CV] END C=10, fit_intercept=True, max_iter=50, penalty=l2, solver=liblinear; total time=   0.0s\n",
      "[CV] END C=10, fit_intercept=True, max_iter=50, penalty=l2, solver=liblinear; total time=   0.0s\n",
      "[CV] END C=10, fit_intercept=True, max_iter=50, penalty=l2, solver=sag; total time=   0.0s\n",
      "[CV] END C=10, fit_intercept=True, max_iter=50, penalty=l2, solver=sag; total time=   0.0s\n",
      "[CV] END C=10, fit_intercept=True, max_iter=50, penalty=l2, solver=sag; total time=   0.0s\n",
      "[CV] END C=10, fit_intercept=True, max_iter=50, penalty=l2, solver=sag; total time=   0.0s\n",
      "[CV] END C=10, fit_intercept=True, max_iter=50, penalty=l2, solver=sag; total time=   0.0s\n",
      "[CV] END C=10, fit_intercept=True, max_iter=50, penalty=l2, solver=saga; total time=   0.0s\n",
      "[CV] END C=10, fit_intercept=True, max_iter=50, penalty=l2, solver=saga; total time=   0.0s\n",
      "[CV] END C=10, fit_intercept=True, max_iter=50, penalty=l2, solver=saga; total time=   0.0s\n",
      "[CV] END C=10, fit_intercept=True, max_iter=50, penalty=l2, solver=saga; total time=   0.0s\n",
      "[CV] END C=10, fit_intercept=True, max_iter=50, penalty=l2, solver=saga; total time=   0.0s\n",
      "[CV] END C=10, fit_intercept=True, max_iter=100, penalty=l1, solver=newton-cg; total time=   0.0s\n",
      "[CV] END C=10, fit_intercept=True, max_iter=100, penalty=l1, solver=newton-cg; total time=   0.0s\n",
      "[CV] END C=10, fit_intercept=True, max_iter=100, penalty=l1, solver=newton-cg; total time=   0.0s\n",
      "[CV] END C=10, fit_intercept=True, max_iter=100, penalty=l1, solver=newton-cg; total time=   0.0s\n",
      "[CV] END C=10, fit_intercept=True, max_iter=100, penalty=l1, solver=newton-cg; total time=   0.0s\n",
      "[CV] END C=10, fit_intercept=True, max_iter=100, penalty=l1, solver=lbfgs; total time=   0.0s\n",
      "[CV] END C=10, fit_intercept=True, max_iter=100, penalty=l1, solver=lbfgs; total time=   0.0s\n",
      "[CV] END C=10, fit_intercept=True, max_iter=100, penalty=l1, solver=lbfgs; total time=   0.0s\n",
      "[CV] END C=10, fit_intercept=True, max_iter=100, penalty=l1, solver=lbfgs; total time=   0.0s\n",
      "[CV] END C=10, fit_intercept=True, max_iter=100, penalty=l1, solver=lbfgs; total time=   0.0s\n",
      "[CV] END C=10, fit_intercept=True, max_iter=100, penalty=l1, solver=liblinear; total time=   0.0s\n"
     ]
    },
    {
     "name": "stderr",
     "output_type": "stream",
     "text": [
      "c:\\Users\\martj\\miniconda3\\envs\\py38\\lib\\site-packages\\sklearn\\linear_model\\_sag.py:350: ConvergenceWarning: The max_iter was reached which means the coef_ did not converge\n",
      "  warnings.warn(\n",
      "c:\\Users\\martj\\miniconda3\\envs\\py38\\lib\\site-packages\\sklearn\\linear_model\\_sag.py:350: ConvergenceWarning: The max_iter was reached which means the coef_ did not converge\n",
      "  warnings.warn(\n",
      "c:\\Users\\martj\\miniconda3\\envs\\py38\\lib\\site-packages\\sklearn\\linear_model\\_sag.py:350: ConvergenceWarning: The max_iter was reached which means the coef_ did not converge\n",
      "  warnings.warn(\n",
      "c:\\Users\\martj\\miniconda3\\envs\\py38\\lib\\site-packages\\sklearn\\linear_model\\_sag.py:350: ConvergenceWarning: The max_iter was reached which means the coef_ did not converge\n",
      "  warnings.warn(\n",
      "c:\\Users\\martj\\miniconda3\\envs\\py38\\lib\\site-packages\\sklearn\\linear_model\\_sag.py:350: ConvergenceWarning: The max_iter was reached which means the coef_ did not converge\n",
      "  warnings.warn(\n",
      "c:\\Users\\martj\\miniconda3\\envs\\py38\\lib\\site-packages\\sklearn\\linear_model\\_sag.py:350: ConvergenceWarning: The max_iter was reached which means the coef_ did not converge\n",
      "  warnings.warn(\n",
      "c:\\Users\\martj\\miniconda3\\envs\\py38\\lib\\site-packages\\sklearn\\linear_model\\_sag.py:350: ConvergenceWarning: The max_iter was reached which means the coef_ did not converge\n",
      "  warnings.warn(\n",
      "c:\\Users\\martj\\miniconda3\\envs\\py38\\lib\\site-packages\\sklearn\\linear_model\\_sag.py:350: ConvergenceWarning: The max_iter was reached which means the coef_ did not converge\n",
      "  warnings.warn(\n"
     ]
    },
    {
     "name": "stdout",
     "output_type": "stream",
     "text": [
      "[CV] END C=10, fit_intercept=True, max_iter=100, penalty=l1, solver=liblinear; total time=   0.0s\n",
      "[CV] END C=10, fit_intercept=True, max_iter=100, penalty=l1, solver=liblinear; total time=   0.0s\n",
      "[CV] END C=10, fit_intercept=True, max_iter=100, penalty=l1, solver=liblinear; total time=   0.0s\n",
      "[CV] END C=10, fit_intercept=True, max_iter=100, penalty=l1, solver=liblinear; total time=   0.0s\n",
      "[CV] END C=10, fit_intercept=True, max_iter=100, penalty=l1, solver=sag; total time=   0.0s\n",
      "[CV] END C=10, fit_intercept=True, max_iter=100, penalty=l1, solver=sag; total time=   0.0s\n",
      "[CV] END C=10, fit_intercept=True, max_iter=100, penalty=l1, solver=sag; total time=   0.0s\n",
      "[CV] END C=10, fit_intercept=True, max_iter=100, penalty=l1, solver=sag; total time=   0.0s\n",
      "[CV] END C=10, fit_intercept=True, max_iter=100, penalty=l1, solver=sag; total time=   0.0s\n",
      "[CV] END C=10, fit_intercept=True, max_iter=100, penalty=l1, solver=saga; total time=   0.0s\n",
      "[CV] END C=10, fit_intercept=True, max_iter=100, penalty=l1, solver=saga; total time=   0.0s\n",
      "[CV] END C=10, fit_intercept=True, max_iter=100, penalty=l1, solver=saga; total time=   0.0s\n",
      "[CV] END C=10, fit_intercept=True, max_iter=100, penalty=l1, solver=saga; total time=   0.0s\n"
     ]
    },
    {
     "name": "stderr",
     "output_type": "stream",
     "text": [
      "c:\\Users\\martj\\miniconda3\\envs\\py38\\lib\\site-packages\\sklearn\\linear_model\\_sag.py:350: ConvergenceWarning: The max_iter was reached which means the coef_ did not converge\n",
      "  warnings.warn(\n",
      "c:\\Users\\martj\\miniconda3\\envs\\py38\\lib\\site-packages\\sklearn\\linear_model\\_sag.py:350: ConvergenceWarning: The max_iter was reached which means the coef_ did not converge\n",
      "  warnings.warn(\n",
      "c:\\Users\\martj\\miniconda3\\envs\\py38\\lib\\site-packages\\sklearn\\linear_model\\_sag.py:350: ConvergenceWarning: The max_iter was reached which means the coef_ did not converge\n",
      "  warnings.warn(\n",
      "c:\\Users\\martj\\miniconda3\\envs\\py38\\lib\\site-packages\\sklearn\\linear_model\\_sag.py:350: ConvergenceWarning: The max_iter was reached which means the coef_ did not converge\n",
      "  warnings.warn(\n",
      "c:\\Users\\martj\\miniconda3\\envs\\py38\\lib\\site-packages\\sklearn\\linear_model\\_sag.py:350: ConvergenceWarning: The max_iter was reached which means the coef_ did not converge\n",
      "  warnings.warn(\n"
     ]
    },
    {
     "name": "stdout",
     "output_type": "stream",
     "text": [
      "[CV] END C=10, fit_intercept=True, max_iter=100, penalty=l1, solver=saga; total time=   0.0s\n",
      "[CV] END C=10, fit_intercept=True, max_iter=100, penalty=l2, solver=newton-cg; total time=   0.0s\n",
      "[CV] END C=10, fit_intercept=True, max_iter=100, penalty=l2, solver=newton-cg; total time=   0.0s\n",
      "[CV] END C=10, fit_intercept=True, max_iter=100, penalty=l2, solver=newton-cg; total time=   0.0s\n",
      "[CV] END C=10, fit_intercept=True, max_iter=100, penalty=l2, solver=newton-cg; total time=   0.0s\n",
      "[CV] END C=10, fit_intercept=True, max_iter=100, penalty=l2, solver=newton-cg; total time=   0.0s\n",
      "[CV] END C=10, fit_intercept=True, max_iter=100, penalty=l2, solver=lbfgs; total time=   0.0s\n",
      "[CV] END C=10, fit_intercept=True, max_iter=100, penalty=l2, solver=lbfgs; total time=   0.0s\n",
      "[CV] END C=10, fit_intercept=True, max_iter=100, penalty=l2, solver=lbfgs; total time=   0.0s\n",
      "[CV] END C=10, fit_intercept=True, max_iter=100, penalty=l2, solver=lbfgs; total time=   0.0s\n",
      "[CV] END C=10, fit_intercept=True, max_iter=100, penalty=l2, solver=lbfgs; total time=   0.0s\n",
      "[CV] END C=10, fit_intercept=True, max_iter=100, penalty=l2, solver=liblinear; total time=   0.0s\n",
      "[CV] END C=10, fit_intercept=True, max_iter=100, penalty=l2, solver=liblinear; total time=   0.0s\n",
      "[CV] END C=10, fit_intercept=True, max_iter=100, penalty=l2, solver=liblinear; total time=   0.0s\n",
      "[CV] END C=10, fit_intercept=True, max_iter=100, penalty=l2, solver=liblinear; total time=   0.0s\n",
      "[CV] END C=10, fit_intercept=True, max_iter=100, penalty=l2, solver=liblinear; total time=   0.0s\n",
      "[CV] END C=10, fit_intercept=True, max_iter=100, penalty=l2, solver=sag; total time=   0.0s\n"
     ]
    },
    {
     "name": "stderr",
     "output_type": "stream",
     "text": [
      "c:\\Users\\martj\\miniconda3\\envs\\py38\\lib\\site-packages\\sklearn\\linear_model\\_logistic.py:460: ConvergenceWarning: lbfgs failed to converge (status=1):\n",
      "STOP: TOTAL NO. of ITERATIONS REACHED LIMIT.\n",
      "\n",
      "Increase the number of iterations (max_iter) or scale the data as shown in:\n",
      "    https://scikit-learn.org/stable/modules/preprocessing.html\n",
      "Please also refer to the documentation for alternative solver options:\n",
      "    https://scikit-learn.org/stable/modules/linear_model.html#logistic-regression\n",
      "  n_iter_i = _check_optimize_result(\n",
      "c:\\Users\\martj\\miniconda3\\envs\\py38\\lib\\site-packages\\sklearn\\linear_model\\_logistic.py:460: ConvergenceWarning: lbfgs failed to converge (status=1):\n",
      "STOP: TOTAL NO. of ITERATIONS REACHED LIMIT.\n",
      "\n",
      "Increase the number of iterations (max_iter) or scale the data as shown in:\n",
      "    https://scikit-learn.org/stable/modules/preprocessing.html\n",
      "Please also refer to the documentation for alternative solver options:\n",
      "    https://scikit-learn.org/stable/modules/linear_model.html#logistic-regression\n",
      "  n_iter_i = _check_optimize_result(\n",
      "c:\\Users\\martj\\miniconda3\\envs\\py38\\lib\\site-packages\\sklearn\\linear_model\\_sag.py:350: ConvergenceWarning: The max_iter was reached which means the coef_ did not converge\n",
      "  warnings.warn(\n",
      "c:\\Users\\martj\\miniconda3\\envs\\py38\\lib\\site-packages\\sklearn\\linear_model\\_sag.py:350: ConvergenceWarning: The max_iter was reached which means the coef_ did not converge\n",
      "  warnings.warn(\n",
      "c:\\Users\\martj\\miniconda3\\envs\\py38\\lib\\site-packages\\sklearn\\linear_model\\_sag.py:350: ConvergenceWarning: The max_iter was reached which means the coef_ did not converge\n",
      "  warnings.warn(\n"
     ]
    },
    {
     "name": "stdout",
     "output_type": "stream",
     "text": [
      "[CV] END C=10, fit_intercept=True, max_iter=100, penalty=l2, solver=sag; total time=   0.0s\n",
      "[CV] END C=10, fit_intercept=True, max_iter=100, penalty=l2, solver=sag; total time=   0.0s\n",
      "[CV] END C=10, fit_intercept=True, max_iter=100, penalty=l2, solver=sag; total time=   0.0s\n",
      "[CV] END C=10, fit_intercept=True, max_iter=100, penalty=l2, solver=sag; total time=   0.0s\n",
      "[CV] END C=10, fit_intercept=True, max_iter=100, penalty=l2, solver=saga; total time=   0.0s\n",
      "[CV] END C=10, fit_intercept=True, max_iter=100, penalty=l2, solver=saga; total time=   0.0s\n",
      "[CV] END C=10, fit_intercept=True, max_iter=100, penalty=l2, solver=saga; total time=   0.0s\n"
     ]
    },
    {
     "name": "stderr",
     "output_type": "stream",
     "text": [
      "c:\\Users\\martj\\miniconda3\\envs\\py38\\lib\\site-packages\\sklearn\\linear_model\\_sag.py:350: ConvergenceWarning: The max_iter was reached which means the coef_ did not converge\n",
      "  warnings.warn(\n",
      "c:\\Users\\martj\\miniconda3\\envs\\py38\\lib\\site-packages\\sklearn\\linear_model\\_sag.py:350: ConvergenceWarning: The max_iter was reached which means the coef_ did not converge\n",
      "  warnings.warn(\n",
      "c:\\Users\\martj\\miniconda3\\envs\\py38\\lib\\site-packages\\sklearn\\linear_model\\_sag.py:350: ConvergenceWarning: The max_iter was reached which means the coef_ did not converge\n",
      "  warnings.warn(\n",
      "c:\\Users\\martj\\miniconda3\\envs\\py38\\lib\\site-packages\\sklearn\\linear_model\\_sag.py:350: ConvergenceWarning: The max_iter was reached which means the coef_ did not converge\n",
      "  warnings.warn(\n",
      "c:\\Users\\martj\\miniconda3\\envs\\py38\\lib\\site-packages\\sklearn\\linear_model\\_sag.py:350: ConvergenceWarning: The max_iter was reached which means the coef_ did not converge\n",
      "  warnings.warn(\n",
      "c:\\Users\\martj\\miniconda3\\envs\\py38\\lib\\site-packages\\sklearn\\linear_model\\_sag.py:350: ConvergenceWarning: The max_iter was reached which means the coef_ did not converge\n",
      "  warnings.warn(\n",
      "c:\\Users\\martj\\miniconda3\\envs\\py38\\lib\\site-packages\\sklearn\\linear_model\\_sag.py:350: ConvergenceWarning: The max_iter was reached which means the coef_ did not converge\n",
      "  warnings.warn(\n"
     ]
    },
    {
     "name": "stdout",
     "output_type": "stream",
     "text": [
      "[CV] END C=10, fit_intercept=True, max_iter=100, penalty=l2, solver=saga; total time=   0.0s\n",
      "[CV] END C=10, fit_intercept=True, max_iter=100, penalty=l2, solver=saga; total time=   0.0s\n",
      "[CV] END C=10, fit_intercept=True, max_iter=200, penalty=l1, solver=newton-cg; total time=   0.0s\n",
      "[CV] END C=10, fit_intercept=True, max_iter=200, penalty=l1, solver=newton-cg; total time=   0.0s\n",
      "[CV] END C=10, fit_intercept=True, max_iter=200, penalty=l1, solver=newton-cg; total time=   0.0s\n",
      "[CV] END C=10, fit_intercept=True, max_iter=200, penalty=l1, solver=newton-cg; total time=   0.0s\n",
      "[CV] END C=10, fit_intercept=True, max_iter=200, penalty=l1, solver=newton-cg; total time=   0.0s\n",
      "[CV] END C=10, fit_intercept=True, max_iter=200, penalty=l1, solver=lbfgs; total time=   0.0s\n",
      "[CV] END C=10, fit_intercept=True, max_iter=200, penalty=l1, solver=lbfgs; total time=   0.0s\n",
      "[CV] END C=10, fit_intercept=True, max_iter=200, penalty=l1, solver=lbfgs; total time=   0.0s\n",
      "[CV] END C=10, fit_intercept=True, max_iter=200, penalty=l1, solver=lbfgs; total time=   0.0s\n",
      "[CV] END C=10, fit_intercept=True, max_iter=200, penalty=l1, solver=lbfgs; total time=   0.0s\n",
      "[CV] END C=10, fit_intercept=True, max_iter=200, penalty=l1, solver=liblinear; total time=   0.0s\n",
      "[CV] END C=10, fit_intercept=True, max_iter=200, penalty=l1, solver=liblinear; total time=   0.0s\n",
      "[CV] END C=10, fit_intercept=True, max_iter=200, penalty=l1, solver=liblinear; total time=   0.0s\n",
      "[CV] END C=10, fit_intercept=True, max_iter=200, penalty=l1, solver=liblinear; total time=   0.0s\n",
      "[CV] END C=10, fit_intercept=True, max_iter=200, penalty=l1, solver=liblinear; total time=   0.0s\n",
      "[CV] END C=10, fit_intercept=True, max_iter=200, penalty=l1, solver=sag; total time=   0.0s\n",
      "[CV] END C=10, fit_intercept=True, max_iter=200, penalty=l1, solver=sag; total time=   0.0s\n",
      "[CV] END C=10, fit_intercept=True, max_iter=200, penalty=l1, solver=sag; total time=   0.0s\n",
      "[CV] END C=10, fit_intercept=True, max_iter=200, penalty=l1, solver=sag; total time=   0.0s\n",
      "[CV] END C=10, fit_intercept=True, max_iter=200, penalty=l1, solver=sag; total time=   0.0s\n"
     ]
    },
    {
     "name": "stderr",
     "output_type": "stream",
     "text": [
      "c:\\Users\\martj\\miniconda3\\envs\\py38\\lib\\site-packages\\sklearn\\linear_model\\_sag.py:350: ConvergenceWarning: The max_iter was reached which means the coef_ did not converge\n",
      "  warnings.warn(\n",
      "c:\\Users\\martj\\miniconda3\\envs\\py38\\lib\\site-packages\\sklearn\\linear_model\\_sag.py:350: ConvergenceWarning: The max_iter was reached which means the coef_ did not converge\n",
      "  warnings.warn(\n",
      "c:\\Users\\martj\\miniconda3\\envs\\py38\\lib\\site-packages\\sklearn\\linear_model\\_sag.py:350: ConvergenceWarning: The max_iter was reached which means the coef_ did not converge\n",
      "  warnings.warn(\n",
      "c:\\Users\\martj\\miniconda3\\envs\\py38\\lib\\site-packages\\sklearn\\linear_model\\_sag.py:350: ConvergenceWarning: The max_iter was reached which means the coef_ did not converge\n",
      "  warnings.warn(\n"
     ]
    },
    {
     "name": "stdout",
     "output_type": "stream",
     "text": [
      "[CV] END C=10, fit_intercept=True, max_iter=200, penalty=l1, solver=saga; total time=   0.0s\n",
      "[CV] END C=10, fit_intercept=True, max_iter=200, penalty=l1, solver=saga; total time=   0.0s\n",
      "[CV] END C=10, fit_intercept=True, max_iter=200, penalty=l1, solver=saga; total time=   0.0s\n",
      "[CV] END C=10, fit_intercept=True, max_iter=200, penalty=l1, solver=saga; total time=   0.0s\n"
     ]
    },
    {
     "name": "stderr",
     "output_type": "stream",
     "text": [
      "c:\\Users\\martj\\miniconda3\\envs\\py38\\lib\\site-packages\\sklearn\\linear_model\\_sag.py:350: ConvergenceWarning: The max_iter was reached which means the coef_ did not converge\n",
      "  warnings.warn(\n"
     ]
    },
    {
     "name": "stdout",
     "output_type": "stream",
     "text": [
      "[CV] END C=10, fit_intercept=True, max_iter=200, penalty=l1, solver=saga; total time=   0.0s\n",
      "[CV] END C=10, fit_intercept=True, max_iter=200, penalty=l2, solver=newton-cg; total time=   0.0s\n",
      "[CV] END C=10, fit_intercept=True, max_iter=200, penalty=l2, solver=newton-cg; total time=   0.0s\n",
      "[CV] END C=10, fit_intercept=True, max_iter=200, penalty=l2, solver=newton-cg; total time=   0.0s\n",
      "[CV] END C=10, fit_intercept=True, max_iter=200, penalty=l2, solver=newton-cg; total time=   0.0s\n",
      "[CV] END C=10, fit_intercept=True, max_iter=200, penalty=l2, solver=newton-cg; total time=   0.0s\n",
      "[CV] END C=10, fit_intercept=True, max_iter=200, penalty=l2, solver=lbfgs; total time=   0.0s\n",
      "[CV] END C=10, fit_intercept=True, max_iter=200, penalty=l2, solver=lbfgs; total time=   0.0s\n",
      "[CV] END C=10, fit_intercept=True, max_iter=200, penalty=l2, solver=lbfgs; total time=   0.0s\n",
      "[CV] END C=10, fit_intercept=True, max_iter=200, penalty=l2, solver=lbfgs; total time=   0.0s\n",
      "[CV] END C=10, fit_intercept=True, max_iter=200, penalty=l2, solver=lbfgs; total time=   0.0s\n",
      "[CV] END C=10, fit_intercept=True, max_iter=200, penalty=l2, solver=liblinear; total time=   0.0s\n",
      "[CV] END C=10, fit_intercept=True, max_iter=200, penalty=l2, solver=liblinear; total time=   0.0s\n",
      "[CV] END C=10, fit_intercept=True, max_iter=200, penalty=l2, solver=liblinear; total time=   0.0s\n",
      "[CV] END C=10, fit_intercept=True, max_iter=200, penalty=l2, solver=liblinear; total time=   0.0s\n",
      "[CV] END C=10, fit_intercept=True, max_iter=200, penalty=l2, solver=liblinear; total time=   0.0s\n",
      "[CV] END C=10, fit_intercept=True, max_iter=200, penalty=l2, solver=sag; total time=   0.0s\n",
      "[CV] END C=10, fit_intercept=True, max_iter=200, penalty=l2, solver=sag; total time=   0.0s\n",
      "[CV] END C=10, fit_intercept=True, max_iter=200, penalty=l2, solver=sag; total time=   0.0s\n",
      "[CV] END C=10, fit_intercept=True, max_iter=200, penalty=l2, solver=sag; total time=   0.0s\n"
     ]
    },
    {
     "name": "stderr",
     "output_type": "stream",
     "text": [
      "c:\\Users\\martj\\miniconda3\\envs\\py38\\lib\\site-packages\\sklearn\\linear_model\\_sag.py:350: ConvergenceWarning: The max_iter was reached which means the coef_ did not converge\n",
      "  warnings.warn(\n",
      "c:\\Users\\martj\\miniconda3\\envs\\py38\\lib\\site-packages\\sklearn\\linear_model\\_sag.py:350: ConvergenceWarning: The max_iter was reached which means the coef_ did not converge\n",
      "  warnings.warn(\n",
      "c:\\Users\\martj\\miniconda3\\envs\\py38\\lib\\site-packages\\sklearn\\linear_model\\_sag.py:350: ConvergenceWarning: The max_iter was reached which means the coef_ did not converge\n",
      "  warnings.warn(\n",
      "c:\\Users\\martj\\miniconda3\\envs\\py38\\lib\\site-packages\\sklearn\\linear_model\\_sag.py:350: ConvergenceWarning: The max_iter was reached which means the coef_ did not converge\n",
      "  warnings.warn(\n",
      "c:\\Users\\martj\\miniconda3\\envs\\py38\\lib\\site-packages\\sklearn\\linear_model\\_sag.py:350: ConvergenceWarning: The max_iter was reached which means the coef_ did not converge\n",
      "  warnings.warn(\n",
      "c:\\Users\\martj\\miniconda3\\envs\\py38\\lib\\site-packages\\sklearn\\linear_model\\_sag.py:350: ConvergenceWarning: The max_iter was reached which means the coef_ did not converge\n",
      "  warnings.warn(\n"
     ]
    },
    {
     "name": "stdout",
     "output_type": "stream",
     "text": [
      "[CV] END C=10, fit_intercept=True, max_iter=200, penalty=l2, solver=sag; total time=   0.0s\n",
      "[CV] END C=10, fit_intercept=True, max_iter=200, penalty=l2, solver=saga; total time=   0.0s\n",
      "[CV] END C=10, fit_intercept=True, max_iter=200, penalty=l2, solver=saga; total time=   0.0s\n",
      "[CV] END C=10, fit_intercept=True, max_iter=200, penalty=l2, solver=saga; total time=   0.0s\n",
      "[CV] END C=10, fit_intercept=True, max_iter=200, penalty=l2, solver=saga; total time=   0.0s\n"
     ]
    },
    {
     "name": "stderr",
     "output_type": "stream",
     "text": [
      "c:\\Users\\martj\\miniconda3\\envs\\py38\\lib\\site-packages\\sklearn\\linear_model\\_sag.py:350: ConvergenceWarning: The max_iter was reached which means the coef_ did not converge\n",
      "  warnings.warn(\n",
      "c:\\Users\\martj\\miniconda3\\envs\\py38\\lib\\site-packages\\sklearn\\linear_model\\_sag.py:350: ConvergenceWarning: The max_iter was reached which means the coef_ did not converge\n",
      "  warnings.warn(\n",
      "c:\\Users\\martj\\miniconda3\\envs\\py38\\lib\\site-packages\\sklearn\\linear_model\\_sag.py:350: ConvergenceWarning: The max_iter was reached which means the coef_ did not converge\n",
      "  warnings.warn(\n",
      "c:\\Users\\martj\\miniconda3\\envs\\py38\\lib\\site-packages\\sklearn\\linear_model\\_sag.py:350: ConvergenceWarning: The max_iter was reached which means the coef_ did not converge\n",
      "  warnings.warn(\n"
     ]
    },
    {
     "name": "stdout",
     "output_type": "stream",
     "text": [
      "[CV] END C=10, fit_intercept=True, max_iter=200, penalty=l2, solver=saga; total time=   0.0s\n",
      "[CV] END C=10, fit_intercept=True, max_iter=500, penalty=l1, solver=newton-cg; total time=   0.0s\n",
      "[CV] END C=10, fit_intercept=True, max_iter=500, penalty=l1, solver=newton-cg; total time=   0.0s\n",
      "[CV] END C=10, fit_intercept=True, max_iter=500, penalty=l1, solver=newton-cg; total time=   0.0s\n",
      "[CV] END C=10, fit_intercept=True, max_iter=500, penalty=l1, solver=newton-cg; total time=   0.0s\n",
      "[CV] END C=10, fit_intercept=True, max_iter=500, penalty=l1, solver=newton-cg; total time=   0.0s\n",
      "[CV] END C=10, fit_intercept=True, max_iter=500, penalty=l1, solver=lbfgs; total time=   0.0s\n",
      "[CV] END C=10, fit_intercept=True, max_iter=500, penalty=l1, solver=lbfgs; total time=   0.0s\n",
      "[CV] END C=10, fit_intercept=True, max_iter=500, penalty=l1, solver=lbfgs; total time=   0.0s\n",
      "[CV] END C=10, fit_intercept=True, max_iter=500, penalty=l1, solver=lbfgs; total time=   0.0s\n",
      "[CV] END C=10, fit_intercept=True, max_iter=500, penalty=l1, solver=lbfgs; total time=   0.0s\n",
      "[CV] END C=10, fit_intercept=True, max_iter=500, penalty=l1, solver=liblinear; total time=   0.0s\n",
      "[CV] END C=10, fit_intercept=True, max_iter=500, penalty=l1, solver=liblinear; total time=   0.0s\n",
      "[CV] END C=10, fit_intercept=True, max_iter=500, penalty=l1, solver=liblinear; total time=   0.0s\n",
      "[CV] END C=10, fit_intercept=True, max_iter=500, penalty=l1, solver=liblinear; total time=   0.0s\n",
      "[CV] END C=10, fit_intercept=True, max_iter=500, penalty=l1, solver=liblinear; total time=   0.0s\n",
      "[CV] END C=10, fit_intercept=True, max_iter=500, penalty=l1, solver=sag; total time=   0.0s\n",
      "[CV] END C=10, fit_intercept=True, max_iter=500, penalty=l1, solver=sag; total time=   0.0s\n",
      "[CV] END C=10, fit_intercept=True, max_iter=500, penalty=l1, solver=sag; total time=   0.0s\n",
      "[CV] END C=10, fit_intercept=True, max_iter=500, penalty=l1, solver=sag; total time=   0.0s\n",
      "[CV] END C=10, fit_intercept=True, max_iter=500, penalty=l1, solver=sag; total time=   0.0s\n"
     ]
    },
    {
     "name": "stderr",
     "output_type": "stream",
     "text": [
      "c:\\Users\\martj\\miniconda3\\envs\\py38\\lib\\site-packages\\sklearn\\linear_model\\_sag.py:350: ConvergenceWarning: The max_iter was reached which means the coef_ did not converge\n",
      "  warnings.warn(\n",
      "c:\\Users\\martj\\miniconda3\\envs\\py38\\lib\\site-packages\\sklearn\\linear_model\\_sag.py:350: ConvergenceWarning: The max_iter was reached which means the coef_ did not converge\n",
      "  warnings.warn(\n"
     ]
    },
    {
     "name": "stdout",
     "output_type": "stream",
     "text": [
      "[CV] END C=10, fit_intercept=True, max_iter=500, penalty=l1, solver=saga; total time=   0.0s\n",
      "[CV] END C=10, fit_intercept=True, max_iter=500, penalty=l1, solver=saga; total time=   0.0s\n"
     ]
    },
    {
     "name": "stderr",
     "output_type": "stream",
     "text": [
      "c:\\Users\\martj\\miniconda3\\envs\\py38\\lib\\site-packages\\sklearn\\linear_model\\_sag.py:350: ConvergenceWarning: The max_iter was reached which means the coef_ did not converge\n",
      "  warnings.warn(\n",
      "c:\\Users\\martj\\miniconda3\\envs\\py38\\lib\\site-packages\\sklearn\\linear_model\\_sag.py:350: ConvergenceWarning: The max_iter was reached which means the coef_ did not converge\n",
      "  warnings.warn(\n",
      "c:\\Users\\martj\\miniconda3\\envs\\py38\\lib\\site-packages\\sklearn\\linear_model\\_sag.py:350: ConvergenceWarning: The max_iter was reached which means the coef_ did not converge\n",
      "  warnings.warn(\n"
     ]
    },
    {
     "name": "stdout",
     "output_type": "stream",
     "text": [
      "[CV] END C=10, fit_intercept=True, max_iter=500, penalty=l1, solver=saga; total time=   0.0s\n",
      "[CV] END C=10, fit_intercept=True, max_iter=500, penalty=l1, solver=saga; total time=   0.0s\n",
      "[CV] END C=10, fit_intercept=True, max_iter=500, penalty=l1, solver=saga; total time=   0.0s\n",
      "[CV] END C=10, fit_intercept=True, max_iter=500, penalty=l2, solver=newton-cg; total time=   0.0s\n",
      "[CV] END C=10, fit_intercept=True, max_iter=500, penalty=l2, solver=newton-cg; total time=   0.0s\n",
      "[CV] END C=10, fit_intercept=True, max_iter=500, penalty=l2, solver=newton-cg; total time=   0.0s\n",
      "[CV] END C=10, fit_intercept=True, max_iter=500, penalty=l2, solver=newton-cg; total time=   0.0s\n",
      "[CV] END C=10, fit_intercept=True, max_iter=500, penalty=l2, solver=newton-cg; total time=   0.0s\n",
      "[CV] END C=10, fit_intercept=True, max_iter=500, penalty=l2, solver=lbfgs; total time=   0.0s\n",
      "[CV] END C=10, fit_intercept=True, max_iter=500, penalty=l2, solver=lbfgs; total time=   0.0s\n",
      "[CV] END C=10, fit_intercept=True, max_iter=500, penalty=l2, solver=lbfgs; total time=   0.0s\n",
      "[CV] END C=10, fit_intercept=True, max_iter=500, penalty=l2, solver=lbfgs; total time=   0.0s\n",
      "[CV] END C=10, fit_intercept=True, max_iter=500, penalty=l2, solver=lbfgs; total time=   0.0s\n",
      "[CV] END C=10, fit_intercept=True, max_iter=500, penalty=l2, solver=liblinear; total time=   0.0s\n",
      "[CV] END C=10, fit_intercept=True, max_iter=500, penalty=l2, solver=liblinear; total time=   0.0s\n",
      "[CV] END C=10, fit_intercept=True, max_iter=500, penalty=l2, solver=liblinear; total time=   0.0s\n",
      "[CV] END C=10, fit_intercept=True, max_iter=500, penalty=l2, solver=liblinear; total time=   0.0s\n",
      "[CV] END C=10, fit_intercept=True, max_iter=500, penalty=l2, solver=liblinear; total time=   0.0s\n"
     ]
    },
    {
     "name": "stderr",
     "output_type": "stream",
     "text": [
      "c:\\Users\\martj\\miniconda3\\envs\\py38\\lib\\site-packages\\sklearn\\linear_model\\_sag.py:350: ConvergenceWarning: The max_iter was reached which means the coef_ did not converge\n",
      "  warnings.warn(\n",
      "c:\\Users\\martj\\miniconda3\\envs\\py38\\lib\\site-packages\\sklearn\\linear_model\\_sag.py:350: ConvergenceWarning: The max_iter was reached which means the coef_ did not converge\n",
      "  warnings.warn(\n",
      "c:\\Users\\martj\\miniconda3\\envs\\py38\\lib\\site-packages\\sklearn\\linear_model\\_sag.py:350: ConvergenceWarning: The max_iter was reached which means the coef_ did not converge\n",
      "  warnings.warn(\n"
     ]
    },
    {
     "name": "stdout",
     "output_type": "stream",
     "text": [
      "[CV] END C=10, fit_intercept=True, max_iter=500, penalty=l2, solver=sag; total time=   0.0s\n",
      "[CV] END C=10, fit_intercept=True, max_iter=500, penalty=l2, solver=sag; total time=   0.0s\n",
      "[CV] END C=10, fit_intercept=True, max_iter=500, penalty=l2, solver=sag; total time=   0.0s\n"
     ]
    },
    {
     "name": "stderr",
     "output_type": "stream",
     "text": [
      "c:\\Users\\martj\\miniconda3\\envs\\py38\\lib\\site-packages\\sklearn\\linear_model\\_sag.py:350: ConvergenceWarning: The max_iter was reached which means the coef_ did not converge\n",
      "  warnings.warn(\n",
      "c:\\Users\\martj\\miniconda3\\envs\\py38\\lib\\site-packages\\sklearn\\linear_model\\_sag.py:350: ConvergenceWarning: The max_iter was reached which means the coef_ did not converge\n",
      "  warnings.warn(\n",
      "c:\\Users\\martj\\miniconda3\\envs\\py38\\lib\\site-packages\\sklearn\\linear_model\\_sag.py:350: ConvergenceWarning: The max_iter was reached which means the coef_ did not converge\n",
      "  warnings.warn(\n"
     ]
    },
    {
     "name": "stdout",
     "output_type": "stream",
     "text": [
      "[CV] END C=10, fit_intercept=True, max_iter=500, penalty=l2, solver=sag; total time=   0.0s\n",
      "[CV] END C=10, fit_intercept=True, max_iter=500, penalty=l2, solver=sag; total time=   0.0s\n",
      "[CV] END C=10, fit_intercept=True, max_iter=500, penalty=l2, solver=saga; total time=   0.0s\n"
     ]
    },
    {
     "name": "stderr",
     "output_type": "stream",
     "text": [
      "c:\\Users\\martj\\miniconda3\\envs\\py38\\lib\\site-packages\\sklearn\\linear_model\\_sag.py:350: ConvergenceWarning: The max_iter was reached which means the coef_ did not converge\n",
      "  warnings.warn(\n",
      "c:\\Users\\martj\\miniconda3\\envs\\py38\\lib\\site-packages\\sklearn\\linear_model\\_sag.py:350: ConvergenceWarning: The max_iter was reached which means the coef_ did not converge\n",
      "  warnings.warn(\n"
     ]
    },
    {
     "name": "stdout",
     "output_type": "stream",
     "text": [
      "[CV] END C=10, fit_intercept=True, max_iter=500, penalty=l2, solver=saga; total time=   0.0s\n",
      "[CV] END C=10, fit_intercept=True, max_iter=500, penalty=l2, solver=saga; total time=   0.0s\n"
     ]
    },
    {
     "name": "stderr",
     "output_type": "stream",
     "text": [
      "c:\\Users\\martj\\miniconda3\\envs\\py38\\lib\\site-packages\\sklearn\\linear_model\\_sag.py:350: ConvergenceWarning: The max_iter was reached which means the coef_ did not converge\n",
      "  warnings.warn(\n",
      "c:\\Users\\martj\\miniconda3\\envs\\py38\\lib\\site-packages\\sklearn\\linear_model\\_sag.py:350: ConvergenceWarning: The max_iter was reached which means the coef_ did not converge\n",
      "  warnings.warn(\n",
      "c:\\Users\\martj\\miniconda3\\envs\\py38\\lib\\site-packages\\sklearn\\linear_model\\_sag.py:350: ConvergenceWarning: The max_iter was reached which means the coef_ did not converge\n",
      "  warnings.warn(\n",
      "c:\\Users\\martj\\miniconda3\\envs\\py38\\lib\\site-packages\\sklearn\\linear_model\\_sag.py:350: ConvergenceWarning: The max_iter was reached which means the coef_ did not converge\n",
      "  warnings.warn(\n"
     ]
    },
    {
     "name": "stdout",
     "output_type": "stream",
     "text": [
      "[CV] END C=10, fit_intercept=True, max_iter=500, penalty=l2, solver=saga; total time=   0.0s\n",
      "[CV] END C=10, fit_intercept=True, max_iter=500, penalty=l2, solver=saga; total time=   0.0s\n",
      "[CV] END C=10, fit_intercept=False, max_iter=50, penalty=l1, solver=newton-cg; total time=   0.0s\n",
      "[CV] END C=10, fit_intercept=False, max_iter=50, penalty=l1, solver=newton-cg; total time=   0.0s\n",
      "[CV] END C=10, fit_intercept=False, max_iter=50, penalty=l1, solver=newton-cg; total time=   0.0s\n",
      "[CV] END C=10, fit_intercept=False, max_iter=50, penalty=l1, solver=newton-cg; total time=   0.0s\n",
      "[CV] END C=10, fit_intercept=False, max_iter=50, penalty=l1, solver=newton-cg; total time=   0.0s\n",
      "[CV] END C=10, fit_intercept=False, max_iter=50, penalty=l1, solver=lbfgs; total time=   0.0s\n",
      "[CV] END C=10, fit_intercept=False, max_iter=50, penalty=l1, solver=lbfgs; total time=   0.0s\n",
      "[CV] END C=10, fit_intercept=False, max_iter=50, penalty=l1, solver=lbfgs; total time=   0.0s\n",
      "[CV] END C=10, fit_intercept=False, max_iter=50, penalty=l1, solver=lbfgs; total time=   0.0s\n",
      "[CV] END C=10, fit_intercept=False, max_iter=50, penalty=l1, solver=lbfgs; total time=   0.0s\n",
      "[CV] END C=10, fit_intercept=False, max_iter=50, penalty=l1, solver=liblinear; total time=   0.0s\n",
      "[CV] END C=10, fit_intercept=False, max_iter=50, penalty=l1, solver=liblinear; total time=   0.0s\n",
      "[CV] END C=10, fit_intercept=False, max_iter=50, penalty=l1, solver=liblinear; total time=   0.0s\n",
      "[CV] END C=10, fit_intercept=False, max_iter=50, penalty=l1, solver=liblinear; total time=   0.0s\n",
      "[CV] END C=10, fit_intercept=False, max_iter=50, penalty=l1, solver=liblinear; total time=   0.0s\n",
      "[CV] END C=10, fit_intercept=False, max_iter=50, penalty=l1, solver=sag; total time=   0.0s\n",
      "[CV] END C=10, fit_intercept=False, max_iter=50, penalty=l1, solver=sag; total time=   0.0s\n",
      "[CV] END C=10, fit_intercept=False, max_iter=50, penalty=l1, solver=sag; total time=   0.0s\n",
      "[CV] END C=10, fit_intercept=False, max_iter=50, penalty=l1, solver=sag; total time=   0.0s\n",
      "[CV] END C=10, fit_intercept=False, max_iter=50, penalty=l1, solver=sag; total time=   0.0s\n",
      "[CV] END C=10, fit_intercept=False, max_iter=50, penalty=l1, solver=saga; total time=   0.0s\n",
      "[CV] END C=10, fit_intercept=False, max_iter=50, penalty=l1, solver=saga; total time=   0.0s\n"
     ]
    },
    {
     "name": "stderr",
     "output_type": "stream",
     "text": [
      "c:\\Users\\martj\\miniconda3\\envs\\py38\\lib\\site-packages\\sklearn\\linear_model\\_sag.py:350: ConvergenceWarning: The max_iter was reached which means the coef_ did not converge\n",
      "  warnings.warn(\n",
      "c:\\Users\\martj\\miniconda3\\envs\\py38\\lib\\site-packages\\sklearn\\linear_model\\_sag.py:350: ConvergenceWarning: The max_iter was reached which means the coef_ did not converge\n",
      "  warnings.warn(\n",
      "c:\\Users\\martj\\miniconda3\\envs\\py38\\lib\\site-packages\\sklearn\\linear_model\\_sag.py:350: ConvergenceWarning: The max_iter was reached which means the coef_ did not converge\n",
      "  warnings.warn(\n",
      "c:\\Users\\martj\\miniconda3\\envs\\py38\\lib\\site-packages\\sklearn\\linear_model\\_logistic.py:460: ConvergenceWarning: lbfgs failed to converge (status=1):\n",
      "STOP: TOTAL NO. of ITERATIONS REACHED LIMIT.\n",
      "\n",
      "Increase the number of iterations (max_iter) or scale the data as shown in:\n",
      "    https://scikit-learn.org/stable/modules/preprocessing.html\n",
      "Please also refer to the documentation for alternative solver options:\n",
      "    https://scikit-learn.org/stable/modules/linear_model.html#logistic-regression\n",
      "  n_iter_i = _check_optimize_result(\n",
      "c:\\Users\\martj\\miniconda3\\envs\\py38\\lib\\site-packages\\sklearn\\linear_model\\_logistic.py:460: ConvergenceWarning: lbfgs failed to converge (status=1):\n",
      "STOP: TOTAL NO. of ITERATIONS REACHED LIMIT.\n",
      "\n",
      "Increase the number of iterations (max_iter) or scale the data as shown in:\n",
      "    https://scikit-learn.org/stable/modules/preprocessing.html\n",
      "Please also refer to the documentation for alternative solver options:\n",
      "    https://scikit-learn.org/stable/modules/linear_model.html#logistic-regression\n",
      "  n_iter_i = _check_optimize_result(\n"
     ]
    },
    {
     "name": "stdout",
     "output_type": "stream",
     "text": [
      "[CV] END C=10, fit_intercept=False, max_iter=50, penalty=l1, solver=saga; total time=   0.0s\n",
      "[CV] END C=10, fit_intercept=False, max_iter=50, penalty=l1, solver=saga; total time=   0.0s\n",
      "[CV] END C=10, fit_intercept=False, max_iter=50, penalty=l1, solver=saga; total time=   0.0s\n",
      "[CV] END C=10, fit_intercept=False, max_iter=50, penalty=l2, solver=newton-cg; total time=   0.0s\n",
      "[CV] END C=10, fit_intercept=False, max_iter=50, penalty=l2, solver=newton-cg; total time=   0.0s\n",
      "[CV] END C=10, fit_intercept=False, max_iter=50, penalty=l2, solver=newton-cg; total time=   0.0s\n",
      "[CV] END C=10, fit_intercept=False, max_iter=50, penalty=l2, solver=newton-cg; total time=   0.0s\n",
      "[CV] END C=10, fit_intercept=False, max_iter=50, penalty=l2, solver=newton-cg; total time=   0.0s\n",
      "[CV] END C=10, fit_intercept=False, max_iter=50, penalty=l2, solver=lbfgs; total time=   0.0s\n",
      "[CV] END C=10, fit_intercept=False, max_iter=50, penalty=l2, solver=lbfgs; total time=   0.0s\n"
     ]
    },
    {
     "name": "stderr",
     "output_type": "stream",
     "text": [
      "c:\\Users\\martj\\miniconda3\\envs\\py38\\lib\\site-packages\\sklearn\\linear_model\\_logistic.py:460: ConvergenceWarning: lbfgs failed to converge (status=1):\n",
      "STOP: TOTAL NO. of ITERATIONS REACHED LIMIT.\n",
      "\n",
      "Increase the number of iterations (max_iter) or scale the data as shown in:\n",
      "    https://scikit-learn.org/stable/modules/preprocessing.html\n",
      "Please also refer to the documentation for alternative solver options:\n",
      "    https://scikit-learn.org/stable/modules/linear_model.html#logistic-regression\n",
      "  n_iter_i = _check_optimize_result(\n",
      "c:\\Users\\martj\\miniconda3\\envs\\py38\\lib\\site-packages\\sklearn\\linear_model\\_logistic.py:460: ConvergenceWarning: lbfgs failed to converge (status=1):\n",
      "STOP: TOTAL NO. of ITERATIONS REACHED LIMIT.\n",
      "\n",
      "Increase the number of iterations (max_iter) or scale the data as shown in:\n",
      "    https://scikit-learn.org/stable/modules/preprocessing.html\n",
      "Please also refer to the documentation for alternative solver options:\n",
      "    https://scikit-learn.org/stable/modules/linear_model.html#logistic-regression\n",
      "  n_iter_i = _check_optimize_result(\n",
      "c:\\Users\\martj\\miniconda3\\envs\\py38\\lib\\site-packages\\sklearn\\linear_model\\_logistic.py:460: ConvergenceWarning: lbfgs failed to converge (status=1):\n",
      "STOP: TOTAL NO. of ITERATIONS REACHED LIMIT.\n",
      "\n",
      "Increase the number of iterations (max_iter) or scale the data as shown in:\n",
      "    https://scikit-learn.org/stable/modules/preprocessing.html\n",
      "Please also refer to the documentation for alternative solver options:\n",
      "    https://scikit-learn.org/stable/modules/linear_model.html#logistic-regression\n",
      "  n_iter_i = _check_optimize_result(\n",
      "c:\\Users\\martj\\miniconda3\\envs\\py38\\lib\\site-packages\\sklearn\\linear_model\\_sag.py:350: ConvergenceWarning: The max_iter was reached which means the coef_ did not converge\n",
      "  warnings.warn(\n",
      "c:\\Users\\martj\\miniconda3\\envs\\py38\\lib\\site-packages\\sklearn\\linear_model\\_sag.py:350: ConvergenceWarning: The max_iter was reached which means the coef_ did not converge\n",
      "  warnings.warn(\n",
      "c:\\Users\\martj\\miniconda3\\envs\\py38\\lib\\site-packages\\sklearn\\linear_model\\_sag.py:350: ConvergenceWarning: The max_iter was reached which means the coef_ did not converge\n",
      "  warnings.warn(\n",
      "c:\\Users\\martj\\miniconda3\\envs\\py38\\lib\\site-packages\\sklearn\\linear_model\\_sag.py:350: ConvergenceWarning: The max_iter was reached which means the coef_ did not converge\n",
      "  warnings.warn(\n",
      "c:\\Users\\martj\\miniconda3\\envs\\py38\\lib\\site-packages\\sklearn\\linear_model\\_sag.py:350: ConvergenceWarning: The max_iter was reached which means the coef_ did not converge\n",
      "  warnings.warn(\n",
      "c:\\Users\\martj\\miniconda3\\envs\\py38\\lib\\site-packages\\sklearn\\linear_model\\_sag.py:350: ConvergenceWarning: The max_iter was reached which means the coef_ did not converge\n",
      "  warnings.warn(\n",
      "c:\\Users\\martj\\miniconda3\\envs\\py38\\lib\\site-packages\\sklearn\\linear_model\\_sag.py:350: ConvergenceWarning: The max_iter was reached which means the coef_ did not converge\n",
      "  warnings.warn(\n"
     ]
    },
    {
     "name": "stdout",
     "output_type": "stream",
     "text": [
      "[CV] END C=10, fit_intercept=False, max_iter=50, penalty=l2, solver=lbfgs; total time=   0.0s\n",
      "[CV] END C=10, fit_intercept=False, max_iter=50, penalty=l2, solver=lbfgs; total time=   0.0s\n",
      "[CV] END C=10, fit_intercept=False, max_iter=50, penalty=l2, solver=lbfgs; total time=   0.0s\n",
      "[CV] END C=10, fit_intercept=False, max_iter=50, penalty=l2, solver=liblinear; total time=   0.0s\n",
      "[CV] END C=10, fit_intercept=False, max_iter=50, penalty=l2, solver=liblinear; total time=   0.0s\n",
      "[CV] END C=10, fit_intercept=False, max_iter=50, penalty=l2, solver=liblinear; total time=   0.0s\n",
      "[CV] END C=10, fit_intercept=False, max_iter=50, penalty=l2, solver=liblinear; total time=   0.0s\n",
      "[CV] END C=10, fit_intercept=False, max_iter=50, penalty=l2, solver=liblinear; total time=   0.0s\n",
      "[CV] END C=10, fit_intercept=False, max_iter=50, penalty=l2, solver=sag; total time=   0.0s\n",
      "[CV] END C=10, fit_intercept=False, max_iter=50, penalty=l2, solver=sag; total time=   0.0s\n",
      "[CV] END C=10, fit_intercept=False, max_iter=50, penalty=l2, solver=sag; total time=   0.0s\n",
      "[CV] END C=10, fit_intercept=False, max_iter=50, penalty=l2, solver=sag; total time=   0.0s\n",
      "[CV] END C=10, fit_intercept=False, max_iter=50, penalty=l2, solver=sag; total time=   0.0s\n",
      "[CV] END C=10, fit_intercept=False, max_iter=50, penalty=l2, solver=saga; total time=   0.0s\n",
      "[CV] END C=10, fit_intercept=False, max_iter=50, penalty=l2, solver=saga; total time=   0.0s\n",
      "[CV] END C=10, fit_intercept=False, max_iter=50, penalty=l2, solver=saga; total time=   0.0s\n",
      "[CV] END C=10, fit_intercept=False, max_iter=50, penalty=l2, solver=saga; total time=   0.0s\n",
      "[CV] END C=10, fit_intercept=False, max_iter=50, penalty=l2, solver=saga; total time=   0.0s\n",
      "[CV] END C=10, fit_intercept=False, max_iter=100, penalty=l1, solver=newton-cg; total time=   0.0s\n",
      "[CV] END C=10, fit_intercept=False, max_iter=100, penalty=l1, solver=newton-cg; total time=   0.0s\n",
      "[CV] END C=10, fit_intercept=False, max_iter=100, penalty=l1, solver=newton-cg; total time=   0.0s\n",
      "[CV] END C=10, fit_intercept=False, max_iter=100, penalty=l1, solver=newton-cg; total time=   0.0s\n",
      "[CV] END C=10, fit_intercept=False, max_iter=100, penalty=l1, solver=newton-cg; total time=   0.0s\n",
      "[CV] END C=10, fit_intercept=False, max_iter=100, penalty=l1, solver=lbfgs; total time=   0.0s\n",
      "[CV] END C=10, fit_intercept=False, max_iter=100, penalty=l1, solver=lbfgs; total time=   0.0s\n",
      "[CV] END C=10, fit_intercept=False, max_iter=100, penalty=l1, solver=lbfgs; total time=   0.0s\n",
      "[CV] END C=10, fit_intercept=False, max_iter=100, penalty=l1, solver=lbfgs; total time=   0.0s\n",
      "[CV] END C=10, fit_intercept=False, max_iter=100, penalty=l1, solver=lbfgs; total time=   0.0s\n",
      "[CV] END C=10, fit_intercept=False, max_iter=100, penalty=l1, solver=liblinear; total time=   0.0s\n",
      "[CV] END C=10, fit_intercept=False, max_iter=100, penalty=l1, solver=liblinear; total time=   0.0s\n",
      "[CV] END C=10, fit_intercept=False, max_iter=100, penalty=l1, solver=liblinear; total time=   0.0s\n",
      "[CV] END C=10, fit_intercept=False, max_iter=100, penalty=l1, solver=liblinear; total time=   0.0s\n",
      "[CV] END C=10, fit_intercept=False, max_iter=100, penalty=l1, solver=liblinear; total time=   0.0s\n",
      "[CV] END C=10, fit_intercept=False, max_iter=100, penalty=l1, solver=sag; total time=   0.0s\n",
      "[CV] END C=10, fit_intercept=False, max_iter=100, penalty=l1, solver=sag; total time=   0.0s\n",
      "[CV] END C=10, fit_intercept=False, max_iter=100, penalty=l1, solver=sag; total time=   0.0s\n",
      "[CV] END C=10, fit_intercept=False, max_iter=100, penalty=l1, solver=sag; total time=   0.0s\n",
      "[CV] END C=10, fit_intercept=False, max_iter=100, penalty=l1, solver=sag; total time=   0.0s\n",
      "[CV] END C=10, fit_intercept=False, max_iter=100, penalty=l1, solver=saga; total time=   0.0s\n"
     ]
    },
    {
     "name": "stderr",
     "output_type": "stream",
     "text": [
      "c:\\Users\\martj\\miniconda3\\envs\\py38\\lib\\site-packages\\sklearn\\linear_model\\_sag.py:350: ConvergenceWarning: The max_iter was reached which means the coef_ did not converge\n",
      "  warnings.warn(\n",
      "c:\\Users\\martj\\miniconda3\\envs\\py38\\lib\\site-packages\\sklearn\\linear_model\\_sag.py:350: ConvergenceWarning: The max_iter was reached which means the coef_ did not converge\n",
      "  warnings.warn(\n",
      "c:\\Users\\martj\\miniconda3\\envs\\py38\\lib\\site-packages\\sklearn\\linear_model\\_sag.py:350: ConvergenceWarning: The max_iter was reached which means the coef_ did not converge\n",
      "  warnings.warn(\n",
      "c:\\Users\\martj\\miniconda3\\envs\\py38\\lib\\site-packages\\sklearn\\linear_model\\_sag.py:350: ConvergenceWarning: The max_iter was reached which means the coef_ did not converge\n",
      "  warnings.warn(\n",
      "c:\\Users\\martj\\miniconda3\\envs\\py38\\lib\\site-packages\\sklearn\\linear_model\\_sag.py:350: ConvergenceWarning: The max_iter was reached which means the coef_ did not converge\n",
      "  warnings.warn(\n",
      "c:\\Users\\martj\\miniconda3\\envs\\py38\\lib\\site-packages\\sklearn\\linear_model\\_sag.py:350: ConvergenceWarning: The max_iter was reached which means the coef_ did not converge\n",
      "  warnings.warn(\n",
      "c:\\Users\\martj\\miniconda3\\envs\\py38\\lib\\site-packages\\sklearn\\linear_model\\_sag.py:350: ConvergenceWarning: The max_iter was reached which means the coef_ did not converge\n",
      "  warnings.warn(\n",
      "c:\\Users\\martj\\miniconda3\\envs\\py38\\lib\\site-packages\\sklearn\\linear_model\\_sag.py:350: ConvergenceWarning: The max_iter was reached which means the coef_ did not converge\n",
      "  warnings.warn(\n"
     ]
    },
    {
     "name": "stdout",
     "output_type": "stream",
     "text": [
      "[CV] END C=10, fit_intercept=False, max_iter=100, penalty=l1, solver=saga; total time=   0.0s\n",
      "[CV] END C=10, fit_intercept=False, max_iter=100, penalty=l1, solver=saga; total time=   0.0s\n",
      "[CV] END C=10, fit_intercept=False, max_iter=100, penalty=l1, solver=saga; total time=   0.0s\n",
      "[CV] END C=10, fit_intercept=False, max_iter=100, penalty=l1, solver=saga; total time=   0.0s\n",
      "[CV] END C=10, fit_intercept=False, max_iter=100, penalty=l2, solver=newton-cg; total time=   0.0s\n",
      "[CV] END C=10, fit_intercept=False, max_iter=100, penalty=l2, solver=newton-cg; total time=   0.0s\n",
      "[CV] END C=10, fit_intercept=False, max_iter=100, penalty=l2, solver=newton-cg; total time=   0.0s\n",
      "[CV] END C=10, fit_intercept=False, max_iter=100, penalty=l2, solver=newton-cg; total time=   0.0s\n",
      "[CV] END C=10, fit_intercept=False, max_iter=100, penalty=l2, solver=newton-cg; total time=   0.0s\n",
      "[CV] END C=10, fit_intercept=False, max_iter=100, penalty=l2, solver=lbfgs; total time=   0.0s\n",
      "[CV] END C=10, fit_intercept=False, max_iter=100, penalty=l2, solver=lbfgs; total time=   0.0s\n",
      "[CV] END C=10, fit_intercept=False, max_iter=100, penalty=l2, solver=lbfgs; total time=   0.0s\n",
      "[CV] END C=10, fit_intercept=False, max_iter=100, penalty=l2, solver=lbfgs; total time=   0.0s\n",
      "[CV] END C=10, fit_intercept=False, max_iter=100, penalty=l2, solver=lbfgs; total time=   0.0s\n",
      "[CV] END C=10, fit_intercept=False, max_iter=100, penalty=l2, solver=liblinear; total time=   0.0s\n",
      "[CV] END C=10, fit_intercept=False, max_iter=100, penalty=l2, solver=liblinear; total time=   0.0s\n",
      "[CV] END C=10, fit_intercept=False, max_iter=100, penalty=l2, solver=liblinear; total time=   0.0s\n",
      "[CV] END C=10, fit_intercept=False, max_iter=100, penalty=l2, solver=liblinear; total time=   0.0s\n",
      "[CV] END C=10, fit_intercept=False, max_iter=100, penalty=l2, solver=liblinear; total time=   0.0s\n",
      "[CV] END C=10, fit_intercept=False, max_iter=100, penalty=l2, solver=sag; total time=   0.0s\n",
      "[CV] END C=10, fit_intercept=False, max_iter=100, penalty=l2, solver=sag; total time=   0.0s\n",
      "[CV] END C=10, fit_intercept=False, max_iter=100, penalty=l2, solver=sag; total time=   0.0s\n",
      "[CV] END C=10, fit_intercept=False, max_iter=100, penalty=l2, solver=sag; total time=   0.0s\n",
      "[CV] END C=10, fit_intercept=False, max_iter=100, penalty=l2, solver=sag; total time=   0.0s\n",
      "[CV] END C=10, fit_intercept=False, max_iter=100, penalty=l2, solver=saga; total time=   0.0s\n"
     ]
    },
    {
     "name": "stderr",
     "output_type": "stream",
     "text": [
      "c:\\Users\\martj\\miniconda3\\envs\\py38\\lib\\site-packages\\sklearn\\linear_model\\_sag.py:350: ConvergenceWarning: The max_iter was reached which means the coef_ did not converge\n",
      "  warnings.warn(\n",
      "c:\\Users\\martj\\miniconda3\\envs\\py38\\lib\\site-packages\\sklearn\\linear_model\\_sag.py:350: ConvergenceWarning: The max_iter was reached which means the coef_ did not converge\n",
      "  warnings.warn(\n",
      "c:\\Users\\martj\\miniconda3\\envs\\py38\\lib\\site-packages\\sklearn\\linear_model\\_sag.py:350: ConvergenceWarning: The max_iter was reached which means the coef_ did not converge\n",
      "  warnings.warn(\n",
      "c:\\Users\\martj\\miniconda3\\envs\\py38\\lib\\site-packages\\sklearn\\linear_model\\_sag.py:350: ConvergenceWarning: The max_iter was reached which means the coef_ did not converge\n",
      "  warnings.warn(\n",
      "c:\\Users\\martj\\miniconda3\\envs\\py38\\lib\\site-packages\\sklearn\\linear_model\\_sag.py:350: ConvergenceWarning: The max_iter was reached which means the coef_ did not converge\n",
      "  warnings.warn(\n",
      "c:\\Users\\martj\\miniconda3\\envs\\py38\\lib\\site-packages\\sklearn\\linear_model\\_sag.py:350: ConvergenceWarning: The max_iter was reached which means the coef_ did not converge\n",
      "  warnings.warn(\n",
      "c:\\Users\\martj\\miniconda3\\envs\\py38\\lib\\site-packages\\sklearn\\linear_model\\_sag.py:350: ConvergenceWarning: The max_iter was reached which means the coef_ did not converge\n",
      "  warnings.warn(\n",
      "c:\\Users\\martj\\miniconda3\\envs\\py38\\lib\\site-packages\\sklearn\\linear_model\\_sag.py:350: ConvergenceWarning: The max_iter was reached which means the coef_ did not converge\n",
      "  warnings.warn(\n"
     ]
    },
    {
     "name": "stdout",
     "output_type": "stream",
     "text": [
      "[CV] END C=10, fit_intercept=False, max_iter=100, penalty=l2, solver=saga; total time=   0.0s\n",
      "[CV] END C=10, fit_intercept=False, max_iter=100, penalty=l2, solver=saga; total time=   0.0s\n",
      "[CV] END C=10, fit_intercept=False, max_iter=100, penalty=l2, solver=saga; total time=   0.0s\n",
      "[CV] END C=10, fit_intercept=False, max_iter=100, penalty=l2, solver=saga; total time=   0.0s\n",
      "[CV] END C=10, fit_intercept=False, max_iter=200, penalty=l1, solver=newton-cg; total time=   0.0s\n",
      "[CV] END C=10, fit_intercept=False, max_iter=200, penalty=l1, solver=newton-cg; total time=   0.0s\n",
      "[CV] END C=10, fit_intercept=False, max_iter=200, penalty=l1, solver=newton-cg; total time=   0.0s\n",
      "[CV] END C=10, fit_intercept=False, max_iter=200, penalty=l1, solver=newton-cg; total time=   0.0s\n",
      "[CV] END C=10, fit_intercept=False, max_iter=200, penalty=l1, solver=newton-cg; total time=   0.0s\n",
      "[CV] END C=10, fit_intercept=False, max_iter=200, penalty=l1, solver=lbfgs; total time=   0.0s\n",
      "[CV] END C=10, fit_intercept=False, max_iter=200, penalty=l1, solver=lbfgs; total time=   0.0s\n",
      "[CV] END C=10, fit_intercept=False, max_iter=200, penalty=l1, solver=lbfgs; total time=   0.0s\n",
      "[CV] END C=10, fit_intercept=False, max_iter=200, penalty=l1, solver=lbfgs; total time=   0.0s\n",
      "[CV] END C=10, fit_intercept=False, max_iter=200, penalty=l1, solver=lbfgs; total time=   0.0s\n",
      "[CV] END C=10, fit_intercept=False, max_iter=200, penalty=l1, solver=liblinear; total time=   0.0s\n",
      "[CV] END C=10, fit_intercept=False, max_iter=200, penalty=l1, solver=liblinear; total time=   0.0s\n",
      "[CV] END C=10, fit_intercept=False, max_iter=200, penalty=l1, solver=liblinear; total time=   0.0s\n",
      "[CV] END C=10, fit_intercept=False, max_iter=200, penalty=l1, solver=liblinear; total time=   0.0s\n",
      "[CV] END C=10, fit_intercept=False, max_iter=200, penalty=l1, solver=liblinear; total time=   0.0s\n",
      "[CV] END C=10, fit_intercept=False, max_iter=200, penalty=l1, solver=sag; total time=   0.0s\n",
      "[CV] END C=10, fit_intercept=False, max_iter=200, penalty=l1, solver=sag; total time=   0.0s\n",
      "[CV] END C=10, fit_intercept=False, max_iter=200, penalty=l1, solver=sag; total time=   0.0s\n",
      "[CV] END C=10, fit_intercept=False, max_iter=200, penalty=l1, solver=sag; total time=   0.0s\n"
     ]
    },
    {
     "name": "stderr",
     "output_type": "stream",
     "text": [
      "c:\\Users\\martj\\miniconda3\\envs\\py38\\lib\\site-packages\\sklearn\\linear_model\\_sag.py:350: ConvergenceWarning: The max_iter was reached which means the coef_ did not converge\n",
      "  warnings.warn(\n",
      "c:\\Users\\martj\\miniconda3\\envs\\py38\\lib\\site-packages\\sklearn\\linear_model\\_sag.py:350: ConvergenceWarning: The max_iter was reached which means the coef_ did not converge\n",
      "  warnings.warn(\n"
     ]
    },
    {
     "name": "stdout",
     "output_type": "stream",
     "text": [
      "[CV] END C=10, fit_intercept=False, max_iter=200, penalty=l1, solver=sag; total time=   0.0s\n",
      "[CV] END C=10, fit_intercept=False, max_iter=200, penalty=l1, solver=saga; total time=   0.0s\n",
      "[CV] END C=10, fit_intercept=False, max_iter=200, penalty=l1, solver=saga; total time=   0.0s\n",
      "[CV] END C=10, fit_intercept=False, max_iter=200, penalty=l1, solver=saga; total time=   0.0s\n"
     ]
    },
    {
     "name": "stderr",
     "output_type": "stream",
     "text": [
      "c:\\Users\\martj\\miniconda3\\envs\\py38\\lib\\site-packages\\sklearn\\linear_model\\_sag.py:350: ConvergenceWarning: The max_iter was reached which means the coef_ did not converge\n",
      "  warnings.warn(\n",
      "c:\\Users\\martj\\miniconda3\\envs\\py38\\lib\\site-packages\\sklearn\\linear_model\\_sag.py:350: ConvergenceWarning: The max_iter was reached which means the coef_ did not converge\n",
      "  warnings.warn(\n",
      "c:\\Users\\martj\\miniconda3\\envs\\py38\\lib\\site-packages\\sklearn\\linear_model\\_sag.py:350: ConvergenceWarning: The max_iter was reached which means the coef_ did not converge\n",
      "  warnings.warn(\n",
      "c:\\Users\\martj\\miniconda3\\envs\\py38\\lib\\site-packages\\sklearn\\linear_model\\_sag.py:350: ConvergenceWarning: The max_iter was reached which means the coef_ did not converge\n",
      "  warnings.warn(\n"
     ]
    },
    {
     "name": "stdout",
     "output_type": "stream",
     "text": [
      "[CV] END C=10, fit_intercept=False, max_iter=200, penalty=l1, solver=saga; total time=   0.0s\n",
      "[CV] END C=10, fit_intercept=False, max_iter=200, penalty=l1, solver=saga; total time=   0.0s\n",
      "[CV] END C=10, fit_intercept=False, max_iter=200, penalty=l2, solver=newton-cg; total time=   0.0s\n",
      "[CV] END C=10, fit_intercept=False, max_iter=200, penalty=l2, solver=newton-cg; total time=   0.0s\n",
      "[CV] END C=10, fit_intercept=False, max_iter=200, penalty=l2, solver=newton-cg; total time=   0.0s\n",
      "[CV] END C=10, fit_intercept=False, max_iter=200, penalty=l2, solver=newton-cg; total time=   0.0s\n",
      "[CV] END C=10, fit_intercept=False, max_iter=200, penalty=l2, solver=newton-cg; total time=   0.0s\n"
     ]
    },
    {
     "name": "stderr",
     "output_type": "stream",
     "text": [
      "c:\\Users\\martj\\miniconda3\\envs\\py38\\lib\\site-packages\\sklearn\\linear_model\\_sag.py:350: ConvergenceWarning: The max_iter was reached which means the coef_ did not converge\n",
      "  warnings.warn(\n"
     ]
    },
    {
     "name": "stdout",
     "output_type": "stream",
     "text": [
      "[CV] END C=10, fit_intercept=False, max_iter=200, penalty=l2, solver=lbfgs; total time=   0.0s\n",
      "[CV] END C=10, fit_intercept=False, max_iter=200, penalty=l2, solver=lbfgs; total time=   0.0s\n",
      "[CV] END C=10, fit_intercept=False, max_iter=200, penalty=l2, solver=lbfgs; total time=   0.0s\n",
      "[CV] END C=10, fit_intercept=False, max_iter=200, penalty=l2, solver=lbfgs; total time=   0.0s\n",
      "[CV] END C=10, fit_intercept=False, max_iter=200, penalty=l2, solver=lbfgs; total time=   0.0s\n",
      "[CV] END C=10, fit_intercept=False, max_iter=200, penalty=l2, solver=liblinear; total time=   0.0s\n",
      "[CV] END C=10, fit_intercept=False, max_iter=200, penalty=l2, solver=liblinear; total time=   0.0s\n",
      "[CV] END C=10, fit_intercept=False, max_iter=200, penalty=l2, solver=liblinear; total time=   0.0s\n",
      "[CV] END C=10, fit_intercept=False, max_iter=200, penalty=l2, solver=liblinear; total time=   0.0s\n",
      "[CV] END C=10, fit_intercept=False, max_iter=200, penalty=l2, solver=liblinear; total time=   0.0s\n"
     ]
    },
    {
     "name": "stderr",
     "output_type": "stream",
     "text": [
      "c:\\Users\\martj\\miniconda3\\envs\\py38\\lib\\site-packages\\sklearn\\linear_model\\_sag.py:350: ConvergenceWarning: The max_iter was reached which means the coef_ did not converge\n",
      "  warnings.warn(\n",
      "c:\\Users\\martj\\miniconda3\\envs\\py38\\lib\\site-packages\\sklearn\\linear_model\\_sag.py:350: ConvergenceWarning: The max_iter was reached which means the coef_ did not converge\n",
      "  warnings.warn(\n",
      "c:\\Users\\martj\\miniconda3\\envs\\py38\\lib\\site-packages\\sklearn\\linear_model\\_sag.py:350: ConvergenceWarning: The max_iter was reached which means the coef_ did not converge\n",
      "  warnings.warn(\n",
      "c:\\Users\\martj\\miniconda3\\envs\\py38\\lib\\site-packages\\sklearn\\linear_model\\_sag.py:350: ConvergenceWarning: The max_iter was reached which means the coef_ did not converge\n",
      "  warnings.warn(\n",
      "c:\\Users\\martj\\miniconda3\\envs\\py38\\lib\\site-packages\\sklearn\\linear_model\\_sag.py:350: ConvergenceWarning: The max_iter was reached which means the coef_ did not converge\n",
      "  warnings.warn(\n",
      "c:\\Users\\martj\\miniconda3\\envs\\py38\\lib\\site-packages\\sklearn\\linear_model\\_sag.py:350: ConvergenceWarning: The max_iter was reached which means the coef_ did not converge\n",
      "  warnings.warn(\n"
     ]
    },
    {
     "name": "stdout",
     "output_type": "stream",
     "text": [
      "[CV] END C=10, fit_intercept=False, max_iter=200, penalty=l2, solver=sag; total time=   0.0s\n",
      "[CV] END C=10, fit_intercept=False, max_iter=200, penalty=l2, solver=sag; total time=   0.0s\n",
      "[CV] END C=10, fit_intercept=False, max_iter=200, penalty=l2, solver=sag; total time=   0.0s\n",
      "[CV] END C=10, fit_intercept=False, max_iter=200, penalty=l2, solver=sag; total time=   0.0s\n",
      "[CV] END C=10, fit_intercept=False, max_iter=200, penalty=l2, solver=sag; total time=   0.0s\n",
      "[CV] END C=10, fit_intercept=False, max_iter=200, penalty=l2, solver=saga; total time=   0.0s\n"
     ]
    },
    {
     "name": "stderr",
     "output_type": "stream",
     "text": [
      "c:\\Users\\martj\\miniconda3\\envs\\py38\\lib\\site-packages\\sklearn\\linear_model\\_sag.py:350: ConvergenceWarning: The max_iter was reached which means the coef_ did not converge\n",
      "  warnings.warn(\n",
      "c:\\Users\\martj\\miniconda3\\envs\\py38\\lib\\site-packages\\sklearn\\linear_model\\_sag.py:350: ConvergenceWarning: The max_iter was reached which means the coef_ did not converge\n",
      "  warnings.warn(\n",
      "c:\\Users\\martj\\miniconda3\\envs\\py38\\lib\\site-packages\\sklearn\\linear_model\\_sag.py:350: ConvergenceWarning: The max_iter was reached which means the coef_ did not converge\n",
      "  warnings.warn(\n",
      "c:\\Users\\martj\\miniconda3\\envs\\py38\\lib\\site-packages\\sklearn\\linear_model\\_sag.py:350: ConvergenceWarning: The max_iter was reached which means the coef_ did not converge\n",
      "  warnings.warn(\n"
     ]
    },
    {
     "name": "stdout",
     "output_type": "stream",
     "text": [
      "[CV] END C=10, fit_intercept=False, max_iter=200, penalty=l2, solver=saga; total time=   0.0s\n",
      "[CV] END C=10, fit_intercept=False, max_iter=200, penalty=l2, solver=saga; total time=   0.0s\n",
      "[CV] END C=10, fit_intercept=False, max_iter=200, penalty=l2, solver=saga; total time=   0.0s\n",
      "[CV] END C=10, fit_intercept=False, max_iter=200, penalty=l2, solver=saga; total time=   0.0s\n",
      "[CV] END C=10, fit_intercept=False, max_iter=500, penalty=l1, solver=newton-cg; total time=   0.0s\n",
      "[CV] END C=10, fit_intercept=False, max_iter=500, penalty=l1, solver=newton-cg; total time=   0.0s\n",
      "[CV] END C=10, fit_intercept=False, max_iter=500, penalty=l1, solver=newton-cg; total time=   0.0s\n",
      "[CV] END C=10, fit_intercept=False, max_iter=500, penalty=l1, solver=newton-cg; total time=   0.0s\n",
      "[CV] END C=10, fit_intercept=False, max_iter=500, penalty=l1, solver=newton-cg; total time=   0.0s\n",
      "[CV] END C=10, fit_intercept=False, max_iter=500, penalty=l1, solver=lbfgs; total time=   0.0s\n",
      "[CV] END C=10, fit_intercept=False, max_iter=500, penalty=l1, solver=lbfgs; total time=   0.0s\n",
      "[CV] END C=10, fit_intercept=False, max_iter=500, penalty=l1, solver=lbfgs; total time=   0.0s\n",
      "[CV] END C=10, fit_intercept=False, max_iter=500, penalty=l1, solver=lbfgs; total time=   0.0s\n",
      "[CV] END C=10, fit_intercept=False, max_iter=500, penalty=l1, solver=lbfgs; total time=   0.0s\n",
      "[CV] END C=10, fit_intercept=False, max_iter=500, penalty=l1, solver=liblinear; total time=   0.0s\n",
      "[CV] END C=10, fit_intercept=False, max_iter=500, penalty=l1, solver=liblinear; total time=   0.0s\n",
      "[CV] END C=10, fit_intercept=False, max_iter=500, penalty=l1, solver=liblinear; total time=   0.0s\n",
      "[CV] END C=10, fit_intercept=False, max_iter=500, penalty=l1, solver=liblinear; total time=   0.0s\n",
      "[CV] END C=10, fit_intercept=False, max_iter=500, penalty=l1, solver=liblinear; total time=   0.0s\n",
      "[CV] END C=10, fit_intercept=False, max_iter=500, penalty=l1, solver=sag; total time=   0.0s\n",
      "[CV] END C=10, fit_intercept=False, max_iter=500, penalty=l1, solver=sag; total time=   0.0s\n",
      "[CV] END C=10, fit_intercept=False, max_iter=500, penalty=l1, solver=sag; total time=   0.0s\n",
      "[CV] END C=10, fit_intercept=False, max_iter=500, penalty=l1, solver=sag; total time=   0.0s\n",
      "[CV] END C=10, fit_intercept=False, max_iter=500, penalty=l1, solver=sag; total time=   0.0s\n",
      "[CV] END C=10, fit_intercept=False, max_iter=500, penalty=l1, solver=saga; total time=   0.0s\n"
     ]
    },
    {
     "name": "stderr",
     "output_type": "stream",
     "text": [
      "c:\\Users\\martj\\miniconda3\\envs\\py38\\lib\\site-packages\\sklearn\\linear_model\\_sag.py:350: ConvergenceWarning: The max_iter was reached which means the coef_ did not converge\n",
      "  warnings.warn(\n",
      "c:\\Users\\martj\\miniconda3\\envs\\py38\\lib\\site-packages\\sklearn\\linear_model\\_sag.py:350: ConvergenceWarning: The max_iter was reached which means the coef_ did not converge\n",
      "  warnings.warn(\n",
      "c:\\Users\\martj\\miniconda3\\envs\\py38\\lib\\site-packages\\sklearn\\linear_model\\_sag.py:350: ConvergenceWarning: The max_iter was reached which means the coef_ did not converge\n",
      "  warnings.warn(\n"
     ]
    },
    {
     "name": "stdout",
     "output_type": "stream",
     "text": [
      "[CV] END C=10, fit_intercept=False, max_iter=500, penalty=l1, solver=saga; total time=   0.0s\n",
      "[CV] END C=10, fit_intercept=False, max_iter=500, penalty=l1, solver=saga; total time=   0.0s\n"
     ]
    },
    {
     "name": "stderr",
     "output_type": "stream",
     "text": [
      "c:\\Users\\martj\\miniconda3\\envs\\py38\\lib\\site-packages\\sklearn\\linear_model\\_sag.py:350: ConvergenceWarning: The max_iter was reached which means the coef_ did not converge\n",
      "  warnings.warn(\n",
      "c:\\Users\\martj\\miniconda3\\envs\\py38\\lib\\site-packages\\sklearn\\linear_model\\_sag.py:350: ConvergenceWarning: The max_iter was reached which means the coef_ did not converge\n",
      "  warnings.warn(\n"
     ]
    },
    {
     "name": "stdout",
     "output_type": "stream",
     "text": [
      "[CV] END C=10, fit_intercept=False, max_iter=500, penalty=l1, solver=saga; total time=   0.0s\n",
      "[CV] END C=10, fit_intercept=False, max_iter=500, penalty=l1, solver=saga; total time=   0.0s\n",
      "[CV] END C=10, fit_intercept=False, max_iter=500, penalty=l2, solver=newton-cg; total time=   0.0s\n",
      "[CV] END C=10, fit_intercept=False, max_iter=500, penalty=l2, solver=newton-cg; total time=   0.0s\n",
      "[CV] END C=10, fit_intercept=False, max_iter=500, penalty=l2, solver=newton-cg; total time=   0.0s\n",
      "[CV] END C=10, fit_intercept=False, max_iter=500, penalty=l2, solver=newton-cg; total time=   0.0s\n",
      "[CV] END C=10, fit_intercept=False, max_iter=500, penalty=l2, solver=newton-cg; total time=   0.0s\n",
      "[CV] END C=10, fit_intercept=False, max_iter=500, penalty=l2, solver=lbfgs; total time=   0.0s\n",
      "[CV] END C=10, fit_intercept=False, max_iter=500, penalty=l2, solver=lbfgs; total time=   0.0s\n",
      "[CV] END C=10, fit_intercept=False, max_iter=500, penalty=l2, solver=lbfgs; total time=   0.0s\n",
      "[CV] END C=10, fit_intercept=False, max_iter=500, penalty=l2, solver=lbfgs; total time=   0.0s\n",
      "[CV] END C=10, fit_intercept=False, max_iter=500, penalty=l2, solver=lbfgs; total time=   0.0s\n",
      "[CV] END C=10, fit_intercept=False, max_iter=500, penalty=l2, solver=liblinear; total time=   0.0s\n",
      "[CV] END C=10, fit_intercept=False, max_iter=500, penalty=l2, solver=liblinear; total time=   0.0s\n",
      "[CV] END C=10, fit_intercept=False, max_iter=500, penalty=l2, solver=liblinear; total time=   0.0s\n",
      "[CV] END C=10, fit_intercept=False, max_iter=500, penalty=l2, solver=liblinear; total time=   0.0s\n",
      "[CV] END C=10, fit_intercept=False, max_iter=500, penalty=l2, solver=liblinear; total time=   0.0s\n",
      "[CV] END C=10, fit_intercept=False, max_iter=500, penalty=l2, solver=sag; total time=   0.0s\n"
     ]
    },
    {
     "name": "stderr",
     "output_type": "stream",
     "text": [
      "c:\\Users\\martj\\miniconda3\\envs\\py38\\lib\\site-packages\\sklearn\\linear_model\\_sag.py:350: ConvergenceWarning: The max_iter was reached which means the coef_ did not converge\n",
      "  warnings.warn(\n",
      "c:\\Users\\martj\\miniconda3\\envs\\py38\\lib\\site-packages\\sklearn\\linear_model\\_sag.py:350: ConvergenceWarning: The max_iter was reached which means the coef_ did not converge\n",
      "  warnings.warn(\n",
      "c:\\Users\\martj\\miniconda3\\envs\\py38\\lib\\site-packages\\sklearn\\linear_model\\_sag.py:350: ConvergenceWarning: The max_iter was reached which means the coef_ did not converge\n",
      "  warnings.warn(\n"
     ]
    },
    {
     "name": "stdout",
     "output_type": "stream",
     "text": [
      "[CV] END C=10, fit_intercept=False, max_iter=500, penalty=l2, solver=sag; total time=   0.0s\n",
      "[CV] END C=10, fit_intercept=False, max_iter=500, penalty=l2, solver=sag; total time=   0.0s\n",
      "[CV] END C=10, fit_intercept=False, max_iter=500, penalty=l2, solver=sag; total time=   0.0s\n"
     ]
    },
    {
     "name": "stderr",
     "output_type": "stream",
     "text": [
      "c:\\Users\\martj\\miniconda3\\envs\\py38\\lib\\site-packages\\sklearn\\linear_model\\_sag.py:350: ConvergenceWarning: The max_iter was reached which means the coef_ did not converge\n",
      "  warnings.warn(\n",
      "c:\\Users\\martj\\miniconda3\\envs\\py38\\lib\\site-packages\\sklearn\\linear_model\\_sag.py:350: ConvergenceWarning: The max_iter was reached which means the coef_ did not converge\n",
      "  warnings.warn(\n",
      "c:\\Users\\martj\\miniconda3\\envs\\py38\\lib\\site-packages\\sklearn\\linear_model\\_sag.py:350: ConvergenceWarning: The max_iter was reached which means the coef_ did not converge\n",
      "  warnings.warn(\n"
     ]
    },
    {
     "name": "stdout",
     "output_type": "stream",
     "text": [
      "[CV] END C=10, fit_intercept=False, max_iter=500, penalty=l2, solver=sag; total time=   0.0s\n",
      "[CV] END C=10, fit_intercept=False, max_iter=500, penalty=l2, solver=saga; total time=   0.0s\n"
     ]
    },
    {
     "name": "stderr",
     "output_type": "stream",
     "text": [
      "c:\\Users\\martj\\miniconda3\\envs\\py38\\lib\\site-packages\\sklearn\\linear_model\\_sag.py:350: ConvergenceWarning: The max_iter was reached which means the coef_ did not converge\n",
      "  warnings.warn(\n",
      "c:\\Users\\martj\\miniconda3\\envs\\py38\\lib\\site-packages\\sklearn\\linear_model\\_sag.py:350: ConvergenceWarning: The max_iter was reached which means the coef_ did not converge\n",
      "  warnings.warn(\n",
      "c:\\Users\\martj\\miniconda3\\envs\\py38\\lib\\site-packages\\sklearn\\linear_model\\_sag.py:350: ConvergenceWarning: The max_iter was reached which means the coef_ did not converge\n",
      "  warnings.warn(\n"
     ]
    },
    {
     "name": "stdout",
     "output_type": "stream",
     "text": [
      "[CV] END C=10, fit_intercept=False, max_iter=500, penalty=l2, solver=saga; total time=   0.0s\n",
      "[CV] END C=10, fit_intercept=False, max_iter=500, penalty=l2, solver=saga; total time=   0.0s\n",
      "[CV] END C=10, fit_intercept=False, max_iter=500, penalty=l2, solver=saga; total time=   0.0s\n"
     ]
    },
    {
     "name": "stderr",
     "output_type": "stream",
     "text": [
      "c:\\Users\\martj\\miniconda3\\envs\\py38\\lib\\site-packages\\sklearn\\linear_model\\_sag.py:350: ConvergenceWarning: The max_iter was reached which means the coef_ did not converge\n",
      "  warnings.warn(\n",
      "c:\\Users\\martj\\miniconda3\\envs\\py38\\lib\\site-packages\\sklearn\\linear_model\\_sag.py:350: ConvergenceWarning: The max_iter was reached which means the coef_ did not converge\n",
      "  warnings.warn(\n",
      "c:\\Users\\martj\\miniconda3\\envs\\py38\\lib\\site-packages\\sklearn\\linear_model\\_sag.py:350: ConvergenceWarning: The max_iter was reached which means the coef_ did not converge\n",
      "  warnings.warn(\n",
      "c:\\Users\\martj\\miniconda3\\envs\\py38\\lib\\site-packages\\sklearn\\linear_model\\_sag.py:350: ConvergenceWarning: The max_iter was reached which means the coef_ did not converge\n",
      "  warnings.warn(\n",
      "c:\\Users\\martj\\miniconda3\\envs\\py38\\lib\\site-packages\\sklearn\\linear_model\\_sag.py:350: ConvergenceWarning: The max_iter was reached which means the coef_ did not converge\n",
      "  warnings.warn(\n"
     ]
    },
    {
     "name": "stdout",
     "output_type": "stream",
     "text": [
      "[CV] END C=10, fit_intercept=False, max_iter=500, penalty=l2, solver=saga; total time=   0.0s\n",
      "[CV] END C=100, fit_intercept=True, max_iter=50, penalty=l1, solver=newton-cg; total time=   0.0s\n",
      "[CV] END C=100, fit_intercept=True, max_iter=50, penalty=l1, solver=newton-cg; total time=   0.0s\n",
      "[CV] END C=100, fit_intercept=True, max_iter=50, penalty=l1, solver=newton-cg; total time=   0.0s\n",
      "[CV] END C=100, fit_intercept=True, max_iter=50, penalty=l1, solver=newton-cg; total time=   0.0s\n",
      "[CV] END C=100, fit_intercept=True, max_iter=50, penalty=l1, solver=newton-cg; total time=   0.0s\n",
      "[CV] END C=100, fit_intercept=True, max_iter=50, penalty=l1, solver=lbfgs; total time=   0.0s\n",
      "[CV] END C=100, fit_intercept=True, max_iter=50, penalty=l1, solver=lbfgs; total time=   0.0s\n",
      "[CV] END C=100, fit_intercept=True, max_iter=50, penalty=l1, solver=lbfgs; total time=   0.0s\n",
      "[CV] END C=100, fit_intercept=True, max_iter=50, penalty=l1, solver=lbfgs; total time=   0.0s\n",
      "[CV] END C=100, fit_intercept=True, max_iter=50, penalty=l1, solver=lbfgs; total time=   0.0s\n",
      "[CV] END C=100, fit_intercept=True, max_iter=50, penalty=l1, solver=liblinear; total time=   0.0s\n",
      "[CV] END C=100, fit_intercept=True, max_iter=50, penalty=l1, solver=liblinear; total time=   0.0s\n",
      "[CV] END C=100, fit_intercept=True, max_iter=50, penalty=l1, solver=liblinear; total time=   0.0s\n",
      "[CV] END C=100, fit_intercept=True, max_iter=50, penalty=l1, solver=liblinear; total time=   0.0s\n",
      "[CV] END C=100, fit_intercept=True, max_iter=50, penalty=l1, solver=liblinear; total time=   0.0s\n",
      "[CV] END C=100, fit_intercept=True, max_iter=50, penalty=l1, solver=sag; total time=   0.0s\n",
      "[CV] END C=100, fit_intercept=True, max_iter=50, penalty=l1, solver=sag; total time=   0.0s\n",
      "[CV] END C=100, fit_intercept=True, max_iter=50, penalty=l1, solver=sag; total time=   0.0s\n",
      "[CV] END C=100, fit_intercept=True, max_iter=50, penalty=l1, solver=sag; total time=   0.0s\n",
      "[CV] END C=100, fit_intercept=True, max_iter=50, penalty=l1, solver=sag; total time=   0.0s\n",
      "[CV] END C=100, fit_intercept=True, max_iter=50, penalty=l1, solver=saga; total time=   0.0s\n",
      "[CV] END C=100, fit_intercept=True, max_iter=50, penalty=l1, solver=saga; total time=   0.0s\n",
      "[CV] END C=100, fit_intercept=True, max_iter=50, penalty=l1, solver=saga; total time=   0.0s\n",
      "[CV] END C=100, fit_intercept=True, max_iter=50, penalty=l1, solver=saga; total time=   0.0s\n"
     ]
    },
    {
     "name": "stderr",
     "output_type": "stream",
     "text": [
      "c:\\Users\\martj\\miniconda3\\envs\\py38\\lib\\site-packages\\sklearn\\linear_model\\_sag.py:350: ConvergenceWarning: The max_iter was reached which means the coef_ did not converge\n",
      "  warnings.warn(\n"
     ]
    },
    {
     "name": "stdout",
     "output_type": "stream",
     "text": [
      "[CV] END C=100, fit_intercept=True, max_iter=50, penalty=l1, solver=saga; total time=   0.0s\n",
      "[CV] END C=100, fit_intercept=True, max_iter=50, penalty=l2, solver=newton-cg; total time=   0.0s\n",
      "[CV] END C=100, fit_intercept=True, max_iter=50, penalty=l2, solver=newton-cg; total time=   0.0s\n",
      "[CV] END C=100, fit_intercept=True, max_iter=50, penalty=l2, solver=newton-cg; total time=   0.0s\n",
      "[CV] END C=100, fit_intercept=True, max_iter=50, penalty=l2, solver=newton-cg; total time=   0.0s\n",
      "[CV] END C=100, fit_intercept=True, max_iter=50, penalty=l2, solver=newton-cg; total time=   0.0s\n",
      "[CV] END C=100, fit_intercept=True, max_iter=50, penalty=l2, solver=lbfgs; total time=   0.0s\n",
      "[CV] END C=100, fit_intercept=True, max_iter=50, penalty=l2, solver=lbfgs; total time=   0.0s\n",
      "[CV] END C=100, fit_intercept=True, max_iter=50, penalty=l2, solver=lbfgs; total time=   0.0s\n",
      "[CV] END C=100, fit_intercept=True, max_iter=50, penalty=l2, solver=lbfgs; total time=   0.0s\n",
      "[CV] END C=100, fit_intercept=True, max_iter=50, penalty=l2, solver=lbfgs; total time=   0.0s\n",
      "[CV] END C=100, fit_intercept=True, max_iter=50, penalty=l2, solver=liblinear; total time=   0.0s\n",
      "[CV] END C=100, fit_intercept=True, max_iter=50, penalty=l2, solver=liblinear; total time=   0.0s\n",
      "[CV] END C=100, fit_intercept=True, max_iter=50, penalty=l2, solver=liblinear; total time=   0.0s\n",
      "[CV] END C=100, fit_intercept=True, max_iter=50, penalty=l2, solver=liblinear; total time=   0.0s\n",
      "[CV] END C=100, fit_intercept=True, max_iter=50, penalty=l2, solver=liblinear; total time=   0.0s\n"
     ]
    },
    {
     "name": "stderr",
     "output_type": "stream",
     "text": [
      "c:\\Users\\martj\\miniconda3\\envs\\py38\\lib\\site-packages\\sklearn\\linear_model\\_logistic.py:460: ConvergenceWarning: lbfgs failed to converge (status=1):\n",
      "STOP: TOTAL NO. of ITERATIONS REACHED LIMIT.\n",
      "\n",
      "Increase the number of iterations (max_iter) or scale the data as shown in:\n",
      "    https://scikit-learn.org/stable/modules/preprocessing.html\n",
      "Please also refer to the documentation for alternative solver options:\n",
      "    https://scikit-learn.org/stable/modules/linear_model.html#logistic-regression\n",
      "  n_iter_i = _check_optimize_result(\n",
      "c:\\Users\\martj\\miniconda3\\envs\\py38\\lib\\site-packages\\sklearn\\linear_model\\_logistic.py:460: ConvergenceWarning: lbfgs failed to converge (status=1):\n",
      "STOP: TOTAL NO. of ITERATIONS REACHED LIMIT.\n",
      "\n",
      "Increase the number of iterations (max_iter) or scale the data as shown in:\n",
      "    https://scikit-learn.org/stable/modules/preprocessing.html\n",
      "Please also refer to the documentation for alternative solver options:\n",
      "    https://scikit-learn.org/stable/modules/linear_model.html#logistic-regression\n",
      "  n_iter_i = _check_optimize_result(\n",
      "c:\\Users\\martj\\miniconda3\\envs\\py38\\lib\\site-packages\\sklearn\\linear_model\\_logistic.py:460: ConvergenceWarning: lbfgs failed to converge (status=1):\n",
      "STOP: TOTAL NO. of ITERATIONS REACHED LIMIT.\n",
      "\n",
      "Increase the number of iterations (max_iter) or scale the data as shown in:\n",
      "    https://scikit-learn.org/stable/modules/preprocessing.html\n",
      "Please also refer to the documentation for alternative solver options:\n",
      "    https://scikit-learn.org/stable/modules/linear_model.html#logistic-regression\n",
      "  n_iter_i = _check_optimize_result(\n",
      "c:\\Users\\martj\\miniconda3\\envs\\py38\\lib\\site-packages\\sklearn\\linear_model\\_logistic.py:460: ConvergenceWarning: lbfgs failed to converge (status=1):\n",
      "STOP: TOTAL NO. of ITERATIONS REACHED LIMIT.\n",
      "\n",
      "Increase the number of iterations (max_iter) or scale the data as shown in:\n",
      "    https://scikit-learn.org/stable/modules/preprocessing.html\n",
      "Please also refer to the documentation for alternative solver options:\n",
      "    https://scikit-learn.org/stable/modules/linear_model.html#logistic-regression\n",
      "  n_iter_i = _check_optimize_result(\n",
      "c:\\Users\\martj\\miniconda3\\envs\\py38\\lib\\site-packages\\sklearn\\linear_model\\_logistic.py:460: ConvergenceWarning: lbfgs failed to converge (status=1):\n",
      "STOP: TOTAL NO. of ITERATIONS REACHED LIMIT.\n",
      "\n",
      "Increase the number of iterations (max_iter) or scale the data as shown in:\n",
      "    https://scikit-learn.org/stable/modules/preprocessing.html\n",
      "Please also refer to the documentation for alternative solver options:\n",
      "    https://scikit-learn.org/stable/modules/linear_model.html#logistic-regression\n",
      "  n_iter_i = _check_optimize_result(\n",
      "c:\\Users\\martj\\miniconda3\\envs\\py38\\lib\\site-packages\\sklearn\\linear_model\\_sag.py:350: ConvergenceWarning: The max_iter was reached which means the coef_ did not converge\n",
      "  warnings.warn(\n"
     ]
    },
    {
     "name": "stdout",
     "output_type": "stream",
     "text": [
      "[CV] END C=100, fit_intercept=True, max_iter=50, penalty=l2, solver=sag; total time=   0.0s\n",
      "[CV] END C=100, fit_intercept=True, max_iter=50, penalty=l2, solver=sag; total time=   0.0s\n",
      "[CV] END C=100, fit_intercept=True, max_iter=50, penalty=l2, solver=sag; total time=   0.0s\n",
      "[CV] END C=100, fit_intercept=True, max_iter=50, penalty=l2, solver=sag; total time=   0.0s\n",
      "[CV] END C=100, fit_intercept=True, max_iter=50, penalty=l2, solver=sag; total time=   0.0s\n",
      "[CV] END C=100, fit_intercept=True, max_iter=50, penalty=l2, solver=saga; total time=   0.0s\n",
      "[CV] END C=100, fit_intercept=True, max_iter=50, penalty=l2, solver=saga; total time=   0.0s\n",
      "[CV] END C=100, fit_intercept=True, max_iter=50, penalty=l2, solver=saga; total time=   0.0s\n",
      "[CV] END C=100, fit_intercept=True, max_iter=50, penalty=l2, solver=saga; total time=   0.0s\n",
      "[CV] END C=100, fit_intercept=True, max_iter=50, penalty=l2, solver=saga; total time=   0.0s\n",
      "[CV] END C=100, fit_intercept=True, max_iter=100, penalty=l1, solver=newton-cg; total time=   0.0s\n",
      "[CV] END C=100, fit_intercept=True, max_iter=100, penalty=l1, solver=newton-cg; total time=   0.0s\n",
      "[CV] END C=100, fit_intercept=True, max_iter=100, penalty=l1, solver=newton-cg; total time=   0.0s\n",
      "[CV] END C=100, fit_intercept=True, max_iter=100, penalty=l1, solver=newton-cg; total time=   0.0s\n",
      "[CV] END C=100, fit_intercept=True, max_iter=100, penalty=l1, solver=newton-cg; total time=   0.0s\n",
      "[CV] END C=100, fit_intercept=True, max_iter=100, penalty=l1, solver=lbfgs; total time=   0.0s\n",
      "[CV] END C=100, fit_intercept=True, max_iter=100, penalty=l1, solver=lbfgs; total time=   0.0s\n",
      "[CV] END C=100, fit_intercept=True, max_iter=100, penalty=l1, solver=lbfgs; total time=   0.0s\n",
      "[CV] END C=100, fit_intercept=True, max_iter=100, penalty=l1, solver=lbfgs; total time=   0.0s\n",
      "[CV] END C=100, fit_intercept=True, max_iter=100, penalty=l1, solver=lbfgs; total time=   0.0s\n"
     ]
    },
    {
     "name": "stderr",
     "output_type": "stream",
     "text": [
      "c:\\Users\\martj\\miniconda3\\envs\\py38\\lib\\site-packages\\sklearn\\linear_model\\_sag.py:350: ConvergenceWarning: The max_iter was reached which means the coef_ did not converge\n",
      "  warnings.warn(\n",
      "c:\\Users\\martj\\miniconda3\\envs\\py38\\lib\\site-packages\\sklearn\\linear_model\\_sag.py:350: ConvergenceWarning: The max_iter was reached which means the coef_ did not converge\n",
      "  warnings.warn(\n",
      "c:\\Users\\martj\\miniconda3\\envs\\py38\\lib\\site-packages\\sklearn\\linear_model\\_sag.py:350: ConvergenceWarning: The max_iter was reached which means the coef_ did not converge\n",
      "  warnings.warn(\n",
      "c:\\Users\\martj\\miniconda3\\envs\\py38\\lib\\site-packages\\sklearn\\linear_model\\_sag.py:350: ConvergenceWarning: The max_iter was reached which means the coef_ did not converge\n",
      "  warnings.warn(\n",
      "c:\\Users\\martj\\miniconda3\\envs\\py38\\lib\\site-packages\\sklearn\\linear_model\\_sag.py:350: ConvergenceWarning: The max_iter was reached which means the coef_ did not converge\n",
      "  warnings.warn(\n",
      "c:\\Users\\martj\\miniconda3\\envs\\py38\\lib\\site-packages\\sklearn\\linear_model\\_sag.py:350: ConvergenceWarning: The max_iter was reached which means the coef_ did not converge\n",
      "  warnings.warn(\n",
      "c:\\Users\\martj\\miniconda3\\envs\\py38\\lib\\site-packages\\sklearn\\linear_model\\_sag.py:350: ConvergenceWarning: The max_iter was reached which means the coef_ did not converge\n",
      "  warnings.warn(\n",
      "c:\\Users\\martj\\miniconda3\\envs\\py38\\lib\\site-packages\\sklearn\\linear_model\\_sag.py:350: ConvergenceWarning: The max_iter was reached which means the coef_ did not converge\n",
      "  warnings.warn(\n",
      "c:\\Users\\martj\\miniconda3\\envs\\py38\\lib\\site-packages\\sklearn\\linear_model\\_sag.py:350: ConvergenceWarning: The max_iter was reached which means the coef_ did not converge\n",
      "  warnings.warn(\n"
     ]
    },
    {
     "name": "stdout",
     "output_type": "stream",
     "text": [
      "[CV] END C=100, fit_intercept=True, max_iter=100, penalty=l1, solver=liblinear; total time=   0.0s\n",
      "[CV] END C=100, fit_intercept=True, max_iter=100, penalty=l1, solver=liblinear; total time=   0.0s\n",
      "[CV] END C=100, fit_intercept=True, max_iter=100, penalty=l1, solver=liblinear; total time=   0.0s\n",
      "[CV] END C=100, fit_intercept=True, max_iter=100, penalty=l1, solver=liblinear; total time=   0.0s\n",
      "[CV] END C=100, fit_intercept=True, max_iter=100, penalty=l1, solver=liblinear; total time=   0.0s\n",
      "[CV] END C=100, fit_intercept=True, max_iter=100, penalty=l1, solver=sag; total time=   0.0s\n",
      "[CV] END C=100, fit_intercept=True, max_iter=100, penalty=l1, solver=sag; total time=   0.0s\n",
      "[CV] END C=100, fit_intercept=True, max_iter=100, penalty=l1, solver=sag; total time=   0.0s\n",
      "[CV] END C=100, fit_intercept=True, max_iter=100, penalty=l1, solver=sag; total time=   0.0s\n",
      "[CV] END C=100, fit_intercept=True, max_iter=100, penalty=l1, solver=sag; total time=   0.0s\n",
      "[CV] END C=100, fit_intercept=True, max_iter=100, penalty=l1, solver=saga; total time=   0.0s\n",
      "[CV] END C=100, fit_intercept=True, max_iter=100, penalty=l1, solver=saga; total time=   0.0s\n",
      "[CV] END C=100, fit_intercept=True, max_iter=100, penalty=l1, solver=saga; total time=   0.0s\n",
      "[CV] END C=100, fit_intercept=True, max_iter=100, penalty=l1, solver=saga; total time=   0.0s\n",
      "[CV] END C=100, fit_intercept=True, max_iter=100, penalty=l1, solver=saga; total time=   0.0s\n"
     ]
    },
    {
     "name": "stderr",
     "output_type": "stream",
     "text": [
      "c:\\Users\\martj\\miniconda3\\envs\\py38\\lib\\site-packages\\sklearn\\linear_model\\_sag.py:350: ConvergenceWarning: The max_iter was reached which means the coef_ did not converge\n",
      "  warnings.warn(\n",
      "c:\\Users\\martj\\miniconda3\\envs\\py38\\lib\\site-packages\\sklearn\\linear_model\\_sag.py:350: ConvergenceWarning: The max_iter was reached which means the coef_ did not converge\n",
      "  warnings.warn(\n",
      "c:\\Users\\martj\\miniconda3\\envs\\py38\\lib\\site-packages\\sklearn\\linear_model\\_sag.py:350: ConvergenceWarning: The max_iter was reached which means the coef_ did not converge\n",
      "  warnings.warn(\n",
      "c:\\Users\\martj\\miniconda3\\envs\\py38\\lib\\site-packages\\sklearn\\linear_model\\_sag.py:350: ConvergenceWarning: The max_iter was reached which means the coef_ did not converge\n",
      "  warnings.warn(\n",
      "c:\\Users\\martj\\miniconda3\\envs\\py38\\lib\\site-packages\\sklearn\\linear_model\\_sag.py:350: ConvergenceWarning: The max_iter was reached which means the coef_ did not converge\n",
      "  warnings.warn(\n"
     ]
    },
    {
     "name": "stdout",
     "output_type": "stream",
     "text": [
      "[CV] END C=100, fit_intercept=True, max_iter=100, penalty=l2, solver=newton-cg; total time=   0.0s\n",
      "[CV] END C=100, fit_intercept=True, max_iter=100, penalty=l2, solver=newton-cg; total time=   0.0s\n",
      "[CV] END C=100, fit_intercept=True, max_iter=100, penalty=l2, solver=newton-cg; total time=   0.0s\n",
      "[CV] END C=100, fit_intercept=True, max_iter=100, penalty=l2, solver=newton-cg; total time=   0.0s\n",
      "[CV] END C=100, fit_intercept=True, max_iter=100, penalty=l2, solver=newton-cg; total time=   0.0s\n",
      "[CV] END C=100, fit_intercept=True, max_iter=100, penalty=l2, solver=lbfgs; total time=   0.0s\n",
      "[CV] END C=100, fit_intercept=True, max_iter=100, penalty=l2, solver=lbfgs; total time=   0.0s\n",
      "[CV] END C=100, fit_intercept=True, max_iter=100, penalty=l2, solver=lbfgs; total time=   0.0s\n",
      "[CV] END C=100, fit_intercept=True, max_iter=100, penalty=l2, solver=lbfgs; total time=   0.0s\n",
      "[CV] END C=100, fit_intercept=True, max_iter=100, penalty=l2, solver=lbfgs; total time=   0.0s\n"
     ]
    },
    {
     "name": "stderr",
     "output_type": "stream",
     "text": [
      "c:\\Users\\martj\\miniconda3\\envs\\py38\\lib\\site-packages\\sklearn\\linear_model\\_logistic.py:460: ConvergenceWarning: lbfgs failed to converge (status=1):\n",
      "STOP: TOTAL NO. of ITERATIONS REACHED LIMIT.\n",
      "\n",
      "Increase the number of iterations (max_iter) or scale the data as shown in:\n",
      "    https://scikit-learn.org/stable/modules/preprocessing.html\n",
      "Please also refer to the documentation for alternative solver options:\n",
      "    https://scikit-learn.org/stable/modules/linear_model.html#logistic-regression\n",
      "  n_iter_i = _check_optimize_result(\n",
      "c:\\Users\\martj\\miniconda3\\envs\\py38\\lib\\site-packages\\sklearn\\linear_model\\_logistic.py:460: ConvergenceWarning: lbfgs failed to converge (status=1):\n",
      "STOP: TOTAL NO. of ITERATIONS REACHED LIMIT.\n",
      "\n",
      "Increase the number of iterations (max_iter) or scale the data as shown in:\n",
      "    https://scikit-learn.org/stable/modules/preprocessing.html\n",
      "Please also refer to the documentation for alternative solver options:\n",
      "    https://scikit-learn.org/stable/modules/linear_model.html#logistic-regression\n",
      "  n_iter_i = _check_optimize_result(\n",
      "c:\\Users\\martj\\miniconda3\\envs\\py38\\lib\\site-packages\\sklearn\\linear_model\\_logistic.py:460: ConvergenceWarning: lbfgs failed to converge (status=1):\n",
      "STOP: TOTAL NO. of ITERATIONS REACHED LIMIT.\n",
      "\n",
      "Increase the number of iterations (max_iter) or scale the data as shown in:\n",
      "    https://scikit-learn.org/stable/modules/preprocessing.html\n",
      "Please also refer to the documentation for alternative solver options:\n",
      "    https://scikit-learn.org/stable/modules/linear_model.html#logistic-regression\n",
      "  n_iter_i = _check_optimize_result(\n",
      "c:\\Users\\martj\\miniconda3\\envs\\py38\\lib\\site-packages\\sklearn\\linear_model\\_logistic.py:460: ConvergenceWarning: lbfgs failed to converge (status=1):\n",
      "STOP: TOTAL NO. of ITERATIONS REACHED LIMIT.\n",
      "\n",
      "Increase the number of iterations (max_iter) or scale the data as shown in:\n",
      "    https://scikit-learn.org/stable/modules/preprocessing.html\n",
      "Please also refer to the documentation for alternative solver options:\n",
      "    https://scikit-learn.org/stable/modules/linear_model.html#logistic-regression\n",
      "  n_iter_i = _check_optimize_result(\n"
     ]
    },
    {
     "name": "stdout",
     "output_type": "stream",
     "text": [
      "[CV] END C=100, fit_intercept=True, max_iter=100, penalty=l2, solver=liblinear; total time=   0.0s\n",
      "[CV] END C=100, fit_intercept=True, max_iter=100, penalty=l2, solver=liblinear; total time=   0.0s\n",
      "[CV] END C=100, fit_intercept=True, max_iter=100, penalty=l2, solver=liblinear; total time=   0.0s\n",
      "[CV] END C=100, fit_intercept=True, max_iter=100, penalty=l2, solver=liblinear; total time=   0.0s\n",
      "[CV] END C=100, fit_intercept=True, max_iter=100, penalty=l2, solver=liblinear; total time=   0.0s\n",
      "[CV] END C=100, fit_intercept=True, max_iter=100, penalty=l2, solver=sag; total time=   0.0s\n",
      "[CV] END C=100, fit_intercept=True, max_iter=100, penalty=l2, solver=sag; total time=   0.0s\n",
      "[CV] END C=100, fit_intercept=True, max_iter=100, penalty=l2, solver=sag; total time=   0.0s\n",
      "[CV] END C=100, fit_intercept=True, max_iter=100, penalty=l2, solver=sag; total time=   0.0s\n",
      "[CV] END C=100, fit_intercept=True, max_iter=100, penalty=l2, solver=sag; total time=   0.0s\n"
     ]
    },
    {
     "name": "stderr",
     "output_type": "stream",
     "text": [
      "c:\\Users\\martj\\miniconda3\\envs\\py38\\lib\\site-packages\\sklearn\\linear_model\\_sag.py:350: ConvergenceWarning: The max_iter was reached which means the coef_ did not converge\n",
      "  warnings.warn(\n",
      "c:\\Users\\martj\\miniconda3\\envs\\py38\\lib\\site-packages\\sklearn\\linear_model\\_sag.py:350: ConvergenceWarning: The max_iter was reached which means the coef_ did not converge\n",
      "  warnings.warn(\n",
      "c:\\Users\\martj\\miniconda3\\envs\\py38\\lib\\site-packages\\sklearn\\linear_model\\_sag.py:350: ConvergenceWarning: The max_iter was reached which means the coef_ did not converge\n",
      "  warnings.warn(\n",
      "c:\\Users\\martj\\miniconda3\\envs\\py38\\lib\\site-packages\\sklearn\\linear_model\\_sag.py:350: ConvergenceWarning: The max_iter was reached which means the coef_ did not converge\n",
      "  warnings.warn(\n",
      "c:\\Users\\martj\\miniconda3\\envs\\py38\\lib\\site-packages\\sklearn\\linear_model\\_sag.py:350: ConvergenceWarning: The max_iter was reached which means the coef_ did not converge\n",
      "  warnings.warn(\n",
      "c:\\Users\\martj\\miniconda3\\envs\\py38\\lib\\site-packages\\sklearn\\linear_model\\_sag.py:350: ConvergenceWarning: The max_iter was reached which means the coef_ did not converge\n",
      "  warnings.warn(\n",
      "c:\\Users\\martj\\miniconda3\\envs\\py38\\lib\\site-packages\\sklearn\\linear_model\\_sag.py:350: ConvergenceWarning: The max_iter was reached which means the coef_ did not converge\n",
      "  warnings.warn(\n",
      "c:\\Users\\martj\\miniconda3\\envs\\py38\\lib\\site-packages\\sklearn\\linear_model\\_sag.py:350: ConvergenceWarning: The max_iter was reached which means the coef_ did not converge\n",
      "  warnings.warn(\n",
      "c:\\Users\\martj\\miniconda3\\envs\\py38\\lib\\site-packages\\sklearn\\linear_model\\_sag.py:350: ConvergenceWarning: The max_iter was reached which means the coef_ did not converge\n",
      "  warnings.warn(\n"
     ]
    },
    {
     "name": "stdout",
     "output_type": "stream",
     "text": [
      "[CV] END C=100, fit_intercept=True, max_iter=100, penalty=l2, solver=saga; total time=   0.0s\n",
      "[CV] END C=100, fit_intercept=True, max_iter=100, penalty=l2, solver=saga; total time=   0.0s\n",
      "[CV] END C=100, fit_intercept=True, max_iter=100, penalty=l2, solver=saga; total time=   0.0s\n",
      "[CV] END C=100, fit_intercept=True, max_iter=100, penalty=l2, solver=saga; total time=   0.0s\n",
      "[CV] END C=100, fit_intercept=True, max_iter=100, penalty=l2, solver=saga; total time=   0.0s\n",
      "[CV] END C=100, fit_intercept=True, max_iter=200, penalty=l1, solver=newton-cg; total time=   0.0s\n",
      "[CV] END C=100, fit_intercept=True, max_iter=200, penalty=l1, solver=newton-cg; total time=   0.0s\n",
      "[CV] END C=100, fit_intercept=True, max_iter=200, penalty=l1, solver=newton-cg; total time=   0.0s\n",
      "[CV] END C=100, fit_intercept=True, max_iter=200, penalty=l1, solver=newton-cg; total time=   0.0s\n",
      "[CV] END C=100, fit_intercept=True, max_iter=200, penalty=l1, solver=newton-cg; total time=   0.0s\n",
      "[CV] END C=100, fit_intercept=True, max_iter=200, penalty=l1, solver=lbfgs; total time=   0.0s\n",
      "[CV] END C=100, fit_intercept=True, max_iter=200, penalty=l1, solver=lbfgs; total time=   0.0s\n",
      "[CV] END C=100, fit_intercept=True, max_iter=200, penalty=l1, solver=lbfgs; total time=   0.0s\n",
      "[CV] END C=100, fit_intercept=True, max_iter=200, penalty=l1, solver=lbfgs; total time=   0.0s\n",
      "[CV] END C=100, fit_intercept=True, max_iter=200, penalty=l1, solver=lbfgs; total time=   0.0s\n",
      "[CV] END C=100, fit_intercept=True, max_iter=200, penalty=l1, solver=liblinear; total time=   0.0s\n",
      "[CV] END C=100, fit_intercept=True, max_iter=200, penalty=l1, solver=liblinear; total time=   0.0s\n",
      "[CV] END C=100, fit_intercept=True, max_iter=200, penalty=l1, solver=liblinear; total time=   0.0s\n"
     ]
    },
    {
     "name": "stderr",
     "output_type": "stream",
     "text": [
      "c:\\Users\\martj\\miniconda3\\envs\\py38\\lib\\site-packages\\sklearn\\linear_model\\_sag.py:350: ConvergenceWarning: The max_iter was reached which means the coef_ did not converge\n",
      "  warnings.warn(\n",
      "c:\\Users\\martj\\miniconda3\\envs\\py38\\lib\\site-packages\\sklearn\\linear_model\\_sag.py:350: ConvergenceWarning: The max_iter was reached which means the coef_ did not converge\n",
      "  warnings.warn(\n"
     ]
    },
    {
     "name": "stdout",
     "output_type": "stream",
     "text": [
      "[CV] END C=100, fit_intercept=True, max_iter=200, penalty=l1, solver=liblinear; total time=   0.0s\n",
      "[CV] END C=100, fit_intercept=True, max_iter=200, penalty=l1, solver=liblinear; total time=   0.0s\n",
      "[CV] END C=100, fit_intercept=True, max_iter=200, penalty=l1, solver=sag; total time=   0.0s\n",
      "[CV] END C=100, fit_intercept=True, max_iter=200, penalty=l1, solver=sag; total time=   0.0s\n",
      "[CV] END C=100, fit_intercept=True, max_iter=200, penalty=l1, solver=sag; total time=   0.0s\n",
      "[CV] END C=100, fit_intercept=True, max_iter=200, penalty=l1, solver=sag; total time=   0.0s\n",
      "[CV] END C=100, fit_intercept=True, max_iter=200, penalty=l1, solver=sag; total time=   0.0s\n",
      "[CV] END C=100, fit_intercept=True, max_iter=200, penalty=l1, solver=saga; total time=   0.0s\n",
      "[CV] END C=100, fit_intercept=True, max_iter=200, penalty=l1, solver=saga; total time=   0.0s\n",
      "[CV] END C=100, fit_intercept=True, max_iter=200, penalty=l1, solver=saga; total time=   0.0s\n"
     ]
    },
    {
     "name": "stderr",
     "output_type": "stream",
     "text": [
      "c:\\Users\\martj\\miniconda3\\envs\\py38\\lib\\site-packages\\sklearn\\linear_model\\_sag.py:350: ConvergenceWarning: The max_iter was reached which means the coef_ did not converge\n",
      "  warnings.warn(\n",
      "c:\\Users\\martj\\miniconda3\\envs\\py38\\lib\\site-packages\\sklearn\\linear_model\\_sag.py:350: ConvergenceWarning: The max_iter was reached which means the coef_ did not converge\n",
      "  warnings.warn(\n",
      "c:\\Users\\martj\\miniconda3\\envs\\py38\\lib\\site-packages\\sklearn\\linear_model\\_sag.py:350: ConvergenceWarning: The max_iter was reached which means the coef_ did not converge\n",
      "  warnings.warn(\n",
      "c:\\Users\\martj\\miniconda3\\envs\\py38\\lib\\site-packages\\sklearn\\linear_model\\_sag.py:350: ConvergenceWarning: The max_iter was reached which means the coef_ did not converge\n",
      "  warnings.warn(\n"
     ]
    },
    {
     "name": "stdout",
     "output_type": "stream",
     "text": [
      "[CV] END C=100, fit_intercept=True, max_iter=200, penalty=l1, solver=saga; total time=   0.0s\n",
      "[CV] END C=100, fit_intercept=True, max_iter=200, penalty=l1, solver=saga; total time=   0.0s\n",
      "[CV] END C=100, fit_intercept=True, max_iter=200, penalty=l2, solver=newton-cg; total time=   0.0s\n",
      "[CV] END C=100, fit_intercept=True, max_iter=200, penalty=l2, solver=newton-cg; total time=   0.0s\n",
      "[CV] END C=100, fit_intercept=True, max_iter=200, penalty=l2, solver=newton-cg; total time=   0.0s\n",
      "[CV] END C=100, fit_intercept=True, max_iter=200, penalty=l2, solver=newton-cg; total time=   0.0s\n",
      "[CV] END C=100, fit_intercept=True, max_iter=200, penalty=l2, solver=newton-cg; total time=   0.0s\n",
      "[CV] END C=100, fit_intercept=True, max_iter=200, penalty=l2, solver=lbfgs; total time=   0.0s\n",
      "[CV] END C=100, fit_intercept=True, max_iter=200, penalty=l2, solver=lbfgs; total time=   0.0s\n",
      "[CV] END C=100, fit_intercept=True, max_iter=200, penalty=l2, solver=lbfgs; total time=   0.0s\n",
      "[CV] END C=100, fit_intercept=True, max_iter=200, penalty=l2, solver=lbfgs; total time=   0.0s\n",
      "[CV] END C=100, fit_intercept=True, max_iter=200, penalty=l2, solver=lbfgs; total time=   0.0s\n",
      "[CV] END C=100, fit_intercept=True, max_iter=200, penalty=l2, solver=liblinear; total time=   0.0s\n",
      "[CV] END C=100, fit_intercept=True, max_iter=200, penalty=l2, solver=liblinear; total time=   0.0s\n",
      "[CV] END C=100, fit_intercept=True, max_iter=200, penalty=l2, solver=liblinear; total time=   0.0s\n",
      "[CV] END C=100, fit_intercept=True, max_iter=200, penalty=l2, solver=liblinear; total time=   0.0s\n",
      "[CV] END C=100, fit_intercept=True, max_iter=200, penalty=l2, solver=liblinear; total time=   0.0s\n",
      "[CV] END C=100, fit_intercept=True, max_iter=200, penalty=l2, solver=sag; total time=   0.0s\n",
      "[CV] END C=100, fit_intercept=True, max_iter=200, penalty=l2, solver=sag; total time=   0.0s\n",
      "[CV] END C=100, fit_intercept=True, max_iter=200, penalty=l2, solver=sag; total time=   0.0s\n"
     ]
    },
    {
     "name": "stderr",
     "output_type": "stream",
     "text": [
      "c:\\Users\\martj\\miniconda3\\envs\\py38\\lib\\site-packages\\sklearn\\linear_model\\_sag.py:350: ConvergenceWarning: The max_iter was reached which means the coef_ did not converge\n",
      "  warnings.warn(\n",
      "c:\\Users\\martj\\miniconda3\\envs\\py38\\lib\\site-packages\\sklearn\\linear_model\\_sag.py:350: ConvergenceWarning: The max_iter was reached which means the coef_ did not converge\n",
      "  warnings.warn(\n",
      "c:\\Users\\martj\\miniconda3\\envs\\py38\\lib\\site-packages\\sklearn\\linear_model\\_sag.py:350: ConvergenceWarning: The max_iter was reached which means the coef_ did not converge\n",
      "  warnings.warn(\n",
      "c:\\Users\\martj\\miniconda3\\envs\\py38\\lib\\site-packages\\sklearn\\linear_model\\_sag.py:350: ConvergenceWarning: The max_iter was reached which means the coef_ did not converge\n",
      "  warnings.warn(\n",
      "c:\\Users\\martj\\miniconda3\\envs\\py38\\lib\\site-packages\\sklearn\\linear_model\\_sag.py:350: ConvergenceWarning: The max_iter was reached which means the coef_ did not converge\n",
      "  warnings.warn(\n",
      "c:\\Users\\martj\\miniconda3\\envs\\py38\\lib\\site-packages\\sklearn\\linear_model\\_sag.py:350: ConvergenceWarning: The max_iter was reached which means the coef_ did not converge\n",
      "  warnings.warn(\n"
     ]
    },
    {
     "name": "stdout",
     "output_type": "stream",
     "text": [
      "[CV] END C=100, fit_intercept=True, max_iter=200, penalty=l2, solver=sag; total time=   0.0s\n",
      "[CV] END C=100, fit_intercept=True, max_iter=200, penalty=l2, solver=sag; total time=   0.0s\n",
      "[CV] END C=100, fit_intercept=True, max_iter=200, penalty=l2, solver=saga; total time=   0.0s\n",
      "[CV] END C=100, fit_intercept=True, max_iter=200, penalty=l2, solver=saga; total time=   0.0s\n",
      "[CV] END C=100, fit_intercept=True, max_iter=200, penalty=l2, solver=saga; total time=   0.0s\n",
      "[CV] END C=100, fit_intercept=True, max_iter=200, penalty=l2, solver=saga; total time=   0.0s\n"
     ]
    },
    {
     "name": "stderr",
     "output_type": "stream",
     "text": [
      "c:\\Users\\martj\\miniconda3\\envs\\py38\\lib\\site-packages\\sklearn\\linear_model\\_sag.py:350: ConvergenceWarning: The max_iter was reached which means the coef_ did not converge\n",
      "  warnings.warn(\n",
      "c:\\Users\\martj\\miniconda3\\envs\\py38\\lib\\site-packages\\sklearn\\linear_model\\_sag.py:350: ConvergenceWarning: The max_iter was reached which means the coef_ did not converge\n",
      "  warnings.warn(\n",
      "c:\\Users\\martj\\miniconda3\\envs\\py38\\lib\\site-packages\\sklearn\\linear_model\\_sag.py:350: ConvergenceWarning: The max_iter was reached which means the coef_ did not converge\n",
      "  warnings.warn(\n",
      "c:\\Users\\martj\\miniconda3\\envs\\py38\\lib\\site-packages\\sklearn\\linear_model\\_sag.py:350: ConvergenceWarning: The max_iter was reached which means the coef_ did not converge\n",
      "  warnings.warn(\n"
     ]
    },
    {
     "name": "stdout",
     "output_type": "stream",
     "text": [
      "[CV] END C=100, fit_intercept=True, max_iter=200, penalty=l2, solver=saga; total time=   0.0s\n",
      "[CV] END C=100, fit_intercept=True, max_iter=500, penalty=l1, solver=newton-cg; total time=   0.0s\n",
      "[CV] END C=100, fit_intercept=True, max_iter=500, penalty=l1, solver=newton-cg; total time=   0.0s\n",
      "[CV] END C=100, fit_intercept=True, max_iter=500, penalty=l1, solver=newton-cg; total time=   0.0s\n",
      "[CV] END C=100, fit_intercept=True, max_iter=500, penalty=l1, solver=newton-cg; total time=   0.0s\n",
      "[CV] END C=100, fit_intercept=True, max_iter=500, penalty=l1, solver=newton-cg; total time=   0.0s\n",
      "[CV] END C=100, fit_intercept=True, max_iter=500, penalty=l1, solver=lbfgs; total time=   0.0s\n",
      "[CV] END C=100, fit_intercept=True, max_iter=500, penalty=l1, solver=lbfgs; total time=   0.0s\n",
      "[CV] END C=100, fit_intercept=True, max_iter=500, penalty=l1, solver=lbfgs; total time=   0.0s\n",
      "[CV] END C=100, fit_intercept=True, max_iter=500, penalty=l1, solver=lbfgs; total time=   0.0s\n",
      "[CV] END C=100, fit_intercept=True, max_iter=500, penalty=l1, solver=lbfgs; total time=   0.0s\n",
      "[CV] END C=100, fit_intercept=True, max_iter=500, penalty=l1, solver=liblinear; total time=   0.0s\n",
      "[CV] END C=100, fit_intercept=True, max_iter=500, penalty=l1, solver=liblinear; total time=   0.0s\n",
      "[CV] END C=100, fit_intercept=True, max_iter=500, penalty=l1, solver=liblinear; total time=   0.0s\n",
      "[CV] END C=100, fit_intercept=True, max_iter=500, penalty=l1, solver=liblinear; total time=   0.0s\n",
      "[CV] END C=100, fit_intercept=True, max_iter=500, penalty=l1, solver=liblinear; total time=   0.0s\n",
      "[CV] END C=100, fit_intercept=True, max_iter=500, penalty=l1, solver=sag; total time=   0.0s\n",
      "[CV] END C=100, fit_intercept=True, max_iter=500, penalty=l1, solver=sag; total time=   0.0s\n",
      "[CV] END C=100, fit_intercept=True, max_iter=500, penalty=l1, solver=sag; total time=   0.0s\n",
      "[CV] END C=100, fit_intercept=True, max_iter=500, penalty=l1, solver=sag; total time=   0.0s\n",
      "[CV] END C=100, fit_intercept=True, max_iter=500, penalty=l1, solver=sag; total time=   0.0s\n"
     ]
    },
    {
     "name": "stderr",
     "output_type": "stream",
     "text": [
      "c:\\Users\\martj\\miniconda3\\envs\\py38\\lib\\site-packages\\sklearn\\linear_model\\_sag.py:350: ConvergenceWarning: The max_iter was reached which means the coef_ did not converge\n",
      "  warnings.warn(\n",
      "c:\\Users\\martj\\miniconda3\\envs\\py38\\lib\\site-packages\\sklearn\\linear_model\\_sag.py:350: ConvergenceWarning: The max_iter was reached which means the coef_ did not converge\n",
      "  warnings.warn(\n"
     ]
    },
    {
     "name": "stdout",
     "output_type": "stream",
     "text": [
      "[CV] END C=100, fit_intercept=True, max_iter=500, penalty=l1, solver=saga; total time=   0.0s\n",
      "[CV] END C=100, fit_intercept=True, max_iter=500, penalty=l1, solver=saga; total time=   0.0s\n"
     ]
    },
    {
     "name": "stderr",
     "output_type": "stream",
     "text": [
      "c:\\Users\\martj\\miniconda3\\envs\\py38\\lib\\site-packages\\sklearn\\linear_model\\_sag.py:350: ConvergenceWarning: The max_iter was reached which means the coef_ did not converge\n",
      "  warnings.warn(\n",
      "c:\\Users\\martj\\miniconda3\\envs\\py38\\lib\\site-packages\\sklearn\\linear_model\\_sag.py:350: ConvergenceWarning: The max_iter was reached which means the coef_ did not converge\n",
      "  warnings.warn(\n",
      "c:\\Users\\martj\\miniconda3\\envs\\py38\\lib\\site-packages\\sklearn\\linear_model\\_sag.py:350: ConvergenceWarning: The max_iter was reached which means the coef_ did not converge\n",
      "  warnings.warn(\n"
     ]
    },
    {
     "name": "stdout",
     "output_type": "stream",
     "text": [
      "[CV] END C=100, fit_intercept=True, max_iter=500, penalty=l1, solver=saga; total time=   0.0s\n",
      "[CV] END C=100, fit_intercept=True, max_iter=500, penalty=l1, solver=saga; total time=   0.0s\n",
      "[CV] END C=100, fit_intercept=True, max_iter=500, penalty=l1, solver=saga; total time=   0.0s\n",
      "[CV] END C=100, fit_intercept=True, max_iter=500, penalty=l2, solver=newton-cg; total time=   0.0s\n",
      "[CV] END C=100, fit_intercept=True, max_iter=500, penalty=l2, solver=newton-cg; total time=   0.0s\n",
      "[CV] END C=100, fit_intercept=True, max_iter=500, penalty=l2, solver=newton-cg; total time=   0.0s\n",
      "[CV] END C=100, fit_intercept=True, max_iter=500, penalty=l2, solver=newton-cg; total time=   0.0s\n",
      "[CV] END C=100, fit_intercept=True, max_iter=500, penalty=l2, solver=newton-cg; total time=   0.0s\n",
      "[CV] END C=100, fit_intercept=True, max_iter=500, penalty=l2, solver=lbfgs; total time=   0.0s\n",
      "[CV] END C=100, fit_intercept=True, max_iter=500, penalty=l2, solver=lbfgs; total time=   0.0s\n",
      "[CV] END C=100, fit_intercept=True, max_iter=500, penalty=l2, solver=lbfgs; total time=   0.0s\n",
      "[CV] END C=100, fit_intercept=True, max_iter=500, penalty=l2, solver=lbfgs; total time=   0.0s\n",
      "[CV] END C=100, fit_intercept=True, max_iter=500, penalty=l2, solver=lbfgs; total time=   0.0s\n",
      "[CV] END C=100, fit_intercept=True, max_iter=500, penalty=l2, solver=liblinear; total time=   0.0s\n",
      "[CV] END C=100, fit_intercept=True, max_iter=500, penalty=l2, solver=liblinear; total time=   0.0s\n",
      "[CV] END C=100, fit_intercept=True, max_iter=500, penalty=l2, solver=liblinear; total time=   0.0s\n",
      "[CV] END C=100, fit_intercept=True, max_iter=500, penalty=l2, solver=liblinear; total time=   0.0s\n",
      "[CV] END C=100, fit_intercept=True, max_iter=500, penalty=l2, solver=liblinear; total time=   0.0s\n"
     ]
    },
    {
     "name": "stderr",
     "output_type": "stream",
     "text": [
      "c:\\Users\\martj\\miniconda3\\envs\\py38\\lib\\site-packages\\sklearn\\linear_model\\_sag.py:350: ConvergenceWarning: The max_iter was reached which means the coef_ did not converge\n",
      "  warnings.warn(\n",
      "c:\\Users\\martj\\miniconda3\\envs\\py38\\lib\\site-packages\\sklearn\\linear_model\\_sag.py:350: ConvergenceWarning: The max_iter was reached which means the coef_ did not converge\n",
      "  warnings.warn(\n",
      "c:\\Users\\martj\\miniconda3\\envs\\py38\\lib\\site-packages\\sklearn\\linear_model\\_sag.py:350: ConvergenceWarning: The max_iter was reached which means the coef_ did not converge\n",
      "  warnings.warn(\n"
     ]
    },
    {
     "name": "stdout",
     "output_type": "stream",
     "text": [
      "[CV] END C=100, fit_intercept=True, max_iter=500, penalty=l2, solver=sag; total time=   0.0s\n",
      "[CV] END C=100, fit_intercept=True, max_iter=500, penalty=l2, solver=sag; total time=   0.0s\n",
      "[CV] END C=100, fit_intercept=True, max_iter=500, penalty=l2, solver=sag; total time=   0.0s\n"
     ]
    },
    {
     "name": "stderr",
     "output_type": "stream",
     "text": [
      "c:\\Users\\martj\\miniconda3\\envs\\py38\\lib\\site-packages\\sklearn\\linear_model\\_sag.py:350: ConvergenceWarning: The max_iter was reached which means the coef_ did not converge\n",
      "  warnings.warn(\n",
      "c:\\Users\\martj\\miniconda3\\envs\\py38\\lib\\site-packages\\sklearn\\linear_model\\_sag.py:350: ConvergenceWarning: The max_iter was reached which means the coef_ did not converge\n",
      "  warnings.warn(\n",
      "c:\\Users\\martj\\miniconda3\\envs\\py38\\lib\\site-packages\\sklearn\\linear_model\\_sag.py:350: ConvergenceWarning: The max_iter was reached which means the coef_ did not converge\n",
      "  warnings.warn(\n"
     ]
    },
    {
     "name": "stdout",
     "output_type": "stream",
     "text": [
      "[CV] END C=100, fit_intercept=True, max_iter=500, penalty=l2, solver=sag; total time=   0.0s\n",
      "[CV] END C=100, fit_intercept=True, max_iter=500, penalty=l2, solver=sag; total time=   0.0s\n",
      "[CV] END C=100, fit_intercept=True, max_iter=500, penalty=l2, solver=saga; total time=   0.0s\n"
     ]
    },
    {
     "name": "stderr",
     "output_type": "stream",
     "text": [
      "c:\\Users\\martj\\miniconda3\\envs\\py38\\lib\\site-packages\\sklearn\\linear_model\\_sag.py:350: ConvergenceWarning: The max_iter was reached which means the coef_ did not converge\n",
      "  warnings.warn(\n",
      "c:\\Users\\martj\\miniconda3\\envs\\py38\\lib\\site-packages\\sklearn\\linear_model\\_sag.py:350: ConvergenceWarning: The max_iter was reached which means the coef_ did not converge\n",
      "  warnings.warn(\n",
      "c:\\Users\\martj\\miniconda3\\envs\\py38\\lib\\site-packages\\sklearn\\linear_model\\_sag.py:350: ConvergenceWarning: The max_iter was reached which means the coef_ did not converge\n",
      "  warnings.warn(\n"
     ]
    },
    {
     "name": "stdout",
     "output_type": "stream",
     "text": [
      "[CV] END C=100, fit_intercept=True, max_iter=500, penalty=l2, solver=saga; total time=   0.0s\n",
      "[CV] END C=100, fit_intercept=True, max_iter=500, penalty=l2, solver=saga; total time=   0.0s\n",
      "[CV] END C=100, fit_intercept=True, max_iter=500, penalty=l2, solver=saga; total time=   0.0s\n"
     ]
    },
    {
     "name": "stderr",
     "output_type": "stream",
     "text": [
      "c:\\Users\\martj\\miniconda3\\envs\\py38\\lib\\site-packages\\sklearn\\linear_model\\_sag.py:350: ConvergenceWarning: The max_iter was reached which means the coef_ did not converge\n",
      "  warnings.warn(\n",
      "c:\\Users\\martj\\miniconda3\\envs\\py38\\lib\\site-packages\\sklearn\\linear_model\\_sag.py:350: ConvergenceWarning: The max_iter was reached which means the coef_ did not converge\n",
      "  warnings.warn(\n",
      "c:\\Users\\martj\\miniconda3\\envs\\py38\\lib\\site-packages\\sklearn\\linear_model\\_sag.py:350: ConvergenceWarning: The max_iter was reached which means the coef_ did not converge\n",
      "  warnings.warn(\n",
      "c:\\Users\\martj\\miniconda3\\envs\\py38\\lib\\site-packages\\sklearn\\linear_model\\_sag.py:350: ConvergenceWarning: The max_iter was reached which means the coef_ did not converge\n",
      "  warnings.warn(\n",
      "c:\\Users\\martj\\miniconda3\\envs\\py38\\lib\\site-packages\\sklearn\\linear_model\\_sag.py:350: ConvergenceWarning: The max_iter was reached which means the coef_ did not converge\n",
      "  warnings.warn(\n"
     ]
    },
    {
     "name": "stdout",
     "output_type": "stream",
     "text": [
      "[CV] END C=100, fit_intercept=True, max_iter=500, penalty=l2, solver=saga; total time=   0.0s\n",
      "[CV] END C=100, fit_intercept=False, max_iter=50, penalty=l1, solver=newton-cg; total time=   0.0s\n",
      "[CV] END C=100, fit_intercept=False, max_iter=50, penalty=l1, solver=newton-cg; total time=   0.0s\n",
      "[CV] END C=100, fit_intercept=False, max_iter=50, penalty=l1, solver=newton-cg; total time=   0.0s\n",
      "[CV] END C=100, fit_intercept=False, max_iter=50, penalty=l1, solver=newton-cg; total time=   0.0s\n",
      "[CV] END C=100, fit_intercept=False, max_iter=50, penalty=l1, solver=newton-cg; total time=   0.0s\n",
      "[CV] END C=100, fit_intercept=False, max_iter=50, penalty=l1, solver=lbfgs; total time=   0.0s\n",
      "[CV] END C=100, fit_intercept=False, max_iter=50, penalty=l1, solver=lbfgs; total time=   0.0s\n",
      "[CV] END C=100, fit_intercept=False, max_iter=50, penalty=l1, solver=lbfgs; total time=   0.0s\n",
      "[CV] END C=100, fit_intercept=False, max_iter=50, penalty=l1, solver=lbfgs; total time=   0.0s\n",
      "[CV] END C=100, fit_intercept=False, max_iter=50, penalty=l1, solver=lbfgs; total time=   0.0s\n",
      "[CV] END C=100, fit_intercept=False, max_iter=50, penalty=l1, solver=liblinear; total time=   0.0s\n",
      "[CV] END C=100, fit_intercept=False, max_iter=50, penalty=l1, solver=liblinear; total time=   0.0s\n",
      "[CV] END C=100, fit_intercept=False, max_iter=50, penalty=l1, solver=liblinear; total time=   0.0s\n",
      "[CV] END C=100, fit_intercept=False, max_iter=50, penalty=l1, solver=liblinear; total time=   0.0s\n",
      "[CV] END C=100, fit_intercept=False, max_iter=50, penalty=l1, solver=liblinear; total time=   0.0s\n",
      "[CV] END C=100, fit_intercept=False, max_iter=50, penalty=l1, solver=sag; total time=   0.0s\n",
      "[CV] END C=100, fit_intercept=False, max_iter=50, penalty=l1, solver=sag; total time=   0.0s\n",
      "[CV] END C=100, fit_intercept=False, max_iter=50, penalty=l1, solver=sag; total time=   0.0s\n",
      "[CV] END C=100, fit_intercept=False, max_iter=50, penalty=l1, solver=sag; total time=   0.0s\n",
      "[CV] END C=100, fit_intercept=False, max_iter=50, penalty=l1, solver=sag; total time=   0.0s\n",
      "[CV] END C=100, fit_intercept=False, max_iter=50, penalty=l1, solver=saga; total time=   0.0s\n",
      "[CV] END C=100, fit_intercept=False, max_iter=50, penalty=l1, solver=saga; total time=   0.0s\n",
      "[CV] END C=100, fit_intercept=False, max_iter=50, penalty=l1, solver=saga; total time=   0.0s\n",
      "[CV] END C=100, fit_intercept=False, max_iter=50, penalty=l1, solver=saga; total time=   0.0s\n"
     ]
    },
    {
     "name": "stderr",
     "output_type": "stream",
     "text": [
      "c:\\Users\\martj\\miniconda3\\envs\\py38\\lib\\site-packages\\sklearn\\linear_model\\_sag.py:350: ConvergenceWarning: The max_iter was reached which means the coef_ did not converge\n",
      "  warnings.warn(\n",
      "c:\\Users\\martj\\miniconda3\\envs\\py38\\lib\\site-packages\\sklearn\\linear_model\\_logistic.py:460: ConvergenceWarning: lbfgs failed to converge (status=1):\n",
      "STOP: TOTAL NO. of ITERATIONS REACHED LIMIT.\n",
      "\n",
      "Increase the number of iterations (max_iter) or scale the data as shown in:\n",
      "    https://scikit-learn.org/stable/modules/preprocessing.html\n",
      "Please also refer to the documentation for alternative solver options:\n",
      "    https://scikit-learn.org/stable/modules/linear_model.html#logistic-regression\n",
      "  n_iter_i = _check_optimize_result(\n",
      "c:\\Users\\martj\\miniconda3\\envs\\py38\\lib\\site-packages\\sklearn\\linear_model\\_logistic.py:460: ConvergenceWarning: lbfgs failed to converge (status=1):\n",
      "STOP: TOTAL NO. of ITERATIONS REACHED LIMIT.\n",
      "\n",
      "Increase the number of iterations (max_iter) or scale the data as shown in:\n",
      "    https://scikit-learn.org/stable/modules/preprocessing.html\n",
      "Please also refer to the documentation for alternative solver options:\n",
      "    https://scikit-learn.org/stable/modules/linear_model.html#logistic-regression\n",
      "  n_iter_i = _check_optimize_result(\n"
     ]
    },
    {
     "name": "stdout",
     "output_type": "stream",
     "text": [
      "[CV] END C=100, fit_intercept=False, max_iter=50, penalty=l1, solver=saga; total time=   0.0s\n",
      "[CV] END C=100, fit_intercept=False, max_iter=50, penalty=l2, solver=newton-cg; total time=   0.0s\n",
      "[CV] END C=100, fit_intercept=False, max_iter=50, penalty=l2, solver=newton-cg; total time=   0.0s\n",
      "[CV] END C=100, fit_intercept=False, max_iter=50, penalty=l2, solver=newton-cg; total time=   0.0s\n",
      "[CV] END C=100, fit_intercept=False, max_iter=50, penalty=l2, solver=newton-cg; total time=   0.0s\n",
      "[CV] END C=100, fit_intercept=False, max_iter=50, penalty=l2, solver=newton-cg; total time=   0.0s\n",
      "[CV] END C=100, fit_intercept=False, max_iter=50, penalty=l2, solver=lbfgs; total time=   0.0s\n",
      "[CV] END C=100, fit_intercept=False, max_iter=50, penalty=l2, solver=lbfgs; total time=   0.0s\n"
     ]
    },
    {
     "name": "stderr",
     "output_type": "stream",
     "text": [
      "c:\\Users\\martj\\miniconda3\\envs\\py38\\lib\\site-packages\\sklearn\\linear_model\\_logistic.py:460: ConvergenceWarning: lbfgs failed to converge (status=1):\n",
      "STOP: TOTAL NO. of ITERATIONS REACHED LIMIT.\n",
      "\n",
      "Increase the number of iterations (max_iter) or scale the data as shown in:\n",
      "    https://scikit-learn.org/stable/modules/preprocessing.html\n",
      "Please also refer to the documentation for alternative solver options:\n",
      "    https://scikit-learn.org/stable/modules/linear_model.html#logistic-regression\n",
      "  n_iter_i = _check_optimize_result(\n",
      "c:\\Users\\martj\\miniconda3\\envs\\py38\\lib\\site-packages\\sklearn\\linear_model\\_logistic.py:460: ConvergenceWarning: lbfgs failed to converge (status=1):\n",
      "STOP: TOTAL NO. of ITERATIONS REACHED LIMIT.\n",
      "\n",
      "Increase the number of iterations (max_iter) or scale the data as shown in:\n",
      "    https://scikit-learn.org/stable/modules/preprocessing.html\n",
      "Please also refer to the documentation for alternative solver options:\n",
      "    https://scikit-learn.org/stable/modules/linear_model.html#logistic-regression\n",
      "  n_iter_i = _check_optimize_result(\n",
      "c:\\Users\\martj\\miniconda3\\envs\\py38\\lib\\site-packages\\sklearn\\linear_model\\_logistic.py:460: ConvergenceWarning: lbfgs failed to converge (status=1):\n",
      "STOP: TOTAL NO. of ITERATIONS REACHED LIMIT.\n",
      "\n",
      "Increase the number of iterations (max_iter) or scale the data as shown in:\n",
      "    https://scikit-learn.org/stable/modules/preprocessing.html\n",
      "Please also refer to the documentation for alternative solver options:\n",
      "    https://scikit-learn.org/stable/modules/linear_model.html#logistic-regression\n",
      "  n_iter_i = _check_optimize_result(\n",
      "c:\\Users\\martj\\miniconda3\\envs\\py38\\lib\\site-packages\\sklearn\\linear_model\\_sag.py:350: ConvergenceWarning: The max_iter was reached which means the coef_ did not converge\n",
      "  warnings.warn(\n",
      "c:\\Users\\martj\\miniconda3\\envs\\py38\\lib\\site-packages\\sklearn\\linear_model\\_sag.py:350: ConvergenceWarning: The max_iter was reached which means the coef_ did not converge\n",
      "  warnings.warn(\n",
      "c:\\Users\\martj\\miniconda3\\envs\\py38\\lib\\site-packages\\sklearn\\linear_model\\_sag.py:350: ConvergenceWarning: The max_iter was reached which means the coef_ did not converge\n",
      "  warnings.warn(\n",
      "c:\\Users\\martj\\miniconda3\\envs\\py38\\lib\\site-packages\\sklearn\\linear_model\\_sag.py:350: ConvergenceWarning: The max_iter was reached which means the coef_ did not converge\n",
      "  warnings.warn(\n",
      "c:\\Users\\martj\\miniconda3\\envs\\py38\\lib\\site-packages\\sklearn\\linear_model\\_sag.py:350: ConvergenceWarning: The max_iter was reached which means the coef_ did not converge\n",
      "  warnings.warn(\n"
     ]
    },
    {
     "name": "stdout",
     "output_type": "stream",
     "text": [
      "[CV] END C=100, fit_intercept=False, max_iter=50, penalty=l2, solver=lbfgs; total time=   0.0s\n",
      "[CV] END C=100, fit_intercept=False, max_iter=50, penalty=l2, solver=lbfgs; total time=   0.0s\n",
      "[CV] END C=100, fit_intercept=False, max_iter=50, penalty=l2, solver=lbfgs; total time=   0.0s\n",
      "[CV] END C=100, fit_intercept=False, max_iter=50, penalty=l2, solver=liblinear; total time=   0.0s\n",
      "[CV] END C=100, fit_intercept=False, max_iter=50, penalty=l2, solver=liblinear; total time=   0.0s\n",
      "[CV] END C=100, fit_intercept=False, max_iter=50, penalty=l2, solver=liblinear; total time=   0.0s\n",
      "[CV] END C=100, fit_intercept=False, max_iter=50, penalty=l2, solver=liblinear; total time=   0.0s\n",
      "[CV] END C=100, fit_intercept=False, max_iter=50, penalty=l2, solver=liblinear; total time=   0.0s\n",
      "[CV] END C=100, fit_intercept=False, max_iter=50, penalty=l2, solver=sag; total time=   0.0s\n",
      "[CV] END C=100, fit_intercept=False, max_iter=50, penalty=l2, solver=sag; total time=   0.0s\n",
      "[CV] END C=100, fit_intercept=False, max_iter=50, penalty=l2, solver=sag; total time=   0.0s\n",
      "[CV] END C=100, fit_intercept=False, max_iter=50, penalty=l2, solver=sag; total time=   0.0s\n",
      "[CV] END C=100, fit_intercept=False, max_iter=50, penalty=l2, solver=sag; total time=   0.0s\n"
     ]
    },
    {
     "name": "stderr",
     "output_type": "stream",
     "text": [
      "c:\\Users\\martj\\miniconda3\\envs\\py38\\lib\\site-packages\\sklearn\\linear_model\\_sag.py:350: ConvergenceWarning: The max_iter was reached which means the coef_ did not converge\n",
      "  warnings.warn(\n",
      "c:\\Users\\martj\\miniconda3\\envs\\py38\\lib\\site-packages\\sklearn\\linear_model\\_sag.py:350: ConvergenceWarning: The max_iter was reached which means the coef_ did not converge\n",
      "  warnings.warn(\n",
      "c:\\Users\\martj\\miniconda3\\envs\\py38\\lib\\site-packages\\sklearn\\linear_model\\_sag.py:350: ConvergenceWarning: The max_iter was reached which means the coef_ did not converge\n",
      "  warnings.warn(\n",
      "c:\\Users\\martj\\miniconda3\\envs\\py38\\lib\\site-packages\\sklearn\\linear_model\\_sag.py:350: ConvergenceWarning: The max_iter was reached which means the coef_ did not converge\n",
      "  warnings.warn(\n",
      "c:\\Users\\martj\\miniconda3\\envs\\py38\\lib\\site-packages\\sklearn\\linear_model\\_sag.py:350: ConvergenceWarning: The max_iter was reached which means the coef_ did not converge\n",
      "  warnings.warn(\n",
      "c:\\Users\\martj\\miniconda3\\envs\\py38\\lib\\site-packages\\sklearn\\linear_model\\_sag.py:350: ConvergenceWarning: The max_iter was reached which means the coef_ did not converge\n",
      "  warnings.warn(\n"
     ]
    },
    {
     "name": "stdout",
     "output_type": "stream",
     "text": [
      "[CV] END C=100, fit_intercept=False, max_iter=50, penalty=l2, solver=saga; total time=   0.0s\n",
      "[CV] END C=100, fit_intercept=False, max_iter=50, penalty=l2, solver=saga; total time=   0.0s\n",
      "[CV] END C=100, fit_intercept=False, max_iter=50, penalty=l2, solver=saga; total time=   0.0s\n",
      "[CV] END C=100, fit_intercept=False, max_iter=50, penalty=l2, solver=saga; total time=   0.0s\n",
      "[CV] END C=100, fit_intercept=False, max_iter=50, penalty=l2, solver=saga; total time=   0.0s\n",
      "[CV] END C=100, fit_intercept=False, max_iter=100, penalty=l1, solver=newton-cg; total time=   0.0s\n",
      "[CV] END C=100, fit_intercept=False, max_iter=100, penalty=l1, solver=newton-cg; total time=   0.0s\n",
      "[CV] END C=100, fit_intercept=False, max_iter=100, penalty=l1, solver=newton-cg; total time=   0.0s\n",
      "[CV] END C=100, fit_intercept=False, max_iter=100, penalty=l1, solver=newton-cg; total time=   0.0s\n",
      "[CV] END C=100, fit_intercept=False, max_iter=100, penalty=l1, solver=newton-cg; total time=   0.0s\n",
      "[CV] END C=100, fit_intercept=False, max_iter=100, penalty=l1, solver=lbfgs; total time=   0.0s\n",
      "[CV] END C=100, fit_intercept=False, max_iter=100, penalty=l1, solver=lbfgs; total time=   0.0s\n",
      "[CV] END C=100, fit_intercept=False, max_iter=100, penalty=l1, solver=lbfgs; total time=   0.0s\n",
      "[CV] END C=100, fit_intercept=False, max_iter=100, penalty=l1, solver=lbfgs; total time=   0.0s\n",
      "[CV] END C=100, fit_intercept=False, max_iter=100, penalty=l1, solver=lbfgs; total time=   0.0s\n",
      "[CV] END C=100, fit_intercept=False, max_iter=100, penalty=l1, solver=liblinear; total time=   0.0s\n",
      "[CV] END C=100, fit_intercept=False, max_iter=100, penalty=l1, solver=liblinear; total time=   0.0s\n",
      "[CV] END C=100, fit_intercept=False, max_iter=100, penalty=l1, solver=liblinear; total time=   0.0s\n",
      "[CV] END C=100, fit_intercept=False, max_iter=100, penalty=l1, solver=liblinear; total time=   0.0s\n",
      "[CV] END C=100, fit_intercept=False, max_iter=100, penalty=l1, solver=liblinear; total time=   0.0s\n",
      "[CV] END C=100, fit_intercept=False, max_iter=100, penalty=l1, solver=sag; total time=   0.0s\n",
      "[CV] END C=100, fit_intercept=False, max_iter=100, penalty=l1, solver=sag; total time=   0.0s\n",
      "[CV] END C=100, fit_intercept=False, max_iter=100, penalty=l1, solver=sag; total time=   0.0s\n",
      "[CV] END C=100, fit_intercept=False, max_iter=100, penalty=l1, solver=sag; total time=   0.0s\n",
      "[CV] END C=100, fit_intercept=False, max_iter=100, penalty=l1, solver=sag; total time=   0.0s\n",
      "[CV] END C=100, fit_intercept=False, max_iter=100, penalty=l1, solver=saga; total time=   0.0s\n"
     ]
    },
    {
     "name": "stderr",
     "output_type": "stream",
     "text": [
      "c:\\Users\\martj\\miniconda3\\envs\\py38\\lib\\site-packages\\sklearn\\linear_model\\_sag.py:350: ConvergenceWarning: The max_iter was reached which means the coef_ did not converge\n",
      "  warnings.warn(\n",
      "c:\\Users\\martj\\miniconda3\\envs\\py38\\lib\\site-packages\\sklearn\\linear_model\\_sag.py:350: ConvergenceWarning: The max_iter was reached which means the coef_ did not converge\n",
      "  warnings.warn(\n",
      "c:\\Users\\martj\\miniconda3\\envs\\py38\\lib\\site-packages\\sklearn\\linear_model\\_sag.py:350: ConvergenceWarning: The max_iter was reached which means the coef_ did not converge\n",
      "  warnings.warn(\n",
      "c:\\Users\\martj\\miniconda3\\envs\\py38\\lib\\site-packages\\sklearn\\linear_model\\_sag.py:350: ConvergenceWarning: The max_iter was reached which means the coef_ did not converge\n",
      "  warnings.warn(\n"
     ]
    },
    {
     "name": "stdout",
     "output_type": "stream",
     "text": [
      "[CV] END C=100, fit_intercept=False, max_iter=100, penalty=l1, solver=saga; total time=   0.0s\n",
      "[CV] END C=100, fit_intercept=False, max_iter=100, penalty=l1, solver=saga; total time=   0.0s\n",
      "[CV] END C=100, fit_intercept=False, max_iter=100, penalty=l1, solver=saga; total time=   0.0s\n",
      "[CV] END C=100, fit_intercept=False, max_iter=100, penalty=l1, solver=saga; total time=   0.0s\n",
      "[CV] END C=100, fit_intercept=False, max_iter=100, penalty=l2, solver=newton-cg; total time=   0.0s\n",
      "[CV] END C=100, fit_intercept=False, max_iter=100, penalty=l2, solver=newton-cg; total time=   0.0s\n",
      "[CV] END C=100, fit_intercept=False, max_iter=100, penalty=l2, solver=newton-cg; total time=   0.0s\n",
      "[CV] END C=100, fit_intercept=False, max_iter=100, penalty=l2, solver=newton-cg; total time=   0.0s\n",
      "[CV] END C=100, fit_intercept=False, max_iter=100, penalty=l2, solver=newton-cg; total time=   0.0s\n",
      "[CV] END C=100, fit_intercept=False, max_iter=100, penalty=l2, solver=lbfgs; total time=   0.0s\n",
      "[CV] END C=100, fit_intercept=False, max_iter=100, penalty=l2, solver=lbfgs; total time=   0.0s\n",
      "[CV] END C=100, fit_intercept=False, max_iter=100, penalty=l2, solver=lbfgs; total time=   0.0s\n",
      "[CV] END C=100, fit_intercept=False, max_iter=100, penalty=l2, solver=lbfgs; total time=   0.0s\n",
      "[CV] END C=100, fit_intercept=False, max_iter=100, penalty=l2, solver=lbfgs; total time=   0.0s\n",
      "[CV] END C=100, fit_intercept=False, max_iter=100, penalty=l2, solver=liblinear; total time=   0.0s\n",
      "[CV] END C=100, fit_intercept=False, max_iter=100, penalty=l2, solver=liblinear; total time=   0.0s\n",
      "[CV] END C=100, fit_intercept=False, max_iter=100, penalty=l2, solver=liblinear; total time=   0.0s\n",
      "[CV] END C=100, fit_intercept=False, max_iter=100, penalty=l2, solver=liblinear; total time=   0.0s\n",
      "[CV] END C=100, fit_intercept=False, max_iter=100, penalty=l2, solver=liblinear; total time=   0.0s\n",
      "[CV] END C=100, fit_intercept=False, max_iter=100, penalty=l2, solver=sag; total time=   0.0s\n",
      "[CV] END C=100, fit_intercept=False, max_iter=100, penalty=l2, solver=sag; total time=   0.0s\n",
      "[CV] END C=100, fit_intercept=False, max_iter=100, penalty=l2, solver=sag; total time=   0.0s\n",
      "[CV] END C=100, fit_intercept=False, max_iter=100, penalty=l2, solver=sag; total time=   0.0s\n",
      "[CV] END C=100, fit_intercept=False, max_iter=100, penalty=l2, solver=sag; total time=   0.0s\n",
      "[CV] END C=100, fit_intercept=False, max_iter=100, penalty=l2, solver=saga; total time=   0.0s\n",
      "[CV] END C=100, fit_intercept=False, max_iter=100, penalty=l2, solver=saga; total time=   0.0s\n"
     ]
    },
    {
     "name": "stderr",
     "output_type": "stream",
     "text": [
      "c:\\Users\\martj\\miniconda3\\envs\\py38\\lib\\site-packages\\sklearn\\linear_model\\_sag.py:350: ConvergenceWarning: The max_iter was reached which means the coef_ did not converge\n",
      "  warnings.warn(\n",
      "c:\\Users\\martj\\miniconda3\\envs\\py38\\lib\\site-packages\\sklearn\\linear_model\\_sag.py:350: ConvergenceWarning: The max_iter was reached which means the coef_ did not converge\n",
      "  warnings.warn(\n",
      "c:\\Users\\martj\\miniconda3\\envs\\py38\\lib\\site-packages\\sklearn\\linear_model\\_sag.py:350: ConvergenceWarning: The max_iter was reached which means the coef_ did not converge\n",
      "  warnings.warn(\n",
      "c:\\Users\\martj\\miniconda3\\envs\\py38\\lib\\site-packages\\sklearn\\linear_model\\_sag.py:350: ConvergenceWarning: The max_iter was reached which means the coef_ did not converge\n",
      "  warnings.warn(\n",
      "c:\\Users\\martj\\miniconda3\\envs\\py38\\lib\\site-packages\\sklearn\\linear_model\\_sag.py:350: ConvergenceWarning: The max_iter was reached which means the coef_ did not converge\n",
      "  warnings.warn(\n",
      "c:\\Users\\martj\\miniconda3\\envs\\py38\\lib\\site-packages\\sklearn\\linear_model\\_sag.py:350: ConvergenceWarning: The max_iter was reached which means the coef_ did not converge\n",
      "  warnings.warn(\n",
      "c:\\Users\\martj\\miniconda3\\envs\\py38\\lib\\site-packages\\sklearn\\linear_model\\_sag.py:350: ConvergenceWarning: The max_iter was reached which means the coef_ did not converge\n",
      "  warnings.warn(\n",
      "c:\\Users\\martj\\miniconda3\\envs\\py38\\lib\\site-packages\\sklearn\\linear_model\\_sag.py:350: ConvergenceWarning: The max_iter was reached which means the coef_ did not converge\n",
      "  warnings.warn(\n",
      "c:\\Users\\martj\\miniconda3\\envs\\py38\\lib\\site-packages\\sklearn\\linear_model\\_sag.py:350: ConvergenceWarning: The max_iter was reached which means the coef_ did not converge\n",
      "  warnings.warn(\n"
     ]
    },
    {
     "name": "stdout",
     "output_type": "stream",
     "text": [
      "[CV] END C=100, fit_intercept=False, max_iter=100, penalty=l2, solver=saga; total time=   0.0s\n",
      "[CV] END C=100, fit_intercept=False, max_iter=100, penalty=l2, solver=saga; total time=   0.0s\n",
      "[CV] END C=100, fit_intercept=False, max_iter=100, penalty=l2, solver=saga; total time=   0.0s\n",
      "[CV] END C=100, fit_intercept=False, max_iter=200, penalty=l1, solver=newton-cg; total time=   0.0s\n",
      "[CV] END C=100, fit_intercept=False, max_iter=200, penalty=l1, solver=newton-cg; total time=   0.0s\n",
      "[CV] END C=100, fit_intercept=False, max_iter=200, penalty=l1, solver=newton-cg; total time=   0.0s\n",
      "[CV] END C=100, fit_intercept=False, max_iter=200, penalty=l1, solver=newton-cg; total time=   0.0s\n",
      "[CV] END C=100, fit_intercept=False, max_iter=200, penalty=l1, solver=newton-cg; total time=   0.0s\n",
      "[CV] END C=100, fit_intercept=False, max_iter=200, penalty=l1, solver=lbfgs; total time=   0.0s\n",
      "[CV] END C=100, fit_intercept=False, max_iter=200, penalty=l1, solver=lbfgs; total time=   0.0s\n",
      "[CV] END C=100, fit_intercept=False, max_iter=200, penalty=l1, solver=lbfgs; total time=   0.0s\n",
      "[CV] END C=100, fit_intercept=False, max_iter=200, penalty=l1, solver=lbfgs; total time=   0.0s\n",
      "[CV] END C=100, fit_intercept=False, max_iter=200, penalty=l1, solver=lbfgs; total time=   0.0s\n",
      "[CV] END C=100, fit_intercept=False, max_iter=200, penalty=l1, solver=liblinear; total time=   0.0s\n",
      "[CV] END C=100, fit_intercept=False, max_iter=200, penalty=l1, solver=liblinear; total time=   0.0s\n",
      "[CV] END C=100, fit_intercept=False, max_iter=200, penalty=l1, solver=liblinear; total time=   0.0s\n",
      "[CV] END C=100, fit_intercept=False, max_iter=200, penalty=l1, solver=liblinear; total time=   0.0s\n",
      "[CV] END C=100, fit_intercept=False, max_iter=200, penalty=l1, solver=liblinear; total time=   0.0s\n",
      "[CV] END C=100, fit_intercept=False, max_iter=200, penalty=l1, solver=sag; total time=   0.0s\n",
      "[CV] END C=100, fit_intercept=False, max_iter=200, penalty=l1, solver=sag; total time=   0.0s\n",
      "[CV] END C=100, fit_intercept=False, max_iter=200, penalty=l1, solver=sag; total time=   0.0s\n",
      "[CV] END C=100, fit_intercept=False, max_iter=200, penalty=l1, solver=sag; total time=   0.0s\n",
      "[CV] END C=100, fit_intercept=False, max_iter=200, penalty=l1, solver=sag; total time=   0.0s\n",
      "[CV] END C=100, fit_intercept=False, max_iter=200, penalty=l1, solver=saga; total time=   0.0s\n"
     ]
    },
    {
     "name": "stderr",
     "output_type": "stream",
     "text": [
      "c:\\Users\\martj\\miniconda3\\envs\\py38\\lib\\site-packages\\sklearn\\linear_model\\_sag.py:350: ConvergenceWarning: The max_iter was reached which means the coef_ did not converge\n",
      "  warnings.warn(\n",
      "c:\\Users\\martj\\miniconda3\\envs\\py38\\lib\\site-packages\\sklearn\\linear_model\\_sag.py:350: ConvergenceWarning: The max_iter was reached which means the coef_ did not converge\n",
      "  warnings.warn(\n",
      "c:\\Users\\martj\\miniconda3\\envs\\py38\\lib\\site-packages\\sklearn\\linear_model\\_sag.py:350: ConvergenceWarning: The max_iter was reached which means the coef_ did not converge\n",
      "  warnings.warn(\n"
     ]
    },
    {
     "name": "stdout",
     "output_type": "stream",
     "text": [
      "[CV] END C=100, fit_intercept=False, max_iter=200, penalty=l1, solver=saga; total time=   0.0s\n",
      "[CV] END C=100, fit_intercept=False, max_iter=200, penalty=l1, solver=saga; total time=   0.0s\n",
      "[CV] END C=100, fit_intercept=False, max_iter=200, penalty=l1, solver=saga; total time=   0.0s\n",
      "[CV] END C=100, fit_intercept=False, max_iter=200, penalty=l1, solver=saga; total time=   0.0s\n",
      "[CV] END C=100, fit_intercept=False, max_iter=200, penalty=l2, solver=newton-cg; total time=   0.0s\n",
      "[CV] END C=100, fit_intercept=False, max_iter=200, penalty=l2, solver=newton-cg; total time=   0.0s\n"
     ]
    },
    {
     "name": "stderr",
     "output_type": "stream",
     "text": [
      "c:\\Users\\martj\\miniconda3\\envs\\py38\\lib\\site-packages\\sklearn\\linear_model\\_sag.py:350: ConvergenceWarning: The max_iter was reached which means the coef_ did not converge\n",
      "  warnings.warn(\n",
      "c:\\Users\\martj\\miniconda3\\envs\\py38\\lib\\site-packages\\sklearn\\linear_model\\_sag.py:350: ConvergenceWarning: The max_iter was reached which means the coef_ did not converge\n",
      "  warnings.warn(\n",
      "c:\\Users\\martj\\miniconda3\\envs\\py38\\lib\\site-packages\\sklearn\\linear_model\\_sag.py:350: ConvergenceWarning: The max_iter was reached which means the coef_ did not converge\n",
      "  warnings.warn(\n"
     ]
    },
    {
     "name": "stdout",
     "output_type": "stream",
     "text": [
      "[CV] END C=100, fit_intercept=False, max_iter=200, penalty=l2, solver=newton-cg; total time=   0.0s\n",
      "[CV] END C=100, fit_intercept=False, max_iter=200, penalty=l2, solver=newton-cg; total time=   0.0s\n",
      "[CV] END C=100, fit_intercept=False, max_iter=200, penalty=l2, solver=newton-cg; total time=   0.0s\n",
      "[CV] END C=100, fit_intercept=False, max_iter=200, penalty=l2, solver=lbfgs; total time=   0.0s\n",
      "[CV] END C=100, fit_intercept=False, max_iter=200, penalty=l2, solver=lbfgs; total time=   0.0s\n",
      "[CV] END C=100, fit_intercept=False, max_iter=200, penalty=l2, solver=lbfgs; total time=   0.0s\n",
      "[CV] END C=100, fit_intercept=False, max_iter=200, penalty=l2, solver=lbfgs; total time=   0.0s\n",
      "[CV] END C=100, fit_intercept=False, max_iter=200, penalty=l2, solver=lbfgs; total time=   0.0s\n",
      "[CV] END C=100, fit_intercept=False, max_iter=200, penalty=l2, solver=liblinear; total time=   0.0s\n",
      "[CV] END C=100, fit_intercept=False, max_iter=200, penalty=l2, solver=liblinear; total time=   0.0s\n",
      "[CV] END C=100, fit_intercept=False, max_iter=200, penalty=l2, solver=liblinear; total time=   0.0s\n",
      "[CV] END C=100, fit_intercept=False, max_iter=200, penalty=l2, solver=liblinear; total time=   0.0s\n",
      "[CV] END C=100, fit_intercept=False, max_iter=200, penalty=l2, solver=liblinear; total time=   0.0s\n",
      "[CV] END C=100, fit_intercept=False, max_iter=200, penalty=l2, solver=sag; total time=   0.0s\n",
      "[CV] END C=100, fit_intercept=False, max_iter=200, penalty=l2, solver=sag; total time=   0.0s\n",
      "[CV] END C=100, fit_intercept=False, max_iter=200, penalty=l2, solver=sag; total time=   0.0s\n",
      "[CV] END C=100, fit_intercept=False, max_iter=200, penalty=l2, solver=sag; total time=   0.0s\n"
     ]
    },
    {
     "name": "stderr",
     "output_type": "stream",
     "text": [
      "c:\\Users\\martj\\miniconda3\\envs\\py38\\lib\\site-packages\\sklearn\\linear_model\\_sag.py:350: ConvergenceWarning: The max_iter was reached which means the coef_ did not converge\n",
      "  warnings.warn(\n",
      "c:\\Users\\martj\\miniconda3\\envs\\py38\\lib\\site-packages\\sklearn\\linear_model\\_sag.py:350: ConvergenceWarning: The max_iter was reached which means the coef_ did not converge\n",
      "  warnings.warn(\n",
      "c:\\Users\\martj\\miniconda3\\envs\\py38\\lib\\site-packages\\sklearn\\linear_model\\_sag.py:350: ConvergenceWarning: The max_iter was reached which means the coef_ did not converge\n",
      "  warnings.warn(\n",
      "c:\\Users\\martj\\miniconda3\\envs\\py38\\lib\\site-packages\\sklearn\\linear_model\\_sag.py:350: ConvergenceWarning: The max_iter was reached which means the coef_ did not converge\n",
      "  warnings.warn(\n",
      "c:\\Users\\martj\\miniconda3\\envs\\py38\\lib\\site-packages\\sklearn\\linear_model\\_sag.py:350: ConvergenceWarning: The max_iter was reached which means the coef_ did not converge\n",
      "  warnings.warn(\n",
      "c:\\Users\\martj\\miniconda3\\envs\\py38\\lib\\site-packages\\sklearn\\linear_model\\_sag.py:350: ConvergenceWarning: The max_iter was reached which means the coef_ did not converge\n",
      "  warnings.warn(\n"
     ]
    },
    {
     "name": "stdout",
     "output_type": "stream",
     "text": [
      "[CV] END C=100, fit_intercept=False, max_iter=200, penalty=l2, solver=sag; total time=   0.0s\n",
      "[CV] END C=100, fit_intercept=False, max_iter=200, penalty=l2, solver=saga; total time=   0.0s\n",
      "[CV] END C=100, fit_intercept=False, max_iter=200, penalty=l2, solver=saga; total time=   0.0s\n",
      "[CV] END C=100, fit_intercept=False, max_iter=200, penalty=l2, solver=saga; total time=   0.0s\n",
      "[CV] END C=100, fit_intercept=False, max_iter=200, penalty=l2, solver=saga; total time=   0.0s\n"
     ]
    },
    {
     "name": "stderr",
     "output_type": "stream",
     "text": [
      "c:\\Users\\martj\\miniconda3\\envs\\py38\\lib\\site-packages\\sklearn\\linear_model\\_sag.py:350: ConvergenceWarning: The max_iter was reached which means the coef_ did not converge\n",
      "  warnings.warn(\n",
      "c:\\Users\\martj\\miniconda3\\envs\\py38\\lib\\site-packages\\sklearn\\linear_model\\_sag.py:350: ConvergenceWarning: The max_iter was reached which means the coef_ did not converge\n",
      "  warnings.warn(\n",
      "c:\\Users\\martj\\miniconda3\\envs\\py38\\lib\\site-packages\\sklearn\\linear_model\\_sag.py:350: ConvergenceWarning: The max_iter was reached which means the coef_ did not converge\n",
      "  warnings.warn(\n",
      "c:\\Users\\martj\\miniconda3\\envs\\py38\\lib\\site-packages\\sklearn\\linear_model\\_sag.py:350: ConvergenceWarning: The max_iter was reached which means the coef_ did not converge\n",
      "  warnings.warn(\n"
     ]
    },
    {
     "name": "stdout",
     "output_type": "stream",
     "text": [
      "[CV] END C=100, fit_intercept=False, max_iter=200, penalty=l2, solver=saga; total time=   0.0s\n",
      "[CV] END C=100, fit_intercept=False, max_iter=500, penalty=l1, solver=newton-cg; total time=   0.0s\n",
      "[CV] END C=100, fit_intercept=False, max_iter=500, penalty=l1, solver=newton-cg; total time=   0.0s\n",
      "[CV] END C=100, fit_intercept=False, max_iter=500, penalty=l1, solver=newton-cg; total time=   0.0s\n",
      "[CV] END C=100, fit_intercept=False, max_iter=500, penalty=l1, solver=newton-cg; total time=   0.0s\n",
      "[CV] END C=100, fit_intercept=False, max_iter=500, penalty=l1, solver=newton-cg; total time=   0.0s\n",
      "[CV] END C=100, fit_intercept=False, max_iter=500, penalty=l1, solver=lbfgs; total time=   0.0s\n",
      "[CV] END C=100, fit_intercept=False, max_iter=500, penalty=l1, solver=lbfgs; total time=   0.0s\n",
      "[CV] END C=100, fit_intercept=False, max_iter=500, penalty=l1, solver=lbfgs; total time=   0.0s\n",
      "[CV] END C=100, fit_intercept=False, max_iter=500, penalty=l1, solver=lbfgs; total time=   0.0s\n",
      "[CV] END C=100, fit_intercept=False, max_iter=500, penalty=l1, solver=lbfgs; total time=   0.0s\n",
      "[CV] END C=100, fit_intercept=False, max_iter=500, penalty=l1, solver=liblinear; total time=   0.0s\n",
      "[CV] END C=100, fit_intercept=False, max_iter=500, penalty=l1, solver=liblinear; total time=   0.0s\n",
      "[CV] END C=100, fit_intercept=False, max_iter=500, penalty=l1, solver=liblinear; total time=   0.0s\n",
      "[CV] END C=100, fit_intercept=False, max_iter=500, penalty=l1, solver=liblinear; total time=   0.0s\n",
      "[CV] END C=100, fit_intercept=False, max_iter=500, penalty=l1, solver=liblinear; total time=   0.0s\n",
      "[CV] END C=100, fit_intercept=False, max_iter=500, penalty=l1, solver=sag; total time=   0.0s\n",
      "[CV] END C=100, fit_intercept=False, max_iter=500, penalty=l1, solver=sag; total time=   0.0s\n",
      "[CV] END C=100, fit_intercept=False, max_iter=500, penalty=l1, solver=sag; total time=   0.0s\n",
      "[CV] END C=100, fit_intercept=False, max_iter=500, penalty=l1, solver=sag; total time=   0.0s\n",
      "[CV] END C=100, fit_intercept=False, max_iter=500, penalty=l1, solver=sag; total time=   0.0s\n"
     ]
    },
    {
     "name": "stderr",
     "output_type": "stream",
     "text": [
      "c:\\Users\\martj\\miniconda3\\envs\\py38\\lib\\site-packages\\sklearn\\linear_model\\_sag.py:350: ConvergenceWarning: The max_iter was reached which means the coef_ did not converge\n",
      "  warnings.warn(\n",
      "c:\\Users\\martj\\miniconda3\\envs\\py38\\lib\\site-packages\\sklearn\\linear_model\\_sag.py:350: ConvergenceWarning: The max_iter was reached which means the coef_ did not converge\n",
      "  warnings.warn(\n"
     ]
    },
    {
     "name": "stdout",
     "output_type": "stream",
     "text": [
      "[CV] END C=100, fit_intercept=False, max_iter=500, penalty=l1, solver=saga; total time=   0.0s\n",
      "[CV] END C=100, fit_intercept=False, max_iter=500, penalty=l1, solver=saga; total time=   0.0s\n"
     ]
    },
    {
     "name": "stderr",
     "output_type": "stream",
     "text": [
      "c:\\Users\\martj\\miniconda3\\envs\\py38\\lib\\site-packages\\sklearn\\linear_model\\_sag.py:350: ConvergenceWarning: The max_iter was reached which means the coef_ did not converge\n",
      "  warnings.warn(\n",
      "c:\\Users\\martj\\miniconda3\\envs\\py38\\lib\\site-packages\\sklearn\\linear_model\\_sag.py:350: ConvergenceWarning: The max_iter was reached which means the coef_ did not converge\n",
      "  warnings.warn(\n",
      "c:\\Users\\martj\\miniconda3\\envs\\py38\\lib\\site-packages\\sklearn\\linear_model\\_sag.py:350: ConvergenceWarning: The max_iter was reached which means the coef_ did not converge\n",
      "  warnings.warn(\n"
     ]
    },
    {
     "name": "stdout",
     "output_type": "stream",
     "text": [
      "[CV] END C=100, fit_intercept=False, max_iter=500, penalty=l1, solver=saga; total time=   0.0s\n",
      "[CV] END C=100, fit_intercept=False, max_iter=500, penalty=l1, solver=saga; total time=   0.0s\n",
      "[CV] END C=100, fit_intercept=False, max_iter=500, penalty=l1, solver=saga; total time=   0.0s\n",
      "[CV] END C=100, fit_intercept=False, max_iter=500, penalty=l2, solver=newton-cg; total time=   0.0s\n",
      "[CV] END C=100, fit_intercept=False, max_iter=500, penalty=l2, solver=newton-cg; total time=   0.0s\n",
      "[CV] END C=100, fit_intercept=False, max_iter=500, penalty=l2, solver=newton-cg; total time=   0.0s\n",
      "[CV] END C=100, fit_intercept=False, max_iter=500, penalty=l2, solver=newton-cg; total time=   0.0s\n",
      "[CV] END C=100, fit_intercept=False, max_iter=500, penalty=l2, solver=newton-cg; total time=   0.0s\n",
      "[CV] END C=100, fit_intercept=False, max_iter=500, penalty=l2, solver=lbfgs; total time=   0.0s\n",
      "[CV] END C=100, fit_intercept=False, max_iter=500, penalty=l2, solver=lbfgs; total time=   0.0s\n",
      "[CV] END C=100, fit_intercept=False, max_iter=500, penalty=l2, solver=lbfgs; total time=   0.0s\n",
      "[CV] END C=100, fit_intercept=False, max_iter=500, penalty=l2, solver=lbfgs; total time=   0.0s\n",
      "[CV] END C=100, fit_intercept=False, max_iter=500, penalty=l2, solver=lbfgs; total time=   0.0s\n",
      "[CV] END C=100, fit_intercept=False, max_iter=500, penalty=l2, solver=liblinear; total time=   0.0s\n",
      "[CV] END C=100, fit_intercept=False, max_iter=500, penalty=l2, solver=liblinear; total time=   0.0s\n",
      "[CV] END C=100, fit_intercept=False, max_iter=500, penalty=l2, solver=liblinear; total time=   0.0s\n",
      "[CV] END C=100, fit_intercept=False, max_iter=500, penalty=l2, solver=liblinear; total time=   0.0s\n",
      "[CV] END C=100, fit_intercept=False, max_iter=500, penalty=l2, solver=liblinear; total time=   0.0s\n",
      "[CV] END C=100, fit_intercept=False, max_iter=500, penalty=l2, solver=sag; total time=   0.0s\n"
     ]
    },
    {
     "name": "stderr",
     "output_type": "stream",
     "text": [
      "c:\\Users\\martj\\miniconda3\\envs\\py38\\lib\\site-packages\\sklearn\\linear_model\\_sag.py:350: ConvergenceWarning: The max_iter was reached which means the coef_ did not converge\n",
      "  warnings.warn(\n",
      "c:\\Users\\martj\\miniconda3\\envs\\py38\\lib\\site-packages\\sklearn\\linear_model\\_sag.py:350: ConvergenceWarning: The max_iter was reached which means the coef_ did not converge\n",
      "  warnings.warn(\n",
      "c:\\Users\\martj\\miniconda3\\envs\\py38\\lib\\site-packages\\sklearn\\linear_model\\_sag.py:350: ConvergenceWarning: The max_iter was reached which means the coef_ did not converge\n",
      "  warnings.warn(\n"
     ]
    },
    {
     "name": "stdout",
     "output_type": "stream",
     "text": [
      "[CV] END C=100, fit_intercept=False, max_iter=500, penalty=l2, solver=sag; total time=   0.0s\n",
      "[CV] END C=100, fit_intercept=False, max_iter=500, penalty=l2, solver=sag; total time=   0.0s\n",
      "[CV] END C=100, fit_intercept=False, max_iter=500, penalty=l2, solver=sag; total time=   0.0s\n"
     ]
    },
    {
     "name": "stderr",
     "output_type": "stream",
     "text": [
      "c:\\Users\\martj\\miniconda3\\envs\\py38\\lib\\site-packages\\sklearn\\linear_model\\_sag.py:350: ConvergenceWarning: The max_iter was reached which means the coef_ did not converge\n",
      "  warnings.warn(\n",
      "c:\\Users\\martj\\miniconda3\\envs\\py38\\lib\\site-packages\\sklearn\\linear_model\\_sag.py:350: ConvergenceWarning: The max_iter was reached which means the coef_ did not converge\n",
      "  warnings.warn(\n",
      "c:\\Users\\martj\\miniconda3\\envs\\py38\\lib\\site-packages\\sklearn\\linear_model\\_sag.py:350: ConvergenceWarning: The max_iter was reached which means the coef_ did not converge\n",
      "  warnings.warn(\n"
     ]
    },
    {
     "name": "stdout",
     "output_type": "stream",
     "text": [
      "[CV] END C=100, fit_intercept=False, max_iter=500, penalty=l2, solver=sag; total time=   0.0s\n",
      "[CV] END C=100, fit_intercept=False, max_iter=500, penalty=l2, solver=saga; total time=   0.0s\n",
      "[CV] END C=100, fit_intercept=False, max_iter=500, penalty=l2, solver=saga; total time=   0.0s\n"
     ]
    },
    {
     "name": "stderr",
     "output_type": "stream",
     "text": [
      "c:\\Users\\martj\\miniconda3\\envs\\py38\\lib\\site-packages\\sklearn\\linear_model\\_sag.py:350: ConvergenceWarning: The max_iter was reached which means the coef_ did not converge\n",
      "  warnings.warn(\n",
      "c:\\Users\\martj\\miniconda3\\envs\\py38\\lib\\site-packages\\sklearn\\linear_model\\_sag.py:350: ConvergenceWarning: The max_iter was reached which means the coef_ did not converge\n",
      "  warnings.warn(\n",
      "c:\\Users\\martj\\miniconda3\\envs\\py38\\lib\\site-packages\\sklearn\\linear_model\\_sag.py:350: ConvergenceWarning: The max_iter was reached which means the coef_ did not converge\n",
      "  warnings.warn(\n"
     ]
    },
    {
     "name": "stdout",
     "output_type": "stream",
     "text": [
      "[CV] END C=100, fit_intercept=False, max_iter=500, penalty=l2, solver=saga; total time=   0.0s\n",
      "[CV] END C=100, fit_intercept=False, max_iter=500, penalty=l2, solver=saga; total time=   0.0s\n",
      "[CV] END C=100, fit_intercept=False, max_iter=500, penalty=l2, solver=saga; total time=   0.0s\n",
      "[CV] END C=1000, fit_intercept=True, max_iter=50, penalty=l1, solver=newton-cg; total time=   0.0s\n",
      "[CV] END C=1000, fit_intercept=True, max_iter=50, penalty=l1, solver=newton-cg; total time=   0.0s\n",
      "[CV] END C=1000, fit_intercept=True, max_iter=50, penalty=l1, solver=newton-cg; total time=   0.0s\n",
      "[CV] END C=1000, fit_intercept=True, max_iter=50, penalty=l1, solver=newton-cg; total time=   0.0s\n",
      "[CV] END C=1000, fit_intercept=True, max_iter=50, penalty=l1, solver=newton-cg; total time=   0.0s\n",
      "[CV] END C=1000, fit_intercept=True, max_iter=50, penalty=l1, solver=lbfgs; total time=   0.0s\n",
      "[CV] END C=1000, fit_intercept=True, max_iter=50, penalty=l1, solver=lbfgs; total time=   0.0s\n",
      "[CV] END C=1000, fit_intercept=True, max_iter=50, penalty=l1, solver=lbfgs; total time=   0.0s\n",
      "[CV] END C=1000, fit_intercept=True, max_iter=50, penalty=l1, solver=lbfgs; total time=   0.0s\n",
      "[CV] END C=1000, fit_intercept=True, max_iter=50, penalty=l1, solver=lbfgs; total time=   0.0s\n"
     ]
    },
    {
     "name": "stderr",
     "output_type": "stream",
     "text": [
      "c:\\Users\\martj\\miniconda3\\envs\\py38\\lib\\site-packages\\sklearn\\linear_model\\_sag.py:350: ConvergenceWarning: The max_iter was reached which means the coef_ did not converge\n",
      "  warnings.warn(\n",
      "c:\\Users\\martj\\miniconda3\\envs\\py38\\lib\\site-packages\\sklearn\\linear_model\\_sag.py:350: ConvergenceWarning: The max_iter was reached which means the coef_ did not converge\n",
      "  warnings.warn(\n",
      "c:\\Users\\martj\\miniconda3\\envs\\py38\\lib\\site-packages\\sklearn\\linear_model\\_sag.py:350: ConvergenceWarning: The max_iter was reached which means the coef_ did not converge\n",
      "  warnings.warn(\n",
      "c:\\Users\\martj\\miniconda3\\envs\\py38\\lib\\site-packages\\sklearn\\linear_model\\_sag.py:350: ConvergenceWarning: The max_iter was reached which means the coef_ did not converge\n",
      "  warnings.warn(\n",
      "c:\\Users\\martj\\miniconda3\\envs\\py38\\lib\\site-packages\\sklearn\\linear_model\\_sag.py:350: ConvergenceWarning: The max_iter was reached which means the coef_ did not converge\n",
      "  warnings.warn(\n",
      "c:\\Users\\martj\\miniconda3\\envs\\py38\\lib\\site-packages\\sklearn\\linear_model\\_sag.py:350: ConvergenceWarning: The max_iter was reached which means the coef_ did not converge\n",
      "  warnings.warn(\n"
     ]
    },
    {
     "name": "stdout",
     "output_type": "stream",
     "text": [
      "[CV] END C=1000, fit_intercept=True, max_iter=50, penalty=l1, solver=liblinear; total time=   0.0s\n",
      "[CV] END C=1000, fit_intercept=True, max_iter=50, penalty=l1, solver=liblinear; total time=   0.0s\n",
      "[CV] END C=1000, fit_intercept=True, max_iter=50, penalty=l1, solver=liblinear; total time=   0.0s\n",
      "[CV] END C=1000, fit_intercept=True, max_iter=50, penalty=l1, solver=liblinear; total time=   0.0s\n",
      "[CV] END C=1000, fit_intercept=True, max_iter=50, penalty=l1, solver=liblinear; total time=   0.0s\n",
      "[CV] END C=1000, fit_intercept=True, max_iter=50, penalty=l1, solver=sag; total time=   0.0s\n",
      "[CV] END C=1000, fit_intercept=True, max_iter=50, penalty=l1, solver=sag; total time=   0.0s\n",
      "[CV] END C=1000, fit_intercept=True, max_iter=50, penalty=l1, solver=sag; total time=   0.0s\n",
      "[CV] END C=1000, fit_intercept=True, max_iter=50, penalty=l1, solver=sag; total time=   0.0s\n",
      "[CV] END C=1000, fit_intercept=True, max_iter=50, penalty=l1, solver=sag; total time=   0.0s\n",
      "[CV] END C=1000, fit_intercept=True, max_iter=50, penalty=l1, solver=saga; total time=   0.0s\n",
      "[CV] END C=1000, fit_intercept=True, max_iter=50, penalty=l1, solver=saga; total time=   0.0s\n",
      "[CV] END C=1000, fit_intercept=True, max_iter=50, penalty=l1, solver=saga; total time=   0.0s\n",
      "[CV] END C=1000, fit_intercept=True, max_iter=50, penalty=l1, solver=saga; total time=   0.0s\n",
      "[CV] END C=1000, fit_intercept=True, max_iter=50, penalty=l1, solver=saga; total time=   0.0s\n",
      "[CV] END C=1000, fit_intercept=True, max_iter=50, penalty=l2, solver=newton-cg; total time=   0.0s\n",
      "[CV] END C=1000, fit_intercept=True, max_iter=50, penalty=l2, solver=newton-cg; total time=   0.0s\n",
      "[CV] END C=1000, fit_intercept=True, max_iter=50, penalty=l2, solver=newton-cg; total time=   0.0s\n",
      "[CV] END C=1000, fit_intercept=True, max_iter=50, penalty=l2, solver=newton-cg; total time=   0.0s\n",
      "[CV] END C=1000, fit_intercept=True, max_iter=50, penalty=l2, solver=newton-cg; total time=   0.0s\n",
      "[CV] END C=1000, fit_intercept=True, max_iter=50, penalty=l2, solver=lbfgs; total time=   0.0s\n",
      "[CV] END C=1000, fit_intercept=True, max_iter=50, penalty=l2, solver=lbfgs; total time=   0.0s\n",
      "[CV] END C=1000, fit_intercept=True, max_iter=50, penalty=l2, solver=lbfgs; total time=   0.0s\n",
      "[CV] END C=1000, fit_intercept=True, max_iter=50, penalty=l2, solver=lbfgs; total time=   0.0s\n"
     ]
    },
    {
     "name": "stderr",
     "output_type": "stream",
     "text": [
      "c:\\Users\\martj\\miniconda3\\envs\\py38\\lib\\site-packages\\sklearn\\linear_model\\_logistic.py:460: ConvergenceWarning: lbfgs failed to converge (status=1):\n",
      "STOP: TOTAL NO. of ITERATIONS REACHED LIMIT.\n",
      "\n",
      "Increase the number of iterations (max_iter) or scale the data as shown in:\n",
      "    https://scikit-learn.org/stable/modules/preprocessing.html\n",
      "Please also refer to the documentation for alternative solver options:\n",
      "    https://scikit-learn.org/stable/modules/linear_model.html#logistic-regression\n",
      "  n_iter_i = _check_optimize_result(\n",
      "c:\\Users\\martj\\miniconda3\\envs\\py38\\lib\\site-packages\\sklearn\\linear_model\\_logistic.py:460: ConvergenceWarning: lbfgs failed to converge (status=1):\n",
      "STOP: TOTAL NO. of ITERATIONS REACHED LIMIT.\n",
      "\n",
      "Increase the number of iterations (max_iter) or scale the data as shown in:\n",
      "    https://scikit-learn.org/stable/modules/preprocessing.html\n",
      "Please also refer to the documentation for alternative solver options:\n",
      "    https://scikit-learn.org/stable/modules/linear_model.html#logistic-regression\n",
      "  n_iter_i = _check_optimize_result(\n",
      "c:\\Users\\martj\\miniconda3\\envs\\py38\\lib\\site-packages\\sklearn\\linear_model\\_logistic.py:460: ConvergenceWarning: lbfgs failed to converge (status=1):\n",
      "STOP: TOTAL NO. of ITERATIONS REACHED LIMIT.\n",
      "\n",
      "Increase the number of iterations (max_iter) or scale the data as shown in:\n",
      "    https://scikit-learn.org/stable/modules/preprocessing.html\n",
      "Please also refer to the documentation for alternative solver options:\n",
      "    https://scikit-learn.org/stable/modules/linear_model.html#logistic-regression\n",
      "  n_iter_i = _check_optimize_result(\n",
      "c:\\Users\\martj\\miniconda3\\envs\\py38\\lib\\site-packages\\sklearn\\linear_model\\_logistic.py:460: ConvergenceWarning: lbfgs failed to converge (status=1):\n",
      "STOP: TOTAL NO. of ITERATIONS REACHED LIMIT.\n",
      "\n",
      "Increase the number of iterations (max_iter) or scale the data as shown in:\n",
      "    https://scikit-learn.org/stable/modules/preprocessing.html\n",
      "Please also refer to the documentation for alternative solver options:\n",
      "    https://scikit-learn.org/stable/modules/linear_model.html#logistic-regression\n",
      "  n_iter_i = _check_optimize_result(\n",
      "c:\\Users\\martj\\miniconda3\\envs\\py38\\lib\\site-packages\\sklearn\\linear_model\\_logistic.py:460: ConvergenceWarning: lbfgs failed to converge (status=1):\n",
      "STOP: TOTAL NO. of ITERATIONS REACHED LIMIT.\n",
      "\n",
      "Increase the number of iterations (max_iter) or scale the data as shown in:\n",
      "    https://scikit-learn.org/stable/modules/preprocessing.html\n",
      "Please also refer to the documentation for alternative solver options:\n",
      "    https://scikit-learn.org/stable/modules/linear_model.html#logistic-regression\n",
      "  n_iter_i = _check_optimize_result(\n",
      "c:\\Users\\martj\\miniconda3\\envs\\py38\\lib\\site-packages\\sklearn\\linear_model\\_sag.py:350: ConvergenceWarning: The max_iter was reached which means the coef_ did not converge\n",
      "  warnings.warn(\n",
      "c:\\Users\\martj\\miniconda3\\envs\\py38\\lib\\site-packages\\sklearn\\linear_model\\_sag.py:350: ConvergenceWarning: The max_iter was reached which means the coef_ did not converge\n",
      "  warnings.warn(\n",
      "c:\\Users\\martj\\miniconda3\\envs\\py38\\lib\\site-packages\\sklearn\\linear_model\\_sag.py:350: ConvergenceWarning: The max_iter was reached which means the coef_ did not converge\n",
      "  warnings.warn(\n",
      "c:\\Users\\martj\\miniconda3\\envs\\py38\\lib\\site-packages\\sklearn\\linear_model\\_sag.py:350: ConvergenceWarning: The max_iter was reached which means the coef_ did not converge\n",
      "  warnings.warn(\n"
     ]
    },
    {
     "name": "stdout",
     "output_type": "stream",
     "text": [
      "[CV] END C=1000, fit_intercept=True, max_iter=50, penalty=l2, solver=lbfgs; total time=   0.0s\n",
      "[CV] END C=1000, fit_intercept=True, max_iter=50, penalty=l2, solver=liblinear; total time=   0.0s\n",
      "[CV] END C=1000, fit_intercept=True, max_iter=50, penalty=l2, solver=liblinear; total time=   0.0s\n",
      "[CV] END C=1000, fit_intercept=True, max_iter=50, penalty=l2, solver=liblinear; total time=   0.0s\n",
      "[CV] END C=1000, fit_intercept=True, max_iter=50, penalty=l2, solver=liblinear; total time=   0.0s\n",
      "[CV] END C=1000, fit_intercept=True, max_iter=50, penalty=l2, solver=liblinear; total time=   0.0s\n",
      "[CV] END C=1000, fit_intercept=True, max_iter=50, penalty=l2, solver=sag; total time=   0.0s\n",
      "[CV] END C=1000, fit_intercept=True, max_iter=50, penalty=l2, solver=sag; total time=   0.0s\n",
      "[CV] END C=1000, fit_intercept=True, max_iter=50, penalty=l2, solver=sag; total time=   0.0s\n",
      "[CV] END C=1000, fit_intercept=True, max_iter=50, penalty=l2, solver=sag; total time=   0.0s\n",
      "[CV] END C=1000, fit_intercept=True, max_iter=50, penalty=l2, solver=sag; total time=   0.0s\n",
      "[CV] END C=1000, fit_intercept=True, max_iter=50, penalty=l2, solver=saga; total time=   0.0s\n",
      "[CV] END C=1000, fit_intercept=True, max_iter=50, penalty=l2, solver=saga; total time=   0.0s\n",
      "[CV] END C=1000, fit_intercept=True, max_iter=50, penalty=l2, solver=saga; total time=   0.0s\n",
      "[CV] END C=1000, fit_intercept=True, max_iter=50, penalty=l2, solver=saga; total time=   0.0s\n"
     ]
    },
    {
     "name": "stderr",
     "output_type": "stream",
     "text": [
      "c:\\Users\\martj\\miniconda3\\envs\\py38\\lib\\site-packages\\sklearn\\linear_model\\_sag.py:350: ConvergenceWarning: The max_iter was reached which means the coef_ did not converge\n",
      "  warnings.warn(\n",
      "c:\\Users\\martj\\miniconda3\\envs\\py38\\lib\\site-packages\\sklearn\\linear_model\\_sag.py:350: ConvergenceWarning: The max_iter was reached which means the coef_ did not converge\n",
      "  warnings.warn(\n",
      "c:\\Users\\martj\\miniconda3\\envs\\py38\\lib\\site-packages\\sklearn\\linear_model\\_sag.py:350: ConvergenceWarning: The max_iter was reached which means the coef_ did not converge\n",
      "  warnings.warn(\n",
      "c:\\Users\\martj\\miniconda3\\envs\\py38\\lib\\site-packages\\sklearn\\linear_model\\_sag.py:350: ConvergenceWarning: The max_iter was reached which means the coef_ did not converge\n",
      "  warnings.warn(\n",
      "c:\\Users\\martj\\miniconda3\\envs\\py38\\lib\\site-packages\\sklearn\\linear_model\\_sag.py:350: ConvergenceWarning: The max_iter was reached which means the coef_ did not converge\n",
      "  warnings.warn(\n",
      "c:\\Users\\martj\\miniconda3\\envs\\py38\\lib\\site-packages\\sklearn\\linear_model\\_sag.py:350: ConvergenceWarning: The max_iter was reached which means the coef_ did not converge\n",
      "  warnings.warn(\n"
     ]
    },
    {
     "name": "stdout",
     "output_type": "stream",
     "text": [
      "[CV] END C=1000, fit_intercept=True, max_iter=50, penalty=l2, solver=saga; total time=   0.0s\n",
      "[CV] END C=1000, fit_intercept=True, max_iter=100, penalty=l1, solver=newton-cg; total time=   0.0s\n",
      "[CV] END C=1000, fit_intercept=True, max_iter=100, penalty=l1, solver=newton-cg; total time=   0.0s\n",
      "[CV] END C=1000, fit_intercept=True, max_iter=100, penalty=l1, solver=newton-cg; total time=   0.0s\n",
      "[CV] END C=1000, fit_intercept=True, max_iter=100, penalty=l1, solver=newton-cg; total time=   0.0s\n",
      "[CV] END C=1000, fit_intercept=True, max_iter=100, penalty=l1, solver=newton-cg; total time=   0.0s\n",
      "[CV] END C=1000, fit_intercept=True, max_iter=100, penalty=l1, solver=lbfgs; total time=   0.0s\n",
      "[CV] END C=1000, fit_intercept=True, max_iter=100, penalty=l1, solver=lbfgs; total time=   0.0s\n",
      "[CV] END C=1000, fit_intercept=True, max_iter=100, penalty=l1, solver=lbfgs; total time=   0.0s\n",
      "[CV] END C=1000, fit_intercept=True, max_iter=100, penalty=l1, solver=lbfgs; total time=   0.0s\n",
      "[CV] END C=1000, fit_intercept=True, max_iter=100, penalty=l1, solver=lbfgs; total time=   0.0s\n",
      "[CV] END C=1000, fit_intercept=True, max_iter=100, penalty=l1, solver=liblinear; total time=   0.0s\n",
      "[CV] END C=1000, fit_intercept=True, max_iter=100, penalty=l1, solver=liblinear; total time=   0.0s\n",
      "[CV] END C=1000, fit_intercept=True, max_iter=100, penalty=l1, solver=liblinear; total time=   0.0s\n",
      "[CV] END C=1000, fit_intercept=True, max_iter=100, penalty=l1, solver=liblinear; total time=   0.0s\n",
      "[CV] END C=1000, fit_intercept=True, max_iter=100, penalty=l1, solver=liblinear; total time=   0.0s\n",
      "[CV] END C=1000, fit_intercept=True, max_iter=100, penalty=l1, solver=sag; total time=   0.0s\n",
      "[CV] END C=1000, fit_intercept=True, max_iter=100, penalty=l1, solver=sag; total time=   0.0s\n",
      "[CV] END C=1000, fit_intercept=True, max_iter=100, penalty=l1, solver=sag; total time=   0.0s\n",
      "[CV] END C=1000, fit_intercept=True, max_iter=100, penalty=l1, solver=sag; total time=   0.0s\n",
      "[CV] END C=1000, fit_intercept=True, max_iter=100, penalty=l1, solver=sag; total time=   0.0s\n",
      "[CV] END C=1000, fit_intercept=True, max_iter=100, penalty=l1, solver=saga; total time=   0.0s\n",
      "[CV] END C=1000, fit_intercept=True, max_iter=100, penalty=l1, solver=saga; total time=   0.0s\n",
      "[CV] END C=1000, fit_intercept=True, max_iter=100, penalty=l1, solver=saga; total time=   0.0s\n",
      "[CV] END C=1000, fit_intercept=True, max_iter=100, penalty=l1, solver=saga; total time=   0.0s\n"
     ]
    },
    {
     "name": "stderr",
     "output_type": "stream",
     "text": [
      "c:\\Users\\martj\\miniconda3\\envs\\py38\\lib\\site-packages\\sklearn\\linear_model\\_sag.py:350: ConvergenceWarning: The max_iter was reached which means the coef_ did not converge\n",
      "  warnings.warn(\n",
      "c:\\Users\\martj\\miniconda3\\envs\\py38\\lib\\site-packages\\sklearn\\linear_model\\_sag.py:350: ConvergenceWarning: The max_iter was reached which means the coef_ did not converge\n",
      "  warnings.warn(\n",
      "c:\\Users\\martj\\miniconda3\\envs\\py38\\lib\\site-packages\\sklearn\\linear_model\\_sag.py:350: ConvergenceWarning: The max_iter was reached which means the coef_ did not converge\n",
      "  warnings.warn(\n",
      "c:\\Users\\martj\\miniconda3\\envs\\py38\\lib\\site-packages\\sklearn\\linear_model\\_sag.py:350: ConvergenceWarning: The max_iter was reached which means the coef_ did not converge\n",
      "  warnings.warn(\n",
      "c:\\Users\\martj\\miniconda3\\envs\\py38\\lib\\site-packages\\sklearn\\linear_model\\_sag.py:350: ConvergenceWarning: The max_iter was reached which means the coef_ did not converge\n",
      "  warnings.warn(\n"
     ]
    },
    {
     "name": "stdout",
     "output_type": "stream",
     "text": [
      "[CV] END C=1000, fit_intercept=True, max_iter=100, penalty=l1, solver=saga; total time=   0.0s\n",
      "[CV] END C=1000, fit_intercept=True, max_iter=100, penalty=l2, solver=newton-cg; total time=   0.0s\n",
      "[CV] END C=1000, fit_intercept=True, max_iter=100, penalty=l2, solver=newton-cg; total time=   0.0s\n",
      "[CV] END C=1000, fit_intercept=True, max_iter=100, penalty=l2, solver=newton-cg; total time=   0.0s\n",
      "[CV] END C=1000, fit_intercept=True, max_iter=100, penalty=l2, solver=newton-cg; total time=   0.0s\n",
      "[CV] END C=1000, fit_intercept=True, max_iter=100, penalty=l2, solver=newton-cg; total time=   0.0s\n",
      "[CV] END C=1000, fit_intercept=True, max_iter=100, penalty=l2, solver=lbfgs; total time=   0.0s\n"
     ]
    },
    {
     "name": "stderr",
     "output_type": "stream",
     "text": [
      "c:\\Users\\martj\\miniconda3\\envs\\py38\\lib\\site-packages\\sklearn\\linear_model\\_logistic.py:460: ConvergenceWarning: lbfgs failed to converge (status=1):\n",
      "STOP: TOTAL NO. of ITERATIONS REACHED LIMIT.\n",
      "\n",
      "Increase the number of iterations (max_iter) or scale the data as shown in:\n",
      "    https://scikit-learn.org/stable/modules/preprocessing.html\n",
      "Please also refer to the documentation for alternative solver options:\n",
      "    https://scikit-learn.org/stable/modules/linear_model.html#logistic-regression\n",
      "  n_iter_i = _check_optimize_result(\n",
      "c:\\Users\\martj\\miniconda3\\envs\\py38\\lib\\site-packages\\sklearn\\linear_model\\_logistic.py:460: ConvergenceWarning: lbfgs failed to converge (status=1):\n",
      "STOP: TOTAL NO. of ITERATIONS REACHED LIMIT.\n",
      "\n",
      "Increase the number of iterations (max_iter) or scale the data as shown in:\n",
      "    https://scikit-learn.org/stable/modules/preprocessing.html\n",
      "Please also refer to the documentation for alternative solver options:\n",
      "    https://scikit-learn.org/stable/modules/linear_model.html#logistic-regression\n",
      "  n_iter_i = _check_optimize_result(\n",
      "c:\\Users\\martj\\miniconda3\\envs\\py38\\lib\\site-packages\\sklearn\\linear_model\\_logistic.py:460: ConvergenceWarning: lbfgs failed to converge (status=1):\n",
      "STOP: TOTAL NO. of ITERATIONS REACHED LIMIT.\n",
      "\n",
      "Increase the number of iterations (max_iter) or scale the data as shown in:\n",
      "    https://scikit-learn.org/stable/modules/preprocessing.html\n",
      "Please also refer to the documentation for alternative solver options:\n",
      "    https://scikit-learn.org/stable/modules/linear_model.html#logistic-regression\n",
      "  n_iter_i = _check_optimize_result(\n",
      "c:\\Users\\martj\\miniconda3\\envs\\py38\\lib\\site-packages\\sklearn\\linear_model\\_logistic.py:460: ConvergenceWarning: lbfgs failed to converge (status=1):\n",
      "STOP: TOTAL NO. of ITERATIONS REACHED LIMIT.\n",
      "\n",
      "Increase the number of iterations (max_iter) or scale the data as shown in:\n",
      "    https://scikit-learn.org/stable/modules/preprocessing.html\n",
      "Please also refer to the documentation for alternative solver options:\n",
      "    https://scikit-learn.org/stable/modules/linear_model.html#logistic-regression\n",
      "  n_iter_i = _check_optimize_result(\n"
     ]
    },
    {
     "name": "stdout",
     "output_type": "stream",
     "text": [
      "[CV] END C=1000, fit_intercept=True, max_iter=100, penalty=l2, solver=lbfgs; total time=   0.0s\n",
      "[CV] END C=1000, fit_intercept=True, max_iter=100, penalty=l2, solver=lbfgs; total time=   0.0s\n",
      "[CV] END C=1000, fit_intercept=True, max_iter=100, penalty=l2, solver=lbfgs; total time=   0.0s\n",
      "[CV] END C=1000, fit_intercept=True, max_iter=100, penalty=l2, solver=lbfgs; total time=   0.0s\n",
      "[CV] END C=1000, fit_intercept=True, max_iter=100, penalty=l2, solver=liblinear; total time=   0.0s\n",
      "[CV] END C=1000, fit_intercept=True, max_iter=100, penalty=l2, solver=liblinear; total time=   0.0s\n",
      "[CV] END C=1000, fit_intercept=True, max_iter=100, penalty=l2, solver=liblinear; total time=   0.0s\n",
      "[CV] END C=1000, fit_intercept=True, max_iter=100, penalty=l2, solver=liblinear; total time=   0.0s\n",
      "[CV] END C=1000, fit_intercept=True, max_iter=100, penalty=l2, solver=liblinear; total time=   0.0s\n"
     ]
    },
    {
     "name": "stderr",
     "output_type": "stream",
     "text": [
      "c:\\Users\\martj\\miniconda3\\envs\\py38\\lib\\site-packages\\sklearn\\linear_model\\_sag.py:350: ConvergenceWarning: The max_iter was reached which means the coef_ did not converge\n",
      "  warnings.warn(\n",
      "c:\\Users\\martj\\miniconda3\\envs\\py38\\lib\\site-packages\\sklearn\\linear_model\\_sag.py:350: ConvergenceWarning: The max_iter was reached which means the coef_ did not converge\n",
      "  warnings.warn(\n",
      "c:\\Users\\martj\\miniconda3\\envs\\py38\\lib\\site-packages\\sklearn\\linear_model\\_sag.py:350: ConvergenceWarning: The max_iter was reached which means the coef_ did not converge\n",
      "  warnings.warn(\n",
      "c:\\Users\\martj\\miniconda3\\envs\\py38\\lib\\site-packages\\sklearn\\linear_model\\_sag.py:350: ConvergenceWarning: The max_iter was reached which means the coef_ did not converge\n",
      "  warnings.warn(\n",
      "c:\\Users\\martj\\miniconda3\\envs\\py38\\lib\\site-packages\\sklearn\\linear_model\\_sag.py:350: ConvergenceWarning: The max_iter was reached which means the coef_ did not converge\n",
      "  warnings.warn(\n",
      "c:\\Users\\martj\\miniconda3\\envs\\py38\\lib\\site-packages\\sklearn\\linear_model\\_sag.py:350: ConvergenceWarning: The max_iter was reached which means the coef_ did not converge\n",
      "  warnings.warn(\n",
      "c:\\Users\\martj\\miniconda3\\envs\\py38\\lib\\site-packages\\sklearn\\linear_model\\_sag.py:350: ConvergenceWarning: The max_iter was reached which means the coef_ did not converge\n",
      "  warnings.warn(\n",
      "c:\\Users\\martj\\miniconda3\\envs\\py38\\lib\\site-packages\\sklearn\\linear_model\\_sag.py:350: ConvergenceWarning: The max_iter was reached which means the coef_ did not converge\n",
      "  warnings.warn(\n",
      "c:\\Users\\martj\\miniconda3\\envs\\py38\\lib\\site-packages\\sklearn\\linear_model\\_sag.py:350: ConvergenceWarning: The max_iter was reached which means the coef_ did not converge\n",
      "  warnings.warn(\n"
     ]
    },
    {
     "name": "stdout",
     "output_type": "stream",
     "text": [
      "[CV] END C=1000, fit_intercept=True, max_iter=100, penalty=l2, solver=sag; total time=   0.0s\n",
      "[CV] END C=1000, fit_intercept=True, max_iter=100, penalty=l2, solver=sag; total time=   0.0s\n",
      "[CV] END C=1000, fit_intercept=True, max_iter=100, penalty=l2, solver=sag; total time=   0.0s\n",
      "[CV] END C=1000, fit_intercept=True, max_iter=100, penalty=l2, solver=sag; total time=   0.0s\n",
      "[CV] END C=1000, fit_intercept=True, max_iter=100, penalty=l2, solver=sag; total time=   0.0s\n",
      "[CV] END C=1000, fit_intercept=True, max_iter=100, penalty=l2, solver=saga; total time=   0.0s\n",
      "[CV] END C=1000, fit_intercept=True, max_iter=100, penalty=l2, solver=saga; total time=   0.0s\n",
      "[CV] END C=1000, fit_intercept=True, max_iter=100, penalty=l2, solver=saga; total time=   0.0s\n",
      "[CV] END C=1000, fit_intercept=True, max_iter=100, penalty=l2, solver=saga; total time=   0.0s\n"
     ]
    },
    {
     "name": "stderr",
     "output_type": "stream",
     "text": [
      "c:\\Users\\martj\\miniconda3\\envs\\py38\\lib\\site-packages\\sklearn\\linear_model\\_sag.py:350: ConvergenceWarning: The max_iter was reached which means the coef_ did not converge\n",
      "  warnings.warn(\n"
     ]
    },
    {
     "name": "stdout",
     "output_type": "stream",
     "text": [
      "[CV] END C=1000, fit_intercept=True, max_iter=100, penalty=l2, solver=saga; total time=   0.0s\n",
      "[CV] END C=1000, fit_intercept=True, max_iter=200, penalty=l1, solver=newton-cg; total time=   0.0s\n",
      "[CV] END C=1000, fit_intercept=True, max_iter=200, penalty=l1, solver=newton-cg; total time=   0.0s\n",
      "[CV] END C=1000, fit_intercept=True, max_iter=200, penalty=l1, solver=newton-cg; total time=   0.0s\n",
      "[CV] END C=1000, fit_intercept=True, max_iter=200, penalty=l1, solver=newton-cg; total time=   0.0s\n",
      "[CV] END C=1000, fit_intercept=True, max_iter=200, penalty=l1, solver=newton-cg; total time=   0.0s\n",
      "[CV] END C=1000, fit_intercept=True, max_iter=200, penalty=l1, solver=lbfgs; total time=   0.0s\n",
      "[CV] END C=1000, fit_intercept=True, max_iter=200, penalty=l1, solver=lbfgs; total time=   0.0s\n",
      "[CV] END C=1000, fit_intercept=True, max_iter=200, penalty=l1, solver=lbfgs; total time=   0.0s\n",
      "[CV] END C=1000, fit_intercept=True, max_iter=200, penalty=l1, solver=lbfgs; total time=   0.0s\n",
      "[CV] END C=1000, fit_intercept=True, max_iter=200, penalty=l1, solver=lbfgs; total time=   0.0s\n",
      "[CV] END C=1000, fit_intercept=True, max_iter=200, penalty=l1, solver=liblinear; total time=   0.0s\n",
      "[CV] END C=1000, fit_intercept=True, max_iter=200, penalty=l1, solver=liblinear; total time=   0.0s\n",
      "[CV] END C=1000, fit_intercept=True, max_iter=200, penalty=l1, solver=liblinear; total time=   0.0s\n",
      "[CV] END C=1000, fit_intercept=True, max_iter=200, penalty=l1, solver=liblinear; total time=   0.0s\n",
      "[CV] END C=1000, fit_intercept=True, max_iter=200, penalty=l1, solver=liblinear; total time=   0.0s\n",
      "[CV] END C=1000, fit_intercept=True, max_iter=200, penalty=l1, solver=sag; total time=   0.0s\n",
      "[CV] END C=1000, fit_intercept=True, max_iter=200, penalty=l1, solver=sag; total time=   0.0s\n",
      "[CV] END C=1000, fit_intercept=True, max_iter=200, penalty=l1, solver=sag; total time=   0.0s\n",
      "[CV] END C=1000, fit_intercept=True, max_iter=200, penalty=l1, solver=sag; total time=   0.0s\n",
      "[CV] END C=1000, fit_intercept=True, max_iter=200, penalty=l1, solver=sag; total time=   0.0s\n",
      "[CV] END C=1000, fit_intercept=True, max_iter=200, penalty=l1, solver=saga; total time=   0.0s\n"
     ]
    },
    {
     "name": "stderr",
     "output_type": "stream",
     "text": [
      "c:\\Users\\martj\\miniconda3\\envs\\py38\\lib\\site-packages\\sklearn\\linear_model\\_sag.py:350: ConvergenceWarning: The max_iter was reached which means the coef_ did not converge\n",
      "  warnings.warn(\n",
      "c:\\Users\\martj\\miniconda3\\envs\\py38\\lib\\site-packages\\sklearn\\linear_model\\_sag.py:350: ConvergenceWarning: The max_iter was reached which means the coef_ did not converge\n",
      "  warnings.warn(\n",
      "c:\\Users\\martj\\miniconda3\\envs\\py38\\lib\\site-packages\\sklearn\\linear_model\\_sag.py:350: ConvergenceWarning: The max_iter was reached which means the coef_ did not converge\n",
      "  warnings.warn(\n",
      "c:\\Users\\martj\\miniconda3\\envs\\py38\\lib\\site-packages\\sklearn\\linear_model\\_sag.py:350: ConvergenceWarning: The max_iter was reached which means the coef_ did not converge\n",
      "  warnings.warn(\n",
      "c:\\Users\\martj\\miniconda3\\envs\\py38\\lib\\site-packages\\sklearn\\linear_model\\_sag.py:350: ConvergenceWarning: The max_iter was reached which means the coef_ did not converge\n",
      "  warnings.warn(\n"
     ]
    },
    {
     "name": "stdout",
     "output_type": "stream",
     "text": [
      "[CV] END C=1000, fit_intercept=True, max_iter=200, penalty=l1, solver=saga; total time=   0.0s\n",
      "[CV] END C=1000, fit_intercept=True, max_iter=200, penalty=l1, solver=saga; total time=   0.0s\n",
      "[CV] END C=1000, fit_intercept=True, max_iter=200, penalty=l1, solver=saga; total time=   0.0s\n",
      "[CV] END C=1000, fit_intercept=True, max_iter=200, penalty=l1, solver=saga; total time=   0.0s\n",
      "[CV] END C=1000, fit_intercept=True, max_iter=200, penalty=l2, solver=newton-cg; total time=   0.0s\n",
      "[CV] END C=1000, fit_intercept=True, max_iter=200, penalty=l2, solver=newton-cg; total time=   0.0s\n",
      "[CV] END C=1000, fit_intercept=True, max_iter=200, penalty=l2, solver=newton-cg; total time=   0.0s\n",
      "[CV] END C=1000, fit_intercept=True, max_iter=200, penalty=l2, solver=newton-cg; total time=   0.0s\n",
      "[CV] END C=1000, fit_intercept=True, max_iter=200, penalty=l2, solver=newton-cg; total time=   0.0s\n",
      "[CV] END C=1000, fit_intercept=True, max_iter=200, penalty=l2, solver=lbfgs; total time=   0.0s\n",
      "[CV] END C=1000, fit_intercept=True, max_iter=200, penalty=l2, solver=lbfgs; total time=   0.0s\n",
      "[CV] END C=1000, fit_intercept=True, max_iter=200, penalty=l2, solver=lbfgs; total time=   0.0s\n",
      "[CV] END C=1000, fit_intercept=True, max_iter=200, penalty=l2, solver=lbfgs; total time=   0.0s\n",
      "[CV] END C=1000, fit_intercept=True, max_iter=200, penalty=l2, solver=lbfgs; total time=   0.0s\n",
      "[CV] END C=1000, fit_intercept=True, max_iter=200, penalty=l2, solver=liblinear; total time=   0.0s\n",
      "[CV] END C=1000, fit_intercept=True, max_iter=200, penalty=l2, solver=liblinear; total time=   0.0s\n",
      "[CV] END C=1000, fit_intercept=True, max_iter=200, penalty=l2, solver=liblinear; total time=   0.0s\n",
      "[CV] END C=1000, fit_intercept=True, max_iter=200, penalty=l2, solver=liblinear; total time=   0.0s\n",
      "[CV] END C=1000, fit_intercept=True, max_iter=200, penalty=l2, solver=liblinear; total time=   0.0s\n",
      "[CV] END C=1000, fit_intercept=True, max_iter=200, penalty=l2, solver=sag; total time=   0.0s\n"
     ]
    },
    {
     "name": "stderr",
     "output_type": "stream",
     "text": [
      "c:\\Users\\martj\\miniconda3\\envs\\py38\\lib\\site-packages\\sklearn\\linear_model\\_sag.py:350: ConvergenceWarning: The max_iter was reached which means the coef_ did not converge\n",
      "  warnings.warn(\n",
      "c:\\Users\\martj\\miniconda3\\envs\\py38\\lib\\site-packages\\sklearn\\linear_model\\_sag.py:350: ConvergenceWarning: The max_iter was reached which means the coef_ did not converge\n",
      "  warnings.warn(\n",
      "c:\\Users\\martj\\miniconda3\\envs\\py38\\lib\\site-packages\\sklearn\\linear_model\\_sag.py:350: ConvergenceWarning: The max_iter was reached which means the coef_ did not converge\n",
      "  warnings.warn(\n",
      "c:\\Users\\martj\\miniconda3\\envs\\py38\\lib\\site-packages\\sklearn\\linear_model\\_sag.py:350: ConvergenceWarning: The max_iter was reached which means the coef_ did not converge\n",
      "  warnings.warn(\n",
      "c:\\Users\\martj\\miniconda3\\envs\\py38\\lib\\site-packages\\sklearn\\linear_model\\_sag.py:350: ConvergenceWarning: The max_iter was reached which means the coef_ did not converge\n",
      "  warnings.warn(\n"
     ]
    },
    {
     "name": "stdout",
     "output_type": "stream",
     "text": [
      "[CV] END C=1000, fit_intercept=True, max_iter=200, penalty=l2, solver=sag; total time=   0.0s\n",
      "[CV] END C=1000, fit_intercept=True, max_iter=200, penalty=l2, solver=sag; total time=   0.0s\n",
      "[CV] END C=1000, fit_intercept=True, max_iter=200, penalty=l2, solver=sag; total time=   0.0s\n",
      "[CV] END C=1000, fit_intercept=True, max_iter=200, penalty=l2, solver=sag; total time=   0.0s\n",
      "[CV] END C=1000, fit_intercept=True, max_iter=200, penalty=l2, solver=saga; total time=   0.0s\n"
     ]
    },
    {
     "name": "stderr",
     "output_type": "stream",
     "text": [
      "c:\\Users\\martj\\miniconda3\\envs\\py38\\lib\\site-packages\\sklearn\\linear_model\\_sag.py:350: ConvergenceWarning: The max_iter was reached which means the coef_ did not converge\n",
      "  warnings.warn(\n",
      "c:\\Users\\martj\\miniconda3\\envs\\py38\\lib\\site-packages\\sklearn\\linear_model\\_sag.py:350: ConvergenceWarning: The max_iter was reached which means the coef_ did not converge\n",
      "  warnings.warn(\n",
      "c:\\Users\\martj\\miniconda3\\envs\\py38\\lib\\site-packages\\sklearn\\linear_model\\_sag.py:350: ConvergenceWarning: The max_iter was reached which means the coef_ did not converge\n",
      "  warnings.warn(\n",
      "c:\\Users\\martj\\miniconda3\\envs\\py38\\lib\\site-packages\\sklearn\\linear_model\\_sag.py:350: ConvergenceWarning: The max_iter was reached which means the coef_ did not converge\n",
      "  warnings.warn(\n",
      "c:\\Users\\martj\\miniconda3\\envs\\py38\\lib\\site-packages\\sklearn\\linear_model\\_sag.py:350: ConvergenceWarning: The max_iter was reached which means the coef_ did not converge\n",
      "  warnings.warn(\n"
     ]
    },
    {
     "name": "stdout",
     "output_type": "stream",
     "text": [
      "[CV] END C=1000, fit_intercept=True, max_iter=200, penalty=l2, solver=saga; total time=   0.0s\n",
      "[CV] END C=1000, fit_intercept=True, max_iter=200, penalty=l2, solver=saga; total time=   0.0s\n",
      "[CV] END C=1000, fit_intercept=True, max_iter=200, penalty=l2, solver=saga; total time=   0.0s\n",
      "[CV] END C=1000, fit_intercept=True, max_iter=200, penalty=l2, solver=saga; total time=   0.0s\n",
      "[CV] END C=1000, fit_intercept=True, max_iter=500, penalty=l1, solver=newton-cg; total time=   0.0s\n",
      "[CV] END C=1000, fit_intercept=True, max_iter=500, penalty=l1, solver=newton-cg; total time=   0.0s\n",
      "[CV] END C=1000, fit_intercept=True, max_iter=500, penalty=l1, solver=newton-cg; total time=   0.0s\n",
      "[CV] END C=1000, fit_intercept=True, max_iter=500, penalty=l1, solver=newton-cg; total time=   0.0s\n",
      "[CV] END C=1000, fit_intercept=True, max_iter=500, penalty=l1, solver=newton-cg; total time=   0.0s\n",
      "[CV] END C=1000, fit_intercept=True, max_iter=500, penalty=l1, solver=lbfgs; total time=   0.0s\n",
      "[CV] END C=1000, fit_intercept=True, max_iter=500, penalty=l1, solver=lbfgs; total time=   0.0s\n",
      "[CV] END C=1000, fit_intercept=True, max_iter=500, penalty=l1, solver=lbfgs; total time=   0.0s\n",
      "[CV] END C=1000, fit_intercept=True, max_iter=500, penalty=l1, solver=lbfgs; total time=   0.0s\n",
      "[CV] END C=1000, fit_intercept=True, max_iter=500, penalty=l1, solver=lbfgs; total time=   0.0s\n",
      "[CV] END C=1000, fit_intercept=True, max_iter=500, penalty=l1, solver=liblinear; total time=   0.0s\n",
      "[CV] END C=1000, fit_intercept=True, max_iter=500, penalty=l1, solver=liblinear; total time=   0.0s\n",
      "[CV] END C=1000, fit_intercept=True, max_iter=500, penalty=l1, solver=liblinear; total time=   0.0s\n",
      "[CV] END C=1000, fit_intercept=True, max_iter=500, penalty=l1, solver=liblinear; total time=   0.0s\n",
      "[CV] END C=1000, fit_intercept=True, max_iter=500, penalty=l1, solver=liblinear; total time=   0.0s\n",
      "[CV] END C=1000, fit_intercept=True, max_iter=500, penalty=l1, solver=sag; total time=   0.0s\n",
      "[CV] END C=1000, fit_intercept=True, max_iter=500, penalty=l1, solver=sag; total time=   0.0s\n",
      "[CV] END C=1000, fit_intercept=True, max_iter=500, penalty=l1, solver=sag; total time=   0.0s\n",
      "[CV] END C=1000, fit_intercept=True, max_iter=500, penalty=l1, solver=sag; total time=   0.0s\n",
      "[CV] END C=1000, fit_intercept=True, max_iter=500, penalty=l1, solver=sag; total time=   0.0s\n",
      "[CV] END C=1000, fit_intercept=True, max_iter=500, penalty=l1, solver=saga; total time=   0.0s\n"
     ]
    },
    {
     "name": "stderr",
     "output_type": "stream",
     "text": [
      "c:\\Users\\martj\\miniconda3\\envs\\py38\\lib\\site-packages\\sklearn\\linear_model\\_sag.py:350: ConvergenceWarning: The max_iter was reached which means the coef_ did not converge\n",
      "  warnings.warn(\n",
      "c:\\Users\\martj\\miniconda3\\envs\\py38\\lib\\site-packages\\sklearn\\linear_model\\_sag.py:350: ConvergenceWarning: The max_iter was reached which means the coef_ did not converge\n",
      "  warnings.warn(\n"
     ]
    },
    {
     "name": "stdout",
     "output_type": "stream",
     "text": [
      "[CV] END C=1000, fit_intercept=True, max_iter=500, penalty=l1, solver=saga; total time=   0.0s\n",
      "[CV] END C=1000, fit_intercept=True, max_iter=500, penalty=l1, solver=saga; total time=   0.0s\n",
      "[CV] END C=1000, fit_intercept=True, max_iter=500, penalty=l1, solver=saga; total time=   0.0s\n"
     ]
    },
    {
     "name": "stderr",
     "output_type": "stream",
     "text": [
      "c:\\Users\\martj\\miniconda3\\envs\\py38\\lib\\site-packages\\sklearn\\linear_model\\_sag.py:350: ConvergenceWarning: The max_iter was reached which means the coef_ did not converge\n",
      "  warnings.warn(\n",
      "c:\\Users\\martj\\miniconda3\\envs\\py38\\lib\\site-packages\\sklearn\\linear_model\\_sag.py:350: ConvergenceWarning: The max_iter was reached which means the coef_ did not converge\n",
      "  warnings.warn(\n",
      "c:\\Users\\martj\\miniconda3\\envs\\py38\\lib\\site-packages\\sklearn\\linear_model\\_sag.py:350: ConvergenceWarning: The max_iter was reached which means the coef_ did not converge\n",
      "  warnings.warn(\n"
     ]
    },
    {
     "name": "stdout",
     "output_type": "stream",
     "text": [
      "[CV] END C=1000, fit_intercept=True, max_iter=500, penalty=l1, solver=saga; total time=   0.0s\n",
      "[CV] END C=1000, fit_intercept=True, max_iter=500, penalty=l2, solver=newton-cg; total time=   0.0s\n",
      "[CV] END C=1000, fit_intercept=True, max_iter=500, penalty=l2, solver=newton-cg; total time=   0.0s\n",
      "[CV] END C=1000, fit_intercept=True, max_iter=500, penalty=l2, solver=newton-cg; total time=   0.0s\n",
      "[CV] END C=1000, fit_intercept=True, max_iter=500, penalty=l2, solver=newton-cg; total time=   0.0s\n",
      "[CV] END C=1000, fit_intercept=True, max_iter=500, penalty=l2, solver=newton-cg; total time=   0.0s\n",
      "[CV] END C=1000, fit_intercept=True, max_iter=500, penalty=l2, solver=lbfgs; total time=   0.0s\n",
      "[CV] END C=1000, fit_intercept=True, max_iter=500, penalty=l2, solver=lbfgs; total time=   0.0s\n",
      "[CV] END C=1000, fit_intercept=True, max_iter=500, penalty=l2, solver=lbfgs; total time=   0.0s\n",
      "[CV] END C=1000, fit_intercept=True, max_iter=500, penalty=l2, solver=lbfgs; total time=   0.0s\n",
      "[CV] END C=1000, fit_intercept=True, max_iter=500, penalty=l2, solver=lbfgs; total time=   0.0s\n",
      "[CV] END C=1000, fit_intercept=True, max_iter=500, penalty=l2, solver=liblinear; total time=   0.0s\n",
      "[CV] END C=1000, fit_intercept=True, max_iter=500, penalty=l2, solver=liblinear; total time=   0.0s\n",
      "[CV] END C=1000, fit_intercept=True, max_iter=500, penalty=l2, solver=liblinear; total time=   0.0s\n",
      "[CV] END C=1000, fit_intercept=True, max_iter=500, penalty=l2, solver=liblinear; total time=   0.0s\n",
      "[CV] END C=1000, fit_intercept=True, max_iter=500, penalty=l2, solver=liblinear; total time=   0.0s\n"
     ]
    },
    {
     "name": "stderr",
     "output_type": "stream",
     "text": [
      "c:\\Users\\martj\\miniconda3\\envs\\py38\\lib\\site-packages\\sklearn\\linear_model\\_sag.py:350: ConvergenceWarning: The max_iter was reached which means the coef_ did not converge\n",
      "  warnings.warn(\n",
      "c:\\Users\\martj\\miniconda3\\envs\\py38\\lib\\site-packages\\sklearn\\linear_model\\_sag.py:350: ConvergenceWarning: The max_iter was reached which means the coef_ did not converge\n",
      "  warnings.warn(\n",
      "c:\\Users\\martj\\miniconda3\\envs\\py38\\lib\\site-packages\\sklearn\\linear_model\\_sag.py:350: ConvergenceWarning: The max_iter was reached which means the coef_ did not converge\n",
      "  warnings.warn(\n"
     ]
    },
    {
     "name": "stdout",
     "output_type": "stream",
     "text": [
      "[CV] END C=1000, fit_intercept=True, max_iter=500, penalty=l2, solver=sag; total time=   0.0s\n",
      "[CV] END C=1000, fit_intercept=True, max_iter=500, penalty=l2, solver=sag; total time=   0.0s\n",
      "[CV] END C=1000, fit_intercept=True, max_iter=500, penalty=l2, solver=sag; total time=   0.0s\n"
     ]
    },
    {
     "name": "stderr",
     "output_type": "stream",
     "text": [
      "c:\\Users\\martj\\miniconda3\\envs\\py38\\lib\\site-packages\\sklearn\\linear_model\\_sag.py:350: ConvergenceWarning: The max_iter was reached which means the coef_ did not converge\n",
      "  warnings.warn(\n",
      "c:\\Users\\martj\\miniconda3\\envs\\py38\\lib\\site-packages\\sklearn\\linear_model\\_sag.py:350: ConvergenceWarning: The max_iter was reached which means the coef_ did not converge\n",
      "  warnings.warn(\n",
      "c:\\Users\\martj\\miniconda3\\envs\\py38\\lib\\site-packages\\sklearn\\linear_model\\_sag.py:350: ConvergenceWarning: The max_iter was reached which means the coef_ did not converge\n",
      "  warnings.warn(\n"
     ]
    },
    {
     "name": "stdout",
     "output_type": "stream",
     "text": [
      "[CV] END C=1000, fit_intercept=True, max_iter=500, penalty=l2, solver=sag; total time=   0.0s\n",
      "[CV] END C=1000, fit_intercept=True, max_iter=500, penalty=l2, solver=sag; total time=   0.0s\n",
      "[CV] END C=1000, fit_intercept=True, max_iter=500, penalty=l2, solver=saga; total time=   0.0s\n"
     ]
    },
    {
     "name": "stderr",
     "output_type": "stream",
     "text": [
      "c:\\Users\\martj\\miniconda3\\envs\\py38\\lib\\site-packages\\sklearn\\linear_model\\_sag.py:350: ConvergenceWarning: The max_iter was reached which means the coef_ did not converge\n",
      "  warnings.warn(\n",
      "c:\\Users\\martj\\miniconda3\\envs\\py38\\lib\\site-packages\\sklearn\\linear_model\\_sag.py:350: ConvergenceWarning: The max_iter was reached which means the coef_ did not converge\n",
      "  warnings.warn(\n",
      "c:\\Users\\martj\\miniconda3\\envs\\py38\\lib\\site-packages\\sklearn\\linear_model\\_sag.py:350: ConvergenceWarning: The max_iter was reached which means the coef_ did not converge\n",
      "  warnings.warn(\n"
     ]
    },
    {
     "name": "stdout",
     "output_type": "stream",
     "text": [
      "[CV] END C=1000, fit_intercept=True, max_iter=500, penalty=l2, solver=saga; total time=   0.0s\n",
      "[CV] END C=1000, fit_intercept=True, max_iter=500, penalty=l2, solver=saga; total time=   0.0s\n",
      "[CV] END C=1000, fit_intercept=True, max_iter=500, penalty=l2, solver=saga; total time=   0.0s\n"
     ]
    },
    {
     "name": "stderr",
     "output_type": "stream",
     "text": [
      "c:\\Users\\martj\\miniconda3\\envs\\py38\\lib\\site-packages\\sklearn\\linear_model\\_sag.py:350: ConvergenceWarning: The max_iter was reached which means the coef_ did not converge\n",
      "  warnings.warn(\n",
      "c:\\Users\\martj\\miniconda3\\envs\\py38\\lib\\site-packages\\sklearn\\linear_model\\_sag.py:350: ConvergenceWarning: The max_iter was reached which means the coef_ did not converge\n",
      "  warnings.warn(\n",
      "c:\\Users\\martj\\miniconda3\\envs\\py38\\lib\\site-packages\\sklearn\\linear_model\\_sag.py:350: ConvergenceWarning: The max_iter was reached which means the coef_ did not converge\n",
      "  warnings.warn(\n",
      "c:\\Users\\martj\\miniconda3\\envs\\py38\\lib\\site-packages\\sklearn\\linear_model\\_sag.py:350: ConvergenceWarning: The max_iter was reached which means the coef_ did not converge\n",
      "  warnings.warn(\n",
      "c:\\Users\\martj\\miniconda3\\envs\\py38\\lib\\site-packages\\sklearn\\linear_model\\_sag.py:350: ConvergenceWarning: The max_iter was reached which means the coef_ did not converge\n",
      "  warnings.warn(\n",
      "c:\\Users\\martj\\miniconda3\\envs\\py38\\lib\\site-packages\\sklearn\\linear_model\\_sag.py:350: ConvergenceWarning: The max_iter was reached which means the coef_ did not converge\n",
      "  warnings.warn(\n"
     ]
    },
    {
     "name": "stdout",
     "output_type": "stream",
     "text": [
      "[CV] END C=1000, fit_intercept=True, max_iter=500, penalty=l2, solver=saga; total time=   0.0s\n",
      "[CV] END C=1000, fit_intercept=False, max_iter=50, penalty=l1, solver=newton-cg; total time=   0.0s\n",
      "[CV] END C=1000, fit_intercept=False, max_iter=50, penalty=l1, solver=newton-cg; total time=   0.0s\n",
      "[CV] END C=1000, fit_intercept=False, max_iter=50, penalty=l1, solver=newton-cg; total time=   0.0s\n",
      "[CV] END C=1000, fit_intercept=False, max_iter=50, penalty=l1, solver=newton-cg; total time=   0.0s\n",
      "[CV] END C=1000, fit_intercept=False, max_iter=50, penalty=l1, solver=newton-cg; total time=   0.0s\n",
      "[CV] END C=1000, fit_intercept=False, max_iter=50, penalty=l1, solver=lbfgs; total time=   0.0s\n",
      "[CV] END C=1000, fit_intercept=False, max_iter=50, penalty=l1, solver=lbfgs; total time=   0.0s\n",
      "[CV] END C=1000, fit_intercept=False, max_iter=50, penalty=l1, solver=lbfgs; total time=   0.0s\n",
      "[CV] END C=1000, fit_intercept=False, max_iter=50, penalty=l1, solver=lbfgs; total time=   0.0s\n",
      "[CV] END C=1000, fit_intercept=False, max_iter=50, penalty=l1, solver=lbfgs; total time=   0.0s\n",
      "[CV] END C=1000, fit_intercept=False, max_iter=50, penalty=l1, solver=liblinear; total time=   0.0s\n",
      "[CV] END C=1000, fit_intercept=False, max_iter=50, penalty=l1, solver=liblinear; total time=   0.0s\n",
      "[CV] END C=1000, fit_intercept=False, max_iter=50, penalty=l1, solver=liblinear; total time=   0.0s\n",
      "[CV] END C=1000, fit_intercept=False, max_iter=50, penalty=l1, solver=liblinear; total time=   0.0s\n",
      "[CV] END C=1000, fit_intercept=False, max_iter=50, penalty=l1, solver=liblinear; total time=   0.0s\n",
      "[CV] END C=1000, fit_intercept=False, max_iter=50, penalty=l1, solver=sag; total time=   0.0s\n",
      "[CV] END C=1000, fit_intercept=False, max_iter=50, penalty=l1, solver=sag; total time=   0.0s\n",
      "[CV] END C=1000, fit_intercept=False, max_iter=50, penalty=l1, solver=sag; total time=   0.0s\n",
      "[CV] END C=1000, fit_intercept=False, max_iter=50, penalty=l1, solver=sag; total time=   0.0s\n",
      "[CV] END C=1000, fit_intercept=False, max_iter=50, penalty=l1, solver=sag; total time=   0.0s\n",
      "[CV] END C=1000, fit_intercept=False, max_iter=50, penalty=l1, solver=saga; total time=   0.0s\n",
      "[CV] END C=1000, fit_intercept=False, max_iter=50, penalty=l1, solver=saga; total time=   0.0s\n",
      "[CV] END C=1000, fit_intercept=False, max_iter=50, penalty=l1, solver=saga; total time=   0.0s\n",
      "[CV] END C=1000, fit_intercept=False, max_iter=50, penalty=l1, solver=saga; total time=   0.0s\n",
      "[CV] END C=1000, fit_intercept=False, max_iter=50, penalty=l1, solver=saga; total time=   0.0s\n",
      "[CV] END C=1000, fit_intercept=False, max_iter=50, penalty=l2, solver=newton-cg; total time=   0.0s\n",
      "[CV] END C=1000, fit_intercept=False, max_iter=50, penalty=l2, solver=newton-cg; total time=   0.0s\n",
      "[CV] END C=1000, fit_intercept=False, max_iter=50, penalty=l2, solver=newton-cg; total time=   0.0s\n",
      "[CV] END C=1000, fit_intercept=False, max_iter=50, penalty=l2, solver=newton-cg; total time=   0.0s\n",
      "[CV] END C=1000, fit_intercept=False, max_iter=50, penalty=l2, solver=newton-cg; total time=   0.0s\n",
      "[CV] END C=1000, fit_intercept=False, max_iter=50, penalty=l2, solver=lbfgs; total time=   0.0s\n",
      "[CV] END C=1000, fit_intercept=False, max_iter=50, penalty=l2, solver=lbfgs; total time=   0.0s\n",
      "[CV] END C=1000, fit_intercept=False, max_iter=50, penalty=l2, solver=lbfgs; total time=   0.0s\n",
      "[CV] END C=1000, fit_intercept=False, max_iter=50, penalty=l2, solver=lbfgs; total time=   0.0s\n",
      "[CV] END C=1000, fit_intercept=False, max_iter=50, penalty=l2, solver=lbfgs; total time=   0.0s\n",
      "[CV] END C=1000, fit_intercept=False, max_iter=50, penalty=l2, solver=liblinear; total time=   0.0s\n",
      "[CV] END C=1000, fit_intercept=False, max_iter=50, penalty=l2, solver=liblinear; total time=   0.0s\n"
     ]
    },
    {
     "name": "stderr",
     "output_type": "stream",
     "text": [
      "c:\\Users\\martj\\miniconda3\\envs\\py38\\lib\\site-packages\\sklearn\\linear_model\\_logistic.py:460: ConvergenceWarning: lbfgs failed to converge (status=1):\n",
      "STOP: TOTAL NO. of ITERATIONS REACHED LIMIT.\n",
      "\n",
      "Increase the number of iterations (max_iter) or scale the data as shown in:\n",
      "    https://scikit-learn.org/stable/modules/preprocessing.html\n",
      "Please also refer to the documentation for alternative solver options:\n",
      "    https://scikit-learn.org/stable/modules/linear_model.html#logistic-regression\n",
      "  n_iter_i = _check_optimize_result(\n",
      "c:\\Users\\martj\\miniconda3\\envs\\py38\\lib\\site-packages\\sklearn\\linear_model\\_logistic.py:460: ConvergenceWarning: lbfgs failed to converge (status=1):\n",
      "STOP: TOTAL NO. of ITERATIONS REACHED LIMIT.\n",
      "\n",
      "Increase the number of iterations (max_iter) or scale the data as shown in:\n",
      "    https://scikit-learn.org/stable/modules/preprocessing.html\n",
      "Please also refer to the documentation for alternative solver options:\n",
      "    https://scikit-learn.org/stable/modules/linear_model.html#logistic-regression\n",
      "  n_iter_i = _check_optimize_result(\n",
      "c:\\Users\\martj\\miniconda3\\envs\\py38\\lib\\site-packages\\sklearn\\linear_model\\_logistic.py:460: ConvergenceWarning: lbfgs failed to converge (status=1):\n",
      "STOP: TOTAL NO. of ITERATIONS REACHED LIMIT.\n",
      "\n",
      "Increase the number of iterations (max_iter) or scale the data as shown in:\n",
      "    https://scikit-learn.org/stable/modules/preprocessing.html\n",
      "Please also refer to the documentation for alternative solver options:\n",
      "    https://scikit-learn.org/stable/modules/linear_model.html#logistic-regression\n",
      "  n_iter_i = _check_optimize_result(\n",
      "c:\\Users\\martj\\miniconda3\\envs\\py38\\lib\\site-packages\\sklearn\\linear_model\\_logistic.py:460: ConvergenceWarning: lbfgs failed to converge (status=1):\n",
      "STOP: TOTAL NO. of ITERATIONS REACHED LIMIT.\n",
      "\n",
      "Increase the number of iterations (max_iter) or scale the data as shown in:\n",
      "    https://scikit-learn.org/stable/modules/preprocessing.html\n",
      "Please also refer to the documentation for alternative solver options:\n",
      "    https://scikit-learn.org/stable/modules/linear_model.html#logistic-regression\n",
      "  n_iter_i = _check_optimize_result(\n",
      "c:\\Users\\martj\\miniconda3\\envs\\py38\\lib\\site-packages\\sklearn\\linear_model\\_logistic.py:460: ConvergenceWarning: lbfgs failed to converge (status=1):\n",
      "STOP: TOTAL NO. of ITERATIONS REACHED LIMIT.\n",
      "\n",
      "Increase the number of iterations (max_iter) or scale the data as shown in:\n",
      "    https://scikit-learn.org/stable/modules/preprocessing.html\n",
      "Please also refer to the documentation for alternative solver options:\n",
      "    https://scikit-learn.org/stable/modules/linear_model.html#logistic-regression\n",
      "  n_iter_i = _check_optimize_result(\n",
      "c:\\Users\\martj\\miniconda3\\envs\\py38\\lib\\site-packages\\sklearn\\linear_model\\_sag.py:350: ConvergenceWarning: The max_iter was reached which means the coef_ did not converge\n",
      "  warnings.warn(\n",
      "c:\\Users\\martj\\miniconda3\\envs\\py38\\lib\\site-packages\\sklearn\\linear_model\\_sag.py:350: ConvergenceWarning: The max_iter was reached which means the coef_ did not converge\n",
      "  warnings.warn(\n",
      "c:\\Users\\martj\\miniconda3\\envs\\py38\\lib\\site-packages\\sklearn\\linear_model\\_sag.py:350: ConvergenceWarning: The max_iter was reached which means the coef_ did not converge\n",
      "  warnings.warn(\n",
      "c:\\Users\\martj\\miniconda3\\envs\\py38\\lib\\site-packages\\sklearn\\linear_model\\_sag.py:350: ConvergenceWarning: The max_iter was reached which means the coef_ did not converge\n",
      "  warnings.warn(\n"
     ]
    },
    {
     "name": "stdout",
     "output_type": "stream",
     "text": [
      "[CV] END C=1000, fit_intercept=False, max_iter=50, penalty=l2, solver=liblinear; total time=   0.0s\n",
      "[CV] END C=1000, fit_intercept=False, max_iter=50, penalty=l2, solver=liblinear; total time=   0.0s\n",
      "[CV] END C=1000, fit_intercept=False, max_iter=50, penalty=l2, solver=liblinear; total time=   0.0s\n",
      "[CV] END C=1000, fit_intercept=False, max_iter=50, penalty=l2, solver=sag; total time=   0.0s\n",
      "[CV] END C=1000, fit_intercept=False, max_iter=50, penalty=l2, solver=sag; total time=   0.0s\n",
      "[CV] END C=1000, fit_intercept=False, max_iter=50, penalty=l2, solver=sag; total time=   0.0s\n",
      "[CV] END C=1000, fit_intercept=False, max_iter=50, penalty=l2, solver=sag; total time=   0.0s\n",
      "[CV] END C=1000, fit_intercept=False, max_iter=50, penalty=l2, solver=sag; total time=   0.0s\n",
      "[CV] END C=1000, fit_intercept=False, max_iter=50, penalty=l2, solver=saga; total time=   0.0s\n",
      "[CV] END C=1000, fit_intercept=False, max_iter=50, penalty=l2, solver=saga; total time=   0.0s\n",
      "[CV] END C=1000, fit_intercept=False, max_iter=50, penalty=l2, solver=saga; total time=   0.0s\n",
      "[CV] END C=1000, fit_intercept=False, max_iter=50, penalty=l2, solver=saga; total time=   0.0s\n",
      "[CV] END C=1000, fit_intercept=False, max_iter=50, penalty=l2, solver=saga; total time=   0.0s\n",
      "[CV] END C=1000, fit_intercept=False, max_iter=100, penalty=l1, solver=newton-cg; total time=   0.0s\n",
      "[CV] END C=1000, fit_intercept=False, max_iter=100, penalty=l1, solver=newton-cg; total time=   0.0s\n",
      "[CV] END C=1000, fit_intercept=False, max_iter=100, penalty=l1, solver=newton-cg; total time=   0.0s\n",
      "[CV] END C=1000, fit_intercept=False, max_iter=100, penalty=l1, solver=newton-cg; total time=   0.0s\n",
      "[CV] END C=1000, fit_intercept=False, max_iter=100, penalty=l1, solver=newton-cg; total time=   0.0s\n",
      "[CV] END C=1000, fit_intercept=False, max_iter=100, penalty=l1, solver=lbfgs; total time=   0.0s\n",
      "[CV] END C=1000, fit_intercept=False, max_iter=100, penalty=l1, solver=lbfgs; total time=   0.0s\n",
      "[CV] END C=1000, fit_intercept=False, max_iter=100, penalty=l1, solver=lbfgs; total time=   0.0s\n",
      "[CV] END C=1000, fit_intercept=False, max_iter=100, penalty=l1, solver=lbfgs; total time=   0.0s\n"
     ]
    },
    {
     "name": "stderr",
     "output_type": "stream",
     "text": [
      "c:\\Users\\martj\\miniconda3\\envs\\py38\\lib\\site-packages\\sklearn\\linear_model\\_sag.py:350: ConvergenceWarning: The max_iter was reached which means the coef_ did not converge\n",
      "  warnings.warn(\n",
      "c:\\Users\\martj\\miniconda3\\envs\\py38\\lib\\site-packages\\sklearn\\linear_model\\_sag.py:350: ConvergenceWarning: The max_iter was reached which means the coef_ did not converge\n",
      "  warnings.warn(\n",
      "c:\\Users\\martj\\miniconda3\\envs\\py38\\lib\\site-packages\\sklearn\\linear_model\\_sag.py:350: ConvergenceWarning: The max_iter was reached which means the coef_ did not converge\n",
      "  warnings.warn(\n",
      "c:\\Users\\martj\\miniconda3\\envs\\py38\\lib\\site-packages\\sklearn\\linear_model\\_sag.py:350: ConvergenceWarning: The max_iter was reached which means the coef_ did not converge\n",
      "  warnings.warn(\n",
      "c:\\Users\\martj\\miniconda3\\envs\\py38\\lib\\site-packages\\sklearn\\linear_model\\_sag.py:350: ConvergenceWarning: The max_iter was reached which means the coef_ did not converge\n",
      "  warnings.warn(\n",
      "c:\\Users\\martj\\miniconda3\\envs\\py38\\lib\\site-packages\\sklearn\\linear_model\\_sag.py:350: ConvergenceWarning: The max_iter was reached which means the coef_ did not converge\n",
      "  warnings.warn(\n"
     ]
    },
    {
     "name": "stdout",
     "output_type": "stream",
     "text": [
      "[CV] END C=1000, fit_intercept=False, max_iter=100, penalty=l1, solver=lbfgs; total time=   0.0s\n",
      "[CV] END C=1000, fit_intercept=False, max_iter=100, penalty=l1, solver=liblinear; total time=   0.0s\n",
      "[CV] END C=1000, fit_intercept=False, max_iter=100, penalty=l1, solver=liblinear; total time=   0.0s\n",
      "[CV] END C=1000, fit_intercept=False, max_iter=100, penalty=l1, solver=liblinear; total time=   0.0s\n",
      "[CV] END C=1000, fit_intercept=False, max_iter=100, penalty=l1, solver=liblinear; total time=   0.0s\n",
      "[CV] END C=1000, fit_intercept=False, max_iter=100, penalty=l1, solver=liblinear; total time=   0.0s\n",
      "[CV] END C=1000, fit_intercept=False, max_iter=100, penalty=l1, solver=sag; total time=   0.0s\n",
      "[CV] END C=1000, fit_intercept=False, max_iter=100, penalty=l1, solver=sag; total time=   0.0s\n",
      "[CV] END C=1000, fit_intercept=False, max_iter=100, penalty=l1, solver=sag; total time=   0.0s\n",
      "[CV] END C=1000, fit_intercept=False, max_iter=100, penalty=l1, solver=sag; total time=   0.0s\n",
      "[CV] END C=1000, fit_intercept=False, max_iter=100, penalty=l1, solver=sag; total time=   0.0s\n",
      "[CV] END C=1000, fit_intercept=False, max_iter=100, penalty=l1, solver=saga; total time=   0.0s\n",
      "[CV] END C=1000, fit_intercept=False, max_iter=100, penalty=l1, solver=saga; total time=   0.0s\n",
      "[CV] END C=1000, fit_intercept=False, max_iter=100, penalty=l1, solver=saga; total time=   0.0s\n",
      "[CV] END C=1000, fit_intercept=False, max_iter=100, penalty=l1, solver=saga; total time=   0.0s\n"
     ]
    },
    {
     "name": "stderr",
     "output_type": "stream",
     "text": [
      "c:\\Users\\martj\\miniconda3\\envs\\py38\\lib\\site-packages\\sklearn\\linear_model\\_sag.py:350: ConvergenceWarning: The max_iter was reached which means the coef_ did not converge\n",
      "  warnings.warn(\n",
      "c:\\Users\\martj\\miniconda3\\envs\\py38\\lib\\site-packages\\sklearn\\linear_model\\_sag.py:350: ConvergenceWarning: The max_iter was reached which means the coef_ did not converge\n",
      "  warnings.warn(\n",
      "c:\\Users\\martj\\miniconda3\\envs\\py38\\lib\\site-packages\\sklearn\\linear_model\\_sag.py:350: ConvergenceWarning: The max_iter was reached which means the coef_ did not converge\n",
      "  warnings.warn(\n",
      "c:\\Users\\martj\\miniconda3\\envs\\py38\\lib\\site-packages\\sklearn\\linear_model\\_sag.py:350: ConvergenceWarning: The max_iter was reached which means the coef_ did not converge\n",
      "  warnings.warn(\n",
      "c:\\Users\\martj\\miniconda3\\envs\\py38\\lib\\site-packages\\sklearn\\linear_model\\_sag.py:350: ConvergenceWarning: The max_iter was reached which means the coef_ did not converge\n",
      "  warnings.warn(\n"
     ]
    },
    {
     "name": "stdout",
     "output_type": "stream",
     "text": [
      "[CV] END C=1000, fit_intercept=False, max_iter=100, penalty=l1, solver=saga; total time=   0.0s\n",
      "[CV] END C=1000, fit_intercept=False, max_iter=100, penalty=l2, solver=newton-cg; total time=   0.0s\n",
      "[CV] END C=1000, fit_intercept=False, max_iter=100, penalty=l2, solver=newton-cg; total time=   0.0s\n",
      "[CV] END C=1000, fit_intercept=False, max_iter=100, penalty=l2, solver=newton-cg; total time=   0.0s\n",
      "[CV] END C=1000, fit_intercept=False, max_iter=100, penalty=l2, solver=newton-cg; total time=   0.0s\n",
      "[CV] END C=1000, fit_intercept=False, max_iter=100, penalty=l2, solver=newton-cg; total time=   0.0s\n",
      "[CV] END C=1000, fit_intercept=False, max_iter=100, penalty=l2, solver=lbfgs; total time=   0.0s\n",
      "[CV] END C=1000, fit_intercept=False, max_iter=100, penalty=l2, solver=lbfgs; total time=   0.0s\n",
      "[CV] END C=1000, fit_intercept=False, max_iter=100, penalty=l2, solver=lbfgs; total time=   0.0s\n",
      "[CV] END C=1000, fit_intercept=False, max_iter=100, penalty=l2, solver=lbfgs; total time=   0.0s\n",
      "[CV] END C=1000, fit_intercept=False, max_iter=100, penalty=l2, solver=lbfgs; total time=   0.0s\n",
      "[CV] END C=1000, fit_intercept=False, max_iter=100, penalty=l2, solver=liblinear; total time=   0.0s\n",
      "[CV] END C=1000, fit_intercept=False, max_iter=100, penalty=l2, solver=liblinear; total time=   0.0s\n",
      "[CV] END C=1000, fit_intercept=False, max_iter=100, penalty=l2, solver=liblinear; total time=   0.0s\n",
      "[CV] END C=1000, fit_intercept=False, max_iter=100, penalty=l2, solver=liblinear; total time=   0.0s\n",
      "[CV] END C=1000, fit_intercept=False, max_iter=100, penalty=l2, solver=liblinear; total time=   0.0s\n",
      "[CV] END C=1000, fit_intercept=False, max_iter=100, penalty=l2, solver=sag; total time=   0.0s\n",
      "[CV] END C=1000, fit_intercept=False, max_iter=100, penalty=l2, solver=sag; total time=   0.0s\n",
      "[CV] END C=1000, fit_intercept=False, max_iter=100, penalty=l2, solver=sag; total time=   0.0s\n",
      "[CV] END C=1000, fit_intercept=False, max_iter=100, penalty=l2, solver=sag; total time=   0.0s\n",
      "[CV] END C=1000, fit_intercept=False, max_iter=100, penalty=l2, solver=sag; total time=   0.0s\n"
     ]
    },
    {
     "name": "stderr",
     "output_type": "stream",
     "text": [
      "c:\\Users\\martj\\miniconda3\\envs\\py38\\lib\\site-packages\\sklearn\\linear_model\\_sag.py:350: ConvergenceWarning: The max_iter was reached which means the coef_ did not converge\n",
      "  warnings.warn(\n",
      "c:\\Users\\martj\\miniconda3\\envs\\py38\\lib\\site-packages\\sklearn\\linear_model\\_sag.py:350: ConvergenceWarning: The max_iter was reached which means the coef_ did not converge\n",
      "  warnings.warn(\n",
      "c:\\Users\\martj\\miniconda3\\envs\\py38\\lib\\site-packages\\sklearn\\linear_model\\_sag.py:350: ConvergenceWarning: The max_iter was reached which means the coef_ did not converge\n",
      "  warnings.warn(\n",
      "c:\\Users\\martj\\miniconda3\\envs\\py38\\lib\\site-packages\\sklearn\\linear_model\\_sag.py:350: ConvergenceWarning: The max_iter was reached which means the coef_ did not converge\n",
      "  warnings.warn(\n",
      "c:\\Users\\martj\\miniconda3\\envs\\py38\\lib\\site-packages\\sklearn\\linear_model\\_sag.py:350: ConvergenceWarning: The max_iter was reached which means the coef_ did not converge\n",
      "  warnings.warn(\n",
      "c:\\Users\\martj\\miniconda3\\envs\\py38\\lib\\site-packages\\sklearn\\linear_model\\_sag.py:350: ConvergenceWarning: The max_iter was reached which means the coef_ did not converge\n",
      "  warnings.warn(\n",
      "c:\\Users\\martj\\miniconda3\\envs\\py38\\lib\\site-packages\\sklearn\\linear_model\\_sag.py:350: ConvergenceWarning: The max_iter was reached which means the coef_ did not converge\n",
      "  warnings.warn(\n",
      "c:\\Users\\martj\\miniconda3\\envs\\py38\\lib\\site-packages\\sklearn\\linear_model\\_sag.py:350: ConvergenceWarning: The max_iter was reached which means the coef_ did not converge\n",
      "  warnings.warn(\n",
      "c:\\Users\\martj\\miniconda3\\envs\\py38\\lib\\site-packages\\sklearn\\linear_model\\_sag.py:350: ConvergenceWarning: The max_iter was reached which means the coef_ did not converge\n",
      "  warnings.warn(\n"
     ]
    },
    {
     "name": "stdout",
     "output_type": "stream",
     "text": [
      "[CV] END C=1000, fit_intercept=False, max_iter=100, penalty=l2, solver=saga; total time=   0.0s\n",
      "[CV] END C=1000, fit_intercept=False, max_iter=100, penalty=l2, solver=saga; total time=   0.0s\n",
      "[CV] END C=1000, fit_intercept=False, max_iter=100, penalty=l2, solver=saga; total time=   0.0s\n",
      "[CV] END C=1000, fit_intercept=False, max_iter=100, penalty=l2, solver=saga; total time=   0.0s\n",
      "[CV] END C=1000, fit_intercept=False, max_iter=100, penalty=l2, solver=saga; total time=   0.0s\n",
      "[CV] END C=1000, fit_intercept=False, max_iter=200, penalty=l1, solver=newton-cg; total time=   0.0s\n",
      "[CV] END C=1000, fit_intercept=False, max_iter=200, penalty=l1, solver=newton-cg; total time=   0.0s\n",
      "[CV] END C=1000, fit_intercept=False, max_iter=200, penalty=l1, solver=newton-cg; total time=   0.0s\n",
      "[CV] END C=1000, fit_intercept=False, max_iter=200, penalty=l1, solver=newton-cg; total time=   0.0s\n",
      "[CV] END C=1000, fit_intercept=False, max_iter=200, penalty=l1, solver=newton-cg; total time=   0.0s\n",
      "[CV] END C=1000, fit_intercept=False, max_iter=200, penalty=l1, solver=lbfgs; total time=   0.0s\n",
      "[CV] END C=1000, fit_intercept=False, max_iter=200, penalty=l1, solver=lbfgs; total time=   0.0s\n",
      "[CV] END C=1000, fit_intercept=False, max_iter=200, penalty=l1, solver=lbfgs; total time=   0.0s\n",
      "[CV] END C=1000, fit_intercept=False, max_iter=200, penalty=l1, solver=lbfgs; total time=   0.0s\n",
      "[CV] END C=1000, fit_intercept=False, max_iter=200, penalty=l1, solver=lbfgs; total time=   0.0s\n",
      "[CV] END C=1000, fit_intercept=False, max_iter=200, penalty=l1, solver=liblinear; total time=   0.0s\n",
      "[CV] END C=1000, fit_intercept=False, max_iter=200, penalty=l1, solver=liblinear; total time=   0.0s\n",
      "[CV] END C=1000, fit_intercept=False, max_iter=200, penalty=l1, solver=liblinear; total time=   0.0s\n",
      "[CV] END C=1000, fit_intercept=False, max_iter=200, penalty=l1, solver=liblinear; total time=   0.0s\n",
      "[CV] END C=1000, fit_intercept=False, max_iter=200, penalty=l1, solver=liblinear; total time=   0.0s\n",
      "[CV] END C=1000, fit_intercept=False, max_iter=200, penalty=l1, solver=sag; total time=   0.0s\n",
      "[CV] END C=1000, fit_intercept=False, max_iter=200, penalty=l1, solver=sag; total time=   0.0s\n",
      "[CV] END C=1000, fit_intercept=False, max_iter=200, penalty=l1, solver=sag; total time=   0.0s\n",
      "[CV] END C=1000, fit_intercept=False, max_iter=200, penalty=l1, solver=sag; total time=   0.0s\n",
      "[CV] END C=1000, fit_intercept=False, max_iter=200, penalty=l1, solver=sag; total time=   0.0s\n"
     ]
    },
    {
     "name": "stderr",
     "output_type": "stream",
     "text": [
      "c:\\Users\\martj\\miniconda3\\envs\\py38\\lib\\site-packages\\sklearn\\linear_model\\_sag.py:350: ConvergenceWarning: The max_iter was reached which means the coef_ did not converge\n",
      "  warnings.warn(\n",
      "c:\\Users\\martj\\miniconda3\\envs\\py38\\lib\\site-packages\\sklearn\\linear_model\\_sag.py:350: ConvergenceWarning: The max_iter was reached which means the coef_ did not converge\n",
      "  warnings.warn(\n",
      "c:\\Users\\martj\\miniconda3\\envs\\py38\\lib\\site-packages\\sklearn\\linear_model\\_sag.py:350: ConvergenceWarning: The max_iter was reached which means the coef_ did not converge\n",
      "  warnings.warn(\n"
     ]
    },
    {
     "name": "stdout",
     "output_type": "stream",
     "text": [
      "[CV] END C=1000, fit_intercept=False, max_iter=200, penalty=l1, solver=saga; total time=   0.0s\n",
      "[CV] END C=1000, fit_intercept=False, max_iter=200, penalty=l1, solver=saga; total time=   0.0s\n",
      "[CV] END C=1000, fit_intercept=False, max_iter=200, penalty=l1, solver=saga; total time=   0.0s\n",
      "[CV] END C=1000, fit_intercept=False, max_iter=200, penalty=l1, solver=saga; total time=   0.0s\n",
      "[CV] END C=1000, fit_intercept=False, max_iter=200, penalty=l1, solver=saga; total time=   0.0s\n",
      "[CV] END C=1000, fit_intercept=False, max_iter=200, penalty=l2, solver=newton-cg; total time=   0.0s\n"
     ]
    },
    {
     "name": "stderr",
     "output_type": "stream",
     "text": [
      "c:\\Users\\martj\\miniconda3\\envs\\py38\\lib\\site-packages\\sklearn\\linear_model\\_sag.py:350: ConvergenceWarning: The max_iter was reached which means the coef_ did not converge\n",
      "  warnings.warn(\n",
      "c:\\Users\\martj\\miniconda3\\envs\\py38\\lib\\site-packages\\sklearn\\linear_model\\_sag.py:350: ConvergenceWarning: The max_iter was reached which means the coef_ did not converge\n",
      "  warnings.warn(\n",
      "c:\\Users\\martj\\miniconda3\\envs\\py38\\lib\\site-packages\\sklearn\\linear_model\\_sag.py:350: ConvergenceWarning: The max_iter was reached which means the coef_ did not converge\n",
      "  warnings.warn(\n"
     ]
    },
    {
     "name": "stdout",
     "output_type": "stream",
     "text": [
      "[CV] END C=1000, fit_intercept=False, max_iter=200, penalty=l2, solver=newton-cg; total time=   0.0s\n",
      "[CV] END C=1000, fit_intercept=False, max_iter=200, penalty=l2, solver=newton-cg; total time=   0.0s\n",
      "[CV] END C=1000, fit_intercept=False, max_iter=200, penalty=l2, solver=newton-cg; total time=   0.0s\n",
      "[CV] END C=1000, fit_intercept=False, max_iter=200, penalty=l2, solver=newton-cg; total time=   0.0s\n",
      "[CV] END C=1000, fit_intercept=False, max_iter=200, penalty=l2, solver=lbfgs; total time=   0.0s\n",
      "[CV] END C=1000, fit_intercept=False, max_iter=200, penalty=l2, solver=lbfgs; total time=   0.0s\n",
      "[CV] END C=1000, fit_intercept=False, max_iter=200, penalty=l2, solver=lbfgs; total time=   0.0s\n",
      "[CV] END C=1000, fit_intercept=False, max_iter=200, penalty=l2, solver=lbfgs; total time=   0.0s\n",
      "[CV] END C=1000, fit_intercept=False, max_iter=200, penalty=l2, solver=lbfgs; total time=   0.0s\n",
      "[CV] END C=1000, fit_intercept=False, max_iter=200, penalty=l2, solver=liblinear; total time=   0.0s\n",
      "[CV] END C=1000, fit_intercept=False, max_iter=200, penalty=l2, solver=liblinear; total time=   0.0s\n",
      "[CV] END C=1000, fit_intercept=False, max_iter=200, penalty=l2, solver=liblinear; total time=   0.0s\n",
      "[CV] END C=1000, fit_intercept=False, max_iter=200, penalty=l2, solver=liblinear; total time=   0.0s\n",
      "[CV] END C=1000, fit_intercept=False, max_iter=200, penalty=l2, solver=liblinear; total time=   0.0s\n",
      "[CV] END C=1000, fit_intercept=False, max_iter=200, penalty=l2, solver=sag; total time=   0.0s\n",
      "[CV] END C=1000, fit_intercept=False, max_iter=200, penalty=l2, solver=sag; total time=   0.0s\n",
      "[CV] END C=1000, fit_intercept=False, max_iter=200, penalty=l2, solver=sag; total time=   0.0s\n",
      "[CV] END C=1000, fit_intercept=False, max_iter=200, penalty=l2, solver=sag; total time=   0.0s\n"
     ]
    },
    {
     "name": "stderr",
     "output_type": "stream",
     "text": [
      "c:\\Users\\martj\\miniconda3\\envs\\py38\\lib\\site-packages\\sklearn\\linear_model\\_sag.py:350: ConvergenceWarning: The max_iter was reached which means the coef_ did not converge\n",
      "  warnings.warn(\n",
      "c:\\Users\\martj\\miniconda3\\envs\\py38\\lib\\site-packages\\sklearn\\linear_model\\_sag.py:350: ConvergenceWarning: The max_iter was reached which means the coef_ did not converge\n",
      "  warnings.warn(\n",
      "c:\\Users\\martj\\miniconda3\\envs\\py38\\lib\\site-packages\\sklearn\\linear_model\\_sag.py:350: ConvergenceWarning: The max_iter was reached which means the coef_ did not converge\n",
      "  warnings.warn(\n",
      "c:\\Users\\martj\\miniconda3\\envs\\py38\\lib\\site-packages\\sklearn\\linear_model\\_sag.py:350: ConvergenceWarning: The max_iter was reached which means the coef_ did not converge\n",
      "  warnings.warn(\n",
      "c:\\Users\\martj\\miniconda3\\envs\\py38\\lib\\site-packages\\sklearn\\linear_model\\_sag.py:350: ConvergenceWarning: The max_iter was reached which means the coef_ did not converge\n",
      "  warnings.warn(\n",
      "c:\\Users\\martj\\miniconda3\\envs\\py38\\lib\\site-packages\\sklearn\\linear_model\\_sag.py:350: ConvergenceWarning: The max_iter was reached which means the coef_ did not converge\n",
      "  warnings.warn(\n"
     ]
    },
    {
     "name": "stdout",
     "output_type": "stream",
     "text": [
      "[CV] END C=1000, fit_intercept=False, max_iter=200, penalty=l2, solver=sag; total time=   0.0s\n",
      "[CV] END C=1000, fit_intercept=False, max_iter=200, penalty=l2, solver=saga; total time=   0.0s\n",
      "[CV] END C=1000, fit_intercept=False, max_iter=200, penalty=l2, solver=saga; total time=   0.0s\n",
      "[CV] END C=1000, fit_intercept=False, max_iter=200, penalty=l2, solver=saga; total time=   0.0s\n",
      "[CV] END C=1000, fit_intercept=False, max_iter=200, penalty=l2, solver=saga; total time=   0.0s\n",
      "[CV] END C=1000, fit_intercept=False, max_iter=200, penalty=l2, solver=saga; total time=   0.0s\n",
      "[CV] END C=1000, fit_intercept=False, max_iter=500, penalty=l1, solver=newton-cg; total time=   0.0s\n"
     ]
    },
    {
     "name": "stderr",
     "output_type": "stream",
     "text": [
      "c:\\Users\\martj\\miniconda3\\envs\\py38\\lib\\site-packages\\sklearn\\linear_model\\_sag.py:350: ConvergenceWarning: The max_iter was reached which means the coef_ did not converge\n",
      "  warnings.warn(\n",
      "c:\\Users\\martj\\miniconda3\\envs\\py38\\lib\\site-packages\\sklearn\\linear_model\\_sag.py:350: ConvergenceWarning: The max_iter was reached which means the coef_ did not converge\n",
      "  warnings.warn(\n",
      "c:\\Users\\martj\\miniconda3\\envs\\py38\\lib\\site-packages\\sklearn\\linear_model\\_sag.py:350: ConvergenceWarning: The max_iter was reached which means the coef_ did not converge\n",
      "  warnings.warn(\n",
      "c:\\Users\\martj\\miniconda3\\envs\\py38\\lib\\site-packages\\sklearn\\linear_model\\_sag.py:350: ConvergenceWarning: The max_iter was reached which means the coef_ did not converge\n",
      "  warnings.warn(\n"
     ]
    },
    {
     "name": "stdout",
     "output_type": "stream",
     "text": [
      "[CV] END C=1000, fit_intercept=False, max_iter=500, penalty=l1, solver=newton-cg; total time=   0.0s\n",
      "[CV] END C=1000, fit_intercept=False, max_iter=500, penalty=l1, solver=newton-cg; total time=   0.0s\n",
      "[CV] END C=1000, fit_intercept=False, max_iter=500, penalty=l1, solver=newton-cg; total time=   0.0s\n",
      "[CV] END C=1000, fit_intercept=False, max_iter=500, penalty=l1, solver=newton-cg; total time=   0.0s\n",
      "[CV] END C=1000, fit_intercept=False, max_iter=500, penalty=l1, solver=lbfgs; total time=   0.0s\n",
      "[CV] END C=1000, fit_intercept=False, max_iter=500, penalty=l1, solver=lbfgs; total time=   0.0s\n",
      "[CV] END C=1000, fit_intercept=False, max_iter=500, penalty=l1, solver=lbfgs; total time=   0.0s\n",
      "[CV] END C=1000, fit_intercept=False, max_iter=500, penalty=l1, solver=lbfgs; total time=   0.0s\n",
      "[CV] END C=1000, fit_intercept=False, max_iter=500, penalty=l1, solver=lbfgs; total time=   0.0s\n",
      "[CV] END C=1000, fit_intercept=False, max_iter=500, penalty=l1, solver=liblinear; total time=   0.0s\n",
      "[CV] END C=1000, fit_intercept=False, max_iter=500, penalty=l1, solver=liblinear; total time=   0.0s\n",
      "[CV] END C=1000, fit_intercept=False, max_iter=500, penalty=l1, solver=liblinear; total time=   0.0s\n",
      "[CV] END C=1000, fit_intercept=False, max_iter=500, penalty=l1, solver=liblinear; total time=   0.0s\n",
      "[CV] END C=1000, fit_intercept=False, max_iter=500, penalty=l1, solver=liblinear; total time=   0.0s\n",
      "[CV] END C=1000, fit_intercept=False, max_iter=500, penalty=l1, solver=sag; total time=   0.0s\n",
      "[CV] END C=1000, fit_intercept=False, max_iter=500, penalty=l1, solver=sag; total time=   0.0s\n",
      "[CV] END C=1000, fit_intercept=False, max_iter=500, penalty=l1, solver=sag; total time=   0.0s\n",
      "[CV] END C=1000, fit_intercept=False, max_iter=500, penalty=l1, solver=sag; total time=   0.0s\n",
      "[CV] END C=1000, fit_intercept=False, max_iter=500, penalty=l1, solver=sag; total time=   0.0s\n",
      "[CV] END C=1000, fit_intercept=False, max_iter=500, penalty=l1, solver=saga; total time=   0.0s\n"
     ]
    },
    {
     "name": "stderr",
     "output_type": "stream",
     "text": [
      "c:\\Users\\martj\\miniconda3\\envs\\py38\\lib\\site-packages\\sklearn\\linear_model\\_sag.py:350: ConvergenceWarning: The max_iter was reached which means the coef_ did not converge\n",
      "  warnings.warn(\n",
      "c:\\Users\\martj\\miniconda3\\envs\\py38\\lib\\site-packages\\sklearn\\linear_model\\_sag.py:350: ConvergenceWarning: The max_iter was reached which means the coef_ did not converge\n",
      "  warnings.warn(\n",
      "c:\\Users\\martj\\miniconda3\\envs\\py38\\lib\\site-packages\\sklearn\\linear_model\\_sag.py:350: ConvergenceWarning: The max_iter was reached which means the coef_ did not converge\n",
      "  warnings.warn(\n"
     ]
    },
    {
     "name": "stdout",
     "output_type": "stream",
     "text": [
      "[CV] END C=1000, fit_intercept=False, max_iter=500, penalty=l1, solver=saga; total time=   0.0s\n",
      "[CV] END C=1000, fit_intercept=False, max_iter=500, penalty=l1, solver=saga; total time=   0.0s\n"
     ]
    },
    {
     "name": "stderr",
     "output_type": "stream",
     "text": [
      "c:\\Users\\martj\\miniconda3\\envs\\py38\\lib\\site-packages\\sklearn\\linear_model\\_sag.py:350: ConvergenceWarning: The max_iter was reached which means the coef_ did not converge\n",
      "  warnings.warn(\n",
      "c:\\Users\\martj\\miniconda3\\envs\\py38\\lib\\site-packages\\sklearn\\linear_model\\_sag.py:350: ConvergenceWarning: The max_iter was reached which means the coef_ did not converge\n",
      "  warnings.warn(\n"
     ]
    },
    {
     "name": "stdout",
     "output_type": "stream",
     "text": [
      "[CV] END C=1000, fit_intercept=False, max_iter=500, penalty=l1, solver=saga; total time=   0.0s\n",
      "[CV] END C=1000, fit_intercept=False, max_iter=500, penalty=l1, solver=saga; total time=   0.0s\n",
      "[CV] END C=1000, fit_intercept=False, max_iter=500, penalty=l2, solver=newton-cg; total time=   0.0s\n",
      "[CV] END C=1000, fit_intercept=False, max_iter=500, penalty=l2, solver=newton-cg; total time=   0.0s\n",
      "[CV] END C=1000, fit_intercept=False, max_iter=500, penalty=l2, solver=newton-cg; total time=   0.0s\n",
      "[CV] END C=1000, fit_intercept=False, max_iter=500, penalty=l2, solver=newton-cg; total time=   0.0s\n",
      "[CV] END C=1000, fit_intercept=False, max_iter=500, penalty=l2, solver=newton-cg; total time=   0.0s\n",
      "[CV] END C=1000, fit_intercept=False, max_iter=500, penalty=l2, solver=lbfgs; total time=   0.0s\n",
      "[CV] END C=1000, fit_intercept=False, max_iter=500, penalty=l2, solver=lbfgs; total time=   0.0s\n",
      "[CV] END C=1000, fit_intercept=False, max_iter=500, penalty=l2, solver=lbfgs; total time=   0.0s\n",
      "[CV] END C=1000, fit_intercept=False, max_iter=500, penalty=l2, solver=lbfgs; total time=   0.0s\n",
      "[CV] END C=1000, fit_intercept=False, max_iter=500, penalty=l2, solver=lbfgs; total time=   0.0s\n",
      "[CV] END C=1000, fit_intercept=False, max_iter=500, penalty=l2, solver=liblinear; total time=   0.0s\n",
      "[CV] END C=1000, fit_intercept=False, max_iter=500, penalty=l2, solver=liblinear; total time=   0.0s\n",
      "[CV] END C=1000, fit_intercept=False, max_iter=500, penalty=l2, solver=liblinear; total time=   0.0s\n",
      "[CV] END C=1000, fit_intercept=False, max_iter=500, penalty=l2, solver=liblinear; total time=   0.0s\n",
      "[CV] END C=1000, fit_intercept=False, max_iter=500, penalty=l2, solver=liblinear; total time=   0.0s\n"
     ]
    },
    {
     "name": "stderr",
     "output_type": "stream",
     "text": [
      "c:\\Users\\martj\\miniconda3\\envs\\py38\\lib\\site-packages\\sklearn\\linear_model\\_sag.py:350: ConvergenceWarning: The max_iter was reached which means the coef_ did not converge\n",
      "  warnings.warn(\n",
      "c:\\Users\\martj\\miniconda3\\envs\\py38\\lib\\site-packages\\sklearn\\linear_model\\_sag.py:350: ConvergenceWarning: The max_iter was reached which means the coef_ did not converge\n",
      "  warnings.warn(\n",
      "c:\\Users\\martj\\miniconda3\\envs\\py38\\lib\\site-packages\\sklearn\\linear_model\\_sag.py:350: ConvergenceWarning: The max_iter was reached which means the coef_ did not converge\n",
      "  warnings.warn(\n"
     ]
    },
    {
     "name": "stdout",
     "output_type": "stream",
     "text": [
      "[CV] END C=1000, fit_intercept=False, max_iter=500, penalty=l2, solver=sag; total time=   0.0s\n",
      "[CV] END C=1000, fit_intercept=False, max_iter=500, penalty=l2, solver=sag; total time=   0.0s\n",
      "[CV] END C=1000, fit_intercept=False, max_iter=500, penalty=l2, solver=sag; total time=   0.0s\n"
     ]
    },
    {
     "name": "stderr",
     "output_type": "stream",
     "text": [
      "c:\\Users\\martj\\miniconda3\\envs\\py38\\lib\\site-packages\\sklearn\\linear_model\\_sag.py:350: ConvergenceWarning: The max_iter was reached which means the coef_ did not converge\n",
      "  warnings.warn(\n",
      "c:\\Users\\martj\\miniconda3\\envs\\py38\\lib\\site-packages\\sklearn\\linear_model\\_sag.py:350: ConvergenceWarning: The max_iter was reached which means the coef_ did not converge\n",
      "  warnings.warn(\n",
      "c:\\Users\\martj\\miniconda3\\envs\\py38\\lib\\site-packages\\sklearn\\linear_model\\_sag.py:350: ConvergenceWarning: The max_iter was reached which means the coef_ did not converge\n",
      "  warnings.warn(\n"
     ]
    },
    {
     "name": "stdout",
     "output_type": "stream",
     "text": [
      "[CV] END C=1000, fit_intercept=False, max_iter=500, penalty=l2, solver=sag; total time=   0.0s\n",
      "[CV] END C=1000, fit_intercept=False, max_iter=500, penalty=l2, solver=sag; total time=   0.0s\n",
      "[CV] END C=1000, fit_intercept=False, max_iter=500, penalty=l2, solver=saga; total time=   0.0s\n"
     ]
    },
    {
     "name": "stderr",
     "output_type": "stream",
     "text": [
      "c:\\Users\\martj\\miniconda3\\envs\\py38\\lib\\site-packages\\sklearn\\linear_model\\_sag.py:350: ConvergenceWarning: The max_iter was reached which means the coef_ did not converge\n",
      "  warnings.warn(\n",
      "c:\\Users\\martj\\miniconda3\\envs\\py38\\lib\\site-packages\\sklearn\\linear_model\\_sag.py:350: ConvergenceWarning: The max_iter was reached which means the coef_ did not converge\n",
      "  warnings.warn(\n",
      "c:\\Users\\martj\\miniconda3\\envs\\py38\\lib\\site-packages\\sklearn\\linear_model\\_sag.py:350: ConvergenceWarning: The max_iter was reached which means the coef_ did not converge\n",
      "  warnings.warn(\n"
     ]
    },
    {
     "name": "stdout",
     "output_type": "stream",
     "text": [
      "[CV] END C=1000, fit_intercept=False, max_iter=500, penalty=l2, solver=saga; total time=   0.0s\n",
      "[CV] END C=1000, fit_intercept=False, max_iter=500, penalty=l2, solver=saga; total time=   0.0s\n",
      "[CV] END C=1000, fit_intercept=False, max_iter=500, penalty=l2, solver=saga; total time=   0.0s\n",
      "[CV] END C=1000, fit_intercept=False, max_iter=500, penalty=l2, solver=saga; total time=   0.0s\n"
     ]
    },
    {
     "name": "stderr",
     "output_type": "stream",
     "text": [
      "c:\\Users\\martj\\miniconda3\\envs\\py38\\lib\\site-packages\\sklearn\\linear_model\\_sag.py:350: ConvergenceWarning: The max_iter was reached which means the coef_ did not converge\n",
      "  warnings.warn(\n",
      "c:\\Users\\martj\\miniconda3\\envs\\py38\\lib\\site-packages\\sklearn\\model_selection\\_validation.py:425: FitFailedWarning: \n",
      "840 fits failed out of a total of 2800.\n",
      "The score on these train-test partitions for these parameters will be set to nan.\n",
      "If these failures are not expected, you can try to debug them by setting error_score='raise'.\n",
      "\n",
      "Below are more details about the failures:\n",
      "--------------------------------------------------------------------------------\n",
      "280 fits failed with the following error:\n",
      "Traceback (most recent call last):\n",
      "  File \"c:\\Users\\martj\\miniconda3\\envs\\py38\\lib\\site-packages\\sklearn\\model_selection\\_validation.py\", line 732, in _fit_and_score\n",
      "    estimator.fit(X_train, y_train, **fit_params)\n",
      "  File \"c:\\Users\\martj\\miniconda3\\envs\\py38\\lib\\site-packages\\sklearn\\base.py\", line 1151, in wrapper\n",
      "    return fit_method(estimator, *args, **kwargs)\n",
      "  File \"c:\\Users\\martj\\miniconda3\\envs\\py38\\lib\\site-packages\\sklearn\\linear_model\\_logistic.py\", line 1168, in fit\n",
      "    solver = _check_solver(self.solver, self.penalty, self.dual)\n",
      "  File \"c:\\Users\\martj\\miniconda3\\envs\\py38\\lib\\site-packages\\sklearn\\linear_model\\_logistic.py\", line 56, in _check_solver\n",
      "    raise ValueError(\n",
      "ValueError: Solver newton-cg supports only 'l2' or 'none' penalties, got l1 penalty.\n",
      "\n",
      "--------------------------------------------------------------------------------\n",
      "280 fits failed with the following error:\n",
      "Traceback (most recent call last):\n",
      "  File \"c:\\Users\\martj\\miniconda3\\envs\\py38\\lib\\site-packages\\sklearn\\model_selection\\_validation.py\", line 732, in _fit_and_score\n",
      "    estimator.fit(X_train, y_train, **fit_params)\n",
      "  File \"c:\\Users\\martj\\miniconda3\\envs\\py38\\lib\\site-packages\\sklearn\\base.py\", line 1151, in wrapper\n",
      "    return fit_method(estimator, *args, **kwargs)\n",
      "  File \"c:\\Users\\martj\\miniconda3\\envs\\py38\\lib\\site-packages\\sklearn\\linear_model\\_logistic.py\", line 1168, in fit\n",
      "    solver = _check_solver(self.solver, self.penalty, self.dual)\n",
      "  File \"c:\\Users\\martj\\miniconda3\\envs\\py38\\lib\\site-packages\\sklearn\\linear_model\\_logistic.py\", line 56, in _check_solver\n",
      "    raise ValueError(\n",
      "ValueError: Solver lbfgs supports only 'l2' or 'none' penalties, got l1 penalty.\n",
      "\n",
      "--------------------------------------------------------------------------------\n",
      "280 fits failed with the following error:\n",
      "Traceback (most recent call last):\n",
      "  File \"c:\\Users\\martj\\miniconda3\\envs\\py38\\lib\\site-packages\\sklearn\\model_selection\\_validation.py\", line 732, in _fit_and_score\n",
      "    estimator.fit(X_train, y_train, **fit_params)\n",
      "  File \"c:\\Users\\martj\\miniconda3\\envs\\py38\\lib\\site-packages\\sklearn\\base.py\", line 1151, in wrapper\n",
      "    return fit_method(estimator, *args, **kwargs)\n",
      "  File \"c:\\Users\\martj\\miniconda3\\envs\\py38\\lib\\site-packages\\sklearn\\linear_model\\_logistic.py\", line 1168, in fit\n",
      "    solver = _check_solver(self.solver, self.penalty, self.dual)\n",
      "  File \"c:\\Users\\martj\\miniconda3\\envs\\py38\\lib\\site-packages\\sklearn\\linear_model\\_logistic.py\", line 56, in _check_solver\n",
      "    raise ValueError(\n",
      "ValueError: Solver sag supports only 'l2' or 'none' penalties, got l1 penalty.\n",
      "\n",
      "  warnings.warn(some_fits_failed_message, FitFailedWarning)\n",
      "c:\\Users\\martj\\miniconda3\\envs\\py38\\lib\\site-packages\\sklearn\\model_selection\\_search.py:976: UserWarning: One or more of the test scores are non-finite: [       nan        nan 0.66786768        nan 0.66899127 0.68131944\n",
      " 0.68131944 0.68583265 0.68696253 0.67798004        nan        nan\n",
      " 0.66786768        nan 0.67011487 0.68131944 0.68131944 0.68583265\n",
      " 0.68584521 0.68696253        nan        nan 0.66786768        nan\n",
      " 0.66787396 0.68131944 0.68131944 0.68583265 0.68807984 0.68584521\n",
      "        nan        nan 0.66786768        nan 0.65439709 0.68131944\n",
      " 0.68131944 0.68583265 0.68807984 0.68807984        nan        nan\n",
      " 0.66786768        nan 0.66786768 0.68583265 0.68583265 0.68583265\n",
      " 0.68808612 0.67798004        nan        nan 0.66786768        nan\n",
      " 0.66786768 0.68583265 0.68583265 0.68583265 0.68808612 0.68808612\n",
      "        nan        nan 0.66786768        nan 0.66786768 0.68583265\n",
      " 0.68583265 0.68583265 0.68583265 0.68920972        nan        nan\n",
      " 0.66786768        nan 0.66786768 0.68583265 0.68583265 0.68583265\n",
      " 0.68583265 0.68583265        nan        nan 0.67011487        nan\n",
      " 0.66899127 0.72734292 0.73296089 0.72959011 0.68808612 0.67910991\n",
      "        nan        nan 0.67011487        nan 0.66899127 0.72734292\n",
      " 0.72734292 0.72959011 0.69253656 0.68696253        nan        nan\n",
      " 0.67011487        nan 0.66899127 0.72734292 0.72734292 0.72959011\n",
      " 0.69927186 0.69253656        nan        nan 0.67011487        nan\n",
      " 0.66899127 0.72734292 0.72734292 0.72959011 0.71500847 0.70039546\n",
      "        nan        nan 0.67011487        nan 0.66899127 0.72847279\n",
      " 0.72847279 0.72847279 0.68808612 0.67910991        nan        nan\n",
      " 0.67011487        nan 0.66899127 0.72847279 0.72847279 0.72847279\n",
      " 0.69253656 0.68808612        nan        nan 0.67011487        nan\n",
      " 0.66899127 0.72847279 0.72847279 0.72847279 0.69927186 0.69253656\n",
      "        nan        nan 0.67011487        nan 0.67011487 0.72847279\n",
      " 0.72847279 0.72847279 0.71500847 0.70151905        nan        nan\n",
      " 0.78898374        nan 0.68022723 0.79127487 0.8002197  0.79797878\n",
      " 0.68696253 0.68023351        nan        nan 0.78898374        nan\n",
      " 0.68920972 0.79127487 0.79127487 0.79797878 0.69141297 0.68696253\n",
      "        nan        nan 0.78898374        nan 0.69142552 0.79127487\n",
      " 0.79127487 0.79797878 0.69815454 0.69141297        nan        nan\n",
      " 0.78898374        nan 0.70152533 0.79127487 0.79127487 0.79797878\n",
      " 0.71613207 0.70601343        nan        nan 0.78898374        nan\n",
      " 0.67910363 0.79573159 0.79573159 0.79573159 0.68808612 0.67910991\n",
      "        nan        nan 0.78898374        nan 0.68920972 0.79573159\n",
      " 0.79573159 0.79573159 0.69141297 0.68696253        nan        nan\n",
      " 0.78898374        nan 0.69254912 0.79573159 0.79573159 0.79573159\n",
      " 0.69927186 0.69253656        nan        nan 0.78898374        nan\n",
      " 0.70152533 0.79573159 0.79573159 0.79573159 0.71613207 0.70601343\n",
      "        nan        nan 0.79125604        nan 0.67910991 0.79349068\n",
      " 0.79236708 0.78901513 0.68696253 0.68023351        nan        nan\n",
      " 0.79125604        nan 0.68696253 0.79349068 0.79461427 0.78901513\n",
      " 0.69141297 0.68696253        nan        nan 0.79125604        nan\n",
      " 0.69141297 0.79349068 0.79349068 0.78901513 0.69927814 0.69253029\n",
      "        nan        nan 0.79125604        nan 0.70489611 0.79349068\n",
      " 0.79349068 0.78901513 0.71837298 0.70489611        nan        nan\n",
      " 0.78900257        nan 0.67910991 0.78900257 0.78900257 0.78900257\n",
      " 0.68808612 0.67910991        nan        nan 0.78900257        nan\n",
      " 0.68696253 0.78900257 0.78900257 0.78900257 0.69141297 0.68696253\n",
      "        nan        nan 0.78900257        nan 0.69253656 0.78900257\n",
      " 0.78900257 0.78900257 0.69927186 0.69141297        nan        nan\n",
      " 0.78900257        nan 0.70601343 0.78900257 0.78900257 0.78900257\n",
      " 0.71612579 0.70601343        nan        nan 0.79124976        nan\n",
      " 0.67910991 0.79124976 0.79573787 0.79124976 0.68696253 0.67910991\n",
      "        nan        nan 0.79124976        nan 0.68696253 0.79124976\n",
      " 0.79349068 0.79124976 0.69253029 0.68696253        nan        nan\n",
      " 0.79124976        nan 0.69253029 0.79124976 0.79236708 0.79124976\n",
      " 0.69927814 0.69253029        nan        nan 0.79124976        nan\n",
      " 0.70489611 0.79124976 0.79236708 0.79124976 0.71837298 0.70489611\n",
      "        nan        nan 0.78900257        nan 0.67910991 0.78900257\n",
      " 0.79012617 0.78900257 0.68696253 0.68023351        nan        nan\n",
      " 0.78900257        nan 0.68696253 0.78900257 0.78900257 0.78900257\n",
      " 0.69141297 0.68696253        nan        nan 0.78900257        nan\n",
      " 0.69141297 0.78900257 0.78900257 0.78900257 0.69927814 0.69141297\n",
      "        nan        nan 0.78900257        nan 0.70601343 0.78900257\n",
      " 0.78900257 0.78900257 0.71612579 0.70601343        nan        nan\n",
      " 0.79124976        nan 0.68023351 0.79124976 0.794608   0.79124976\n",
      " 0.68696253 0.68023351        nan        nan 0.79124976        nan\n",
      " 0.68696253 0.79124976 0.79237336 0.79124976 0.69253029 0.68696253\n",
      "        nan        nan 0.79124976        nan 0.69253029 0.79124976\n",
      " 0.79124976 0.79124976 0.69927814 0.69253029        nan        nan\n",
      " 0.79124976        nan 0.70489611 0.79124976 0.79124976 0.79124976\n",
      " 0.71837298 0.70489611        nan        nan 0.78900257        nan\n",
      " 0.67910991 0.78900257 0.79012617 0.78900257 0.68696253 0.68023351\n",
      "        nan        nan 0.78900257        nan 0.68696253 0.78900257\n",
      " 0.78900257 0.78900257 0.69141297 0.68808612        nan        nan\n",
      " 0.78900257        nan 0.69141297 0.78900257 0.78900257 0.78900257\n",
      " 0.70039546 0.69141297        nan        nan 0.78900257        nan\n",
      " 0.70601343 0.78900257 0.78900257 0.78900257 0.71612579 0.70601343\n",
      "        nan        nan 0.79124976        nan 0.67910991 0.79124976\n",
      " 0.79573159 0.79124976 0.68696253 0.68023351        nan        nan\n",
      " 0.79124976        nan 0.68696253 0.79124976 0.79124976 0.79124976\n",
      " 0.69253029 0.68807984        nan        nan 0.79124976        nan\n",
      " 0.69253029 0.79124976 0.79124976 0.79124976 0.69927814 0.69253029\n",
      "        nan        nan 0.79124976        nan 0.70489611 0.79124976\n",
      " 0.79124976 0.79124976 0.71837298 0.70489611        nan        nan\n",
      " 0.78900257        nan 0.67910991 0.78900257 0.78900257 0.78900257\n",
      " 0.68696253 0.67910991        nan        nan 0.78900257        nan\n",
      " 0.68696253 0.78900257 0.78900257 0.78900257 0.69141297 0.68696253\n",
      "        nan        nan 0.78900257        nan 0.69141297 0.78900257\n",
      " 0.78900257 0.78900257 0.70039546 0.69141297        nan        nan\n",
      " 0.78900257        nan 0.70601343 0.78900257 0.78900257 0.78900257\n",
      " 0.71612579 0.70601343]\n",
      "  warnings.warn(\n",
      "c:\\Users\\martj\\miniconda3\\envs\\py38\\lib\\site-packages\\sklearn\\linear_model\\_logistic.py:460: ConvergenceWarning: lbfgs failed to converge (status=1):\n",
      "STOP: TOTAL NO. of ITERATIONS REACHED LIMIT.\n",
      "\n",
      "Increase the number of iterations (max_iter) or scale the data as shown in:\n",
      "    https://scikit-learn.org/stable/modules/preprocessing.html\n",
      "Please also refer to the documentation for alternative solver options:\n",
      "    https://scikit-learn.org/stable/modules/linear_model.html#logistic-regression\n",
      "  n_iter_i = _check_optimize_result(\n"
     ]
    },
    {
     "data": {
      "text/html": [
       "<style>#sk-container-id-1 {color: black;}#sk-container-id-1 pre{padding: 0;}#sk-container-id-1 div.sk-toggleable {background-color: white;}#sk-container-id-1 label.sk-toggleable__label {cursor: pointer;display: block;width: 100%;margin-bottom: 0;padding: 0.3em;box-sizing: border-box;text-align: center;}#sk-container-id-1 label.sk-toggleable__label-arrow:before {content: \"▸\";float: left;margin-right: 0.25em;color: #696969;}#sk-container-id-1 label.sk-toggleable__label-arrow:hover:before {color: black;}#sk-container-id-1 div.sk-estimator:hover label.sk-toggleable__label-arrow:before {color: black;}#sk-container-id-1 div.sk-toggleable__content {max-height: 0;max-width: 0;overflow: hidden;text-align: left;background-color: #f0f8ff;}#sk-container-id-1 div.sk-toggleable__content pre {margin: 0.2em;color: black;border-radius: 0.25em;background-color: #f0f8ff;}#sk-container-id-1 input.sk-toggleable__control:checked~div.sk-toggleable__content {max-height: 200px;max-width: 100%;overflow: auto;}#sk-container-id-1 input.sk-toggleable__control:checked~label.sk-toggleable__label-arrow:before {content: \"▾\";}#sk-container-id-1 div.sk-estimator input.sk-toggleable__control:checked~label.sk-toggleable__label {background-color: #d4ebff;}#sk-container-id-1 div.sk-label input.sk-toggleable__control:checked~label.sk-toggleable__label {background-color: #d4ebff;}#sk-container-id-1 input.sk-hidden--visually {border: 0;clip: rect(1px 1px 1px 1px);clip: rect(1px, 1px, 1px, 1px);height: 1px;margin: -1px;overflow: hidden;padding: 0;position: absolute;width: 1px;}#sk-container-id-1 div.sk-estimator {font-family: monospace;background-color: #f0f8ff;border: 1px dotted black;border-radius: 0.25em;box-sizing: border-box;margin-bottom: 0.5em;}#sk-container-id-1 div.sk-estimator:hover {background-color: #d4ebff;}#sk-container-id-1 div.sk-parallel-item::after {content: \"\";width: 100%;border-bottom: 1px solid gray;flex-grow: 1;}#sk-container-id-1 div.sk-label:hover label.sk-toggleable__label {background-color: #d4ebff;}#sk-container-id-1 div.sk-serial::before {content: \"\";position: absolute;border-left: 1px solid gray;box-sizing: border-box;top: 0;bottom: 0;left: 50%;z-index: 0;}#sk-container-id-1 div.sk-serial {display: flex;flex-direction: column;align-items: center;background-color: white;padding-right: 0.2em;padding-left: 0.2em;position: relative;}#sk-container-id-1 div.sk-item {position: relative;z-index: 1;}#sk-container-id-1 div.sk-parallel {display: flex;align-items: stretch;justify-content: center;background-color: white;position: relative;}#sk-container-id-1 div.sk-item::before, #sk-container-id-1 div.sk-parallel-item::before {content: \"\";position: absolute;border-left: 1px solid gray;box-sizing: border-box;top: 0;bottom: 0;left: 50%;z-index: -1;}#sk-container-id-1 div.sk-parallel-item {display: flex;flex-direction: column;z-index: 1;position: relative;background-color: white;}#sk-container-id-1 div.sk-parallel-item:first-child::after {align-self: flex-end;width: 50%;}#sk-container-id-1 div.sk-parallel-item:last-child::after {align-self: flex-start;width: 50%;}#sk-container-id-1 div.sk-parallel-item:only-child::after {width: 0;}#sk-container-id-1 div.sk-dashed-wrapped {border: 1px dashed gray;margin: 0 0.4em 0.5em 0.4em;box-sizing: border-box;padding-bottom: 0.4em;background-color: white;}#sk-container-id-1 div.sk-label label {font-family: monospace;font-weight: bold;display: inline-block;line-height: 1.2em;}#sk-container-id-1 div.sk-label-container {text-align: center;}#sk-container-id-1 div.sk-container {/* jupyter's `normalize.less` sets `[hidden] { display: none; }` but bootstrap.min.css set `[hidden] { display: none !important; }` so we also need the `!important` here to be able to override the default hidden behavior on the sphinx rendered scikit-learn.org. See: https://github.com/scikit-learn/scikit-learn/issues/21755 */display: inline-block !important;position: relative;}#sk-container-id-1 div.sk-text-repr-fallback {display: none;}</style><div id=\"sk-container-id-1\" class=\"sk-top-container\"><div class=\"sk-text-repr-fallback\"><pre>LogisticRegression()</pre><b>In a Jupyter environment, please rerun this cell to show the HTML representation or trust the notebook. <br />On GitHub, the HTML representation is unable to render, please try loading this page with nbviewer.org.</b></div><div class=\"sk-container\" hidden><div class=\"sk-item\"><div class=\"sk-estimator sk-toggleable\"><input class=\"sk-toggleable__control sk-hidden--visually\" id=\"sk-estimator-id-1\" type=\"checkbox\" checked><label for=\"sk-estimator-id-1\" class=\"sk-toggleable__label sk-toggleable__label-arrow\">LogisticRegression</label><div class=\"sk-toggleable__content\"><pre>LogisticRegression()</pre></div></div></div></div></div>"
      ],
      "text/plain": [
       "LogisticRegression()"
      ]
     },
     "execution_count": 16,
     "metadata": {},
     "output_type": "execute_result"
    }
   ],
   "source": [
    "# creating a dictionnary grid with a few different hyper-parameters\n",
    "param_grid = {\n",
    "    'penalty': ['l1', 'l2'],\n",
    "    'C': [0.001, 0.01, 0.1, 1, 10, 100, 1000],\n",
    "    'fit_intercept': [True, False],\n",
    "    'solver': ['newton-cg', 'lbfgs', 'liblinear', 'sag', 'saga'],\n",
    "    'max_iter': [50, 100, 200, 500]\n",
    "}\n",
    "# using gridsearchcv to choose the best parameters\n",
    "grid = GridSearchCV(LogisticRegression(), param_grid, refit=True, verbose=2)\n",
    "logi = LogisticRegression()\n",
    "# fit the two logistic regression models according to the given training data\n",
    "grid.fit(X_train, Y_train)\n",
    "logi.fit(X_train, Y_train)"
   ]
  },
  {
   "cell_type": "code",
   "execution_count": 17,
   "metadata": {},
   "outputs": [
    {
     "name": "stdout",
     "output_type": "stream",
     "text": [
      "LogisticRegression(C=0.1, max_iter=50)\n",
      "{'C': 0.1, 'fit_intercept': True, 'max_iter': 50, 'penalty': 'l2', 'solver': 'lbfgs'}\n",
      "0.8002196974452327\n"
     ]
    }
   ],
   "source": [
    "# see what the best logistic regression hyper-parameters are\n",
    "print(grid.best_estimator_)\n",
    "print(grid.best_params_)\n",
    "print(grid.best_score_)"
   ]
  },
  {
   "cell_type": "code",
   "execution_count": 18,
   "metadata": {},
   "outputs": [
    {
     "name": "stdout",
     "output_type": "stream",
     "text": [
      "accuracy score with model's hyper-parameter improvement :  0.9640287769784173\n",
      "accuracy score without model's hyper-parameter improvement :  0.9424460431654677\n"
     ]
    }
   ],
   "source": [
    "# use our models on the test database and compare them\n",
    "predictions = grid.predict(X_test)\n",
    "print(\"accuracy score with model's hyper-parameter improvement : \", accuracy_score(predictions, Y_test))\n",
    "predictions_simple = logi.predict(X_test)\n",
    "print(\"accuracy score without model's hyper-parameter improvement : \", accuracy_score(predictions_simple, Y_test))"
   ]
  },
  {
   "cell_type": "code",
   "execution_count": 19,
   "metadata": {},
   "outputs": [
    {
     "data": {
      "image/png": "[encoded data removed]",
      "text/plain": [
       "<Figure size 640x480 with 2 Axes>"
      ]
     },
     "metadata": {},
     "output_type": "display_data"
    }
   ],
   "source": [
    "# showing the confusion matrix\n",
    "conf_matrix = confusion_matrix(Y_test, predictions)\n",
    "sns.heatmap(conf_matrix, annot=True, fmt='d', cmap='Blues')\n",
    "plt.title('Confusion Matrix with improvement')\n",
    "plt.show()"
   ]
  },
  {
   "cell_type": "code",
   "execution_count": 20,
   "metadata": {},
   "outputs": [
    {
     "data": {
      "image/png": "[encoded data removed]",
      "text/plain": [
       "<Figure size 640x480 with 2 Axes>"
      ]
     },
     "metadata": {},
     "output_type": "display_data"
    }
   ],
   "source": [
    "# showing the confusion matrix\n",
    "conf_matrix = confusion_matrix(Y_test, predictions_simple)\n",
    "sns.heatmap(conf_matrix, annot=True, fmt='d', cmap='Blues')\n",
    "plt.title('Confusion Matrix withouut improvement')\n",
    "plt.show()"
   ]
  },
  {
   "cell_type": "code",
   "execution_count": 21,
   "metadata": {},
   "outputs": [
    {
     "name": "stdout",
     "output_type": "stream",
     "text": [
      "Classification report with improvement : \n",
      "\n",
      "               precision    recall  f1-score   support\n",
      "\n",
      "           0       0.98      0.97      0.97       265\n",
      "           1       0.94      0.96      0.95       152\n",
      "\n",
      "    accuracy                           0.96       417\n",
      "   macro avg       0.96      0.96      0.96       417\n",
      "weighted avg       0.96      0.96      0.96       417\n",
      "\n",
      "Classification report without improvement : \n",
      "\n",
      "               precision    recall  f1-score   support\n",
      "\n",
      "           0       0.95      0.95      0.95       265\n",
      "           1       0.92      0.92      0.92       152\n",
      "\n",
      "    accuracy                           0.94       417\n",
      "   macro avg       0.94      0.94      0.94       417\n",
      "weighted avg       0.94      0.94      0.94       417\n",
      "\n"
     ]
    }
   ],
   "source": [
    "# showing the classification reports\n",
    "print(\"Classification report with improvement : \\n\\n\", classification_report(Y_test, predictions))\n",
    "print(\"Classification report without improvement : \\n\\n\", classification_report(Y_test, predictions_simple))"
   ]
  },
  {
   "cell_type": "code",
   "execution_count": 22,
   "metadata": {},
   "outputs": [
    {
     "data": {
      "text/plain": [
       "['best_model_svm_titanic.pkl']"
      ]
     },
     "execution_count": 22,
     "metadata": {},
     "output_type": "execute_result"
    }
   ],
   "source": [
    "# Save the best model to a file\n",
    "joblib.dump(grid, 'best_model_svm_titanic.pkl')"
   ]
  }
 ],
 "metadata": {
  "kernelspec": {
   "display_name": "py38",
   "language": "python",
   "name": "python3"
  },
  "language_info": {
   "codemirror_mode": {
    "name": "ipython",
    "version": 3
   },
   "file_extension": ".py",
   "mimetype": "text/x-python",
   "name": "python",
   "nbconvert_exporter": "python",
   "pygments_lexer": "ipython3",
   "version": "3.8.17"
  }
 },
 "nbformat": 4,
 "nbformat_minor": 2
}
